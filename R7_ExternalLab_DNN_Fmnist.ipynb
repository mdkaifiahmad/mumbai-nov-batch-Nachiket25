{
 "cells": [
  {
   "cell_type": "markdown",
   "metadata": {
    "colab_type": "text",
    "id": "4WH1Pr4KQlCh"
   },
   "source": [
    "### Build a DNN using Keras with `RELU` and `ADAM`"
   ]
  },
  {
   "cell_type": "markdown",
   "metadata": {
    "colab_type": "text",
    "id": "TbvI8LqlQlCl",
    "slideshow": {
     "slide_type": "slide"
    }
   },
   "source": [
    "#### Load tensorflow"
   ]
  },
  {
   "cell_type": "code",
   "execution_count": 2,
   "metadata": {
    "colab": {},
    "colab_type": "code",
    "id": "SPW-a-qYQlCp"
   },
   "outputs": [
    {
     "name": "stderr",
     "output_type": "stream",
     "text": [
      "F:\\Anaconda\\lib\\site-packages\\h5py\\__init__.py:36: FutureWarning: Conversion of the second argument of issubdtype from `float` to `np.floating` is deprecated. In future, it will be treated as `np.float64 == np.dtype(float).type`.\n",
      "  from ._conv import register_converters as _register_converters\n"
     ]
    }
   ],
   "source": [
    "import tensorflow as tf"
   ]
  },
  {
   "cell_type": "markdown",
   "metadata": {
    "colab_type": "text",
    "id": "74cQBsi5QlCw",
    "slideshow": {
     "slide_type": "slide"
    }
   },
   "source": [
    "#### Collect Fashion mnist data from tf.keras.datasets "
   ]
  },
  {
   "cell_type": "code",
   "execution_count": 3,
   "metadata": {
    "colab": {
     "base_uri": "https://localhost:8080/",
     "height": 151
    },
    "colab_type": "code",
    "executionInfo": {
     "elapsed": 1586,
     "status": "ok",
     "timestamp": 1557995791198,
     "user": {
      "displayName": "Diksha Singh",
      "photoUrl": "https://lh4.googleusercontent.com/-x3-ufhtCiQU/AAAAAAAAAAI/AAAAAAAAAFY/F5pCqY8v8Fg/s64/photo.jpg",
      "userId": "07661533439928129655"
     },
     "user_tz": -330
    },
    "id": "wVWy0oDTr2Kj",
    "outputId": "c775ce36-cc74-4010-a575-cf3b8f7a3d2b"
   },
   "outputs": [],
   "source": [
    "(x_train, y_train), (x_test, y_test) = tf.keras.datasets.fashion_mnist.load_data()"
   ]
  },
  {
   "cell_type": "code",
   "execution_count": 4,
   "metadata": {
    "colab": {
     "base_uri": "https://localhost:8080/",
     "height": 84
    },
    "colab_type": "code",
    "executionInfo": {
     "elapsed": 1284,
     "status": "ok",
     "timestamp": 1557995794600,
     "user": {
      "displayName": "Diksha Singh",
      "photoUrl": "https://lh4.googleusercontent.com/-x3-ufhtCiQU/AAAAAAAAAAI/AAAAAAAAAFY/F5pCqY8v8Fg/s64/photo.jpg",
      "userId": "07661533439928129655"
     },
     "user_tz": -330
    },
    "id": "UX6otc4wQlC2",
    "outputId": "df48cd49-aed1-4a55-b9fa-432f60d4020d"
   },
   "outputs": [
    {
     "name": "stdout",
     "output_type": "stream",
     "text": [
      "x_train shape: (60000, 28, 28)\n",
      "60000 train samples\n",
      "10000 test samples\n"
     ]
    }
   ],
   "source": [
    "print('x_train shape:', x_train.shape)\n",
    "print(x_train.shape[0], 'train samples')\n",
    "print(x_test.shape[0], 'test samples')"
   ]
  },
  {
   "cell_type": "code",
   "execution_count": 6,
   "metadata": {
    "colab": {
     "base_uri": "https://localhost:8080/",
     "height": 34
    },
    "colab_type": "code",
    "executionInfo": {
     "elapsed": 1136,
     "status": "ok",
     "timestamp": 1557995796768,
     "user": {
      "displayName": "Diksha Singh",
      "photoUrl": "https://lh4.googleusercontent.com/-x3-ufhtCiQU/AAAAAAAAAAI/AAAAAAAAAFY/F5pCqY8v8Fg/s64/photo.jpg",
      "userId": "07661533439928129655"
     },
     "user_tz": -330
    },
    "id": "C4CMLj3BvTFc",
    "outputId": "f74cceb6-7684-4d5f-c480-c7d75b2d896e"
   },
   "outputs": [
    {
     "data": {
      "text/plain": [
       "(60000,)"
      ]
     },
     "execution_count": 6,
     "metadata": {},
     "output_type": "execute_result"
    }
   ],
   "source": [
    "y_train.shape"
   ]
  },
  {
   "cell_type": "markdown",
   "metadata": {
    "colab_type": "text",
    "id": "no7aWYZyQlC1",
    "slideshow": {
     "slide_type": "slide"
    }
   },
   "source": [
    "#### Change train and test labels into one-hot vectors"
   ]
  },
  {
   "cell_type": "code",
   "execution_count": 6,
   "metadata": {
    "colab": {
     "base_uri": "https://localhost:8080/",
     "height": 34
    },
    "colab_type": "code",
    "executionInfo": {
     "elapsed": 1868,
     "status": "ok",
     "timestamp": 1557995800241,
     "user": {
      "displayName": "Diksha Singh",
      "photoUrl": "https://lh4.googleusercontent.com/-x3-ufhtCiQU/AAAAAAAAAAI/AAAAAAAAAFY/F5pCqY8v8Fg/s64/photo.jpg",
      "userId": "07661533439928129655"
     },
     "user_tz": -330
    },
    "id": "c95jB8iJvbQz",
    "outputId": "10f8eb22-93d8-4ae4-cf19-d06c15ce3432"
   },
   "outputs": [
    {
     "data": {
      "text/plain": [
       "array([0, 1, 2, 3, 4, 5, 6, 7, 8, 9], dtype=uint8)"
      ]
     },
     "execution_count": 6,
     "metadata": {
      "tags": []
     },
     "output_type": "execute_result"
    }
   ],
   "source": [
    "import numpy as np\n",
    "np.unique(y_train)"
   ]
  },
  {
   "cell_type": "code",
   "execution_count": 7,
   "metadata": {
    "colab": {
     "base_uri": "https://localhost:8080/",
     "height": 34
    },
    "colab_type": "code",
    "executionInfo": {
     "elapsed": 1834,
     "status": "ok",
     "timestamp": 1557995803926,
     "user": {
      "displayName": "Diksha Singh",
      "photoUrl": "https://lh4.googleusercontent.com/-x3-ufhtCiQU/AAAAAAAAAAI/AAAAAAAAAFY/F5pCqY8v8Fg/s64/photo.jpg",
      "userId": "07661533439928129655"
     },
     "user_tz": -330
    },
    "id": "MPNFyuAcvfdR",
    "outputId": "1091c52c-cda7-48c2-e0e8-f9b5582ab0d0"
   },
   "outputs": [
    {
     "name": "stderr",
     "output_type": "stream",
     "text": [
      "Using TensorFlow backend.\n"
     ]
    }
   ],
   "source": [
    "import keras\n",
    "y_train_cat = keras.utils.to_categorical(y_train, 10) #converts to 10 categorical variable\n",
    "y_test_cat = keras.utils.to_categorical(y_test, 10)"
   ]
  },
  {
   "cell_type": "code",
   "execution_count": 8,
   "metadata": {
    "colab": {
     "base_uri": "https://localhost:8080/",
     "height": 34
    },
    "colab_type": "code",
    "executionInfo": {
     "elapsed": 1421,
     "status": "ok",
     "timestamp": 1557995805984,
     "user": {
      "displayName": "Diksha Singh",
      "photoUrl": "https://lh4.googleusercontent.com/-x3-ufhtCiQU/AAAAAAAAAAI/AAAAAAAAAFY/F5pCqY8v8Fg/s64/photo.jpg",
      "userId": "07661533439928129655"
     },
     "user_tz": -330
    },
    "id": "miDWC0rjvq0h",
    "outputId": "45158d87-e99e-4584-a14d-38e8ec74f99d"
   },
   "outputs": [
    {
     "data": {
      "text/plain": [
       "(60000, 10)"
      ]
     },
     "execution_count": 8,
     "metadata": {
      "tags": []
     },
     "output_type": "execute_result"
    }
   ],
   "source": [
    "y_train_cat.shape"
   ]
  },
  {
   "cell_type": "code",
   "execution_count": 9,
   "metadata": {
    "colab": {
     "base_uri": "https://localhost:8080/",
     "height": 34
    },
    "colab_type": "code",
    "executionInfo": {
     "elapsed": 1457,
     "status": "ok",
     "timestamp": 1557995818981,
     "user": {
      "displayName": "Diksha Singh",
      "photoUrl": "https://lh4.googleusercontent.com/-x3-ufhtCiQU/AAAAAAAAAAI/AAAAAAAAAFY/F5pCqY8v8Fg/s64/photo.jpg",
      "userId": "07661533439928129655"
     },
     "user_tz": -330
    },
    "id": "KkNJgiJfyWjm",
    "outputId": "f9bf2216-29e1-4b8d-ce03-aab482e68d8a"
   },
   "outputs": [
    {
     "data": {
      "text/plain": [
       "(10000, 10)"
      ]
     },
     "execution_count": 9,
     "metadata": {
      "tags": []
     },
     "output_type": "execute_result"
    }
   ],
   "source": [
    "y_test_cat.shape"
   ]
  },
  {
   "cell_type": "markdown",
   "metadata": {
    "colab_type": "text",
    "id": "QjNrRTdoQlC5",
    "slideshow": {
     "slide_type": "slide"
    }
   },
   "source": [
    "#### Build the Graph"
   ]
  },
  {
   "cell_type": "markdown",
   "metadata": {
    "colab_type": "text",
    "id": "CDJ9DHVNQlC7"
   },
   "source": [
    "#### Initialize model, reshape & normalize data"
   ]
  },
  {
   "cell_type": "code",
   "execution_count": null,
   "metadata": {
    "colab": {
     "base_uri": "https://localhost:8080/",
     "height": 34
    },
    "colab_type": "code",
    "executionInfo": {
     "elapsed": 1447,
     "status": "ok",
     "timestamp": 1557995846937,
     "user": {
      "displayName": "Diksha Singh",
      "photoUrl": "https://lh4.googleusercontent.com/-x3-ufhtCiQU/AAAAAAAAAAI/AAAAAAAAAFY/F5pCqY8v8Fg/s64/photo.jpg",
      "userId": "07661533439928129655"
     },
     "user_tz": -330
    },
    "id": "pCDQs_g1QlC8",
    "outputId": "b6d648c7-a858-4cc0-8fc0-2a726dcf9ef2"
   },
   "outputs": [],
   "source": []
  },
  {
   "cell_type": "code",
   "execution_count": 0,
   "metadata": {
    "colab": {},
    "colab_type": "code",
    "id": "QpQVOYvbyoTt"
   },
   "outputs": [],
   "source": [
    "#converting to float types\n",
    "x_train = x_train.astype('float32')\n",
    "x_test = x_test.astype('float32')"
   ]
  },
  {
   "cell_type": "code",
   "execution_count": 0,
   "metadata": {
    "colab": {},
    "colab_type": "code",
    "id": "Qn1-iZByyxoQ"
   },
   "outputs": [],
   "source": [
    "#normalizing data\n",
    "x_train /= 255\n",
    "x_test /= 255"
   ]
  },
  {
   "cell_type": "code",
   "execution_count": 17,
   "metadata": {
    "colab": {
     "base_uri": "https://localhost:8080/",
     "height": 34
    },
    "colab_type": "code",
    "executionInfo": {
     "elapsed": 1260,
     "status": "ok",
     "timestamp": 1557996063383,
     "user": {
      "displayName": "Diksha Singh",
      "photoUrl": "https://lh4.googleusercontent.com/-x3-ufhtCiQU/AAAAAAAAAAI/AAAAAAAAAFY/F5pCqY8v8Fg/s64/photo.jpg",
      "userId": "07661533439928129655"
     },
     "user_tz": -330
    },
    "id": "ZFayM9sAzMHC",
    "outputId": "5d04bf06-9111-4728-e2cf-e252276d64b7"
   },
   "outputs": [
    {
     "data": {
      "text/plain": [
       "(60000, 28, 28)"
      ]
     },
     "execution_count": 17,
     "metadata": {
      "tags": []
     },
     "output_type": "execute_result"
    }
   ],
   "source": [
    "x_train.shape"
   ]
  },
  {
   "cell_type": "code",
   "execution_count": 0,
   "metadata": {
    "colab": {},
    "colab_type": "code",
    "id": "INHkNsARzVN1"
   },
   "outputs": [],
   "source": [
    "x_train = x_train.reshape(60000, 784)    # 784 = 28 X 28 the size of each image. \n",
    "x_test = x_test.reshape(10000, 784)      # Images are flattended out into a vector of 784 elements"
   ]
  },
  {
   "cell_type": "code",
   "execution_count": 26,
   "metadata": {
    "colab": {
     "base_uri": "https://localhost:8080/",
     "height": 50
    },
    "colab_type": "code",
    "executionInfo": {
     "elapsed": 645,
     "status": "ok",
     "timestamp": 1558002105091,
     "user": {
      "displayName": "Diksha Singh",
      "photoUrl": "https://lh4.googleusercontent.com/-x3-ufhtCiQU/AAAAAAAAAAI/AAAAAAAAAFY/F5pCqY8v8Fg/s64/photo.jpg",
      "userId": "07661533439928129655"
     },
     "user_tz": -330
    },
    "id": "JE2qAcW8zb62",
    "outputId": "d8370c86-04b9-4286-bf47-92d1b8e2f635"
   },
   "outputs": [
    {
     "name": "stdout",
     "output_type": "stream",
     "text": [
      "train shape  (60000, 784)\n",
      "test shape  (10000, 784)\n"
     ]
    }
   ],
   "source": [
    "print(\"train shape \",x_train.shape)\n",
    "print(\"test shape \",x_test.shape)"
   ]
  },
  {
   "cell_type": "code",
   "execution_count": 0,
   "metadata": {
    "colab": {},
    "colab_type": "code",
    "id": "8f5da0xrzjJ_"
   },
   "outputs": [],
   "source": [
    "#importing the necessary layers from keras to build the model\n",
    "from keras.models import Sequential\n",
    "from keras.layers import Dense, Dropout\n",
    "from keras.optimizers import adam"
   ]
  },
  {
   "cell_type": "code",
   "execution_count": 0,
   "metadata": {
    "colab": {},
    "colab_type": "code",
    "id": "y2gJ9JNuzpFQ"
   },
   "outputs": [],
   "source": [
    "#initializing model\n",
    "model = Sequential()"
   ]
  },
  {
   "cell_type": "markdown",
   "metadata": {
    "colab_type": "text",
    "id": "kBGwTTilQlDD",
    "slideshow": {
     "slide_type": "slide"
    }
   },
   "source": [
    "#### Add two fully connected layers with 200 and 100 neurons respectively with `relu` activations. Add a dropout layer with `p=0.25`"
   ]
  },
  {
   "cell_type": "code",
   "execution_count": 0,
   "metadata": {
    "colab": {},
    "colab_type": "code",
    "id": "vHBSYZI3ygNY"
   },
   "outputs": [],
   "source": [
    "model.add(Dense(784, activation='relu', input_shape=(784,)))   \n",
    "model.add(Dense(200, activation = 'relu'))\n",
    "model.add(Dense(100, activation = 'relu'))\n",
    "model.add(Dropout(0.25))"
   ]
  },
  {
   "cell_type": "markdown",
   "metadata": {
    "colab_type": "text",
    "id": "5I8f5otcQlDJ"
   },
   "source": [
    "### Add the output layer with a fully connected layer with 10 neurons with `softmax` activation. Use `categorical_crossentropy` loss and `adam` optimizer and train the network. And, report the final validation."
   ]
  },
  {
   "cell_type": "code",
   "execution_count": 46,
   "metadata": {
    "colab": {
     "base_uri": "https://localhost:8080/",
     "height": 1051
    },
    "colab_type": "code",
    "executionInfo": {
     "elapsed": 238351,
     "status": "ok",
     "timestamp": 1558006685625,
     "user": {
      "displayName": "Diksha Singh",
      "photoUrl": "https://lh4.googleusercontent.com/-x3-ufhtCiQU/AAAAAAAAAAI/AAAAAAAAAFY/F5pCqY8v8Fg/s64/photo.jpg",
      "userId": "07661533439928129655"
     },
     "user_tz": -330
    },
    "id": "uPhnJcSe0o87",
    "outputId": "d2b742d4-04b5-4625-ee60-d7f023bd8b33"
   },
   "outputs": [
    {
     "name": "stdout",
     "output_type": "stream",
     "text": [
      "Train on 60000 samples, validate on 10000 samples\n",
      "Epoch 1/20\n",
      "60000/60000 [==============================] - 12s 208us/step - loss: 0.5352 - acc: 0.8119 - val_loss: 0.4304 - val_acc: 0.8438\n",
      "Epoch 2/20\n",
      "60000/60000 [==============================] - 12s 194us/step - loss: 0.3784 - acc: 0.8640 - val_loss: 0.3844 - val_acc: 0.8619\n",
      "Epoch 3/20\n",
      "60000/60000 [==============================] - 12s 194us/step - loss: 0.3381 - acc: 0.8761 - val_loss: 0.3560 - val_acc: 0.8709\n",
      "Epoch 4/20\n",
      "60000/60000 [==============================] - 12s 193us/step - loss: 0.3140 - acc: 0.8851 - val_loss: 0.3314 - val_acc: 0.8822\n",
      "Epoch 5/20\n",
      "60000/60000 [==============================] - 11s 187us/step - loss: 0.2970 - acc: 0.8903 - val_loss: 0.3281 - val_acc: 0.8799\n",
      "Epoch 6/20\n",
      "60000/60000 [==============================] - 12s 200us/step - loss: 0.2776 - acc: 0.8963 - val_loss: 0.3303 - val_acc: 0.8777\n",
      "Epoch 7/20\n",
      "60000/60000 [==============================] - 12s 200us/step - loss: 0.2636 - acc: 0.9024 - val_loss: 0.3192 - val_acc: 0.8832\n",
      "Epoch 8/20\n",
      "60000/60000 [==============================] - 12s 199us/step - loss: 0.2553 - acc: 0.9045 - val_loss: 0.3317 - val_acc: 0.8810\n",
      "Epoch 9/20\n",
      "60000/60000 [==============================] - 12s 198us/step - loss: 0.2430 - acc: 0.9096 - val_loss: 0.3177 - val_acc: 0.8855\n",
      "Epoch 10/20\n",
      "60000/60000 [==============================] - 12s 199us/step - loss: 0.2340 - acc: 0.9113 - val_loss: 0.3415 - val_acc: 0.8822\n",
      "Epoch 11/20\n",
      "60000/60000 [==============================] - 12s 196us/step - loss: 0.2294 - acc: 0.9132 - val_loss: 0.3177 - val_acc: 0.8899\n",
      "Epoch 12/20\n",
      "60000/60000 [==============================] - 11s 185us/step - loss: 0.2178 - acc: 0.9181 - val_loss: 0.3520 - val_acc: 0.8802\n",
      "Epoch 13/20\n",
      "60000/60000 [==============================] - 12s 197us/step - loss: 0.2088 - acc: 0.9197 - val_loss: 0.3185 - val_acc: 0.8951\n",
      "Epoch 14/20\n",
      "60000/60000 [==============================] - 12s 196us/step - loss: 0.2031 - acc: 0.9230 - val_loss: 0.3232 - val_acc: 0.8876\n",
      "Epoch 15/20\n",
      "60000/60000 [==============================] - 12s 198us/step - loss: 0.1939 - acc: 0.9247 - val_loss: 0.3311 - val_acc: 0.8885\n",
      "Epoch 16/20\n",
      "60000/60000 [==============================] - 12s 199us/step - loss: 0.1903 - acc: 0.9267 - val_loss: 0.3376 - val_acc: 0.8903\n",
      "Epoch 17/20\n",
      "60000/60000 [==============================] - 12s 198us/step - loss: 0.1815 - acc: 0.9305 - val_loss: 0.3259 - val_acc: 0.8939\n",
      "Epoch 18/20\n",
      "60000/60000 [==============================] - 12s 196us/step - loss: 0.1816 - acc: 0.9310 - val_loss: 0.3415 - val_acc: 0.8925\n",
      "Epoch 19/20\n",
      "60000/60000 [==============================] - 12s 196us/step - loss: 0.1729 - acc: 0.9333 - val_loss: 0.3479 - val_acc: 0.8958\n",
      "Epoch 20/20\n",
      "60000/60000 [==============================] - 12s 193us/step - loss: 0.1641 - acc: 0.9372 - val_loss: 0.3498 - val_acc: 0.8934\n",
      "\n",
      "Test loss: 0.35\n",
      "Test accuracy: 0.893\n"
     ]
    },
    {
     "data": {
      "text/plain": [
       "<matplotlib.legend.Legend at 0x7f3b01c8ff28>"
      ]
     },
     "execution_count": 46,
     "metadata": {
      "tags": []
     },
     "output_type": "execute_result"
    },
    {
     "data": {
      "image/png": "[encoded data removed]",
      "text/plain": [
       "<Figure size 432x288 with 1 Axes>"
      ]
     },
     "metadata": {
      "tags": []
     },
     "output_type": "display_data"
    }
   ],
   "source": [
    "# Adding a softmax layer for output which contains as many neurons as the number of classes (10) which is also the shape of each output vector ( one hot coded)\n",
    "model.add(Dense(10, activation='softmax')) \n",
    "\n",
    "batch_size = 128    # keep in 2^x \n",
    "epochs = 20\n",
    "model.compile(loss='categorical_crossentropy',\n",
    "              optimizer=adam(),\n",
    "              metrics=['accuracy'])\n",
    "    \n",
    "history = model.fit(x_train, y_train_cat,\n",
    "                    batch_size=batch_size,\n",
    "                    epochs=epochs,\n",
    "                    verbose=1,\n",
    "                    validation_data=(x_test, y_test_cat))\n",
    "\n",
    "loss,accuracy = model.evaluate(x_test, y_test_cat, verbose=False)\n",
    "\n",
    "print ('Test loss:', round(loss, 3))\n",
    "print ('Test accuracy:', round(accuracy, 3))\n",
    "\n",
    "\n",
    "plt.plot(history.history['loss'])\n",
    "plt.plot(history.history['val_loss'])\n",
    "plt.title('model loss')\n",
    "plt.ylabel('loss')\n",
    "plt.xlabel('epoch')\n",
    "plt.legend(['train', 'test'], loc='upper left')"
   ]
  },
  {
   "cell_type": "markdown",
   "metadata": {
    "colab_type": "text",
    "id": "OZ-q2vSwhJkf"
   },
   "source": [
    "The smaller the loss, the better a job the classifier is at modeling the relationship between the input data and output class labels. \n",
    "train loss starts much higher than test, but then decreases rapidly and continues to stay low. Conversely, the loss for test decreases initially but quickly stagnates. In this specific example, train is achieving lower overall loss and is likely a more desirable on classifying other images from the FMNIST dataset. I say \"likely\" because there is a chance that train has overfit to the training data.\n",
    "\n",
    " **Test Accuracy: 89.3 %**\n",
    " \n",
    "**Train Accuracy: 93.72%**"
   ]
  },
  {
   "cell_type": "code",
   "execution_count": 0,
   "metadata": {
    "colab": {},
    "colab_type": "code",
    "id": "qihxTYLRhpfJ"
   },
   "outputs": [],
   "source": []
  }
 ],
 "metadata": {
  "colab": {
   "collapsed_sections": [],
   "name": "R7_ExternalLab_DNN_Fmnist.ipynb",
   "provenance": [],
   "version": "0.3.2"
  },
  "kernelspec": {
   "display_name": "Python 3",
   "language": "python",
   "name": "python3"
  },
  "language_info": {
   "codemirror_mode": {
    "name": "ipython",
    "version": 3
   },
   "file_extension": ".py",
   "mimetype": "text/x-python",
   "name": "python",
   "nbconvert_exporter": "python",
   "pygments_lexer": "ipython3",
   "version": "3.6.5"
  }
 },
 "nbformat": 4,
 "nbformat_minor": 1
}
