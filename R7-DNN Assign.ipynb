{
 "cells": [
  {
   "cell_type": "code",
   "execution_count": 2,
   "metadata": {
    "colab": {
     "base_uri": "https://localhost:8080/",
     "height": 34
    },
    "colab_type": "code",
    "id": "BYvyf4oa9z2f",
    "outputId": "b6f79fe8-0ef7-4f8c-f0f2-68b1ef8f270b"
   },
   "outputs": [
    {
     "name": "stderr",
     "output_type": "stream",
     "text": [
      "Using TensorFlow backend.\n"
     ]
    }
   ],
   "source": [
    "from keras.preprocessing.image import ImageDataGenerator\n",
    "from sklearn.model_selection import train_test_split\n",
    "from keras.preprocessing.image import img_to_array\n",
    "from keras.utils import to_categorical\n",
    "from imutils import paths\n",
    "import glob\n",
    "import matplotlib.pyplot as plt\n",
    "import numpy as np\n",
    "import random\n",
    "import cv2\n",
    "import os\n",
    "import keras\n",
    "from keras.models import Sequential\n",
    "from keras.layers import Dense, Activation, Dropout, Flatten, Reshape\n",
    "import pandas as pd\n",
    "import numpy as np\n",
    "from sklearn.metrics import classification_report"
   ]
  },
  {
   "cell_type": "code",
   "execution_count": 1,
   "metadata": {
    "colab": {
     "base_uri": "https://localhost:8080/",
     "height": 34
    },
    "colab_type": "code",
    "id": "800M4opa98Ci",
    "outputId": "4c39412c-6b5f-4289-a137-1b1db925162c"
   },
   "outputs": [],
   "source": [
    "#from google.colab import drive\n",
    "#drive.mount('/content/gdrive')"
   ]
  },
  {
   "cell_type": "code",
   "execution_count": 0,
   "metadata": {
    "colab": {},
    "colab_type": "code",
    "id": "-gNAsnczSHyo"
   },
   "outputs": [],
   "source": [
    "import h5py\n",
    "filename='SVHN_single_grey1.h5'\n",
    "f=h5py.File(filename,'r')"
   ]
  },
  {
   "cell_type": "code",
   "execution_count": 0,
   "metadata": {
    "colab": {},
    "colab_type": "code",
    "id": "fitutMXdTZzl"
   },
   "outputs": [],
   "source": [
    "X_train=f['X_train']\n",
    "X_test=f['X_test']\n",
    "X_val=f['X_val']\n",
    "y_test=f['y_test']\n",
    "y_train=f['y_train']\n",
    "y_val=f['y_val']"
   ]
  },
  {
   "cell_type": "code",
   "execution_count": 0,
   "metadata": {
    "colab": {},
    "colab_type": "code",
    "id": "Hd2ME7-TTxJb"
   },
   "outputs": [],
   "source": [
    "X_train=np.array(X_train)\n",
    "X_train = X_train.reshape(X_train.shape[0], 32, 32, 1).astype('float32')\n",
    "X_test=np.array(X_test)\n",
    "X_test = X_test.reshape(X_test.shape[0], 32, 32, 1).astype('float32')\n",
    "X_val=np.array(X_val)\n",
    "X_val = X_val.reshape(X_val.shape[0], 32, 32, 1).astype('float32')\n",
    "X_train /= 255 #normalizing data\n",
    "X_test /= 255\n",
    "X_val /= 255"
   ]
  },
  {
   "cell_type": "code",
   "execution_count": 0,
   "metadata": {
    "colab": {},
    "colab_type": "code",
    "id": "SQ4hSxmQlzVT"
   },
   "outputs": [],
   "source": [
    "y_train=np.array(y_train)\n",
    "y_test=np.array(y_test)\n",
    "y_val=np.array(y_val)"
   ]
  },
  {
   "cell_type": "code",
   "execution_count": 0,
   "metadata": {
    "colab": {},
    "colab_type": "code",
    "id": "e8-LImZGgRe5"
   },
   "outputs": [],
   "source": [
    "from keras.utils import np_utils\n",
    "y_train_cat = np_utils.to_categorical(y_train, 10)\n",
    "y_test_cat = np_utils.to_categorical(y_test, 10)\n",
    "y_val_cat = np_utils.to_categorical(y_val, 10)"
   ]
  },
  {
   "cell_type": "code",
   "execution_count": 0,
   "metadata": {
    "colab": {},
    "colab_type": "code",
    "id": "0bAYAoooo6uH"
   },
   "outputs": [],
   "source": [
    "#KNN\n",
    "X_train_knn=X_train.reshape(X_train.shape[0],32*32)\n",
    "X_test_knn=X_test.reshape(X_test.shape[0],32*32)\n",
    "X_val_knn=X_val.reshape(X_val.shape[0],32*32)\n",
    "from sklearn.neighbors import KNeighborsClassifier\n",
    "from sklearn.model_selection  import GridSearchCV\n",
    "knn = KNeighborsClassifier(n_neighbors = 500, weights = 'uniform', \n",
    "                           metric = 'euclidean')\n",
    "knn.fit(X_train_knn, y_train_cat)\n",
    "knn.score(X_test_knn,y_test_cat)\n",
    "\n"
   ]
  },
  {
   "cell_type": "code",
   "execution_count": 45,
   "metadata": {
    "colab": {
     "base_uri": "https://localhost:8080/",
     "height": 1907
    },
    "colab_type": "code",
    "id": "csIwSzdrVWrS",
    "outputId": "953599e0-60e4-4280-bd65-5be5a85771e4"
   },
   "outputs": [
    {
     "name": "stdout",
     "output_type": "stream",
     "text": [
      "WARNING:tensorflow:From /usr/local/lib/python3.6/dist-packages/tensorflow/python/ops/math_ops.py:3066: to_int32 (from tensorflow.python.ops.math_ops) is deprecated and will be removed in a future version.\n",
      "Instructions for updating:\n",
      "Use tf.cast instead.\n"
     ]
    },
    {
     "name": "stderr",
     "output_type": "stream",
     "text": [
      "/usr/local/lib/python3.6/dist-packages/ipykernel_launcher.py:3: UserWarning: Update your `Dense` call to the Keras 2 API: `Dense(units=784, kernel_initializer=\"he_normal\", use_bias=True)`\n",
      "  This is separate from the ipykernel package so we can avoid doing imports until\n",
      "/usr/local/lib/python3.6/dist-packages/ipykernel_launcher.py:5: UserWarning: Update your `Dense` call to the Keras 2 API: `Dense(units=128, kernel_initializer=\"he_normal\", use_bias=True)`\n",
      "  \"\"\"\n",
      "/usr/local/lib/python3.6/dist-packages/ipykernel_launcher.py:7: UserWarning: Update your `Dense` call to the Keras 2 API: `Dense(units=10, kernel_initializer=\"he_normal\", use_bias=True)`\n",
      "  import sys\n"
     ]
    },
    {
     "name": "stdout",
     "output_type": "stream",
     "text": [
      "Train on 42000 samples, validate on 60000 samples\n",
      "Epoch 1/50\n",
      "42000/42000 [==============================] - 23s 553us/step - loss: 2.2385 - acc: 0.1951 - val_loss: 2.1386 - val_acc: 0.2152\n",
      "Epoch 2/50\n",
      "42000/42000 [==============================] - 23s 559us/step - loss: 1.8809 - acc: 0.4337 - val_loss: 1.6393 - val_acc: 0.5326\n",
      "Epoch 3/50\n",
      "42000/42000 [==============================] - 21s 506us/step - loss: 1.4603 - acc: 0.5724 - val_loss: 1.4569 - val_acc: 0.5340\n",
      "Epoch 4/50\n",
      "42000/42000 [==============================] - 22s 529us/step - loss: 1.2492 - acc: 0.6265 - val_loss: 1.1933 - val_acc: 0.6369\n",
      "Epoch 5/50\n",
      "42000/42000 [==============================] - 23s 556us/step - loss: 1.1380 - acc: 0.6568 - val_loss: 1.0954 - val_acc: 0.6664\n",
      "Epoch 6/50\n",
      "42000/42000 [==============================] - 22s 530us/step - loss: 1.0607 - acc: 0.6808 - val_loss: 1.1437 - val_acc: 0.6396\n",
      "Epoch 7/50\n",
      "42000/42000 [==============================] - 22s 520us/step - loss: 1.0073 - acc: 0.6951 - val_loss: 1.0322 - val_acc: 0.6822\n",
      "Epoch 8/50\n",
      "42000/42000 [==============================] - 23s 557us/step - loss: 0.9621 - acc: 0.7102 - val_loss: 0.9513 - val_acc: 0.7064\n",
      "Epoch 9/50\n",
      "42000/42000 [==============================] - 21s 492us/step - loss: 0.9210 - acc: 0.7219 - val_loss: 0.9030 - val_acc: 0.7261\n",
      "Epoch 10/50\n",
      "42000/42000 [==============================] - 20s 471us/step - loss: 0.8822 - acc: 0.7336 - val_loss: 0.9293 - val_acc: 0.7201\n",
      "Epoch 11/50\n",
      "42000/42000 [==============================] - 23s 542us/step - loss: 0.8506 - acc: 0.7423 - val_loss: 0.9926 - val_acc: 0.6889\n",
      "Epoch 12/50\n",
      "42000/42000 [==============================] - 20s 475us/step - loss: 0.8230 - acc: 0.7508 - val_loss: 0.8795 - val_acc: 0.7314\n",
      "Epoch 13/50\n",
      "42000/42000 [==============================] - 19s 441us/step - loss: 0.7938 - acc: 0.7590 - val_loss: 0.7599 - val_acc: 0.7722\n",
      "Epoch 14/50\n",
      "42000/42000 [==============================] - 19s 448us/step - loss: 0.7700 - acc: 0.7669 - val_loss: 0.7800 - val_acc: 0.7660\n",
      "Epoch 15/50\n",
      "42000/42000 [==============================] - 23s 536us/step - loss: 0.7484 - acc: 0.7737 - val_loss: 0.7711 - val_acc: 0.7704\n",
      "Epoch 16/50\n",
      "42000/42000 [==============================] - 22s 518us/step - loss: 0.7279 - acc: 0.7813 - val_loss: 0.7619 - val_acc: 0.7655\n",
      "Epoch 17/50\n",
      "42000/42000 [==============================] - 24s 562us/step - loss: 0.7120 - acc: 0.7849 - val_loss: 0.6999 - val_acc: 0.7947\n",
      "Epoch 18/50\n",
      "42000/42000 [==============================] - 24s 564us/step - loss: 0.6939 - acc: 0.7901 - val_loss: 0.7179 - val_acc: 0.7867\n",
      "Epoch 19/50\n",
      "42000/42000 [==============================] - 24s 580us/step - loss: 0.6781 - acc: 0.7955 - val_loss: 0.7731 - val_acc: 0.7655\n",
      "Epoch 20/50\n",
      "42000/42000 [==============================] - 19s 460us/step - loss: 0.6631 - acc: 0.7988 - val_loss: 0.6634 - val_acc: 0.8004\n",
      "Epoch 21/50\n",
      "42000/42000 [==============================] - 22s 522us/step - loss: 0.6476 - acc: 0.8030 - val_loss: 0.6838 - val_acc: 0.7925\n",
      "Epoch 22/50\n",
      "42000/42000 [==============================] - 22s 534us/step - loss: 0.6349 - acc: 0.8090 - val_loss: 0.6807 - val_acc: 0.7904\n",
      "Epoch 23/50\n",
      "42000/42000 [==============================] - 21s 503us/step - loss: 0.6236 - acc: 0.8113 - val_loss: 0.7071 - val_acc: 0.7846\n",
      "Epoch 24/50\n",
      "42000/42000 [==============================] - 23s 537us/step - loss: 0.6105 - acc: 0.8161 - val_loss: 0.6176 - val_acc: 0.8161\n",
      "Epoch 25/50\n",
      "42000/42000 [==============================] - 24s 561us/step - loss: 0.5995 - acc: 0.8189 - val_loss: 0.6765 - val_acc: 0.7952\n",
      "Epoch 26/50\n",
      "42000/42000 [==============================] - 24s 567us/step - loss: 0.5876 - acc: 0.8220 - val_loss: 0.6294 - val_acc: 0.8103\n",
      "Epoch 27/50\n",
      "42000/42000 [==============================] - 24s 579us/step - loss: 0.5793 - acc: 0.8252 - val_loss: 0.6108 - val_acc: 0.8150\n",
      "Epoch 28/50\n",
      "42000/42000 [==============================] - 24s 568us/step - loss: 0.5706 - acc: 0.8286 - val_loss: 0.6634 - val_acc: 0.7961\n",
      "Epoch 29/50\n",
      "42000/42000 [==============================] - 20s 487us/step - loss: 0.5605 - acc: 0.8316 - val_loss: 0.7876 - val_acc: 0.7564\n",
      "Epoch 30/50\n",
      "42000/42000 [==============================] - 20s 482us/step - loss: 0.5490 - acc: 0.8345 - val_loss: 0.5744 - val_acc: 0.8266\n",
      "Epoch 31/50\n",
      "42000/42000 [==============================] - 20s 467us/step - loss: 0.5419 - acc: 0.8373 - val_loss: 0.6513 - val_acc: 0.7980\n",
      "Epoch 32/50\n",
      "42000/42000 [==============================] - 18s 439us/step - loss: 0.5355 - acc: 0.8389 - val_loss: 0.6625 - val_acc: 0.7959\n",
      "Epoch 33/50\n",
      "42000/42000 [==============================] - 22s 513us/step - loss: 0.5258 - acc: 0.8417 - val_loss: 0.5570 - val_acc: 0.8349\n",
      "Epoch 34/50\n",
      "42000/42000 [==============================] - 23s 553us/step - loss: 0.5185 - acc: 0.8424 - val_loss: 0.6319 - val_acc: 0.8102\n",
      "Epoch 35/50\n",
      "42000/42000 [==============================] - 24s 576us/step - loss: 0.5089 - acc: 0.8481 - val_loss: 0.5933 - val_acc: 0.8205\n",
      "Epoch 36/50\n",
      "42000/42000 [==============================] - 23s 551us/step - loss: 0.5035 - acc: 0.8479 - val_loss: 0.5374 - val_acc: 0.8384\n",
      "Epoch 37/50\n",
      "42000/42000 [==============================] - 22s 519us/step - loss: 0.4945 - acc: 0.8511 - val_loss: 0.6747 - val_acc: 0.7911\n",
      "Epoch 38/50\n",
      "42000/42000 [==============================] - 20s 483us/step - loss: 0.4907 - acc: 0.8515 - val_loss: 0.5311 - val_acc: 0.8413\n",
      "Epoch 39/50\n",
      "42000/42000 [==============================] - 22s 534us/step - loss: 0.4811 - acc: 0.8563 - val_loss: 0.5013 - val_acc: 0.8512\n",
      "Epoch 40/50\n",
      "42000/42000 [==============================] - 22s 521us/step - loss: 0.4774 - acc: 0.8561 - val_loss: 0.5400 - val_acc: 0.8408\n",
      "Epoch 41/50\n",
      "42000/42000 [==============================] - 20s 475us/step - loss: 0.4700 - acc: 0.8578 - val_loss: 0.5504 - val_acc: 0.8324\n",
      "Epoch 42/50\n",
      "42000/42000 [==============================] - 19s 457us/step - loss: 0.4631 - acc: 0.8579 - val_loss: 0.5200 - val_acc: 0.8430\n",
      "Epoch 43/50\n",
      "42000/42000 [==============================] - 24s 563us/step - loss: 0.4557 - acc: 0.8630 - val_loss: 0.5255 - val_acc: 0.8417\n",
      "Epoch 44/50\n",
      "42000/42000 [==============================] - 24s 573us/step - loss: 0.4530 - acc: 0.8625 - val_loss: 0.5227 - val_acc: 0.8412\n",
      "Epoch 45/50\n",
      "42000/42000 [==============================] - 23s 542us/step - loss: 0.4456 - acc: 0.8647 - val_loss: 0.6417 - val_acc: 0.8017\n",
      "Epoch 46/50\n",
      "42000/42000 [==============================] - 20s 478us/step - loss: 0.4396 - acc: 0.8674 - val_loss: 0.5142 - val_acc: 0.8457\n",
      "Epoch 47/50\n",
      "42000/42000 [==============================] - 19s 459us/step - loss: 0.4340 - acc: 0.8687 - val_loss: 0.7137 - val_acc: 0.7864\n",
      "Epoch 48/50\n",
      "42000/42000 [==============================] - 19s 451us/step - loss: 0.4297 - acc: 0.8700 - val_loss: 0.4700 - val_acc: 0.8614\n",
      "Epoch 49/50\n",
      "42000/42000 [==============================] - 18s 440us/step - loss: 0.4277 - acc: 0.8695 - val_loss: 0.4561 - val_acc: 0.8657\n",
      "Epoch 50/50\n",
      "42000/42000 [==============================] - 18s 431us/step - loss: 0.4183 - acc: 0.8727 - val_loss: 0.5125 - val_acc: 0.8427\n"
     ]
    }
   ],
   "source": [
    "#model using DNN\n",
    "model = Sequential()\n",
    "model.add(Reshape((1024,), input_shape=(32, 32, 1)))\n",
    "model.add(Dense(output_dim=784, init='he_normal', bias=True))\n",
    "model.add(Activation(\"relu\"))\n",
    "model.add(Dense(output_dim=128, init='he_normal', bias=True))\n",
    "model.add(Activation(\"relu\"))\n",
    "model.add(Dense(output_dim=10, init='he_normal', bias=True))\n",
    "model.add(Activation(\"softmax\"))\n",
    "model.compile(loss='categorical_crossentropy', optimizer='sgd', metrics=['accuracy'])\n",
    "result=model.fit(X_train, y_train_cat, epochs=50,validation_data = (X_val, y_val_cat))"
   ]
  },
  {
   "cell_type": "code",
   "execution_count": 46,
   "metadata": {
    "colab": {
     "base_uri": "https://localhost:8080/",
     "height": 51
    },
    "colab_type": "code",
    "id": "lz9rcfspU8-5",
    "outputId": "30c7eb7c-3f9c-456d-f463-1ecfd4b18b68"
   },
   "outputs": [
    {
     "name": "stdout",
     "output_type": "stream",
     "text": [
      "18000/18000 [==============================] - 1s 75us/step\n",
      "Test Accuracy is 0.8126666666666666\n"
     ]
    }
   ],
   "source": [
    "print(model.evaluate(X_test, y_test_cat)[1])"
   ]
  },
  {
   "cell_type": "code",
   "execution_count": 0,
   "metadata": {
    "colab": {},
    "colab_type": "code",
    "id": "1QAzy0XDij0o"
   },
   "outputs": [],
   "source": [
    "y_pred=model.predict_classes(X_test)"
   ]
  },
  {
   "cell_type": "code",
   "execution_count": 63,
   "metadata": {
    "colab": {
     "base_uri": "https://localhost:8080/",
     "height": 306
    },
    "colab_type": "code",
    "id": "fR1xmFFKlQgG",
    "outputId": "59c0beab-8bb2-4358-f5be-d795a81342a5"
   },
   "outputs": [
    {
     "name": "stdout",
     "output_type": "stream",
     "text": [
      "              precision    recall  f1-score   support\n",
      "\n",
      "           0       0.81      0.85      0.83      1814\n",
      "           1       0.86      0.82      0.84      1828\n",
      "           2       0.84      0.85      0.84      1803\n",
      "           3       0.81      0.73      0.76      1719\n",
      "           4       0.71      0.89      0.79      1812\n",
      "           5       0.75      0.83      0.79      1768\n",
      "           6       0.87      0.78      0.82      1832\n",
      "           7       0.90      0.85      0.87      1808\n",
      "           8       0.79      0.75      0.77      1812\n",
      "           9       0.83      0.78      0.80      1804\n",
      "\n",
      "    accuracy                           0.81     18000\n",
      "   macro avg       0.82      0.81      0.81     18000\n",
      "weighted avg       0.82      0.81      0.81     18000\n",
      "\n"
     ]
    }
   ],
   "source": [
    "print(classification_report(y_test,y_pred))"
   ]
  }
 ],
 "metadata": {
  "colab": {
   "collapsed_sections": [],
   "name": "NN2.ipynb",
   "provenance": [],
   "version": "0.3.2"
  },
  "kernelspec": {
   "display_name": "Python 3",
   "language": "python",
   "name": "python3"
  },
  "language_info": {
   "codemirror_mode": {
    "name": "ipython",
    "version": 3
   },
   "file_extension": ".py",
   "mimetype": "text/x-python",
   "name": "python",
   "nbconvert_exporter": "python",
   "pygments_lexer": "ipython3",
   "version": "3.6.5"
  }
 },
 "nbformat": 4,
 "nbformat_minor": 1
}
