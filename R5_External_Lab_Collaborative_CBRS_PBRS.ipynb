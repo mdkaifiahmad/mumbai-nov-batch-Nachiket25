{
 "cells": [
  {
   "cell_type": "markdown",
   "metadata": {
    "colab_type": "text",
    "id": "SrfN27o6lGtV"
   },
   "source": [
    "# Collaborative Filtering based Recommendation System_Questios"
   ]
  },
  {
   "cell_type": "markdown",
   "metadata": {},
   "source": [
    "## About Book Crossing Dataset\n",
    "###This dataset has been compiled by Cai-Nicolas Ziegler in 2004, and it comprises of three tables for users, books and ratings. Explicit ratings are expressed on a scale from 1-10 (higher values denoting higher appreciation) and implicit rating is expressed by 0.\n",
    "\n",
    "Reference: http://www2.informatik.uni-freiburg.de/~cziegler/BX/ \n",
    "\n",
    "## Objective\n",
    "This project entails building a Book Recommender System for users based on user-based and item-based collaborative filtering approaches.\n",
    "\n",
    "Execute the below cell to load the datasets"
   ]
  },
  {
   "cell_type": "code",
   "execution_count": 3,
   "metadata": {},
   "outputs": [],
   "source": [
    "import pandas as pd"
   ]
  },
  {
   "cell_type": "code",
   "execution_count": 4,
   "metadata": {},
   "outputs": [
    {
     "name": "stderr",
     "output_type": "stream",
     "text": [
      "b'Skipping line 6452: expected 8 fields, saw 9\\nSkipping line 43667: expected 8 fields, saw 10\\nSkipping line 51751: expected 8 fields, saw 9\\n'\n",
      "b'Skipping line 92038: expected 8 fields, saw 9\\nSkipping line 104319: expected 8 fields, saw 9\\nSkipping line 121768: expected 8 fields, saw 9\\n'\n",
      "b'Skipping line 144058: expected 8 fields, saw 9\\nSkipping line 150789: expected 8 fields, saw 9\\nSkipping line 157128: expected 8 fields, saw 9\\nSkipping line 180189: expected 8 fields, saw 9\\nSkipping line 185738: expected 8 fields, saw 9\\n'\n",
      "b'Skipping line 209388: expected 8 fields, saw 9\\nSkipping line 220626: expected 8 fields, saw 9\\nSkipping line 227933: expected 8 fields, saw 11\\nSkipping line 228957: expected 8 fields, saw 10\\nSkipping line 245933: expected 8 fields, saw 9\\nSkipping line 251296: expected 8 fields, saw 9\\nSkipping line 259941: expected 8 fields, saw 9\\nSkipping line 261529: expected 8 fields, saw 9\\n'\n",
      "F:\\Anaconda\\lib\\site-packages\\IPython\\core\\interactiveshell.py:2785: DtypeWarning: Columns (3) have mixed types. Specify dtype option on import or set low_memory=False.\n",
      "  interactivity=interactivity, compiler=compiler, result=result)\n"
     ]
    }
   ],
   "source": [
    "#Loading data\n",
    "books = pd.read_csv(\"books.csv\", sep=\";\", error_bad_lines=False, encoding=\"latin-1\")\n",
    "books.columns = ['ISBN', 'bookTitle', 'bookAuthor', 'yearOfPublication', 'publisher', 'imageUrlS', 'imageUrlM', 'imageUrlL']"
   ]
  },
  {
   "cell_type": "code",
   "execution_count": 5,
   "metadata": {},
   "outputs": [],
   "source": [
    "users = pd.read_csv('users.csv', sep=';', error_bad_lines=False, encoding=\"latin-1\")\n",
    "users.columns = ['userID', 'Location', 'Age']\n"
   ]
  },
  {
   "cell_type": "code",
   "execution_count": 6,
   "metadata": {},
   "outputs": [],
   "source": [
    "ratings = pd.read_csv('ratings.csv', sep=';', error_bad_lines=False, encoding=\"latin-1\")\n",
    "ratings.columns = ['userID', 'ISBN', 'bookRating']"
   ]
  },
  {
   "cell_type": "markdown",
   "metadata": {},
   "source": [
    "## Q1 Check no.of records (shape) and features given in each dataset "
   ]
  },
  {
   "cell_type": "code",
   "execution_count": 7,
   "metadata": {},
   "outputs": [
    {
     "name": "stdout",
     "output_type": "stream",
     "text": [
      "Books dim:  (271360, 8)\n",
      "Users Dim:  (278858, 3)\n",
      "ratings Dim:  (1149780, 3)\n"
     ]
    }
   ],
   "source": [
    "print ('Books dim: ',books.shape)\n",
    "print ('Users Dim: ',users.shape)\n",
    "print ('ratings Dim: ',ratings.shape)"
   ]
  },
  {
   "cell_type": "code",
   "execution_count": 8,
   "metadata": {},
   "outputs": [
    {
     "name": "stdout",
     "output_type": "stream",
     "text": [
      "Bookes features: \n",
      " Index(['ISBN', 'bookTitle', 'bookAuthor', 'yearOfPublication', 'publisher',\n",
      "       'imageUrlS', 'imageUrlM', 'imageUrlL'],\n",
      "      dtype='object')\n",
      "\n",
      "users features: \n",
      " Index(['userID', 'Location', 'Age'], dtype='object')\n",
      "\n",
      "ratings features: \n",
      " Index(['userID', 'ISBN', 'bookRating'], dtype='object')\n"
     ]
    }
   ],
   "source": [
    "print ('Bookes features: \\n', books.columns)\n",
    "print ('')\n",
    "print ('users features: \\n', users.columns)\n",
    "print ('')\n",
    "print ('ratings features: \\n', ratings.columns)"
   ]
  },
  {
   "cell_type": "markdown",
   "metadata": {},
   "source": [
    "## Q2. Exploring books dataset - 1"
   ]
  },
  {
   "cell_type": "code",
   "execution_count": 9,
   "metadata": {},
   "outputs": [
    {
     "data": {
      "text/html": [
       "<div>\n",
       "<style scoped>\n",
       "    .dataframe tbody tr th:only-of-type {\n",
       "        vertical-align: middle;\n",
       "    }\n",
       "\n",
       "    .dataframe tbody tr th {\n",
       "        vertical-align: top;\n",
       "    }\n",
       "\n",
       "    .dataframe thead th {\n",
       "        text-align: right;\n",
       "    }\n",
       "</style>\n",
       "<table border=\"1\" class=\"dataframe\">\n",
       "  <thead>\n",
       "    <tr style=\"text-align: right;\">\n",
       "      <th></th>\n",
       "      <th>ISBN</th>\n",
       "      <th>bookTitle</th>\n",
       "      <th>bookAuthor</th>\n",
       "      <th>yearOfPublication</th>\n",
       "      <th>publisher</th>\n",
       "      <th>imageUrlS</th>\n",
       "      <th>imageUrlM</th>\n",
       "      <th>imageUrlL</th>\n",
       "    </tr>\n",
       "  </thead>\n",
       "  <tbody>\n",
       "    <tr>\n",
       "      <th>0</th>\n",
       "      <td>0195153448</td>\n",
       "      <td>Classical Mythology</td>\n",
       "      <td>Mark P. O. Morford</td>\n",
       "      <td>2002</td>\n",
       "      <td>Oxford University Press</td>\n",
       "      <td>http://images.amazon.com/images/P/0195153448.0...</td>\n",
       "      <td>http://images.amazon.com/images/P/0195153448.0...</td>\n",
       "      <td>http://images.amazon.com/images/P/0195153448.0...</td>\n",
       "    </tr>\n",
       "    <tr>\n",
       "      <th>1</th>\n",
       "      <td>0002005018</td>\n",
       "      <td>Clara Callan</td>\n",
       "      <td>Richard Bruce Wright</td>\n",
       "      <td>2001</td>\n",
       "      <td>HarperFlamingo Canada</td>\n",
       "      <td>http://images.amazon.com/images/P/0002005018.0...</td>\n",
       "      <td>http://images.amazon.com/images/P/0002005018.0...</td>\n",
       "      <td>http://images.amazon.com/images/P/0002005018.0...</td>\n",
       "    </tr>\n",
       "    <tr>\n",
       "      <th>2</th>\n",
       "      <td>0060973129</td>\n",
       "      <td>Decision in Normandy</td>\n",
       "      <td>Carlo D'Este</td>\n",
       "      <td>1991</td>\n",
       "      <td>HarperPerennial</td>\n",
       "      <td>http://images.amazon.com/images/P/0060973129.0...</td>\n",
       "      <td>http://images.amazon.com/images/P/0060973129.0...</td>\n",
       "      <td>http://images.amazon.com/images/P/0060973129.0...</td>\n",
       "    </tr>\n",
       "    <tr>\n",
       "      <th>3</th>\n",
       "      <td>0374157065</td>\n",
       "      <td>Flu: The Story of the Great Influenza Pandemic...</td>\n",
       "      <td>Gina Bari Kolata</td>\n",
       "      <td>1999</td>\n",
       "      <td>Farrar Straus Giroux</td>\n",
       "      <td>http://images.amazon.com/images/P/0374157065.0...</td>\n",
       "      <td>http://images.amazon.com/images/P/0374157065.0...</td>\n",
       "      <td>http://images.amazon.com/images/P/0374157065.0...</td>\n",
       "    </tr>\n",
       "    <tr>\n",
       "      <th>4</th>\n",
       "      <td>0393045218</td>\n",
       "      <td>The Mummies of Urumchi</td>\n",
       "      <td>E. J. W. Barber</td>\n",
       "      <td>1999</td>\n",
       "      <td>W. W. Norton &amp;amp; Company</td>\n",
       "      <td>http://images.amazon.com/images/P/0393045218.0...</td>\n",
       "      <td>http://images.amazon.com/images/P/0393045218.0...</td>\n",
       "      <td>http://images.amazon.com/images/P/0393045218.0...</td>\n",
       "    </tr>\n",
       "    <tr>\n",
       "      <th>5</th>\n",
       "      <td>0399135782</td>\n",
       "      <td>The Kitchen God's Wife</td>\n",
       "      <td>Amy Tan</td>\n",
       "      <td>1991</td>\n",
       "      <td>Putnam Pub Group</td>\n",
       "      <td>http://images.amazon.com/images/P/0399135782.0...</td>\n",
       "      <td>http://images.amazon.com/images/P/0399135782.0...</td>\n",
       "      <td>http://images.amazon.com/images/P/0399135782.0...</td>\n",
       "    </tr>\n",
       "    <tr>\n",
       "      <th>6</th>\n",
       "      <td>0425176428</td>\n",
       "      <td>What If?: The World's Foremost Military Histor...</td>\n",
       "      <td>Robert Cowley</td>\n",
       "      <td>2000</td>\n",
       "      <td>Berkley Publishing Group</td>\n",
       "      <td>http://images.amazon.com/images/P/0425176428.0...</td>\n",
       "      <td>http://images.amazon.com/images/P/0425176428.0...</td>\n",
       "      <td>http://images.amazon.com/images/P/0425176428.0...</td>\n",
       "    </tr>\n",
       "    <tr>\n",
       "      <th>7</th>\n",
       "      <td>0671870432</td>\n",
       "      <td>PLEADING GUILTY</td>\n",
       "      <td>Scott Turow</td>\n",
       "      <td>1993</td>\n",
       "      <td>Audioworks</td>\n",
       "      <td>http://images.amazon.com/images/P/0671870432.0...</td>\n",
       "      <td>http://images.amazon.com/images/P/0671870432.0...</td>\n",
       "      <td>http://images.amazon.com/images/P/0671870432.0...</td>\n",
       "    </tr>\n",
       "    <tr>\n",
       "      <th>8</th>\n",
       "      <td>0679425608</td>\n",
       "      <td>Under the Black Flag: The Romance and the Real...</td>\n",
       "      <td>David Cordingly</td>\n",
       "      <td>1996</td>\n",
       "      <td>Random House</td>\n",
       "      <td>http://images.amazon.com/images/P/0679425608.0...</td>\n",
       "      <td>http://images.amazon.com/images/P/0679425608.0...</td>\n",
       "      <td>http://images.amazon.com/images/P/0679425608.0...</td>\n",
       "    </tr>\n",
       "    <tr>\n",
       "      <th>9</th>\n",
       "      <td>074322678X</td>\n",
       "      <td>Where You'll Find Me: And Other Stories</td>\n",
       "      <td>Ann Beattie</td>\n",
       "      <td>2002</td>\n",
       "      <td>Scribner</td>\n",
       "      <td>http://images.amazon.com/images/P/074322678X.0...</td>\n",
       "      <td>http://images.amazon.com/images/P/074322678X.0...</td>\n",
       "      <td>http://images.amazon.com/images/P/074322678X.0...</td>\n",
       "    </tr>\n",
       "  </tbody>\n",
       "</table>\n",
       "</div>"
      ],
      "text/plain": [
       "         ISBN                                          bookTitle  \\\n",
       "0  0195153448                                Classical Mythology   \n",
       "1  0002005018                                       Clara Callan   \n",
       "2  0060973129                               Decision in Normandy   \n",
       "3  0374157065  Flu: The Story of the Great Influenza Pandemic...   \n",
       "4  0393045218                             The Mummies of Urumchi   \n",
       "5  0399135782                             The Kitchen God's Wife   \n",
       "6  0425176428  What If?: The World's Foremost Military Histor...   \n",
       "7  0671870432                                    PLEADING GUILTY   \n",
       "8  0679425608  Under the Black Flag: The Romance and the Real...   \n",
       "9  074322678X            Where You'll Find Me: And Other Stories   \n",
       "\n",
       "             bookAuthor yearOfPublication                   publisher  \\\n",
       "0    Mark P. O. Morford              2002     Oxford University Press   \n",
       "1  Richard Bruce Wright              2001       HarperFlamingo Canada   \n",
       "2          Carlo D'Este              1991             HarperPerennial   \n",
       "3      Gina Bari Kolata              1999        Farrar Straus Giroux   \n",
       "4       E. J. W. Barber              1999  W. W. Norton &amp; Company   \n",
       "5               Amy Tan              1991            Putnam Pub Group   \n",
       "6         Robert Cowley              2000    Berkley Publishing Group   \n",
       "7           Scott Turow              1993                  Audioworks   \n",
       "8       David Cordingly              1996                Random House   \n",
       "9           Ann Beattie              2002                    Scribner   \n",
       "\n",
       "                                           imageUrlS  \\\n",
       "0  http://images.amazon.com/images/P/0195153448.0...   \n",
       "1  http://images.amazon.com/images/P/0002005018.0...   \n",
       "2  http://images.amazon.com/images/P/0060973129.0...   \n",
       "3  http://images.amazon.com/images/P/0374157065.0...   \n",
       "4  http://images.amazon.com/images/P/0393045218.0...   \n",
       "5  http://images.amazon.com/images/P/0399135782.0...   \n",
       "6  http://images.amazon.com/images/P/0425176428.0...   \n",
       "7  http://images.amazon.com/images/P/0671870432.0...   \n",
       "8  http://images.amazon.com/images/P/0679425608.0...   \n",
       "9  http://images.amazon.com/images/P/074322678X.0...   \n",
       "\n",
       "                                           imageUrlM  \\\n",
       "0  http://images.amazon.com/images/P/0195153448.0...   \n",
       "1  http://images.amazon.com/images/P/0002005018.0...   \n",
       "2  http://images.amazon.com/images/P/0060973129.0...   \n",
       "3  http://images.amazon.com/images/P/0374157065.0...   \n",
       "4  http://images.amazon.com/images/P/0393045218.0...   \n",
       "5  http://images.amazon.com/images/P/0399135782.0...   \n",
       "6  http://images.amazon.com/images/P/0425176428.0...   \n",
       "7  http://images.amazon.com/images/P/0671870432.0...   \n",
       "8  http://images.amazon.com/images/P/0679425608.0...   \n",
       "9  http://images.amazon.com/images/P/074322678X.0...   \n",
       "\n",
       "                                           imageUrlL  \n",
       "0  http://images.amazon.com/images/P/0195153448.0...  \n",
       "1  http://images.amazon.com/images/P/0002005018.0...  \n",
       "2  http://images.amazon.com/images/P/0060973129.0...  \n",
       "3  http://images.amazon.com/images/P/0374157065.0...  \n",
       "4  http://images.amazon.com/images/P/0393045218.0...  \n",
       "5  http://images.amazon.com/images/P/0399135782.0...  \n",
       "6  http://images.amazon.com/images/P/0425176428.0...  \n",
       "7  http://images.amazon.com/images/P/0671870432.0...  \n",
       "8  http://images.amazon.com/images/P/0679425608.0...  \n",
       "9  http://images.amazon.com/images/P/074322678X.0...  "
      ]
     },
     "execution_count": 9,
     "metadata": {},
     "output_type": "execute_result"
    }
   ],
   "source": [
    "books.head(10)"
   ]
  },
  {
   "cell_type": "markdown",
   "metadata": {},
   "source": [
    "### Drop last three columns containing image URLs which will not be required for analysis"
   ]
  },
  {
   "cell_type": "code",
   "execution_count": 10,
   "metadata": {},
   "outputs": [],
   "source": [
    "books_updated=books.drop(['imageUrlS','imageUrlM','imageUrlL'],axis=1)"
   ]
  },
  {
   "cell_type": "code",
   "execution_count": 11,
   "metadata": {},
   "outputs": [
    {
     "data": {
      "text/html": [
       "<div>\n",
       "<style scoped>\n",
       "    .dataframe tbody tr th:only-of-type {\n",
       "        vertical-align: middle;\n",
       "    }\n",
       "\n",
       "    .dataframe tbody tr th {\n",
       "        vertical-align: top;\n",
       "    }\n",
       "\n",
       "    .dataframe thead th {\n",
       "        text-align: right;\n",
       "    }\n",
       "</style>\n",
       "<table border=\"1\" class=\"dataframe\">\n",
       "  <thead>\n",
       "    <tr style=\"text-align: right;\">\n",
       "      <th></th>\n",
       "      <th>ISBN</th>\n",
       "      <th>bookTitle</th>\n",
       "      <th>bookAuthor</th>\n",
       "      <th>yearOfPublication</th>\n",
       "      <th>publisher</th>\n",
       "    </tr>\n",
       "  </thead>\n",
       "  <tbody>\n",
       "    <tr>\n",
       "      <th>0</th>\n",
       "      <td>0195153448</td>\n",
       "      <td>Classical Mythology</td>\n",
       "      <td>Mark P. O. Morford</td>\n",
       "      <td>2002</td>\n",
       "      <td>Oxford University Press</td>\n",
       "    </tr>\n",
       "    <tr>\n",
       "      <th>1</th>\n",
       "      <td>0002005018</td>\n",
       "      <td>Clara Callan</td>\n",
       "      <td>Richard Bruce Wright</td>\n",
       "      <td>2001</td>\n",
       "      <td>HarperFlamingo Canada</td>\n",
       "    </tr>\n",
       "    <tr>\n",
       "      <th>2</th>\n",
       "      <td>0060973129</td>\n",
       "      <td>Decision in Normandy</td>\n",
       "      <td>Carlo D'Este</td>\n",
       "      <td>1991</td>\n",
       "      <td>HarperPerennial</td>\n",
       "    </tr>\n",
       "    <tr>\n",
       "      <th>3</th>\n",
       "      <td>0374157065</td>\n",
       "      <td>Flu: The Story of the Great Influenza Pandemic...</td>\n",
       "      <td>Gina Bari Kolata</td>\n",
       "      <td>1999</td>\n",
       "      <td>Farrar Straus Giroux</td>\n",
       "    </tr>\n",
       "    <tr>\n",
       "      <th>4</th>\n",
       "      <td>0393045218</td>\n",
       "      <td>The Mummies of Urumchi</td>\n",
       "      <td>E. J. W. Barber</td>\n",
       "      <td>1999</td>\n",
       "      <td>W. W. Norton &amp;amp; Company</td>\n",
       "    </tr>\n",
       "  </tbody>\n",
       "</table>\n",
       "</div>"
      ],
      "text/plain": [
       "         ISBN                                          bookTitle  \\\n",
       "0  0195153448                                Classical Mythology   \n",
       "1  0002005018                                       Clara Callan   \n",
       "2  0060973129                               Decision in Normandy   \n",
       "3  0374157065  Flu: The Story of the Great Influenza Pandemic...   \n",
       "4  0393045218                             The Mummies of Urumchi   \n",
       "\n",
       "             bookAuthor yearOfPublication                   publisher  \n",
       "0    Mark P. O. Morford              2002     Oxford University Press  \n",
       "1  Richard Bruce Wright              2001       HarperFlamingo Canada  \n",
       "2          Carlo D'Este              1991             HarperPerennial  \n",
       "3      Gina Bari Kolata              1999        Farrar Straus Giroux  \n",
       "4       E. J. W. Barber              1999  W. W. Norton &amp; Company  "
      ]
     },
     "execution_count": 11,
     "metadata": {},
     "output_type": "execute_result"
    }
   ],
   "source": [
    "books_updated.head()"
   ]
  },
  {
   "cell_type": "markdown",
   "metadata": {},
   "source": [
    "### Check for null vaules and impute them"
   ]
  },
  {
   "cell_type": "code",
   "execution_count": 12,
   "metadata": {},
   "outputs": [
    {
     "data": {
      "text/plain": [
       "ISBN                 0\n",
       "bookTitle            0\n",
       "bookAuthor           1\n",
       "yearOfPublication    0\n",
       "publisher            2\n",
       "dtype: int64"
      ]
     },
     "execution_count": 12,
     "metadata": {},
     "output_type": "execute_result"
    }
   ],
   "source": [
    "books_updated.isna().sum()"
   ]
  },
  {
   "cell_type": "code",
   "execution_count": 13,
   "metadata": {},
   "outputs": [],
   "source": [
    "import seaborn as sns"
   ]
  },
  {
   "cell_type": "code",
   "execution_count": 14,
   "metadata": {},
   "outputs": [
    {
     "data": {
      "text/plain": [
       "Agatha Christie        632\n",
       "William Shakespeare    567\n",
       "Stephen King           524\n",
       "Ann M. Martin          423\n",
       "Carolyn Keene          373\n",
       "Name: bookAuthor, dtype: int64"
      ]
     },
     "execution_count": 14,
     "metadata": {},
     "output_type": "execute_result"
    }
   ],
   "source": [
    "(books_updated['bookAuthor']).value_counts().head()"
   ]
  },
  {
   "cell_type": "code",
   "execution_count": 15,
   "metadata": {},
   "outputs": [],
   "source": [
    "books_updated['bookAuthor'].fillna(books_updated.bookAuthor.mode(), inplace=True)"
   ]
  },
  {
   "cell_type": "code",
   "execution_count": 16,
   "metadata": {},
   "outputs": [
    {
     "data": {
      "text/plain": [
       "Harlequin           7535\n",
       "Silhouette          4220\n",
       "Pocket              3905\n",
       "Ballantine Books    3783\n",
       "Bantam Books        3646\n",
       "Name: publisher, dtype: int64"
      ]
     },
     "execution_count": 16,
     "metadata": {},
     "output_type": "execute_result"
    }
   ],
   "source": [
    "(books_updated['publisher']).value_counts().head()"
   ]
  },
  {
   "cell_type": "code",
   "execution_count": 17,
   "metadata": {},
   "outputs": [],
   "source": [
    "books_updated['publisher'].fillna(books_updated.publisher.mode(), inplace=True)"
   ]
  },
  {
   "cell_type": "markdown",
   "metadata": {},
   "source": [
    "## Q3. Explore Users Dataset"
   ]
  },
  {
   "cell_type": "markdown",
   "metadata": {},
   "source": [
    "### Age values below 5 and above 90 do not make much sense for our book rating case...hence replacing these by mean and change the datatype to int - 1"
   ]
  },
  {
   "cell_type": "code",
   "execution_count": 18,
   "metadata": {},
   "outputs": [
    {
     "data": {
      "text/html": [
       "<div>\n",
       "<style scoped>\n",
       "    .dataframe tbody tr th:only-of-type {\n",
       "        vertical-align: middle;\n",
       "    }\n",
       "\n",
       "    .dataframe tbody tr th {\n",
       "        vertical-align: top;\n",
       "    }\n",
       "\n",
       "    .dataframe thead th {\n",
       "        text-align: right;\n",
       "    }\n",
       "</style>\n",
       "<table border=\"1\" class=\"dataframe\">\n",
       "  <thead>\n",
       "    <tr style=\"text-align: right;\">\n",
       "      <th></th>\n",
       "      <th>userID</th>\n",
       "      <th>Location</th>\n",
       "      <th>Age</th>\n",
       "    </tr>\n",
       "  </thead>\n",
       "  <tbody>\n",
       "    <tr>\n",
       "      <th>0</th>\n",
       "      <td>1</td>\n",
       "      <td>nyc, new york, usa</td>\n",
       "      <td>NaN</td>\n",
       "    </tr>\n",
       "    <tr>\n",
       "      <th>1</th>\n",
       "      <td>2</td>\n",
       "      <td>stockton, california, usa</td>\n",
       "      <td>18.0</td>\n",
       "    </tr>\n",
       "    <tr>\n",
       "      <th>2</th>\n",
       "      <td>3</td>\n",
       "      <td>moscow, yukon territory, russia</td>\n",
       "      <td>NaN</td>\n",
       "    </tr>\n",
       "    <tr>\n",
       "      <th>3</th>\n",
       "      <td>4</td>\n",
       "      <td>porto, v.n.gaia, portugal</td>\n",
       "      <td>17.0</td>\n",
       "    </tr>\n",
       "    <tr>\n",
       "      <th>4</th>\n",
       "      <td>5</td>\n",
       "      <td>farnborough, hants, united kingdom</td>\n",
       "      <td>NaN</td>\n",
       "    </tr>\n",
       "  </tbody>\n",
       "</table>\n",
       "</div>"
      ],
      "text/plain": [
       "   userID                            Location   Age\n",
       "0       1                  nyc, new york, usa   NaN\n",
       "1       2           stockton, california, usa  18.0\n",
       "2       3     moscow, yukon territory, russia   NaN\n",
       "3       4           porto, v.n.gaia, portugal  17.0\n",
       "4       5  farnborough, hants, united kingdom   NaN"
      ]
     },
     "execution_count": 18,
     "metadata": {},
     "output_type": "execute_result"
    }
   ],
   "source": [
    "users.head()"
   ]
  },
  {
   "cell_type": "code",
   "execution_count": 19,
   "metadata": {},
   "outputs": [
    {
     "data": {
      "text/plain": [
       "userID           0\n",
       "Location         0\n",
       "Age         110762\n",
       "dtype: int64"
      ]
     },
     "execution_count": 19,
     "metadata": {},
     "output_type": "execute_result"
    }
   ],
   "source": [
    "users.isna().sum()"
   ]
  },
  {
   "cell_type": "code",
   "execution_count": 20,
   "metadata": {},
   "outputs": [],
   "source": [
    "users['Age']=users['Age'].replace(users[users['Age']<5],users['Age'].mean())\n"
   ]
  },
  {
   "cell_type": "code",
   "execution_count": 21,
   "metadata": {},
   "outputs": [],
   "source": [
    "users['Age']=users['Age'].replace(users[users['Age']>90],users['Age'].mean())"
   ]
  },
  {
   "cell_type": "code",
   "execution_count": 22,
   "metadata": {},
   "outputs": [],
   "source": [
    "users['Age'].fillna(users.Age.mean(),inplace=True)"
   ]
  },
  {
   "cell_type": "code",
   "execution_count": 23,
   "metadata": {},
   "outputs": [],
   "source": [
    "users['Age']=users['Age'].astype(int)"
   ]
  },
  {
   "cell_type": "code",
   "execution_count": 24,
   "metadata": {},
   "outputs": [
    {
     "name": "stdout",
     "output_type": "stream",
     "text": [
      "<class 'pandas.core.frame.DataFrame'>\n",
      "RangeIndex: 278858 entries, 0 to 278857\n",
      "Data columns (total 3 columns):\n",
      "userID      278858 non-null int64\n",
      "Location    278858 non-null object\n",
      "Age         278858 non-null int32\n",
      "dtypes: int32(1), int64(1), object(1)\n",
      "memory usage: 5.3+ MB\n"
     ]
    }
   ],
   "source": [
    "users.info()"
   ]
  },
  {
   "cell_type": "markdown",
   "metadata": {},
   "source": [
    "## Q4. Explore ratings Dataset"
   ]
  },
  {
   "cell_type": "code",
   "execution_count": 25,
   "metadata": {},
   "outputs": [
    {
     "data": {
      "text/html": [
       "<div>\n",
       "<style scoped>\n",
       "    .dataframe tbody tr th:only-of-type {\n",
       "        vertical-align: middle;\n",
       "    }\n",
       "\n",
       "    .dataframe tbody tr th {\n",
       "        vertical-align: top;\n",
       "    }\n",
       "\n",
       "    .dataframe thead th {\n",
       "        text-align: right;\n",
       "    }\n",
       "</style>\n",
       "<table border=\"1\" class=\"dataframe\">\n",
       "  <thead>\n",
       "    <tr style=\"text-align: right;\">\n",
       "      <th></th>\n",
       "      <th>userID</th>\n",
       "      <th>ISBN</th>\n",
       "      <th>bookRating</th>\n",
       "    </tr>\n",
       "  </thead>\n",
       "  <tbody>\n",
       "    <tr>\n",
       "      <th>0</th>\n",
       "      <td>276725</td>\n",
       "      <td>034545104X</td>\n",
       "      <td>0</td>\n",
       "    </tr>\n",
       "    <tr>\n",
       "      <th>1</th>\n",
       "      <td>276726</td>\n",
       "      <td>0155061224</td>\n",
       "      <td>5</td>\n",
       "    </tr>\n",
       "    <tr>\n",
       "      <th>2</th>\n",
       "      <td>276727</td>\n",
       "      <td>0446520802</td>\n",
       "      <td>0</td>\n",
       "    </tr>\n",
       "    <tr>\n",
       "      <th>3</th>\n",
       "      <td>276729</td>\n",
       "      <td>052165615X</td>\n",
       "      <td>3</td>\n",
       "    </tr>\n",
       "    <tr>\n",
       "      <th>4</th>\n",
       "      <td>276729</td>\n",
       "      <td>0521795028</td>\n",
       "      <td>6</td>\n",
       "    </tr>\n",
       "  </tbody>\n",
       "</table>\n",
       "</div>"
      ],
      "text/plain": [
       "   userID        ISBN  bookRating\n",
       "0  276725  034545104X           0\n",
       "1  276726  0155061224           5\n",
       "2  276727  0446520802           0\n",
       "3  276729  052165615X           3\n",
       "4  276729  0521795028           6"
      ]
     },
     "execution_count": 25,
     "metadata": {},
     "output_type": "execute_result"
    }
   ],
   "source": [
    "ratings.head()"
   ]
  },
  {
   "cell_type": "code",
   "execution_count": 26,
   "metadata": {},
   "outputs": [
    {
     "data": {
      "text/plain": [
       "userID        0\n",
       "ISBN          0\n",
       "bookRating    0\n",
       "dtype: int64"
      ]
     },
     "execution_count": 26,
     "metadata": {},
     "output_type": "execute_result"
    }
   ],
   "source": [
    "ratings.isna().sum()"
   ]
  },
  {
   "cell_type": "code",
   "execution_count": 27,
   "metadata": {},
   "outputs": [
    {
     "name": "stdout",
     "output_type": "stream",
     "text": [
      "(1149780, 3)\n"
     ]
    }
   ],
   "source": [
    "print(ratings.shape)"
   ]
  },
  {
   "cell_type": "markdown",
   "metadata": {},
   "source": [
    "### Ratings dataset should have books only which exist in our books dataset. - 1"
   ]
  },
  {
   "cell_type": "code",
   "execution_count": 28,
   "metadata": {},
   "outputs": [
    {
     "data": {
      "text/plain": [
       "(1031136, 3)"
      ]
     },
     "execution_count": 28,
     "metadata": {},
     "output_type": "execute_result"
    }
   ],
   "source": [
    "ratings_modified=ratings[ratings.ISBN.isin(books.ISBN)]\n",
    "ratings_modified.shape"
   ]
  },
  {
   "cell_type": "markdown",
   "metadata": {},
   "source": [
    "### Ratings dataset should have ratings from users which exist in users dataset."
   ]
  },
  {
   "cell_type": "code",
   "execution_count": 29,
   "metadata": {},
   "outputs": [
    {
     "data": {
      "text/plain": [
       "(1031136, 3)"
      ]
     },
     "execution_count": 29,
     "metadata": {},
     "output_type": "execute_result"
    }
   ],
   "source": [
    "ratings_modified=ratings_modified[ratings_modified.userID.isin(users.userID)]\n",
    "ratings_modified.shape"
   ]
  },
  {
   "cell_type": "markdown",
   "metadata": {},
   "source": [
    "### Consider only ratings from 1-10 and leave 0s."
   ]
  },
  {
   "cell_type": "code",
   "execution_count": 30,
   "metadata": {},
   "outputs": [
    {
     "data": {
      "text/plain": [
       "array([ 0,  5,  3,  6,  7,  9,  8, 10,  1,  4,  2], dtype=int64)"
      ]
     },
     "execution_count": 30,
     "metadata": {},
     "output_type": "execute_result"
    }
   ],
   "source": [
    "ratings_modified['bookRating'].unique()"
   ]
  },
  {
   "cell_type": "code",
   "execution_count": 31,
   "metadata": {},
   "outputs": [
    {
     "data": {
      "text/plain": [
       "(383842, 3)"
      ]
     },
     "execution_count": 31,
     "metadata": {},
     "output_type": "execute_result"
    }
   ],
   "source": [
    "ratings_modified=ratings_modified[(ratings_modified['bookRating']) != 0]\n",
    "ratings_modified.shape"
   ]
  },
  {
   "cell_type": "markdown",
   "metadata": {},
   "source": [
    "### Find out which rating has been given highest number of times"
   ]
  },
  {
   "cell_type": "code",
   "execution_count": 32,
   "metadata": {},
   "outputs": [
    {
     "data": {
      "text/plain": [
       "<matplotlib.axes._subplots.AxesSubplot at 0x1abef03a630>"
      ]
     },
     "execution_count": 32,
     "metadata": {},
     "output_type": "execute_result"
    },
    {
     "data": {
      "image/png": "[encoded data removed]",
      "text/plain": [
       "<Figure size 432x288 with 1 Axes>"
      ]
     },
     "metadata": {
      "needs_background": "light"
     },
     "output_type": "display_data"
    }
   ],
   "source": [
    "sns.countplot(data=ratings_modified,x='bookRating')"
   ]
  },
  {
   "cell_type": "markdown",
   "metadata": {},
   "source": [
    "## **Collaborative Filtering Based Recommendation Systems**"
   ]
  },
  {
   "cell_type": "markdown",
   "metadata": {},
   "source": [
    "### For more accurate results only consider users who have rated atleast 100 books"
   ]
  },
  {
   "cell_type": "code",
   "execution_count": 33,
   "metadata": {},
   "outputs": [],
   "source": [
    "count_1=ratings_modified['userID'].value_counts()\n",
    "ratings_modified=ratings_modified[ratings_modified['userID'].isin(count_1[count_1>100].index)]"
   ]
  },
  {
   "cell_type": "code",
   "execution_count": 34,
   "metadata": {},
   "outputs": [],
   "source": [
    "count_2=ratings_modified['bookRating'].value_counts()\n",
    "ratings_modified=ratings_modified[ratings_modified['bookRating'].isin(count_2[count_2>100].index)]"
   ]
  },
  {
   "cell_type": "code",
   "execution_count": 35,
   "metadata": {},
   "outputs": [
    {
     "data": {
      "text/plain": [
       "(102371, 3)"
      ]
     },
     "execution_count": 35,
     "metadata": {},
     "output_type": "execute_result"
    }
   ],
   "source": [
    "ratings_modified.shape"
   ]
  },
  {
   "cell_type": "markdown",
   "metadata": {},
   "source": [
    "## Q5 Generating ratings matrix from explicit ratings table"
   ]
  },
  {
   "cell_type": "markdown",
   "metadata": {},
   "source": [
    "#### Note: since NaNs cannot be handled by training algorithms, replace these by 0, which indicates absence of ratings"
   ]
  },
  {
   "cell_type": "code",
   "execution_count": 36,
   "metadata": {},
   "outputs": [],
   "source": [
    "rating_matrix=ratings_modified.pivot(index='userID',columns='ISBN',values='bookRating')\n"
   ]
  },
  {
   "cell_type": "code",
   "execution_count": 37,
   "metadata": {},
   "outputs": [
    {
     "data": {
      "text/plain": [
       "(440, 66076)"
      ]
     },
     "execution_count": 37,
     "metadata": {},
     "output_type": "execute_result"
    }
   ],
   "source": [
    "rating_matrix.fillna(0,inplace=True)\n",
    "rating_matrix.shape"
   ]
  },
  {
   "cell_type": "markdown",
   "metadata": {},
   "source": [
    "## Q6. Generate the predicted ratings using SVD with no.of singular values to be 50"
   ]
  },
  {
   "cell_type": "code",
   "execution_count": 38,
   "metadata": {},
   "outputs": [],
   "source": [
    "final_data=ratings_modified.merge(users,on='userID')"
   ]
  },
  {
   "cell_type": "code",
   "execution_count": 39,
   "metadata": {},
   "outputs": [],
   "source": [
    "final_data=final_data.merge(books,on='ISBN')"
   ]
  },
  {
   "cell_type": "code",
   "execution_count": 40,
   "metadata": {},
   "outputs": [
    {
     "data": {
      "text/plain": [
       "userID               0\n",
       "ISBN                 0\n",
       "bookRating           0\n",
       "Location             0\n",
       "Age                  0\n",
       "bookTitle            0\n",
       "bookAuthor           0\n",
       "yearOfPublication    0\n",
       "publisher            2\n",
       "imageUrlS            0\n",
       "imageUrlM            0\n",
       "imageUrlL            0\n",
       "dtype: int64"
      ]
     },
     "execution_count": 40,
     "metadata": {},
     "output_type": "execute_result"
    }
   ],
   "source": [
    "final_data.isnull().sum()"
   ]
  },
  {
   "cell_type": "code",
   "execution_count": 41,
   "metadata": {},
   "outputs": [
    {
     "data": {
      "text/plain": [
       "165"
      ]
     },
     "execution_count": 41,
     "metadata": {},
     "output_type": "execute_result"
    }
   ],
   "source": [
    "book_count=final_data['bookTitle'].value_counts(ascending=False)\n",
    "pop_book = book_count.loc[book_count.values > 20].index\n",
    "len(pop_book)\n"
   ]
  },
  {
   "cell_type": "code",
   "execution_count": 42,
   "metadata": {},
   "outputs": [
    {
     "data": {
      "text/plain": [
       "(4865, 12)"
      ]
     },
     "execution_count": 42,
     "metadata": {},
     "output_type": "execute_result"
    }
   ],
   "source": [
    "final_result = final_data.loc[final_data.bookTitle.isin(pop_book)]\n",
    "final_result.shape"
   ]
  },
  {
   "cell_type": "code",
   "execution_count": 43,
   "metadata": {},
   "outputs": [],
   "source": [
    "from surprise import Dataset,Reader\n",
    "reader = Reader(rating_scale=(1, 5))\n",
    "data = Dataset.load_from_df(final_result[['userID', 'ISBN', 'bookRating']], reader)"
   ]
  },
  {
   "cell_type": "code",
   "execution_count": 44,
   "metadata": {},
   "outputs": [],
   "source": [
    "from surprise.model_selection import train_test_split\n",
    "trainset, testset = train_test_split(data, test_size=.3,random_state=123)"
   ]
  },
  {
   "cell_type": "code",
   "execution_count": 45,
   "metadata": {},
   "outputs": [
    {
     "data": {
      "text/plain": [
       "<surprise.prediction_algorithms.matrix_factorization.SVD at 0x1ab8128e4e0>"
      ]
     },
     "execution_count": 45,
     "metadata": {},
     "output_type": "execute_result"
    }
   ],
   "source": [
    "from surprise import SVD\n",
    "from surprise import accuracy\n",
    "svd_model = SVD(n_factors=50,biased=False)\n",
    "svd_model.fit(trainset)"
   ]
  },
  {
   "cell_type": "code",
   "execution_count": 46,
   "metadata": {},
   "outputs": [],
   "source": [
    "test_pred = svd_model.test(testset)"
   ]
  },
  {
   "cell_type": "code",
   "execution_count": 47,
   "metadata": {},
   "outputs": [
    {
     "name": "stdout",
     "output_type": "stream",
     "text": [
      "RMSE: 3.7890\n"
     ]
    },
    {
     "data": {
      "text/plain": [
       "3.7889974573498186"
      ]
     },
     "execution_count": 47,
     "metadata": {},
     "output_type": "execute_result"
    }
   ],
   "source": [
    "# compute RMSE\n",
    "accuracy.rmse(test_pred)"
   ]
  },
  {
   "cell_type": "markdown",
   "metadata": {},
   "source": [
    "## Take a particular user_id\n",
    "\n",
    "Lets find the recommendations for user with id 2110\n",
    "Note: Execute the below cells to get the variables loaded"
   ]
  },
  {
   "cell_type": "code",
   "execution_count": 56,
   "metadata": {},
   "outputs": [],
   "source": [
    "userID = 2110"
   ]
  },
  {
   "cell_type": "markdown",
   "metadata": {},
   "source": [
    "## Q7 Get the predicted ratings for userID 2110 and sort them in descending order"
   ]
  },
  {
   "cell_type": "code",
   "execution_count": 57,
   "metadata": {},
   "outputs": [
    {
     "data": {
      "text/plain": [
       "Prediction(uid=32, iid='0743211383', r_ui=None, est=5, details={'was_impossible': True, 'reason': 'User and item are unkown.'})"
      ]
     },
     "execution_count": 57,
     "metadata": {},
     "output_type": "execute_result"
    }
   ],
   "source": [
    "svd_model.predict(uid=trainset.to_inner_uid(2110),iid=trainset.to_raw_iid(0))"
   ]
  },
  {
   "cell_type": "code",
   "execution_count": 58,
   "metadata": {},
   "outputs": [
    {
     "data": {
      "text/plain": [
       "1460"
      ]
     },
     "execution_count": 58,
     "metadata": {},
     "output_type": "execute_result"
    }
   ],
   "source": [
    "len(testset)"
   ]
  },
  {
   "cell_type": "markdown",
   "metadata": {},
   "source": [
    "## Q8 Create a dataframe with name user_data containing userID 2110 explicitly interacted books"
   ]
  },
  {
   "cell_type": "code",
   "execution_count": 59,
   "metadata": {},
   "outputs": [],
   "source": [
    "user_data=pd.DataFrame(test_pred)"
   ]
  },
  {
   "cell_type": "code",
   "execution_count": 60,
   "metadata": {},
   "outputs": [],
   "source": [
    "user_data['was_impossible']=[x['was_impossible'] for x in user_data['details']]"
   ]
  },
  {
   "cell_type": "code",
   "execution_count": 61,
   "metadata": {},
   "outputs": [
    {
     "data": {
      "text/html": [
       "<div>\n",
       "<style scoped>\n",
       "    .dataframe tbody tr th:only-of-type {\n",
       "        vertical-align: middle;\n",
       "    }\n",
       "\n",
       "    .dataframe tbody tr th {\n",
       "        vertical-align: top;\n",
       "    }\n",
       "\n",
       "    .dataframe thead th {\n",
       "        text-align: right;\n",
       "    }\n",
       "</style>\n",
       "<table border=\"1\" class=\"dataframe\">\n",
       "  <thead>\n",
       "    <tr style=\"text-align: right;\">\n",
       "      <th></th>\n",
       "      <th>uid</th>\n",
       "      <th>iid</th>\n",
       "      <th>r_ui</th>\n",
       "      <th>est</th>\n",
       "      <th>details</th>\n",
       "      <th>was_impossible</th>\n",
       "    </tr>\n",
       "  </thead>\n",
       "  <tbody>\n",
       "    <tr>\n",
       "      <th>4</th>\n",
       "      <td>120565</td>\n",
       "      <td>B00009EF82</td>\n",
       "      <td>9.0</td>\n",
       "      <td>5.0</td>\n",
       "      <td>{'was_impossible': True, 'reason': 'User and i...</td>\n",
       "      <td>True</td>\n",
       "    </tr>\n",
       "    <tr>\n",
       "      <th>12</th>\n",
       "      <td>130554</td>\n",
       "      <td>1896095011</td>\n",
       "      <td>5.0</td>\n",
       "      <td>5.0</td>\n",
       "      <td>{'was_impossible': True, 'reason': 'User and i...</td>\n",
       "      <td>True</td>\n",
       "    </tr>\n",
       "    <tr>\n",
       "      <th>39</th>\n",
       "      <td>132836</td>\n",
       "      <td>0399146377</td>\n",
       "      <td>10.0</td>\n",
       "      <td>5.0</td>\n",
       "      <td>{'was_impossible': True, 'reason': 'User and i...</td>\n",
       "      <td>True</td>\n",
       "    </tr>\n",
       "    <tr>\n",
       "      <th>40</th>\n",
       "      <td>261105</td>\n",
       "      <td>068484477X</td>\n",
       "      <td>6.0</td>\n",
       "      <td>5.0</td>\n",
       "      <td>{'was_impossible': True, 'reason': 'User and i...</td>\n",
       "      <td>True</td>\n",
       "    </tr>\n",
       "    <tr>\n",
       "      <th>44</th>\n",
       "      <td>11676</td>\n",
       "      <td>0446364495</td>\n",
       "      <td>2.0</td>\n",
       "      <td>5.0</td>\n",
       "      <td>{'was_impossible': True, 'reason': 'User and i...</td>\n",
       "      <td>True</td>\n",
       "    </tr>\n",
       "  </tbody>\n",
       "</table>\n",
       "</div>"
      ],
      "text/plain": [
       "       uid         iid  r_ui  est  \\\n",
       "4   120565  B00009EF82   9.0  5.0   \n",
       "12  130554  1896095011   5.0  5.0   \n",
       "39  132836  0399146377  10.0  5.0   \n",
       "40  261105  068484477X   6.0  5.0   \n",
       "44   11676  0446364495   2.0  5.0   \n",
       "\n",
       "                                              details  was_impossible  \n",
       "4   {'was_impossible': True, 'reason': 'User and i...            True  \n",
       "12  {'was_impossible': True, 'reason': 'User and i...            True  \n",
       "39  {'was_impossible': True, 'reason': 'User and i...            True  \n",
       "40  {'was_impossible': True, 'reason': 'User and i...            True  \n",
       "44  {'was_impossible': True, 'reason': 'User and i...            True  "
      ]
     },
     "execution_count": 61,
     "metadata": {},
     "output_type": "execute_result"
    }
   ],
   "source": [
    "user_data.loc[user_data.was_impossible].head()"
   ]
  },
  {
   "cell_type": "markdown",
   "metadata": {},
   "source": [
    "## Q9 Combine the user_data and and corresponding book data(`book_data`) in a single dataframe with name `user_full_info`"
   ]
  },
  {
   "cell_type": "code",
   "execution_count": 65,
   "metadata": {},
   "outputs": [],
   "source": [
    "user_full_info_old=pd.merge(books_updated,ratings_modified,on='ISBN')"
   ]
  },
  {
   "cell_type": "code",
   "execution_count": 66,
   "metadata": {},
   "outputs": [
    {
     "data": {
      "text/html": [
       "<div>\n",
       "<style scoped>\n",
       "    .dataframe tbody tr th:only-of-type {\n",
       "        vertical-align: middle;\n",
       "    }\n",
       "\n",
       "    .dataframe tbody tr th {\n",
       "        vertical-align: top;\n",
       "    }\n",
       "\n",
       "    .dataframe thead th {\n",
       "        text-align: right;\n",
       "    }\n",
       "</style>\n",
       "<table border=\"1\" class=\"dataframe\">\n",
       "  <thead>\n",
       "    <tr style=\"text-align: right;\">\n",
       "      <th></th>\n",
       "      <th>ISBN</th>\n",
       "      <th>bookTitle</th>\n",
       "      <th>bookAuthor</th>\n",
       "      <th>yearOfPublication</th>\n",
       "      <th>publisher</th>\n",
       "      <th>userID</th>\n",
       "      <th>bookRating</th>\n",
       "      <th>Location</th>\n",
       "      <th>Age</th>\n",
       "    </tr>\n",
       "  </thead>\n",
       "  <tbody>\n",
       "    <tr>\n",
       "      <th>84942</th>\n",
       "      <td>0679419853</td>\n",
       "      <td>A Simple Plan</td>\n",
       "      <td>Scott Smith</td>\n",
       "      <td>1993</td>\n",
       "      <td>Random House Inc</td>\n",
       "      <td>277427</td>\n",
       "      <td>10</td>\n",
       "      <td>gilbert, arizona, usa</td>\n",
       "      <td>48</td>\n",
       "    </tr>\n",
       "  </tbody>\n",
       "</table>\n",
       "</div>"
      ],
      "text/plain": [
       "             ISBN      bookTitle   bookAuthor yearOfPublication  \\\n",
       "84942  0679419853  A Simple Plan  Scott Smith              1993   \n",
       "\n",
       "              publisher  userID  bookRating               Location  Age  \n",
       "84942  Random House Inc  277427          10  gilbert, arizona, usa   48  "
      ]
     },
     "execution_count": 66,
     "metadata": {},
     "output_type": "execute_result"
    }
   ],
   "source": [
    "user_full_info=pd.merge(user_full_info_old,users,on='userID')\n",
    "user_full_info.sample()"
   ]
  },
  {
   "cell_type": "markdown",
   "metadata": {},
   "source": [
    "## Q10 Get top 10 recommendations for above given userID from the books not already rated by that user"
   ]
  },
  {
   "cell_type": "code",
   "execution_count": 67,
   "metadata": {},
   "outputs": [],
   "source": [
    "testset_new = trainset.build_anti_testset()"
   ]
  },
  {
   "cell_type": "code",
   "execution_count": 68,
   "metadata": {},
   "outputs": [
    {
     "data": {
      "text/plain": [
       "169761"
      ]
     },
     "execution_count": 68,
     "metadata": {},
     "output_type": "execute_result"
    }
   ],
   "source": [
    "len(testset_new)"
   ]
  },
  {
   "cell_type": "code",
   "execution_count": 69,
   "metadata": {},
   "outputs": [
    {
     "data": {
      "text/plain": [
       "[(109901, '067976402X', 8.047870778267255),\n",
       " (109901, '068484267X', 8.047870778267255),\n",
       " (109901, '0312976275', 8.047870778267255),\n",
       " (109901, '0440226430', 8.047870778267255),\n",
       " (109901, '0312291639', 8.047870778267255),\n",
       " (109901, '1573225789', 8.047870778267255),\n",
       " (109901, '0156027321', 8.047870778267255),\n",
       " (109901, '014028009X', 8.047870778267255),\n",
       " (109901, '0451161343', 8.047870778267255),\n",
       " (109901, '0671702505', 8.047870778267255),\n",
       " (109901, '0440225701', 8.047870778267255),\n",
       " (109901, '0446609404', 8.047870778267255),\n",
       " (109901, '0385484518', 8.047870778267255),\n",
       " (109901, '0099143712', 8.047870778267255),\n",
       " (109901, '0449212602', 8.047870778267255),\n",
       " (109901, '044023722X', 8.047870778267255),\n",
       " (109901, '0316693324', 8.047870778267255),\n",
       " (109901, '0385311923', 8.047870778267255),\n",
       " (109901, '0425081818', 8.047870778267255),\n",
       " (109901, '0312971346', 8.047870778267255),\n",
       " (109901, '0452284694', 8.047870778267255),\n",
       " (109901, '0385302304', 8.047870778267255),\n",
       " (109901, '0425163407', 8.047870778267255),\n",
       " (109901, '0440212561', 8.047870778267255),\n",
       " (109901, '059035342X', 8.047870778267255),\n",
       " (109901, '0385472943', 8.047870778267255),\n",
       " (109901, '0316601950', 8.047870778267255),\n",
       " (109901, '0316777722', 8.047870778267255),\n",
       " (109901, '1400031354', 8.047870778267255),\n",
       " (109901, '0151008116', 8.047870778267255),\n",
       " (109901, '0440236673', 8.047870778267255),\n",
       " (109901, '0671003755', 8.047870778267255),\n",
       " (109901, '0812550706', 8.047870778267255),\n",
       " (109901, '0805063889', 8.047870778267255),\n",
       " (109901, '0440213525', 8.047870778267255),\n",
       " (109901, '0971880107', 8.047870778267255),\n",
       " (109901, '0440241073', 8.047870778267255),\n",
       " (109901, '0670032379', 8.047870778267255),\n",
       " (109901, '0451072804', 8.047870778267255),\n",
       " (109901, '034538475X', 8.047870778267255),\n",
       " (109901, '0440211727', 8.047870778267255),\n",
       " (109901, '0440998050', 8.047870778267255),\n",
       " (109901, '0671001795', 8.047870778267255),\n",
       " (109901, '0451142934', 8.047870778267255),\n",
       " (109901, '0618129111', 8.047870778267255),\n",
       " (109901, '0425105334', 8.047870778267255),\n",
       " (109901, '0671727796', 8.047870778267255),\n",
       " (109901, '0060929871', 8.047870778267255),\n",
       " (109901, '0804106304', 8.047870778267255),\n",
       " (109901, '0670844527', 8.047870778267255),\n",
       " (109901, '0345342968', 8.047870778267255),\n",
       " (109901, '006101351X', 8.047870778267255),\n",
       " (109901, '044021145X', 8.047870778267255),\n",
       " (109901, '0345378490', 8.047870778267255),\n",
       " (109901, '0060283122', 8.047870778267255),\n",
       " (109901, '0345337662', 8.047870778267255),\n",
       " (109901, '055321313X', 8.047870778267255),\n",
       " (109901, '0439139600', 8.047870778267255),\n",
       " (109901, '0446611867', 8.047870778267255),\n",
       " (109901, '0670855030', 8.047870778267255),\n",
       " (109901, '0312278586', 8.047870778267255),\n",
       " (109901, '0451188462', 8.047870778267255),\n",
       " (109901, '0671039733', 8.047870778267255),\n",
       " (109901, '0060928336', 8.047870778267255),\n",
       " (109901, '0451186362', 8.047870778267255),\n",
       " (109901, '037582345X', 8.047870778267255),\n",
       " (109901, '0446612790', 8.047870778267255),\n",
       " (109901, '0440221471', 8.047870778267255),\n",
       " (109901, '0380718340', 8.047870778267255),\n",
       " (109901, '0060830956', 8.047870778267255),\n",
       " (109901, '068484477X', 8.047870778267255),\n",
       " (109901, '0446610038', 8.047870778267255),\n",
       " (109901, '0142001740', 8.047870778267255),\n",
       " (109901, '0451117298', 8.047870778267255),\n",
       " (109901, '0440194903', 8.047870778267255),\n",
       " (109901, '0804114986', 8.047870778267255),\n",
       " (109901, '0316569321', 8.047870778267255),\n",
       " (109901, '0061009059', 8.047870778267255),\n",
       " (109901, '0860074382', 8.047870778267255),\n",
       " (109901, '0439136369', 8.047870778267255),\n",
       " (109901, '0743418174', 8.047870778267255),\n",
       " (109901, '039913039X', 8.047870778267255),\n",
       " (109901, '0312924585', 8.047870778267255),\n",
       " (109901, '0446525537', 8.047870778267255),\n",
       " (109901, '0345417623', 8.047870778267255),\n",
       " (109901, '0375706771', 8.047870778267255),\n",
       " (109901, '1400034779', 8.047870778267255),\n",
       " (109901, '0439139597', 8.047870778267255),\n",
       " (109901, '0375726403', 8.047870778267255),\n",
       " (109901, '0399501487', 8.047870778267255),\n",
       " (109901, '080410526X', 8.047870778267255),\n",
       " (109901, '0446672211', 8.047870778267255),\n",
       " (109901, '0446611085', 8.047870778267255),\n",
       " (109901, '0141000198', 8.047870778267255),\n",
       " (109901, '0440215625', 8.047870778267255),\n",
       " (109901, '0440977096', 8.047870778267255),\n",
       " (109901, '0618002227', 8.047870778267255),\n",
       " (109901, '0345387651', 8.047870778267255),\n",
       " (109901, '0385505833', 8.047870778267255),\n",
       " (109901, '0394588169', 8.047870778267255),\n",
       " (109901, '0312966970', 8.047870778267255),\n",
       " (109901, '0452279178', 8.047870778267255),\n",
       " (109901, '0618002235', 8.047870778267255),\n",
       " (109901, '044022165X', 8.047870778267255),\n",
       " (109901, '0553280368', 8.047870778267255),\n",
       " (109901, '0679417796', 8.047870778267255),\n",
       " (109901, '0425180638', 8.047870778267255),\n",
       " (109901, '0451153553', 8.047870778267255),\n",
       " (109901, '0345444884', 8.047870778267255),\n",
       " (109901, '0451139739', 8.047870778267255),\n",
       " (109901, '0312980140', 8.047870778267255),\n",
       " (109901, '0446605239', 8.047870778267255),\n",
       " (109901, '0385504209', 8.047870778267255),\n",
       " (109901, '0060915544', 8.047870778267255),\n",
       " (109901, '0385492081', 8.047870778267255),\n",
       " (109901, '0842329129', 8.047870778267255),\n",
       " (109901, '0670851086', 8.047870778267255),\n",
       " (109901, '038550120X', 8.047870778267255),\n",
       " (109901, '0399143947', 8.047870778267255),\n",
       " (109901, '0316666343', 8.047870778267255),\n",
       " (109901, '0553280341', 8.047870778267255),\n",
       " (109901, '0070212570', 8.047870778267255),\n",
       " (109901, '0671617028', 8.047870778267255),\n",
       " (109901, '0446310786', 8.047870778267255),\n",
       " (109901, '0345361792', 8.047870778267255),\n",
       " (109901, '0312195516', 8.047870778267255),\n",
       " (109901, '0316776963', 8.047870778267255),\n",
       " (109901, '0452282152', 8.047870778267255),\n",
       " (109901, '0440234743', 8.047870778267255),\n",
       " (109901, '0385494785', 8.047870778267255),\n",
       " (109901, '0553279912', 8.047870778267255),\n",
       " (109901, '0140293248', 8.047870778267255),\n",
       " (109901, '0316693200', 8.047870778267255),\n",
       " (109901, '0061097314', 8.047870778267255),\n",
       " (109901, '0316096199', 8.047870778267255),\n",
       " (109901, '1573229326', 8.047870778267255),\n",
       " (109901, '006440188X', 8.047870778267255),\n",
       " (109901, '067088300X', 8.047870778267255),\n",
       " (109901, '0439136350', 8.047870778267255),\n",
       " (109901, '0440206154', 8.047870778267255),\n",
       " (109901, '0786222743', 8.047870778267255),\n",
       " (109901, '0451194861', 8.047870778267255),\n",
       " (109901, '044651652X', 8.047870778267255),\n",
       " (109901, '0831727527', 8.047870778267255),\n",
       " (109901, '0440214041', 8.047870778267255),\n",
       " (109901, '0446612545', 8.047870778267255),\n",
       " (109901, '0385722206', 8.047870778267255),\n",
       " (109901, '0060934417', 8.047870778267255),\n",
       " (109901, '0345384466', 8.047870778267255),\n",
       " (109901, '0374386137', 8.047870778267255),\n",
       " (109901, '0316969443', 8.047870778267255),\n",
       " (109901, '055321201X', 8.047870778267255),\n",
       " (109901, '0312022824', 8.047870778267255),\n",
       " (109901, '0060094818', 8.047870778267255),\n",
       " (109901, '038531292X', 8.047870778267255),\n",
       " (109901, '0385472951', 8.047870778267255),\n",
       " (109901, '0345339681', 8.047870778267255),\n",
       " (109901, '0399133143', 8.047870778267255),\n",
       " (109901, '0671448331', 8.047870778267255),\n",
       " (109901, '0451139755', 8.047870778267255),\n",
       " (109901, '0451525817', 8.047870778267255),\n",
       " (109901, '1573220221', 8.047870778267255),\n",
       " (109901, '0151001006', 8.047870778267255),\n",
       " (109901, '0743460529', 8.047870778267255),\n",
       " (109901, '0140143505', 8.047870778267255),\n",
       " (109901, '0375707972', 8.047870778267255),\n",
       " (109901, '0805063897', 8.047870778267255),\n",
       " (109901, '0345339711', 8.047870778267255),\n",
       " (109901, '0451132378', 8.047870778267255),\n",
       " (109901, '0451169514', 8.047870778267255),\n",
       " (109901, '0618260269', 8.047870778267255),\n",
       " (109901, '0140067477', 8.047870778267255),\n",
       " (109901, '0440224764', 8.047870778267255),\n",
       " (109901, '0553268880', 8.047870778267255),\n",
       " (109901, '074323359X', 8.047870778267255),\n",
       " (109901, '0385416342', 8.047870778267255),\n",
       " (109901, '0446676098', 8.047870778267255),\n",
       " (109901, '0439064864', 8.047870778267255),\n",
       " (109901, '0451157443', 8.047870778267255),\n",
       " (109901, '0743467523', 8.047870778267255),\n",
       " (109901, '080411109X', 8.047870778267255),\n",
       " (109901, '0679442790', 8.047870778267255),\n",
       " (109901, '0446608955', 8.047870778267255),\n",
       " (109901, '0375504397', 8.047870778267255),\n",
       " (109901, '043935806X', 8.047870778267255),\n",
       " (109901, '0451157753', 8.047870778267255),\n",
       " (109901, '9506440298', 8.047870778267255),\n",
       " (109901, '067082982X', 8.047870778267255),\n",
       " (109901, '0671701592', 8.047870778267255),\n",
       " (109901, '0380002930', 8.047870778267255),\n",
       " (109901, '0671027360', 8.047870778267255),\n",
       " (109901, '0395489318', 8.047870778267255),\n",
       " (109901, '0930044177', 8.047870778267255),\n",
       " (109901, '0590353403', 8.047870778267255),\n",
       " (109901, '0446606812', 8.047870778267255),\n",
       " (109901, '0316769487', 8.047870778267255),\n",
       " (109901, '014029628X', 8.047870778267255),\n",
       " (109901, '0345391802', 8.047870778267255),\n",
       " (109901, '0679444815', 8.047870778267255),\n",
       " (109901, '0812533550', 8.047870778267255),\n",
       " (109901, '0385421982', 8.047870778267255),\n",
       " (109901, '1573226122', 8.047870778267255),\n",
       " (109901, '0312265859', 8.047870778267255),\n",
       " (109901, '0385493800', 8.047870778267255),\n",
       " (109901, '0385497466', 8.047870778267255),\n",
       " (109901, '0060987103', 8.047870778267255),\n",
       " (109901, '0679879242', 8.047870778267255),\n",
       " (109901, '0060809833', 8.047870778267255),\n",
       " (109901, '0345313860', 8.047870778267255),\n",
       " (109901, '0439420105', 8.047870778267255),\n",
       " (109901, '0679893105', 8.047870778267255),\n",
       " (109901, '0743412281', 8.047870778267255),\n",
       " (109901, '0451160525', 8.047870778267255),\n",
       " (109901, '0312983867', 8.047870778267255),\n",
       " (109901, '0425169863', 8.047870778267255),\n",
       " (109901, '0425115801', 8.047870778267255),\n",
       " (109901, '0743206045', 8.047870778267255),\n",
       " (109901, '0451184963', 8.047870778267255),\n",
       " (109901, '0670894605', 8.047870778267255),\n",
       " (109901, '0553258001', 8.047870778267255),\n",
       " (109901, '0345339703', 8.047870778267255),\n",
       " (109901, '0316693235', 8.047870778267255),\n",
       " (109901, '0833532065', 8.047870778267255),\n",
       " (109901, '0743486226', 8.047870778267255),\n",
       " (109901, '0385424728', 8.047870778267255),\n",
       " (109901, '0312265840', 8.047870778267255),\n",
       " (109901, '0060392452', 8.047870778267255),\n",
       " (109901, '1570428581', 8.047870778267255),\n",
       " (109901, '0451171810', 8.047870778267255),\n",
       " (109901, '0446607657', 8.047870778267255),\n",
       " (109901, '0553579754', 8.047870778267255),\n",
       " (109901, '0385490992', 8.047870778267255),\n",
       " (109901, '0399146253', 8.047870778267255),\n",
       " (109901, '0446611212', 8.047870778267255),\n",
       " (109901, '0671746065', 8.047870778267255),\n",
       " (109901, '0671041789', 8.047870778267255),\n",
       " (109901, '0451190750', 8.047870778267255),\n",
       " (109901, '0553572997', 8.047870778267255),\n",
       " (109901, '0439064872', 8.047870778267255),\n",
       " (109901, '0385503822', 8.047870778267255),\n",
       " (109901, '0553250426', 8.047870778267255),\n",
       " (109901, '0060935464', 8.047870778267255),\n",
       " (109901, '0345339738', 8.047870778267255),\n",
       " (109901, '0345370775', 8.047870778267255),\n",
       " (109901, '0879236493', 8.047870778267255),\n",
       " (109901, '0440224675', 8.047870778267255),\n",
       " (109901, '0670813028', 8.047870778267255),\n",
       " (109901, '0316690619', 8.047870778267255),\n",
       " (109901, '1565117794', 8.047870778267255),\n",
       " (109901, '0064407667', 8.047870778267255),\n",
       " (109901, '038529929X', 8.047870778267255),\n",
       " (109901, '184195425X', 8.047870778267255),\n",
       " (109901, '0316666009', 8.047870778267255),\n",
       " (109901, '0395082560', 8.047870778267255),\n",
       " (109901, '555053150X', 8.047870778267255),\n",
       " (109901, '0749399570', 8.047870778267255),\n",
       " (109901, '038542471X', 8.047870778267255),\n",
       " (109901, '0380789035', 8.047870778267255),\n",
       " (109901, '0375727345', 8.047870778267255),\n",
       " (109901, '0786006587', 8.047870778267255),\n",
       " (109901, '0453008003', 8.047870778267255),\n",
       " (109901, '0553106643', 8.047870778267255),\n",
       " (109901, '0446523569', 8.047870778267255),\n",
       " (109901, '0060976845', 8.047870778267255),\n",
       " (109901, '0385182449', 8.047870778267255),\n",
       " (109901, '0385086954', 8.047870778267255),\n",
       " (109901, '0808514032', 8.047870778267255),\n",
       " (109901, '042518109X', 8.047870778267255),\n",
       " (109901, '0316182540', 8.047870778267255),\n",
       " (109901, '0385424736', 8.047870778267255),\n",
       " (109901, '0451168615', 8.047870778267255),\n",
       " (109901, '0670868361', 8.047870778267255),\n",
       " (109901, '0440198577', 8.047870778267255),\n",
       " (109901, '0312203039', 8.047870778267255),\n",
       " (109901, '0451184114', 8.047870778267255),\n",
       " (109901, '0330332767', 8.047870778267255),\n",
       " (109901, '0517542099', 8.047870778267255),\n",
       " (109901, '0446676071', 8.047870778267255),\n",
       " (109901, '0446601241', 8.047870778267255),\n",
       " (109901, '0399142851', 8.047870778267255),\n",
       " (109901, '0425097609', 8.047870778267255),\n",
       " (109901, '0434009407', 8.047870778267255),\n",
       " (109901, '0451162072', 8.047870778267255),\n",
       " (109901, '0451137965', 8.047870778267255),\n",
       " (109901, '0670880728', 8.047870778267255),\n",
       " (109901, '0397001517', 8.047870778267255),\n",
       " (109901, '0440220602', 8.047870778267255),\n",
       " (109901, '069452008X', 8.047870778267255),\n",
       " (109901, '0670835382', 8.047870778267255),\n",
       " (109901, '1573221937', 8.047870778267255),\n",
       " (109901, '3442451221', 8.047870778267255),\n",
       " (109901, '0670813648', 8.047870778267255),\n",
       " (109901, '0831778415', 8.047870778267255),\n",
       " (109901, '074343627X', 8.047870778267255),\n",
       " (109901, '0316769177', 8.047870778267255),\n",
       " (109901, '0399146431', 8.047870778267255),\n",
       " (109901, '0345413350', 8.047870778267255),\n",
       " (109901, '068803036X', 8.047870778267255),\n",
       " (109901, '0785764836', 8.047870778267255),\n",
       " (109901, '0395404258', 8.047870778267255),\n",
       " (109901, '0425192032', 8.047870778267255),\n",
       " (109901, '0316693707', 8.047870778267255),\n",
       " (109901, '0385319673', 8.047870778267255),\n",
       " (109901, '0394587863', 8.047870778267255),\n",
       " (109901, '0618129081', 8.047870778267255),\n",
       " (109901, '0385302312', 8.047870778267255),\n",
       " (109901, '0385319959', 8.047870778267255),\n",
       " (109901, '0446520802', 8.047870778267255),\n",
       " (109901, '0804115613', 8.047870778267255),\n",
       " (109901, '0395272211', 8.047870778267255),\n",
       " (109901, '0451410491', 8.047870778267255),\n",
       " (109901, '0446527785', 8.047870778267255),\n",
       " (109901, '0618260277', 8.047870778267255),\n",
       " (109901, '0765342294', 8.047870778267255),\n",
       " (109901, '0842329110', 8.047870778267255),\n",
       " (109901, '0671019074', 8.047870778267255),\n",
       " (109901, '0670846503', 8.047870778267255),\n",
       " (109901, '0684800357', 8.047870778267255),\n",
       " (109901, '0739300105', 8.047870778267255),\n",
       " (109901, '039527222X', 8.047870778267255),\n",
       " (109901, '0450411435', 8.047870778267255),\n",
       " (109901, '0553452991', 8.047870778267255),\n",
       " (109901, '043936213X', 8.047870778267255),\n",
       " (109901, '0743535774', 8.047870778267255),\n",
       " (109901, '0679432477', 8.047870778267255),\n",
       " (109901, '0151191530', 8.047870778267255),\n",
       " (109901, '0451150244', 8.047870778267255),\n",
       " (109901, '0618346279', 8.047870778267255),\n",
       " (109901, '0440216745', 8.047870778267255),\n",
       " (109901, '0670032549', 8.047870778267255),\n",
       " (109901, '0670451932', 8.047870778267255),\n",
       " (109901, '0316639842', 8.047870778267255),\n",
       " (109901, '1569873925', 8.047870778267255),\n",
       " (109901, '0451128370', 8.047870778267255),\n",
       " (109901, '0670220264', 8.047870778267255),\n",
       " (109901, '0061083259', 8.047870778267255),\n",
       " (109901, '0446679593', 8.047870778267255),\n",
       " (109901, '0450588866', 8.047870778267255),\n",
       " (109901, '0330332775', 8.047870778267255),\n",
       " (109901, '0385324057', 8.047870778267255),\n",
       " (109901, '0425047075', 8.047870778267255),\n",
       " (109901, '0821746480', 8.047870778267255),\n",
       " (109901, '0375728198', 8.047870778267255),\n",
       " (109901, '0140039589', 8.047870778267255),\n",
       " (109901, '0451149513', 8.047870778267255),\n",
       " (109901, '0521403979', 8.047870778267255),\n",
       " (109901, '0670032557', 8.047870778267255),\n",
       " (109901, '0670849367', 8.047870778267255),\n",
       " (109901, '0330375253', 8.047870778267255),\n",
       " (109901, '0739302043', 8.047870778267255),\n",
       " (109901, '0451188764', 8.047870778267255),\n",
       " (109901, '0395353009', 8.047870778267255),\n",
       " (109901, '1878448900', 8.047870778267255),\n",
       " (109901, '0399133194', 8.047870778267255),\n",
       " (109901, '0099245027', 8.047870778267255),\n",
       " (109901, '0452262143', 8.047870778267255),\n",
       " (109901, '0886825075', 8.047870778267255),\n",
       " (109901, '0553153277', 8.047870778267255),\n",
       " (109901, '0060541830', 8.047870778267255),\n",
       " (109901, '0747522251', 8.047870778267255),\n",
       " (109901, '0393046974', 8.047870778267255),\n",
       " (109901, '0399141146', 8.047870778267255),\n",
       " (109901, '0618129030', 8.047870778267255),\n",
       " (109901, '0553472828', 8.047870778267255),\n",
       " (109901, '0440238137', 8.047870778267255),\n",
       " (109901, '0385335970', 8.047870778267255),\n",
       " (109901, '0743418166', 8.047870778267255),\n",
       " (109901, '1570420297', 8.047870778267255),\n",
       " (109901, '0380001225', 8.047870778267255),\n",
       " (109901, '0316769533', 8.047870778267255),\n",
       " (109901, '0451186125', 8.047870778267255),\n",
       " (109901, '0749320346', 8.047870778267255),\n",
       " (109901, '0440418321', 8.047870778267255),\n",
       " (109901, '0446676438', 8.047870778267255),\n",
       " (109901, '0316969680', 8.047870778267255),\n",
       " (109901, '0743520548', 8.047870778267255),\n",
       " (109901, '0156028352', 8.047870778267255),\n",
       " (109901, '0451128389', 8.047870778267255),\n",
       " (109901, '0385470819', 8.047870778267255),\n",
       " (109901, '0385508417', 8.047870778267255),\n",
       " (109901, '0899668585', 8.047870778267255),\n",
       " (109901, '076790592X', 8.047870778267255),\n",
       " (109901, '0525244581', 8.047870778267255),\n",
       " (109901, '1565116674', 8.047870778267255),\n",
       " (109901, '0452279615', 8.047870778267255),\n",
       " (109901, '0452279607', 8.047870778267255),\n",
       " (109901, '0821776037', 8.047870778267255),\n",
       " (109901, '0451150694', 8.047870778267255),\n",
       " (109901, '039548930X', 8.047870778267255),\n",
       " (109901, '0395489334', 8.047870778267255),\n",
       " (109901, '0446310492', 8.047870778267255),\n",
       " (109901, '0375508414', 8.047870778267255),\n",
       " (109901, '0440221501', 8.047870778267255),\n",
       " (109901, '0397321651', 8.047870778267255),\n",
       " (109901, '0440220394', 8.047870778267255),\n",
       " (109901, '0375507779', 8.047870778267255),\n",
       " (109901, '038039586X', 8.047870778267255),\n",
       " (109901, '0001047973', 8.047870778267255),\n",
       " (109901, '0553472348', 8.047870778267255),\n",
       " (109901, '0451150716', 8.047870778267255),\n",
       " (109901, '0345417941', 8.047870778267255),\n",
       " (109901, '0843950293', 8.047870778267255),\n",
       " (109901, '0399146377', 8.047870778267255),\n",
       " (109901, '0671461494', 8.047870778267255),\n",
       " (109901, '0140094199', 8.047870778267255),\n",
       " (109901, '0380699745', 8.047870778267255),\n",
       " (109901, '0618153993', 8.047870778267255),\n",
       " (109901, '0848807804', 8.047870778267255),\n",
       " (109901, '0688057624', 8.047870778267255),\n",
       " (109901, '0451524179', 8.047870778267255),\n",
       " (109901, '0440221315', 8.047870778267255),\n",
       " (109901, '0739301985', 8.047870778267255),\n",
       " (109901, '0140292683', 8.047870778267255),\n",
       " (109901, '0618154000', 8.047870778267255),\n",
       " (109901, '0590471724', 8.047870778267255),\n",
       " (109901, '0618260285', 8.047870778267255),\n",
       " (88693, '0743211383', 8.047870778267255),\n",
       " (88693, '068484267X', 8.047870778267255),\n",
       " (88693, '0671039725', 8.047870778267255),\n",
       " (88693, '0312976275', 8.047870778267255),\n",
       " (88693, '0440226430', 8.047870778267255),\n",
       " (88693, '0312291639', 8.047870778267255),\n",
       " (88693, '0670858692', 8.047870778267255),\n",
       " (88693, '1573225789', 8.047870778267255),\n",
       " (88693, '0156027321', 8.047870778267255),\n",
       " (88693, '0786868716', 8.047870778267255),\n",
       " (88693, '014028009X', 8.047870778267255),\n",
       " (88693, '0451161343', 8.047870778267255),\n",
       " (88693, '0671702505', 8.047870778267255),\n",
       " (88693, '0440225701', 8.047870778267255),\n",
       " (88693, '0446609404', 8.047870778267255),\n",
       " (88693, '0385484518', 8.047870778267255),\n",
       " (88693, '0099143712', 8.047870778267255),\n",
       " (88693, '0449212602', 8.047870778267255),\n",
       " (88693, '044023722X', 8.047870778267255),\n",
       " (88693, '0316693324', 8.047870778267255),\n",
       " (88693, '0385311923', 8.047870778267255),\n",
       " (88693, '0425081818', 8.047870778267255),\n",
       " (88693, '0312971346', 8.047870778267255),\n",
       " (88693, '0452284694', 8.047870778267255),\n",
       " (88693, '0385302304', 8.047870778267255),\n",
       " (88693, '0425163407', 8.047870778267255),\n",
       " (88693, '0440212561', 8.047870778267255),\n",
       " (88693, '059035342X', 8.047870778267255),\n",
       " (88693, '0385472943', 8.047870778267255),\n",
       " (88693, '0316601950', 8.047870778267255),\n",
       " (88693, '0316777722', 8.047870778267255),\n",
       " (88693, '0151008116', 8.047870778267255),\n",
       " (88693, '0440236673', 8.047870778267255),\n",
       " (88693, '0812550706', 8.047870778267255),\n",
       " (88693, '0805063889', 8.047870778267255),\n",
       " (88693, '0440213525', 8.047870778267255),\n",
       " (88693, '0440241073', 8.047870778267255),\n",
       " (88693, '0670032379', 8.047870778267255),\n",
       " (88693, '0451072804', 8.047870778267255),\n",
       " (88693, '034538475X', 8.047870778267255),\n",
       " (88693, '0440211727', 8.047870778267255),\n",
       " (88693, '0440998050', 8.047870778267255),\n",
       " (88693, '0671001795', 8.047870778267255),\n",
       " (88693, '0451142934', 8.047870778267255),\n",
       " (88693, '0618129111', 8.047870778267255),\n",
       " (88693, '0425105334', 8.047870778267255),\n",
       " (88693, '0671727796', 8.047870778267255),\n",
       " (88693, '0060929871', 8.047870778267255),\n",
       " (88693, '0804106304', 8.047870778267255),\n",
       " (88693, '0670844527', 8.047870778267255),\n",
       " (88693, '0345342968', 8.047870778267255),\n",
       " (88693, '006101351X', 8.047870778267255),\n",
       " (88693, '044021145X', 8.047870778267255),\n",
       " (88693, '0345378490', 8.047870778267255),\n",
       " (88693, '0060283122', 8.047870778267255),\n",
       " (88693, '0345337662', 8.047870778267255),\n",
       " (88693, '055321313X', 8.047870778267255),\n",
       " (88693, '0439139600', 8.047870778267255),\n",
       " (88693, '0446611867', 8.047870778267255),\n",
       " (88693, '0670855030', 8.047870778267255),\n",
       " (88693, '0451188462', 8.047870778267255),\n",
       " (88693, '0671039733', 8.047870778267255),\n",
       " (88693, '0060928336', 8.047870778267255),\n",
       " (88693, '0451186362', 8.047870778267255),\n",
       " (88693, '037582345X', 8.047870778267255),\n",
       " (88693, '0446612790', 8.047870778267255),\n",
       " (88693, '0440221471', 8.047870778267255),\n",
       " (88693, '0670032573', 8.047870778267255),\n",
       " (88693, '0380718340', 8.047870778267255),\n",
       " (88693, '0060830956', 8.047870778267255),\n",
       " (88693, '068484477X', 8.047870778267255),\n",
       " (88693, '0446610038', 8.047870778267255),\n",
       " (88693, '0142001740', 8.047870778267255),\n",
       " (88693, '0451117298', 8.047870778267255),\n",
       " (88693, '0440194903', 8.047870778267255),\n",
       " (88693, '0804114986', 8.047870778267255),\n",
       " (88693, '0316569321', 8.047870778267255),\n",
       " (88693, '0061009059', 8.047870778267255),\n",
       " (88693, '0860074382', 8.047870778267255),\n",
       " (88693, '0439136369', 8.047870778267255),\n",
       " (88693, '0743418174', 8.047870778267255),\n",
       " (88693, '039913039X', 8.047870778267255),\n",
       " (88693, '0312924585', 8.047870778267255),\n",
       " (88693, '0345417623', 8.047870778267255),\n",
       " (88693, '0375706771', 8.047870778267255),\n",
       " (88693, '1400034779', 8.047870778267255),\n",
       " (88693, '0439139597', 8.047870778267255),\n",
       " (88693, '0399501487', 8.047870778267255),\n",
       " (88693, '080410526X', 8.047870778267255),\n",
       " (88693, '0446672211', 8.047870778267255),\n",
       " (88693, '0446611085', 8.047870778267255),\n",
       " (88693, '0141000198', 8.047870778267255),\n",
       " (88693, '0440215625', 8.047870778267255),\n",
       " (88693, '0440977096', 8.047870778267255),\n",
       " (88693, '0618002227', 8.047870778267255),\n",
       " (88693, '0345387651', 8.047870778267255),\n",
       " (88693, '0385505833', 8.047870778267255),\n",
       " (88693, '0394588169', 8.047870778267255),\n",
       " (88693, '0312966970', 8.047870778267255),\n",
       " (88693, '0451156609', 8.047870778267255),\n",
       " (88693, '0452279178', 8.047870778267255),\n",
       " (88693, '0618002235', 8.047870778267255),\n",
       " (88693, '044022165X', 8.047870778267255),\n",
       " (88693, '0553280368', 8.047870778267255),\n",
       " (88693, '0679417796', 8.047870778267255),\n",
       " (88693, '0425180638', 8.047870778267255),\n",
       " (88693, '0451153553', 8.047870778267255),\n",
       " (88693, '0345444884', 8.047870778267255),\n",
       " (88693, '0451139739', 8.047870778267255),\n",
       " (88693, '0312980140', 8.047870778267255),\n",
       " (88693, '0446605239', 8.047870778267255),\n",
       " (88693, '0060915544', 8.047870778267255),\n",
       " (88693, '0385492081', 8.047870778267255),\n",
       " (88693, '0842329129', 8.047870778267255),\n",
       " (88693, '0670851086', 8.047870778267255),\n",
       " (88693, '038550120X', 8.047870778267255),\n",
       " (88693, '0399143947', 8.047870778267255),\n",
       " (88693, '0316666343', 8.047870778267255),\n",
       " (88693, '0553280341', 8.047870778267255),\n",
       " (88693, '0070212570', 8.047870778267255),\n",
       " (88693, '0671617028', 8.047870778267255),\n",
       " (88693, '0446310786', 8.047870778267255),\n",
       " (88693, '0451160444', 8.047870778267255),\n",
       " (88693, '0345361792', 8.047870778267255),\n",
       " (88693, '0316776963', 8.047870778267255),\n",
       " (88693, '0452282152', 8.047870778267255),\n",
       " (88693, '0440234743', 8.047870778267255),\n",
       " (88693, '0385494785', 8.047870778267255),\n",
       " (88693, '0553279912', 8.047870778267255),\n",
       " (88693, '0140293248', 8.047870778267255),\n",
       " (88693, '0316693200', 8.047870778267255),\n",
       " (88693, '0061097314', 8.047870778267255),\n",
       " (88693, '0316096199', 8.047870778267255),\n",
       " (88693, '1573229326', 8.047870778267255),\n",
       " (88693, '006440188X', 8.047870778267255),\n",
       " (88693, '067088300X', 8.047870778267255),\n",
       " (88693, '0439136350', 8.047870778267255),\n",
       " (88693, '0440206154', 8.047870778267255),\n",
       " (88693, '0786222743', 8.047870778267255),\n",
       " (88693, '0451194861', 8.047870778267255),\n",
       " (88693, '044651652X', 8.047870778267255),\n",
       " (88693, '0831727527', 8.047870778267255),\n",
       " (88693, '0440214041', 8.047870778267255),\n",
       " (88693, '0446612545', 8.047870778267255),\n",
       " (88693, '0385722206', 8.047870778267255),\n",
       " (88693, '0060934417', 8.047870778267255),\n",
       " (88693, '0345384466', 8.047870778267255),\n",
       " (88693, '0374386137', 8.047870778267255),\n",
       " (88693, '0316969443', 8.047870778267255),\n",
       " (88693, '055321201X', 8.047870778267255),\n",
       " (88693, '0312022824', 8.047870778267255),\n",
       " (88693, '0060094818', 8.047870778267255),\n",
       " (88693, '038531292X', 8.047870778267255),\n",
       " (88693, '0385472951', 8.047870778267255),\n",
       " (88693, '0345339681', 8.047870778267255),\n",
       " (88693, '0399133143', 8.047870778267255),\n",
       " (88693, '0671448331', 8.047870778267255),\n",
       " (88693, '0451139755', 8.047870778267255),\n",
       " (88693, '0451525817', 8.047870778267255),\n",
       " (88693, '1573220221', 8.047870778267255),\n",
       " (88693, '0151001006', 8.047870778267255),\n",
       " (88693, '0743460529', 8.047870778267255),\n",
       " (88693, '0451170385', 8.047870778267255),\n",
       " (88693, '0451169522', 8.047870778267255),\n",
       " (88693, '0140143505', 8.047870778267255),\n",
       " (88693, '0375707972', 8.047870778267255),\n",
       " (88693, '0805063897', 8.047870778267255),\n",
       " (88693, '0345339711', 8.047870778267255),\n",
       " (88693, '0451132378', 8.047870778267255),\n",
       " (88693, '0451169514', 8.047870778267255),\n",
       " (88693, '0618260269', 8.047870778267255),\n",
       " (88693, '0440224764', 8.047870778267255),\n",
       " (88693, '0451163524', 8.047870778267255),\n",
       " (88693, '0553268880', 8.047870778267255),\n",
       " (88693, '074323359X', 8.047870778267255),\n",
       " (88693, '0385416342', 8.047870778267255),\n",
       " (88693, '0446676098', 8.047870778267255),\n",
       " (88693, '0439064864', 8.047870778267255),\n",
       " (88693, '0451157443', 8.047870778267255),\n",
       " (88693, '0743467523', 8.047870778267255),\n",
       " (88693, '080411109X', 8.047870778267255),\n",
       " (88693, '0679442790', 8.047870778267255),\n",
       " (88693, '0446608955', 8.047870778267255),\n",
       " (88693, '0375504397', 8.047870778267255),\n",
       " (88693, '043935806X', 8.047870778267255),\n",
       " (88693, '0451157753', 8.047870778267255),\n",
       " (88693, '9506440298', 8.047870778267255),\n",
       " (88693, '067082982X', 8.047870778267255),\n",
       " (88693, '0671701592', 8.047870778267255),\n",
       " (88693, '0380002930', 8.047870778267255),\n",
       " (88693, '0395489318', 8.047870778267255),\n",
       " (88693, '0930044177', 8.047870778267255),\n",
       " (88693, '0590353403', 8.047870778267255),\n",
       " (88693, '0451176464', 8.047870778267255),\n",
       " (88693, '0446606812', 8.047870778267255),\n",
       " (88693, '0316769487', 8.047870778267255),\n",
       " (88693, '014029628X', 8.047870778267255),\n",
       " (88693, '0345391802', 8.047870778267255),\n",
       " (88693, '0679444815', 8.047870778267255),\n",
       " (88693, '0812533550', 8.047870778267255),\n",
       " (88693, '0385421982', 8.047870778267255),\n",
       " (88693, '1573226122', 8.047870778267255),\n",
       " (88693, '0451172817', 8.047870778267255),\n",
       " (88693, '0312265859', 8.047870778267255),\n",
       " (88693, '0385493800', 8.047870778267255),\n",
       " (88693, '0385497466', 8.047870778267255),\n",
       " (88693, '0060987103', 8.047870778267255),\n",
       " (88693, '0679879242', 8.047870778267255),\n",
       " (88693, '0060809833', 8.047870778267255),\n",
       " (88693, '0451167317', 8.047870778267255),\n",
       " (88693, '0345313860', 8.047870778267255),\n",
       " (88693, '0451180232', 8.047870778267255),\n",
       " (88693, '0439420105', 8.047870778267255),\n",
       " (88693, '0679893105', 8.047870778267255),\n",
       " (88693, '0743412281', 8.047870778267255),\n",
       " (88693, '0451160525', 8.047870778267255),\n",
       " (88693, '0312983867', 8.047870778267255),\n",
       " (88693, '0425169863', 8.047870778267255),\n",
       " (88693, '0425115801', 8.047870778267255),\n",
       " (88693, '0743206045', 8.047870778267255),\n",
       " (88693, '0451184963', 8.047870778267255),\n",
       " (88693, '0670894605', 8.047870778267255),\n",
       " (88693, '0553258001', 8.047870778267255),\n",
       " (88693, '0345339703', 8.047870778267255),\n",
       " (88693, '0316693235', 8.047870778267255),\n",
       " (88693, '0833532065', 8.047870778267255),\n",
       " (88693, '0743486226', 8.047870778267255),\n",
       " (88693, '0385424728', 8.047870778267255),\n",
       " (88693, '0312265840', 8.047870778267255),\n",
       " (88693, '0060392452', 8.047870778267255),\n",
       " (88693, '1570428581', 8.047870778267255),\n",
       " (88693, '0451171810', 8.047870778267255),\n",
       " (88693, '0446607657', 8.047870778267255),\n",
       " (88693, '0553579754', 8.047870778267255),\n",
       " (88693, '0385490992', 8.047870778267255),\n",
       " (88693, '0399146253', 8.047870778267255),\n",
       " (88693, '0446611212', 8.047870778267255),\n",
       " (88693, '0671746065', 8.047870778267255),\n",
       " (88693, '0671041789', 8.047870778267255),\n",
       " (88693, '0451190750', 8.047870778267255),\n",
       " (88693, '0553572997', 8.047870778267255),\n",
       " (88693, '0439064872', 8.047870778267255),\n",
       " (88693, '0385503822', 8.047870778267255),\n",
       " (88693, '0553250426', 8.047870778267255),\n",
       " (88693, '0060935464', 8.047870778267255),\n",
       " (88693, '0345339738', 8.047870778267255),\n",
       " (88693, '0345370775', 8.047870778267255),\n",
       " (88693, '0879236493', 8.047870778267255),\n",
       " (88693, '0440224675', 8.047870778267255),\n",
       " (88693, '0670813028', 8.047870778267255),\n",
       " (88693, '0316690619', 8.047870778267255),\n",
       " (88693, '1565117794', 8.047870778267255),\n",
       " (88693, '0064407667', 8.047870778267255),\n",
       " (88693, '038529929X', 8.047870778267255),\n",
       " (88693, '184195425X', 8.047870778267255),\n",
       " (88693, '0316666009', 8.047870778267255),\n",
       " (88693, '0395082560', 8.047870778267255),\n",
       " (88693, '555053150X', 8.047870778267255),\n",
       " (88693, '0749399570', 8.047870778267255),\n",
       " (88693, '038542471X', 8.047870778267255),\n",
       " (88693, '0380789035', 8.047870778267255),\n",
       " (88693, '0375727345', 8.047870778267255),\n",
       " (88693, '0451177096', 8.047870778267255),\n",
       " (88693, '0786006587', 8.047870778267255),\n",
       " (88693, '0453008003', 8.047870778267255),\n",
       " (88693, '0553106643', 8.047870778267255),\n",
       " (88693, '0446523569', 8.047870778267255),\n",
       " (88693, '0060976845', 8.047870778267255),\n",
       " (88693, '0385182449', 8.047870778267255),\n",
       " (88693, '0385086954', 8.047870778267255),\n",
       " (88693, '0808514032', 8.047870778267255),\n",
       " (88693, '042518109X', 8.047870778267255),\n",
       " (88693, '0316182540', 8.047870778267255),\n",
       " (88693, '0385424736', 8.047870778267255),\n",
       " (88693, '0451168615', 8.047870778267255),\n",
       " (88693, '0670868361', 8.047870778267255),\n",
       " (88693, '0440198577', 8.047870778267255),\n",
       " (88693, '0312203039', 8.047870778267255),\n",
       " (88693, '0451184114', 8.047870778267255),\n",
       " (88693, '0330332767', 8.047870778267255),\n",
       " (88693, '0517542099', 8.047870778267255),\n",
       " (88693, '0446676071', 8.047870778267255),\n",
       " (88693, '0446601241', 8.047870778267255),\n",
       " (88693, '0399142851', 8.047870778267255),\n",
       " (88693, '0425097609', 8.047870778267255),\n",
       " (88693, '0434009407', 8.047870778267255),\n",
       " (88693, '0743412273', 8.047870778267255),\n",
       " (88693, '0451162072', 8.047870778267255),\n",
       " (88693, '0451137965', 8.047870778267255),\n",
       " (88693, '0670880728', 8.047870778267255),\n",
       " (88693, '0397001517', 8.047870778267255),\n",
       " (88693, '0345441036', 8.047870778267255),\n",
       " (88693, '0440220602', 8.047870778267255),\n",
       " (88693, '069452008X', 8.047870778267255),\n",
       " (88693, '0670835382', 8.047870778267255),\n",
       " (88693, '1573221937', 8.047870778267255),\n",
       " (88693, '3442451221', 8.047870778267255),\n",
       " (88693, '0670813648', 8.047870778267255),\n",
       " (88693, '0831778415', 8.047870778267255),\n",
       " (88693, '074343627X', 8.047870778267255),\n",
       " (88693, '0316769177', 8.047870778267255),\n",
       " (88693, '0399146431', 8.047870778267255),\n",
       " (88693, '0345413350', 8.047870778267255),\n",
       " (88693, '0451161351', 8.047870778267255),\n",
       " (88693, '068803036X', 8.047870778267255),\n",
       " (88693, '0785764836', 8.047870778267255),\n",
       " (88693, '0395404258', 8.047870778267255),\n",
       " (88693, '0425192032', 8.047870778267255),\n",
       " (88693, '0316693707', 8.047870778267255),\n",
       " (88693, '0385319673', 8.047870778267255),\n",
       " (88693, '0394587863', 8.047870778267255),\n",
       " (88693, '0618129081', 8.047870778267255),\n",
       " (88693, '0385302312', 8.047870778267255),\n",
       " (88693, '0385319959', 8.047870778267255),\n",
       " (88693, '0446520802', 8.047870778267255),\n",
       " (88693, '0804115613', 8.047870778267255),\n",
       " (88693, '0395272211', 8.047870778267255),\n",
       " (88693, '0451410491', 8.047870778267255),\n",
       " (88693, '0446527785', 8.047870778267255),\n",
       " (88693, '0618260277', 8.047870778267255),\n",
       " (88693, '0765342294', 8.047870778267255),\n",
       " (88693, '0842329110', 8.047870778267255),\n",
       " (88693, '0671019074', 8.047870778267255),\n",
       " (88693, '0670846503', 8.047870778267255),\n",
       " (88693, '0684800357', 8.047870778267255),\n",
       " (88693, '0739300105', 8.047870778267255),\n",
       " (88693, '039527222X', 8.047870778267255),\n",
       " (88693, '0450411435', 8.047870778267255),\n",
       " (88693, '0553452991', 8.047870778267255),\n",
       " (88693, '043936213X', 8.047870778267255),\n",
       " (88693, '0743535774', 8.047870778267255),\n",
       " (88693, '0679432477', 8.047870778267255),\n",
       " (88693, '0151191530', 8.047870778267255),\n",
       " (88693, '0451150244', 8.047870778267255),\n",
       " (88693, '0618346279', 8.047870778267255),\n",
       " (88693, '0440216745', 8.047870778267255),\n",
       " (88693, '0670032549', 8.047870778267255),\n",
       " (88693, '0670451932', 8.047870778267255),\n",
       " (88693, '0316639842', 8.047870778267255),\n",
       " (88693, '1569873925', 8.047870778267255),\n",
       " (88693, '0451128370', 8.047870778267255),\n",
       " (88693, '0670220264', 8.047870778267255),\n",
       " (88693, '0061083259', 8.047870778267255),\n",
       " (88693, '0446679593', 8.047870778267255),\n",
       " (88693, '0450588866', 8.047870778267255),\n",
       " (88693, '0330332775', 8.047870778267255),\n",
       " (88693, '0385324057', 8.047870778267255),\n",
       " (88693, '0425047075', 8.047870778267255),\n",
       " (88693, '0821746480', 8.047870778267255),\n",
       " (88693, '0375728198', 8.047870778267255),\n",
       " (88693, '0140039589', 8.047870778267255),\n",
       " (88693, '0451149513', 8.047870778267255),\n",
       " (88693, '0521403979', 8.047870778267255),\n",
       " (88693, '0670032557', 8.047870778267255),\n",
       " (88693, '0670849367', 8.047870778267255),\n",
       " (88693, '0330375253', 8.047870778267255),\n",
       " (88693, '0739302043', 8.047870778267255),\n",
       " (88693, '0451188764', 8.047870778267255),\n",
       " (88693, '0395353009', 8.047870778267255),\n",
       " (88693, '1878448900', 8.047870778267255),\n",
       " (88693, '0399133194', 8.047870778267255),\n",
       " (88693, '0099245027', 8.047870778267255),\n",
       " (88693, '0452262143', 8.047870778267255),\n",
       " (88693, '0886825075', 8.047870778267255),\n",
       " (88693, '0553153277', 8.047870778267255),\n",
       " (88693, '0060541830', 8.047870778267255),\n",
       " (88693, '0747522251', 8.047870778267255),\n",
       " (88693, '0393046974', 8.047870778267255),\n",
       " (88693, '0399141146', 8.047870778267255),\n",
       " (88693, '0618129030', 8.047870778267255),\n",
       " (88693, '0553472828', 8.047870778267255),\n",
       " (88693, '0440238137', 8.047870778267255),\n",
       " (88693, '0385335970', 8.047870778267255),\n",
       " (88693, '0743418166', 8.047870778267255),\n",
       " (88693, '1570420297', 8.047870778267255),\n",
       " (88693, '0380001225', 8.047870778267255),\n",
       " (88693, '0316769533', 8.047870778267255),\n",
       " (88693, '0451186125', 8.047870778267255),\n",
       " (88693, '0749320346', 8.047870778267255),\n",
       " (88693, '0440418321', 8.047870778267255),\n",
       " (88693, '0446676438', 8.047870778267255),\n",
       " (88693, '0316969680', 8.047870778267255),\n",
       " (88693, '0743520548', 8.047870778267255),\n",
       " (88693, '0156028352', 8.047870778267255),\n",
       " (88693, '0451128389', 8.047870778267255),\n",
       " (88693, '0385470819', 8.047870778267255),\n",
       " (88693, '0385508417', 8.047870778267255),\n",
       " (88693, '0899668585', 8.047870778267255),\n",
       " (88693, '076790592X', 8.047870778267255),\n",
       " (88693, '0525244581', 8.047870778267255),\n",
       " (88693, '1565116674', 8.047870778267255),\n",
       " (88693, '0452279615', 8.047870778267255),\n",
       " (88693, '0452279607', 8.047870778267255),\n",
       " (88693, '0821776037', 8.047870778267255),\n",
       " (88693, '0451150694', 8.047870778267255),\n",
       " (88693, '039548930X', 8.047870778267255),\n",
       " (88693, '0395489334', 8.047870778267255),\n",
       " (88693, '0446310492', 8.047870778267255),\n",
       " (88693, '0375508414', 8.047870778267255),\n",
       " (88693, '0440221501', 8.047870778267255),\n",
       " (88693, '0397321651', 8.047870778267255),\n",
       " (88693, '0440220394', 8.047870778267255),\n",
       " (88693, '0375507779', 8.047870778267255),\n",
       " (88693, '038039586X', 8.047870778267255),\n",
       " (88693, '0001047973', 8.047870778267255),\n",
       " (88693, '0553472348', 8.047870778267255),\n",
       " (88693, '0451150716', 8.047870778267255),\n",
       " (88693, '0345417941', 8.047870778267255),\n",
       " (88693, '0843950293', 8.047870778267255),\n",
       " (88693, '0399146377', 8.047870778267255),\n",
       " (88693, '0671461494', 8.047870778267255),\n",
       " (88693, '0140094199', 8.047870778267255),\n",
       " (88693, '0380699745', 8.047870778267255),\n",
       " (88693, '0618153993', 8.047870778267255),\n",
       " (88693, '0848807804', 8.047870778267255),\n",
       " (88693, '0688057624', 8.047870778267255),\n",
       " (88693, '0451524179', 8.047870778267255),\n",
       " (88693, '0440221315', 8.047870778267255),\n",
       " (88693, '0739301985', 8.047870778267255),\n",
       " (88693, '0140292683', 8.047870778267255),\n",
       " (88693, '0618154000', 8.047870778267255),\n",
       " (88693, '0590471724', 8.047870778267255),\n",
       " (88693, '0618260285', 8.047870778267255),\n",
       " (180651, '0743211383', 8.047870778267255),\n",
       " (180651, '067976402X', 8.047870778267255),\n",
       " (180651, '0671039725', 8.047870778267255),\n",
       " (180651, '0312976275', 8.047870778267255),\n",
       " (180651, '0440226430', 8.047870778267255),\n",
       " (180651, '0312291639', 8.047870778267255),\n",
       " (180651, '0670858692', 8.047870778267255),\n",
       " (180651, '1573225789', 8.047870778267255),\n",
       " (180651, '0156027321', 8.047870778267255),\n",
       " (180651, '0786868716', 8.047870778267255),\n",
       " (180651, '014028009X', 8.047870778267255),\n",
       " (180651, '0451161343', 8.047870778267255),\n",
       " (180651, '0671702505', 8.047870778267255),\n",
       " (180651, '0440225701', 8.047870778267255),\n",
       " (180651, '0446609404', 8.047870778267255),\n",
       " (180651, '0385484518', 8.047870778267255),\n",
       " (180651, '0099143712', 8.047870778267255),\n",
       " (180651, '0449212602', 8.047870778267255),\n",
       " (180651, '044023722X', 8.047870778267255),\n",
       " (180651, '0316693324', 8.047870778267255),\n",
       " (180651, '0385311923', 8.047870778267255),\n",
       " (180651, '0425081818', 8.047870778267255),\n",
       " (180651, '0312971346', 8.047870778267255),\n",
       " (180651, '0452284694', 8.047870778267255),\n",
       " (180651, '0385302304', 8.047870778267255),\n",
       " (180651, '0425163407', 8.047870778267255),\n",
       " (180651, '0440212561', 8.047870778267255),\n",
       " (180651, '059035342X', 8.047870778267255),\n",
       " (180651, '0385472943', 8.047870778267255),\n",
       " (180651, '0316601950', 8.047870778267255),\n",
       " (180651, '0316777722', 8.047870778267255),\n",
       " (180651, '1400031354', 8.047870778267255),\n",
       " (180651, '0151008116', 8.047870778267255),\n",
       " (180651, '0440236673', 8.047870778267255),\n",
       " (180651, '0671003755', 8.047870778267255),\n",
       " (180651, '0812550706', 8.047870778267255),\n",
       " (180651, '0805063889', 8.047870778267255),\n",
       " (180651, '0440213525', 8.047870778267255),\n",
       " (180651, '0971880107', 8.047870778267255),\n",
       " (180651, '0440241073', 8.047870778267255),\n",
       " (180651, '0670032379', 8.047870778267255),\n",
       " (180651, '0451072804', 8.047870778267255),\n",
       " (180651, '034538475X', 8.047870778267255),\n",
       " (180651, '0440211727', 8.047870778267255),\n",
       " (180651, '0440998050', 8.047870778267255),\n",
       " (180651, '0671001795', 8.047870778267255),\n",
       " (180651, '0451142934', 8.047870778267255),\n",
       " (180651, '0618129111', 8.047870778267255),\n",
       " (180651, '0425105334', 8.047870778267255),\n",
       " (180651, '0671727796', 8.047870778267255),\n",
       " (180651, '0060929871', 8.047870778267255),\n",
       " (180651, '0804106304', 8.047870778267255),\n",
       " (180651, '0670844527', 8.047870778267255),\n",
       " (180651, '0345342968', 8.047870778267255),\n",
       " (180651, '006101351X', 8.047870778267255),\n",
       " (180651, '044021145X', 8.047870778267255),\n",
       " (180651, '0345378490', 8.047870778267255),\n",
       " (180651, '0060283122', 8.047870778267255),\n",
       " (180651, '0345337662', 8.047870778267255),\n",
       " (180651, '055321313X', 8.047870778267255),\n",
       " (180651, '0439139600', 8.047870778267255),\n",
       " (180651, '0446611867', 8.047870778267255),\n",
       " (180651, '0670855030', 8.047870778267255),\n",
       " (180651, '0312278586', 8.047870778267255),\n",
       " (180651, '0451188462', 8.047870778267255),\n",
       " (180651, '0671039733', 8.047870778267255),\n",
       " (180651, '0060928336', 8.047870778267255),\n",
       " (180651, '0451186362', 8.047870778267255),\n",
       " (180651, '037582345X', 8.047870778267255),\n",
       " (180651, '0446612790', 8.047870778267255),\n",
       " (180651, '0440221471', 8.047870778267255),\n",
       " (180651, '0670032573', 8.047870778267255),\n",
       " (180651, '0380718340', 8.047870778267255),\n",
       " (180651, '0060830956', 8.047870778267255),\n",
       " (180651, '068484477X', 8.047870778267255),\n",
       " (180651, '0142001740', 8.047870778267255),\n",
       " (180651, '0451117298', 8.047870778267255),\n",
       " (180651, '0440194903', 8.047870778267255),\n",
       " (180651, '0804114986', 8.047870778267255),\n",
       " (180651, '0316569321', 8.047870778267255),\n",
       " (180651, '0061009059', 8.047870778267255),\n",
       " (180651, '0860074382', 8.047870778267255),\n",
       " (180651, '0439136369', 8.047870778267255),\n",
       " (180651, '0743418174', 8.047870778267255),\n",
       " (180651, '039913039X', 8.047870778267255),\n",
       " (180651, '0312924585', 8.047870778267255),\n",
       " (180651, '0446525537', 8.047870778267255),\n",
       " (180651, '0345417623', 8.047870778267255),\n",
       " (180651, '0375706771', 8.047870778267255),\n",
       " (180651, '1400034779', 8.047870778267255),\n",
       " (180651, '0439139597', 8.047870778267255),\n",
       " (180651, '0375726403', 8.047870778267255),\n",
       " (180651, '0399501487', 8.047870778267255),\n",
       " (180651, '080410526X', 8.047870778267255),\n",
       " (180651, '0446672211', 8.047870778267255),\n",
       " (180651, '0446611085', 8.047870778267255),\n",
       " (180651, '0141000198', 8.047870778267255),\n",
       " (180651, '0440215625', 8.047870778267255),\n",
       " (180651, '0440977096', 8.047870778267255),\n",
       " (180651, '0618002227', 8.047870778267255),\n",
       " (180651, '0345387651', 8.047870778267255),\n",
       " (180651, '0385505833', 8.047870778267255),\n",
       " (180651, '0394588169', 8.047870778267255),\n",
       " (180651, '0312966970', 8.047870778267255),\n",
       " (180651, '0451156609', 8.047870778267255),\n",
       " (180651, '0452279178', 8.047870778267255),\n",
       " (180651, '0618002235', 8.047870778267255),\n",
       " (180651, '044022165X', 8.047870778267255),\n",
       " (180651, '0553280368', 8.047870778267255),\n",
       " (180651, '0679417796', 8.047870778267255),\n",
       " (180651, '0425180638', 8.047870778267255),\n",
       " (180651, '0451153553', 8.047870778267255),\n",
       " (180651, '0345444884', 8.047870778267255),\n",
       " (180651, '0451139739', 8.047870778267255),\n",
       " (180651, '0312980140', 8.047870778267255),\n",
       " (180651, '0446605239', 8.047870778267255),\n",
       " (180651, '0385504209', 8.047870778267255),\n",
       " (180651, '0060915544', 8.047870778267255),\n",
       " (180651, '0385492081', 8.047870778267255),\n",
       " (180651, '0842329129', 8.047870778267255),\n",
       " (180651, '0670851086', 8.047870778267255),\n",
       " (180651, '038550120X', 8.047870778267255),\n",
       " (180651, '0399143947', 8.047870778267255),\n",
       " (180651, '0553280341', 8.047870778267255),\n",
       " (180651, '0070212570', 8.047870778267255),\n",
       " (180651, '0671617028', 8.047870778267255),\n",
       " (180651, '0446310786', 8.047870778267255),\n",
       " (180651, '0451160444', 8.047870778267255),\n",
       " (180651, '0345361792', 8.047870778267255),\n",
       " (180651, '0312195516', 8.047870778267255),\n",
       " (180651, '0316776963', 8.047870778267255),\n",
       " (180651, '0452282152', 8.047870778267255),\n",
       " (180651, '0440234743', 8.047870778267255),\n",
       " (180651, '0385494785', 8.047870778267255),\n",
       " (180651, '0553279912', 8.047870778267255),\n",
       " (180651, '0140293248', 8.047870778267255),\n",
       " (180651, '0316693200', 8.047870778267255),\n",
       " (180651, '0061097314', 8.047870778267255),\n",
       " (180651, '0316096199', 8.047870778267255),\n",
       " (180651, '1573229326', 8.047870778267255),\n",
       " (180651, '006440188X', 8.047870778267255),\n",
       " (180651, '067088300X', 8.047870778267255),\n",
       " (180651, '0439136350', 8.047870778267255),\n",
       " (180651, '0440206154', 8.047870778267255),\n",
       " (180651, '0786222743', 8.047870778267255),\n",
       " (180651, '0451194861', 8.047870778267255),\n",
       " (180651, '044651652X', 8.047870778267255),\n",
       " (180651, '0831727527', 8.047870778267255),\n",
       " (180651, '0440214041', 8.047870778267255),\n",
       " (180651, '0446612545', 8.047870778267255),\n",
       " (180651, '0385722206', 8.047870778267255),\n",
       " (180651, '0345384466', 8.047870778267255),\n",
       " (180651, '0374386137', 8.047870778267255),\n",
       " (180651, '0316969443', 8.047870778267255),\n",
       " (180651, '055321201X', 8.047870778267255),\n",
       " (180651, '0312022824', 8.047870778267255),\n",
       " (180651, '0060094818', 8.047870778267255),\n",
       " (180651, '038531292X', 8.047870778267255),\n",
       " (180651, '0385472951', 8.047870778267255),\n",
       " (180651, '0345339681', 8.047870778267255),\n",
       " (180651, '0399133143', 8.047870778267255),\n",
       " ...]"
      ]
     },
     "execution_count": 69,
     "metadata": {},
     "output_type": "execute_result"
    }
   ],
   "source": [
    "(testset_new)"
   ]
  },
  {
   "cell_type": "code",
   "execution_count": 72,
   "metadata": {},
   "outputs": [],
   "source": [
    "svd_model.predict(uid=2110,iid=0)\n",
    "predictions = svd_model.test(testset_new[0:10000])"
   ]
  },
  {
   "cell_type": "code",
   "execution_count": 73,
   "metadata": {},
   "outputs": [],
   "source": [
    "predictions_df = pd.DataFrame([[x.uid,x.iid,x.est] for x in predictions])"
   ]
  },
  {
   "cell_type": "code",
   "execution_count": 75,
   "metadata": {},
   "outputs": [],
   "source": [
    "predictions_df.columns=['userId','itemId','est_rating']"
   ]
  },
  {
   "cell_type": "code",
   "execution_count": 77,
   "metadata": {},
   "outputs": [
    {
     "data": {
      "text/html": [
       "<div>\n",
       "<style scoped>\n",
       "    .dataframe tbody tr th:only-of-type {\n",
       "        vertical-align: middle;\n",
       "    }\n",
       "\n",
       "    .dataframe tbody tr th {\n",
       "        vertical-align: top;\n",
       "    }\n",
       "\n",
       "    .dataframe thead th {\n",
       "        text-align: right;\n",
       "    }\n",
       "</style>\n",
       "<table border=\"1\" class=\"dataframe\">\n",
       "  <thead>\n",
       "    <tr style=\"text-align: right;\">\n",
       "      <th></th>\n",
       "      <th>userId</th>\n",
       "      <th>itemId</th>\n",
       "      <th>est_rating</th>\n",
       "    </tr>\n",
       "  </thead>\n",
       "  <tbody>\n",
       "    <tr>\n",
       "      <th>0</th>\n",
       "      <td>109901</td>\n",
       "      <td>067976402X</td>\n",
       "      <td>5.0</td>\n",
       "    </tr>\n",
       "    <tr>\n",
       "      <th>1</th>\n",
       "      <td>109901</td>\n",
       "      <td>068484267X</td>\n",
       "      <td>5.0</td>\n",
       "    </tr>\n",
       "    <tr>\n",
       "      <th>2</th>\n",
       "      <td>109901</td>\n",
       "      <td>0312976275</td>\n",
       "      <td>5.0</td>\n",
       "    </tr>\n",
       "    <tr>\n",
       "      <th>3</th>\n",
       "      <td>109901</td>\n",
       "      <td>0440226430</td>\n",
       "      <td>5.0</td>\n",
       "    </tr>\n",
       "    <tr>\n",
       "      <th>4</th>\n",
       "      <td>109901</td>\n",
       "      <td>0312291639</td>\n",
       "      <td>5.0</td>\n",
       "    </tr>\n",
       "  </tbody>\n",
       "</table>\n",
       "</div>"
      ],
      "text/plain": [
       "   userId      itemId  est_rating\n",
       "0  109901  067976402X         5.0\n",
       "1  109901  068484267X         5.0\n",
       "2  109901  0312976275         5.0\n",
       "3  109901  0440226430         5.0\n",
       "4  109901  0312291639         5.0"
      ]
     },
     "execution_count": 77,
     "metadata": {},
     "output_type": "execute_result"
    }
   ],
   "source": [
    "predictions_df.head()"
   ]
  },
  {
   "cell_type": "markdown",
   "metadata": {},
   "source": [
    "# Content Based Recommendation System - Optional ( Q11 - Q19 will not be graded)"
   ]
  },
  {
   "cell_type": "markdown",
   "metadata": {
    "colab_type": "text",
    "id": "z4PsT3YllGth"
   },
   "source": [
    "## Q11 Read the Dataset `movies_metadata.csv`"
   ]
  },
  {
   "cell_type": "code",
   "execution_count": null,
   "metadata": {
    "colab": {},
    "colab_type": "code",
    "id": "7Kcv3Q56lGtx"
   },
   "outputs": [],
   "source": []
  },
  {
   "cell_type": "markdown",
   "metadata": {
    "colab_type": "text",
    "id": "pGQgXWamlGt2"
   },
   "source": [
    "## Q12 Create a new column with name 'description' combining `'overview' and 'tagline'` columns in the given dataset"
   ]
  },
  {
   "cell_type": "code",
   "execution_count": 0,
   "metadata": {
    "colab": {},
    "colab_type": "code",
    "id": "5brPYjJmlGt3"
   },
   "outputs": [],
   "source": []
  },
  {
   "cell_type": "markdown",
   "metadata": {
    "colab_type": "text",
    "id": "BsFLTupDlGuA"
   },
   "source": [
    "## Q13  Lets drop the null values in `description` column"
   ]
  },
  {
   "cell_type": "code",
   "execution_count": 0,
   "metadata": {
    "colab": {},
    "colab_type": "code",
    "id": "2U9Oply1lGuD"
   },
   "outputs": [],
   "source": []
  },
  {
   "cell_type": "markdown",
   "metadata": {
    "colab_type": "text",
    "id": "Ko2DNGFilGuK"
   },
   "source": [
    "## Q14 Keep the first occurance and drop duplicates of each title in column `title`"
   ]
  },
  {
   "cell_type": "code",
   "execution_count": 0,
   "metadata": {
    "colab": {},
    "colab_type": "code",
    "id": "u8g8ONiFlGuM"
   },
   "outputs": [],
   "source": []
  },
  {
   "cell_type": "markdown",
   "metadata": {
    "colab_type": "text",
    "id": "j_Urk7v6lGuR"
   },
   "source": [
    "## Q15   As we might have dropped a few rows with duplicate `title` in above step, just reset the index [make sure you are not adding any new column to the dataframe while doing reset index]"
   ]
  },
  {
   "cell_type": "code",
   "execution_count": 0,
   "metadata": {
    "colab": {},
    "colab_type": "code",
    "id": "UjGkORiQlGuU"
   },
   "outputs": [],
   "source": []
  },
  {
   "cell_type": "markdown",
   "metadata": {
    "colab_type": "text",
    "id": "XwwpqjiOlGuZ"
   },
   "source": [
    "## Q16    Generate tf-idf matrix using the column `description`. Consider till 3-grams, with minimum document frequency as 0.\n",
    "\n",
    "Hint:\n",
    "tf = TfidfVectorizer(analyzer='word', ngram_range=(1, 3), min_df=0, stop_words='english')"
   ]
  },
  {
   "cell_type": "code",
   "execution_count": 0,
   "metadata": {
    "colab": {},
    "colab_type": "code",
    "id": "Rhrh06dLlGua"
   },
   "outputs": [],
   "source": []
  },
  {
   "cell_type": "markdown",
   "metadata": {
    "colab_type": "text",
    "id": "hQeW-6zMlGuk"
   },
   "source": [
    "## Q17  Create cosine similarity matrix"
   ]
  },
  {
   "cell_type": "code",
   "execution_count": 0,
   "metadata": {
    "colab": {},
    "colab_type": "code",
    "id": "TZuRFd_3lGum"
   },
   "outputs": [],
   "source": []
  },
  {
   "cell_type": "markdown",
   "metadata": {
    "colab_type": "text",
    "id": "mYEFccPylGuu"
   },
   "source": [
    "## Q18  Write a function with name `recommend` which takes `title` as argument and returns a list of 10 recommended title names in the output based on the above cosine similarities\n",
    "\n",
    "Hint:\n",
    "\n",
    "titles = df['title'] <br>\n",
    "indices = pd.Series(df.index, index=df['title']) <br>\n",
    "\n",
    "def recommend(title): <br>\n",
    "    idx = indices[title] <br>\n",
    "    sim_scores = list(enumerate(cosine_similarities[idx])) <br>\n",
    "    sim_scores = sorted(sim_scores, key=lambda x: x[1], reverse=True) <br>\n",
    "    sim_scores = sim_scores[1:31] <br>\n",
    "    movie_indices = [i[0] for i in sim_scores] <br>\n",
    "    return titles.iloc[movie_indices] <br>"
   ]
  },
  {
   "cell_type": "code",
   "execution_count": 0,
   "metadata": {
    "colab": {},
    "colab_type": "code",
    "id": "0Vn3k9HBlGuv"
   },
   "outputs": [],
   "source": []
  },
  {
   "cell_type": "markdown",
   "metadata": {
    "colab_type": "text",
    "id": "Yb_FAQsAlGuz"
   },
   "source": [
    "## Q19 Give the recommendations from above functions for movies `The Godfather` and `The Dark Knight Rises`"
   ]
  },
  {
   "cell_type": "code",
   "execution_count": 0,
   "metadata": {
    "colab": {},
    "colab_type": "code",
    "id": "tAjByLFQlGu5"
   },
   "outputs": [],
   "source": []
  },
  {
   "cell_type": "code",
   "execution_count": 0,
   "metadata": {
    "colab": {},
    "colab_type": "code",
    "id": "TX3kX3EqlGvO"
   },
   "outputs": [],
   "source": []
  },
  {
   "cell_type": "markdown",
   "metadata": {
    "colab_type": "text",
    "id": "wtUWvCyDlGvR"
   },
   "source": [
    "# Popularity Based Recommendation System"
   ]
  },
  {
   "cell_type": "markdown",
   "metadata": {
    "colab_type": "text",
    "id": "DRkvMrjxlGvT"
   },
   "source": [
    "### About Dataset"
   ]
  },
  {
   "cell_type": "markdown",
   "metadata": {
    "colab_type": "text",
    "id": "xaK5697XlGvX"
   },
   "source": [
    "Anonymous Ratings on jokes."
   ]
  },
  {
   "cell_type": "markdown",
   "metadata": {
    "colab_type": "text",
    "id": "ko21N-VElGvZ"
   },
   "source": [
    "1. Ratings are real values ranging from -10.00 to +10.00 (the value \"99\" corresponds to \"null\" = \"not rated\").\n",
    "\n",
    "2. One row per user\n",
    "\n",
    "3. The first column gives the number of jokes rated by that user. The next 100 columns give the ratings for jokes 01 - 100."
   ]
  },
  {
   "cell_type": "markdown",
   "metadata": {
    "colab_type": "text",
    "id": "74Z3JYablGvb"
   },
   "source": [
    "# Q20 Read the dataset(jokes.csv)\n",
    "\n",
    "Take care about the header in read_csv() as there are no column names given in the dataset. "
   ]
  },
  {
   "cell_type": "code",
   "execution_count": 420,
   "metadata": {
    "colab": {},
    "colab_type": "code",
    "id": "Rv2nbSpKlGvd"
   },
   "outputs": [
    {
     "data": {
      "text/html": [
       "<div>\n",
       "<style scoped>\n",
       "    .dataframe tbody tr th:only-of-type {\n",
       "        vertical-align: middle;\n",
       "    }\n",
       "\n",
       "    .dataframe tbody tr th {\n",
       "        vertical-align: top;\n",
       "    }\n",
       "\n",
       "    .dataframe thead th {\n",
       "        text-align: right;\n",
       "    }\n",
       "</style>\n",
       "<table border=\"1\" class=\"dataframe\">\n",
       "  <thead>\n",
       "    <tr style=\"text-align: right;\">\n",
       "      <th></th>\n",
       "      <th>Joke1</th>\n",
       "      <th>Joke2</th>\n",
       "      <th>Joke3</th>\n",
       "      <th>Joke4</th>\n",
       "      <th>Joke5</th>\n",
       "      <th>Joke6</th>\n",
       "      <th>Joke7</th>\n",
       "      <th>Joke8</th>\n",
       "      <th>Joke9</th>\n",
       "      <th>Joke10</th>\n",
       "      <th>...</th>\n",
       "      <th>Joke91</th>\n",
       "      <th>Joke92</th>\n",
       "      <th>Joke93</th>\n",
       "      <th>Joke94</th>\n",
       "      <th>Joke95</th>\n",
       "      <th>Joke96</th>\n",
       "      <th>Joke97</th>\n",
       "      <th>Joke98</th>\n",
       "      <th>Joke99</th>\n",
       "      <th>Joke100</th>\n",
       "    </tr>\n",
       "    <tr>\n",
       "      <th>NumJokes</th>\n",
       "      <th></th>\n",
       "      <th></th>\n",
       "      <th></th>\n",
       "      <th></th>\n",
       "      <th></th>\n",
       "      <th></th>\n",
       "      <th></th>\n",
       "      <th></th>\n",
       "      <th></th>\n",
       "      <th></th>\n",
       "      <th></th>\n",
       "      <th></th>\n",
       "      <th></th>\n",
       "      <th></th>\n",
       "      <th></th>\n",
       "      <th></th>\n",
       "      <th></th>\n",
       "      <th></th>\n",
       "      <th></th>\n",
       "      <th></th>\n",
       "      <th></th>\n",
       "    </tr>\n",
       "  </thead>\n",
       "  <tbody>\n",
       "    <tr>\n",
       "      <th>74</th>\n",
       "      <td>-7.82</td>\n",
       "      <td>8.79</td>\n",
       "      <td>-9.66</td>\n",
       "      <td>-8.16</td>\n",
       "      <td>-7.52</td>\n",
       "      <td>-8.50</td>\n",
       "      <td>-9.85</td>\n",
       "      <td>4.17</td>\n",
       "      <td>-8.98</td>\n",
       "      <td>-4.76</td>\n",
       "      <td>...</td>\n",
       "      <td>2.82</td>\n",
       "      <td>99.00</td>\n",
       "      <td>99.00</td>\n",
       "      <td>99.00</td>\n",
       "      <td>99.00</td>\n",
       "      <td>99.00</td>\n",
       "      <td>-5.63</td>\n",
       "      <td>99.00</td>\n",
       "      <td>99.00</td>\n",
       "      <td>99.00</td>\n",
       "    </tr>\n",
       "    <tr>\n",
       "      <th>100</th>\n",
       "      <td>4.08</td>\n",
       "      <td>-0.29</td>\n",
       "      <td>6.36</td>\n",
       "      <td>4.37</td>\n",
       "      <td>-2.38</td>\n",
       "      <td>-9.66</td>\n",
       "      <td>-0.73</td>\n",
       "      <td>-5.34</td>\n",
       "      <td>8.88</td>\n",
       "      <td>9.22</td>\n",
       "      <td>...</td>\n",
       "      <td>2.82</td>\n",
       "      <td>-4.95</td>\n",
       "      <td>-0.29</td>\n",
       "      <td>7.86</td>\n",
       "      <td>-0.19</td>\n",
       "      <td>-2.14</td>\n",
       "      <td>3.06</td>\n",
       "      <td>0.34</td>\n",
       "      <td>-4.32</td>\n",
       "      <td>1.07</td>\n",
       "    </tr>\n",
       "    <tr>\n",
       "      <th>49</th>\n",
       "      <td>99.00</td>\n",
       "      <td>99.00</td>\n",
       "      <td>99.00</td>\n",
       "      <td>99.00</td>\n",
       "      <td>9.03</td>\n",
       "      <td>9.27</td>\n",
       "      <td>9.03</td>\n",
       "      <td>9.27</td>\n",
       "      <td>99.00</td>\n",
       "      <td>99.00</td>\n",
       "      <td>...</td>\n",
       "      <td>99.00</td>\n",
       "      <td>99.00</td>\n",
       "      <td>99.00</td>\n",
       "      <td>9.08</td>\n",
       "      <td>99.00</td>\n",
       "      <td>99.00</td>\n",
       "      <td>99.00</td>\n",
       "      <td>99.00</td>\n",
       "      <td>99.00</td>\n",
       "      <td>99.00</td>\n",
       "    </tr>\n",
       "    <tr>\n",
       "      <th>48</th>\n",
       "      <td>99.00</td>\n",
       "      <td>8.35</td>\n",
       "      <td>99.00</td>\n",
       "      <td>99.00</td>\n",
       "      <td>1.80</td>\n",
       "      <td>8.16</td>\n",
       "      <td>-2.82</td>\n",
       "      <td>6.21</td>\n",
       "      <td>99.00</td>\n",
       "      <td>1.84</td>\n",
       "      <td>...</td>\n",
       "      <td>99.00</td>\n",
       "      <td>99.00</td>\n",
       "      <td>99.00</td>\n",
       "      <td>0.53</td>\n",
       "      <td>99.00</td>\n",
       "      <td>99.00</td>\n",
       "      <td>99.00</td>\n",
       "      <td>99.00</td>\n",
       "      <td>99.00</td>\n",
       "      <td>99.00</td>\n",
       "    </tr>\n",
       "    <tr>\n",
       "      <th>91</th>\n",
       "      <td>8.50</td>\n",
       "      <td>4.61</td>\n",
       "      <td>-4.17</td>\n",
       "      <td>-5.39</td>\n",
       "      <td>1.36</td>\n",
       "      <td>1.60</td>\n",
       "      <td>7.04</td>\n",
       "      <td>4.61</td>\n",
       "      <td>-0.44</td>\n",
       "      <td>5.73</td>\n",
       "      <td>...</td>\n",
       "      <td>5.19</td>\n",
       "      <td>5.58</td>\n",
       "      <td>4.27</td>\n",
       "      <td>5.19</td>\n",
       "      <td>5.73</td>\n",
       "      <td>1.55</td>\n",
       "      <td>3.11</td>\n",
       "      <td>6.55</td>\n",
       "      <td>1.80</td>\n",
       "      <td>1.60</td>\n",
       "    </tr>\n",
       "  </tbody>\n",
       "</table>\n",
       "<p>5 rows × 100 columns</p>\n",
       "</div>"
      ],
      "text/plain": [
       "          Joke1  Joke2  Joke3  Joke4  Joke5  Joke6  Joke7  Joke8  Joke9  \\\n",
       "NumJokes                                                                  \n",
       "74        -7.82   8.79  -9.66  -8.16  -7.52  -8.50  -9.85   4.17  -8.98   \n",
       "100        4.08  -0.29   6.36   4.37  -2.38  -9.66  -0.73  -5.34   8.88   \n",
       "49        99.00  99.00  99.00  99.00   9.03   9.27   9.03   9.27  99.00   \n",
       "48        99.00   8.35  99.00  99.00   1.80   8.16  -2.82   6.21  99.00   \n",
       "91         8.50   4.61  -4.17  -5.39   1.36   1.60   7.04   4.61  -0.44   \n",
       "\n",
       "          Joke10  ...  Joke91  Joke92  Joke93  Joke94  Joke95  Joke96  Joke97  \\\n",
       "NumJokes          ...                                                           \n",
       "74         -4.76  ...    2.82   99.00   99.00   99.00   99.00   99.00   -5.63   \n",
       "100         9.22  ...    2.82   -4.95   -0.29    7.86   -0.19   -2.14    3.06   \n",
       "49         99.00  ...   99.00   99.00   99.00    9.08   99.00   99.00   99.00   \n",
       "48          1.84  ...   99.00   99.00   99.00    0.53   99.00   99.00   99.00   \n",
       "91          5.73  ...    5.19    5.58    4.27    5.19    5.73    1.55    3.11   \n",
       "\n",
       "          Joke98  Joke99  Joke100  \n",
       "NumJokes                           \n",
       "74         99.00   99.00    99.00  \n",
       "100         0.34   -4.32     1.07  \n",
       "49         99.00   99.00    99.00  \n",
       "48         99.00   99.00    99.00  \n",
       "91          6.55    1.80     1.60  \n",
       "\n",
       "[5 rows x 100 columns]"
      ]
     },
     "execution_count": 420,
     "metadata": {},
     "output_type": "execute_result"
    }
   ],
   "source": [
    "joke_df=pd.read_csv('jokes.csv',index_col=0)\n",
    "joke_df.head()"
   ]
  },
  {
   "cell_type": "markdown",
   "metadata": {
    "colab_type": "text",
    "id": "BI4Gdkq6lGvl"
   },
   "source": [
    "# Q21 Consider `ratings` named dataframe with only first 200 rows and all columns from 1(first column is 0) of dataset"
   ]
  },
  {
   "cell_type": "code",
   "execution_count": 421,
   "metadata": {
    "colab": {},
    "colab_type": "code",
    "id": "dxfRCsZ3lGvm"
   },
   "outputs": [
    {
     "data": {
      "text/plain": [
       "(200, 100)"
      ]
     },
     "execution_count": 421,
     "metadata": {},
     "output_type": "execute_result"
    }
   ],
   "source": [
    "ratings_joke=joke_df.iloc[:200,:]\n",
    "ratings_joke.shape"
   ]
  },
  {
   "cell_type": "markdown",
   "metadata": {
    "colab_type": "text",
    "id": "5O7lNzGflGvw"
   },
   "source": [
    "# Q22 Change the column indices from 0 to 99"
   ]
  },
  {
   "cell_type": "code",
   "execution_count": null,
   "metadata": {
    "colab": {},
    "colab_type": "code",
    "id": "RjYQXBmelGv0"
   },
   "outputs": [],
   "source": []
  },
  {
   "cell_type": "code",
   "execution_count": 422,
   "metadata": {},
   "outputs": [
    {
     "data": {
      "text/html": [
       "<div>\n",
       "<style scoped>\n",
       "    .dataframe tbody tr th:only-of-type {\n",
       "        vertical-align: middle;\n",
       "    }\n",
       "\n",
       "    .dataframe tbody tr th {\n",
       "        vertical-align: top;\n",
       "    }\n",
       "\n",
       "    .dataframe thead th {\n",
       "        text-align: right;\n",
       "    }\n",
       "</style>\n",
       "<table border=\"1\" class=\"dataframe\">\n",
       "  <thead>\n",
       "    <tr style=\"text-align: right;\">\n",
       "      <th></th>\n",
       "      <th>0</th>\n",
       "      <th>1</th>\n",
       "      <th>2</th>\n",
       "      <th>3</th>\n",
       "      <th>4</th>\n",
       "      <th>5</th>\n",
       "      <th>6</th>\n",
       "      <th>7</th>\n",
       "      <th>8</th>\n",
       "      <th>9</th>\n",
       "      <th>...</th>\n",
       "      <th>90</th>\n",
       "      <th>91</th>\n",
       "      <th>92</th>\n",
       "      <th>93</th>\n",
       "      <th>94</th>\n",
       "      <th>95</th>\n",
       "      <th>96</th>\n",
       "      <th>97</th>\n",
       "      <th>98</th>\n",
       "      <th>99</th>\n",
       "    </tr>\n",
       "    <tr>\n",
       "      <th>NumJokes</th>\n",
       "      <th></th>\n",
       "      <th></th>\n",
       "      <th></th>\n",
       "      <th></th>\n",
       "      <th></th>\n",
       "      <th></th>\n",
       "      <th></th>\n",
       "      <th></th>\n",
       "      <th></th>\n",
       "      <th></th>\n",
       "      <th></th>\n",
       "      <th></th>\n",
       "      <th></th>\n",
       "      <th></th>\n",
       "      <th></th>\n",
       "      <th></th>\n",
       "      <th></th>\n",
       "      <th></th>\n",
       "      <th></th>\n",
       "      <th></th>\n",
       "      <th></th>\n",
       "    </tr>\n",
       "  </thead>\n",
       "  <tbody>\n",
       "    <tr>\n",
       "      <th>74</th>\n",
       "      <td>-7.82</td>\n",
       "      <td>8.79</td>\n",
       "      <td>-9.66</td>\n",
       "      <td>-8.16</td>\n",
       "      <td>-7.52</td>\n",
       "      <td>-8.50</td>\n",
       "      <td>-9.85</td>\n",
       "      <td>4.17</td>\n",
       "      <td>-8.98</td>\n",
       "      <td>-4.76</td>\n",
       "      <td>...</td>\n",
       "      <td>2.82</td>\n",
       "      <td>99.00</td>\n",
       "      <td>99.00</td>\n",
       "      <td>99.00</td>\n",
       "      <td>99.00</td>\n",
       "      <td>99.00</td>\n",
       "      <td>-5.63</td>\n",
       "      <td>99.00</td>\n",
       "      <td>99.00</td>\n",
       "      <td>99.00</td>\n",
       "    </tr>\n",
       "    <tr>\n",
       "      <th>100</th>\n",
       "      <td>4.08</td>\n",
       "      <td>-0.29</td>\n",
       "      <td>6.36</td>\n",
       "      <td>4.37</td>\n",
       "      <td>-2.38</td>\n",
       "      <td>-9.66</td>\n",
       "      <td>-0.73</td>\n",
       "      <td>-5.34</td>\n",
       "      <td>8.88</td>\n",
       "      <td>9.22</td>\n",
       "      <td>...</td>\n",
       "      <td>2.82</td>\n",
       "      <td>-4.95</td>\n",
       "      <td>-0.29</td>\n",
       "      <td>7.86</td>\n",
       "      <td>-0.19</td>\n",
       "      <td>-2.14</td>\n",
       "      <td>3.06</td>\n",
       "      <td>0.34</td>\n",
       "      <td>-4.32</td>\n",
       "      <td>1.07</td>\n",
       "    </tr>\n",
       "    <tr>\n",
       "      <th>49</th>\n",
       "      <td>99.00</td>\n",
       "      <td>99.00</td>\n",
       "      <td>99.00</td>\n",
       "      <td>99.00</td>\n",
       "      <td>9.03</td>\n",
       "      <td>9.27</td>\n",
       "      <td>9.03</td>\n",
       "      <td>9.27</td>\n",
       "      <td>99.00</td>\n",
       "      <td>99.00</td>\n",
       "      <td>...</td>\n",
       "      <td>99.00</td>\n",
       "      <td>99.00</td>\n",
       "      <td>99.00</td>\n",
       "      <td>9.08</td>\n",
       "      <td>99.00</td>\n",
       "      <td>99.00</td>\n",
       "      <td>99.00</td>\n",
       "      <td>99.00</td>\n",
       "      <td>99.00</td>\n",
       "      <td>99.00</td>\n",
       "    </tr>\n",
       "    <tr>\n",
       "      <th>48</th>\n",
       "      <td>99.00</td>\n",
       "      <td>8.35</td>\n",
       "      <td>99.00</td>\n",
       "      <td>99.00</td>\n",
       "      <td>1.80</td>\n",
       "      <td>8.16</td>\n",
       "      <td>-2.82</td>\n",
       "      <td>6.21</td>\n",
       "      <td>99.00</td>\n",
       "      <td>1.84</td>\n",
       "      <td>...</td>\n",
       "      <td>99.00</td>\n",
       "      <td>99.00</td>\n",
       "      <td>99.00</td>\n",
       "      <td>0.53</td>\n",
       "      <td>99.00</td>\n",
       "      <td>99.00</td>\n",
       "      <td>99.00</td>\n",
       "      <td>99.00</td>\n",
       "      <td>99.00</td>\n",
       "      <td>99.00</td>\n",
       "    </tr>\n",
       "    <tr>\n",
       "      <th>91</th>\n",
       "      <td>8.50</td>\n",
       "      <td>4.61</td>\n",
       "      <td>-4.17</td>\n",
       "      <td>-5.39</td>\n",
       "      <td>1.36</td>\n",
       "      <td>1.60</td>\n",
       "      <td>7.04</td>\n",
       "      <td>4.61</td>\n",
       "      <td>-0.44</td>\n",
       "      <td>5.73</td>\n",
       "      <td>...</td>\n",
       "      <td>5.19</td>\n",
       "      <td>5.58</td>\n",
       "      <td>4.27</td>\n",
       "      <td>5.19</td>\n",
       "      <td>5.73</td>\n",
       "      <td>1.55</td>\n",
       "      <td>3.11</td>\n",
       "      <td>6.55</td>\n",
       "      <td>1.80</td>\n",
       "      <td>1.60</td>\n",
       "    </tr>\n",
       "  </tbody>\n",
       "</table>\n",
       "<p>5 rows × 100 columns</p>\n",
       "</div>"
      ],
      "text/plain": [
       "             0      1      2      3     4     5     6     7      8      9   \\\n",
       "NumJokes                                                                     \n",
       "74        -7.82   8.79  -9.66  -8.16 -7.52 -8.50 -9.85  4.17  -8.98  -4.76   \n",
       "100        4.08  -0.29   6.36   4.37 -2.38 -9.66 -0.73 -5.34   8.88   9.22   \n",
       "49        99.00  99.00  99.00  99.00  9.03  9.27  9.03  9.27  99.00  99.00   \n",
       "48        99.00   8.35  99.00  99.00  1.80  8.16 -2.82  6.21  99.00   1.84   \n",
       "91         8.50   4.61  -4.17  -5.39  1.36  1.60  7.04  4.61  -0.44   5.73   \n",
       "\n",
       "          ...     90     91     92     93     94     95     96     97     98  \\\n",
       "NumJokes  ...                                                                  \n",
       "74        ...   2.82  99.00  99.00  99.00  99.00  99.00  -5.63  99.00  99.00   \n",
       "100       ...   2.82  -4.95  -0.29   7.86  -0.19  -2.14   3.06   0.34  -4.32   \n",
       "49        ...  99.00  99.00  99.00   9.08  99.00  99.00  99.00  99.00  99.00   \n",
       "48        ...  99.00  99.00  99.00   0.53  99.00  99.00  99.00  99.00  99.00   \n",
       "91        ...   5.19   5.58   4.27   5.19   5.73   1.55   3.11   6.55   1.80   \n",
       "\n",
       "             99  \n",
       "NumJokes         \n",
       "74        99.00  \n",
       "100        1.07  \n",
       "49        99.00  \n",
       "48        99.00  \n",
       "91         1.60  \n",
       "\n",
       "[5 rows x 100 columns]"
      ]
     },
     "execution_count": 422,
     "metadata": {},
     "output_type": "execute_result"
    }
   ],
   "source": [
    "ratings_joke.columns=list(range(0,100))\n",
    "ratings_joke.head()"
   ]
  },
  {
   "cell_type": "code",
   "execution_count": null,
   "metadata": {},
   "outputs": [],
   "source": []
  },
  {
   "cell_type": "markdown",
   "metadata": {
    "colab_type": "text",
    "id": "N8Oju9SklGv5"
   },
   "source": [
    "# Q23 In the dataset, the null ratings are given as 99.00, so replace all 99.00s with 0\n",
    "Hint: You can use `ratings.replace(<the given value>, <new value you wanted to change with>)`"
   ]
  },
  {
   "cell_type": "code",
   "execution_count": 423,
   "metadata": {
    "colab": {},
    "colab_type": "code",
    "id": "HNv-hUgulGv8"
   },
   "outputs": [
    {
     "name": "stderr",
     "output_type": "stream",
     "text": [
      "F:\\Anaconda\\lib\\site-packages\\pandas\\core\\frame.py:4042: SettingWithCopyWarning: \n",
      "A value is trying to be set on a copy of a slice from a DataFrame\n",
      "\n",
      "See the caveats in the documentation: http://pandas.pydata.org/pandas-docs/stable/indexing.html#indexing-view-versus-copy\n",
      "  method=method)\n"
     ]
    }
   ],
   "source": [
    "ratings_joke.replace(99.00,0,inplace=True)"
   ]
  },
  {
   "cell_type": "code",
   "execution_count": 426,
   "metadata": {},
   "outputs": [
    {
     "data": {
      "text/html": [
       "<div>\n",
       "<style scoped>\n",
       "    .dataframe tbody tr th:only-of-type {\n",
       "        vertical-align: middle;\n",
       "    }\n",
       "\n",
       "    .dataframe tbody tr th {\n",
       "        vertical-align: top;\n",
       "    }\n",
       "\n",
       "    .dataframe thead th {\n",
       "        text-align: right;\n",
       "    }\n",
       "</style>\n",
       "<table border=\"1\" class=\"dataframe\">\n",
       "  <thead>\n",
       "    <tr style=\"text-align: right;\">\n",
       "      <th></th>\n",
       "      <th>0</th>\n",
       "      <th>1</th>\n",
       "      <th>2</th>\n",
       "      <th>3</th>\n",
       "      <th>4</th>\n",
       "      <th>5</th>\n",
       "      <th>6</th>\n",
       "      <th>7</th>\n",
       "      <th>8</th>\n",
       "      <th>9</th>\n",
       "      <th>...</th>\n",
       "      <th>90</th>\n",
       "      <th>91</th>\n",
       "      <th>92</th>\n",
       "      <th>93</th>\n",
       "      <th>94</th>\n",
       "      <th>95</th>\n",
       "      <th>96</th>\n",
       "      <th>97</th>\n",
       "      <th>98</th>\n",
       "      <th>99</th>\n",
       "    </tr>\n",
       "    <tr>\n",
       "      <th>NumJokes</th>\n",
       "      <th></th>\n",
       "      <th></th>\n",
       "      <th></th>\n",
       "      <th></th>\n",
       "      <th></th>\n",
       "      <th></th>\n",
       "      <th></th>\n",
       "      <th></th>\n",
       "      <th></th>\n",
       "      <th></th>\n",
       "      <th></th>\n",
       "      <th></th>\n",
       "      <th></th>\n",
       "      <th></th>\n",
       "      <th></th>\n",
       "      <th></th>\n",
       "      <th></th>\n",
       "      <th></th>\n",
       "      <th></th>\n",
       "      <th></th>\n",
       "      <th></th>\n",
       "    </tr>\n",
       "  </thead>\n",
       "  <tbody>\n",
       "    <tr>\n",
       "      <th>74</th>\n",
       "      <td>-7.82</td>\n",
       "      <td>8.79</td>\n",
       "      <td>-9.66</td>\n",
       "      <td>-8.16</td>\n",
       "      <td>-7.52</td>\n",
       "      <td>-8.50</td>\n",
       "      <td>-9.85</td>\n",
       "      <td>4.17</td>\n",
       "      <td>-8.98</td>\n",
       "      <td>-4.76</td>\n",
       "      <td>...</td>\n",
       "      <td>2.82</td>\n",
       "      <td>0.00</td>\n",
       "      <td>0.00</td>\n",
       "      <td>0.00</td>\n",
       "      <td>0.00</td>\n",
       "      <td>0.00</td>\n",
       "      <td>-5.63</td>\n",
       "      <td>0.00</td>\n",
       "      <td>0.00</td>\n",
       "      <td>0.00</td>\n",
       "    </tr>\n",
       "    <tr>\n",
       "      <th>100</th>\n",
       "      <td>4.08</td>\n",
       "      <td>-0.29</td>\n",
       "      <td>6.36</td>\n",
       "      <td>4.37</td>\n",
       "      <td>-2.38</td>\n",
       "      <td>-9.66</td>\n",
       "      <td>-0.73</td>\n",
       "      <td>-5.34</td>\n",
       "      <td>8.88</td>\n",
       "      <td>9.22</td>\n",
       "      <td>...</td>\n",
       "      <td>2.82</td>\n",
       "      <td>-4.95</td>\n",
       "      <td>-0.29</td>\n",
       "      <td>7.86</td>\n",
       "      <td>-0.19</td>\n",
       "      <td>-2.14</td>\n",
       "      <td>3.06</td>\n",
       "      <td>0.34</td>\n",
       "      <td>-4.32</td>\n",
       "      <td>1.07</td>\n",
       "    </tr>\n",
       "    <tr>\n",
       "      <th>49</th>\n",
       "      <td>0.00</td>\n",
       "      <td>0.00</td>\n",
       "      <td>0.00</td>\n",
       "      <td>0.00</td>\n",
       "      <td>9.03</td>\n",
       "      <td>9.27</td>\n",
       "      <td>9.03</td>\n",
       "      <td>9.27</td>\n",
       "      <td>0.00</td>\n",
       "      <td>0.00</td>\n",
       "      <td>...</td>\n",
       "      <td>0.00</td>\n",
       "      <td>0.00</td>\n",
       "      <td>0.00</td>\n",
       "      <td>9.08</td>\n",
       "      <td>0.00</td>\n",
       "      <td>0.00</td>\n",
       "      <td>0.00</td>\n",
       "      <td>0.00</td>\n",
       "      <td>0.00</td>\n",
       "      <td>0.00</td>\n",
       "    </tr>\n",
       "    <tr>\n",
       "      <th>48</th>\n",
       "      <td>0.00</td>\n",
       "      <td>8.35</td>\n",
       "      <td>0.00</td>\n",
       "      <td>0.00</td>\n",
       "      <td>1.80</td>\n",
       "      <td>8.16</td>\n",
       "      <td>-2.82</td>\n",
       "      <td>6.21</td>\n",
       "      <td>0.00</td>\n",
       "      <td>1.84</td>\n",
       "      <td>...</td>\n",
       "      <td>0.00</td>\n",
       "      <td>0.00</td>\n",
       "      <td>0.00</td>\n",
       "      <td>0.53</td>\n",
       "      <td>0.00</td>\n",
       "      <td>0.00</td>\n",
       "      <td>0.00</td>\n",
       "      <td>0.00</td>\n",
       "      <td>0.00</td>\n",
       "      <td>0.00</td>\n",
       "    </tr>\n",
       "    <tr>\n",
       "      <th>91</th>\n",
       "      <td>8.50</td>\n",
       "      <td>4.61</td>\n",
       "      <td>-4.17</td>\n",
       "      <td>-5.39</td>\n",
       "      <td>1.36</td>\n",
       "      <td>1.60</td>\n",
       "      <td>7.04</td>\n",
       "      <td>4.61</td>\n",
       "      <td>-0.44</td>\n",
       "      <td>5.73</td>\n",
       "      <td>...</td>\n",
       "      <td>5.19</td>\n",
       "      <td>5.58</td>\n",
       "      <td>4.27</td>\n",
       "      <td>5.19</td>\n",
       "      <td>5.73</td>\n",
       "      <td>1.55</td>\n",
       "      <td>3.11</td>\n",
       "      <td>6.55</td>\n",
       "      <td>1.80</td>\n",
       "      <td>1.60</td>\n",
       "    </tr>\n",
       "  </tbody>\n",
       "</table>\n",
       "<p>5 rows × 100 columns</p>\n",
       "</div>"
      ],
      "text/plain": [
       "            0     1     2     3     4     5     6     7     8     9   ...  \\\n",
       "NumJokes                                                              ...   \n",
       "74       -7.82  8.79 -9.66 -8.16 -7.52 -8.50 -9.85  4.17 -8.98 -4.76  ...   \n",
       "100       4.08 -0.29  6.36  4.37 -2.38 -9.66 -0.73 -5.34  8.88  9.22  ...   \n",
       "49        0.00  0.00  0.00  0.00  9.03  9.27  9.03  9.27  0.00  0.00  ...   \n",
       "48        0.00  8.35  0.00  0.00  1.80  8.16 -2.82  6.21  0.00  1.84  ...   \n",
       "91        8.50  4.61 -4.17 -5.39  1.36  1.60  7.04  4.61 -0.44  5.73  ...   \n",
       "\n",
       "            90    91    92    93    94    95    96    97    98    99  \n",
       "NumJokes                                                              \n",
       "74        2.82  0.00  0.00  0.00  0.00  0.00 -5.63  0.00  0.00  0.00  \n",
       "100       2.82 -4.95 -0.29  7.86 -0.19 -2.14  3.06  0.34 -4.32  1.07  \n",
       "49        0.00  0.00  0.00  9.08  0.00  0.00  0.00  0.00  0.00  0.00  \n",
       "48        0.00  0.00  0.00  0.53  0.00  0.00  0.00  0.00  0.00  0.00  \n",
       "91        5.19  5.58  4.27  5.19  5.73  1.55  3.11  6.55  1.80  1.60  \n",
       "\n",
       "[5 rows x 100 columns]"
      ]
     },
     "execution_count": 426,
     "metadata": {},
     "output_type": "execute_result"
    }
   ],
   "source": [
    "ratings_joke.head()"
   ]
  },
  {
   "cell_type": "markdown",
   "metadata": {
    "colab_type": "text",
    "id": "rJFe3rN2lGwD"
   },
   "source": [
    "# Q24 Normalize the ratings using StandardScaler and save them in `ratings_diff` variable"
   ]
  },
  {
   "cell_type": "code",
   "execution_count": 427,
   "metadata": {
    "colab": {},
    "colab_type": "code",
    "id": "ekUQCXgDlGwE"
   },
   "outputs": [],
   "source": [
    "from sklearn.preprocessing import StandardScaler\n",
    "ratings_diff = StandardScaler().fit_transform(ratings_joke)\n"
   ]
  },
  {
   "cell_type": "code",
   "execution_count": 428,
   "metadata": {},
   "outputs": [
    {
     "data": {
      "text/plain": [
       "numpy.ndarray"
      ]
     },
     "execution_count": 428,
     "metadata": {},
     "output_type": "execute_result"
    }
   ],
   "source": [
    "type(ratings_diff)"
   ]
  },
  {
   "cell_type": "markdown",
   "metadata": {
    "colab_type": "text",
    "id": "leTZZN6XlGwM"
   },
   "source": [
    "### Popularity based recommendation system"
   ]
  },
  {
   "cell_type": "markdown",
   "metadata": {
    "colab_type": "text",
    "id": "0ND5jBsIlGwO"
   },
   "source": [
    "# Q25  Find the mean for each column  in `ratings_diff` i.e, for each joke\n",
    "Consider all the mean ratings and find the jokes with highest mean value and display the top 10 joke IDs."
   ]
  },
  {
   "cell_type": "code",
   "execution_count": 429,
   "metadata": {
    "colab": {},
    "colab_type": "code",
    "id": "h2fS5nbTlGwQ"
   },
   "outputs": [
    {
     "data": {
      "text/html": [
       "<div>\n",
       "<style scoped>\n",
       "    .dataframe tbody tr th:only-of-type {\n",
       "        vertical-align: middle;\n",
       "    }\n",
       "\n",
       "    .dataframe tbody tr th {\n",
       "        vertical-align: top;\n",
       "    }\n",
       "\n",
       "    .dataframe thead th {\n",
       "        text-align: right;\n",
       "    }\n",
       "</style>\n",
       "<table border=\"1\" class=\"dataframe\">\n",
       "  <thead>\n",
       "    <tr style=\"text-align: right;\">\n",
       "      <th></th>\n",
       "      <th>0</th>\n",
       "      <th>1</th>\n",
       "      <th>2</th>\n",
       "      <th>3</th>\n",
       "      <th>4</th>\n",
       "      <th>5</th>\n",
       "      <th>6</th>\n",
       "      <th>7</th>\n",
       "      <th>8</th>\n",
       "      <th>9</th>\n",
       "      <th>...</th>\n",
       "      <th>90</th>\n",
       "      <th>91</th>\n",
       "      <th>92</th>\n",
       "      <th>93</th>\n",
       "      <th>94</th>\n",
       "      <th>95</th>\n",
       "      <th>96</th>\n",
       "      <th>97</th>\n",
       "      <th>98</th>\n",
       "      <th>99</th>\n",
       "    </tr>\n",
       "  </thead>\n",
       "  <tbody>\n",
       "    <tr>\n",
       "      <th>0</th>\n",
       "      <td>-1.857016</td>\n",
       "      <td>1.671649</td>\n",
       "      <td>-2.219181</td>\n",
       "      <td>-1.935298</td>\n",
       "      <td>-1.380394</td>\n",
       "      <td>-2.240830</td>\n",
       "      <td>-1.785253</td>\n",
       "      <td>0.877475</td>\n",
       "      <td>-2.233712</td>\n",
       "      <td>-1.132409</td>\n",
       "      <td>...</td>\n",
       "      <td>0.772232</td>\n",
       "      <td>-0.055329</td>\n",
       "      <td>-0.362193</td>\n",
       "      <td>-0.184043</td>\n",
       "      <td>-0.175922</td>\n",
       "      <td>-0.140401</td>\n",
       "      <td>-1.973424</td>\n",
       "      <td>-0.026858</td>\n",
       "      <td>-0.041444</td>\n",
       "      <td>-0.160954</td>\n",
       "    </tr>\n",
       "    <tr>\n",
       "      <th>1</th>\n",
       "      <td>0.789494</td>\n",
       "      <td>-0.180277</td>\n",
       "      <td>1.372710</td>\n",
       "      <td>1.315712</td>\n",
       "      <td>-0.432101</td>\n",
       "      <td>-2.505530</td>\n",
       "      <td>-0.160595</td>\n",
       "      <td>-1.083559</td>\n",
       "      <td>2.200591</td>\n",
       "      <td>1.667223</td>\n",
       "      <td>...</td>\n",
       "      <td>0.772232</td>\n",
       "      <td>-1.619456</td>\n",
       "      <td>-0.453066</td>\n",
       "      <td>2.083674</td>\n",
       "      <td>-0.233389</td>\n",
       "      <td>-0.859977</td>\n",
       "      <td>0.712411</td>\n",
       "      <td>0.070600</td>\n",
       "      <td>-1.367650</td>\n",
       "      <td>0.167461</td>\n",
       "    </tr>\n",
       "    <tr>\n",
       "      <th>2</th>\n",
       "      <td>-0.117881</td>\n",
       "      <td>-0.121130</td>\n",
       "      <td>-0.053284</td>\n",
       "      <td>0.181880</td>\n",
       "      <td>1.672963</td>\n",
       "      <td>1.814094</td>\n",
       "      <td>1.578074</td>\n",
       "      <td>1.929134</td>\n",
       "      <td>-0.004146</td>\n",
       "      <td>-0.179172</td>\n",
       "      <td>...</td>\n",
       "      <td>-0.192459</td>\n",
       "      <td>-0.055329</td>\n",
       "      <td>-0.362193</td>\n",
       "      <td>2.435660</td>\n",
       "      <td>-0.175922</td>\n",
       "      <td>-0.140401</td>\n",
       "      <td>-0.233349</td>\n",
       "      <td>-0.026858</td>\n",
       "      <td>-0.041444</td>\n",
       "      <td>-0.160954</td>\n",
       "    </tr>\n",
       "    <tr>\n",
       "      <th>3</th>\n",
       "      <td>-0.117881</td>\n",
       "      <td>1.581908</td>\n",
       "      <td>-0.053284</td>\n",
       "      <td>0.181880</td>\n",
       "      <td>0.339079</td>\n",
       "      <td>1.560803</td>\n",
       "      <td>-0.532913</td>\n",
       "      <td>1.298139</td>\n",
       "      <td>-0.004146</td>\n",
       "      <td>0.189306</td>\n",
       "      <td>...</td>\n",
       "      <td>-0.192459</td>\n",
       "      <td>-0.055329</td>\n",
       "      <td>-0.362193</td>\n",
       "      <td>-0.031131</td>\n",
       "      <td>-0.175922</td>\n",
       "      <td>-0.140401</td>\n",
       "      <td>-0.233349</td>\n",
       "      <td>-0.026858</td>\n",
       "      <td>-0.041444</td>\n",
       "      <td>-0.160954</td>\n",
       "    </tr>\n",
       "    <tr>\n",
       "      <th>4</th>\n",
       "      <td>1.772484</td>\n",
       "      <td>0.819110</td>\n",
       "      <td>-0.988252</td>\n",
       "      <td>-1.216599</td>\n",
       "      <td>0.257903</td>\n",
       "      <td>0.063882</td>\n",
       "      <td>1.223570</td>\n",
       "      <td>0.968206</td>\n",
       "      <td>-0.113390</td>\n",
       "      <td>0.968316</td>\n",
       "      <td>...</td>\n",
       "      <td>1.582983</td>\n",
       "      <td>1.707868</td>\n",
       "      <td>0.975838</td>\n",
       "      <td>1.313343</td>\n",
       "      <td>1.557140</td>\n",
       "      <td>0.380786</td>\n",
       "      <td>0.727864</td>\n",
       "      <td>1.850639</td>\n",
       "      <td>0.511142</td>\n",
       "      <td>0.330133</td>\n",
       "    </tr>\n",
       "  </tbody>\n",
       "</table>\n",
       "<p>5 rows × 100 columns</p>\n",
       "</div>"
      ],
      "text/plain": [
       "         0         1         2         3         4         5         6   \\\n",
       "0 -1.857016  1.671649 -2.219181 -1.935298 -1.380394 -2.240830 -1.785253   \n",
       "1  0.789494 -0.180277  1.372710  1.315712 -0.432101 -2.505530 -0.160595   \n",
       "2 -0.117881 -0.121130 -0.053284  0.181880  1.672963  1.814094  1.578074   \n",
       "3 -0.117881  1.581908 -0.053284  0.181880  0.339079  1.560803 -0.532913   \n",
       "4  1.772484  0.819110 -0.988252 -1.216599  0.257903  0.063882  1.223570   \n",
       "\n",
       "         7         8         9   ...        90        91        92        93  \\\n",
       "0  0.877475 -2.233712 -1.132409  ...  0.772232 -0.055329 -0.362193 -0.184043   \n",
       "1 -1.083559  2.200591  1.667223  ...  0.772232 -1.619456 -0.453066  2.083674   \n",
       "2  1.929134 -0.004146 -0.179172  ... -0.192459 -0.055329 -0.362193  2.435660   \n",
       "3  1.298139 -0.004146  0.189306  ... -0.192459 -0.055329 -0.362193 -0.031131   \n",
       "4  0.968206 -0.113390  0.968316  ...  1.582983  1.707868  0.975838  1.313343   \n",
       "\n",
       "         94        95        96        97        98        99  \n",
       "0 -0.175922 -0.140401 -1.973424 -0.026858 -0.041444 -0.160954  \n",
       "1 -0.233389 -0.859977  0.712411  0.070600 -1.367650  0.167461  \n",
       "2 -0.175922 -0.140401 -0.233349 -0.026858 -0.041444 -0.160954  \n",
       "3 -0.175922 -0.140401 -0.233349 -0.026858 -0.041444 -0.160954  \n",
       "4  1.557140  0.380786  0.727864  1.850639  0.511142  0.330133  \n",
       "\n",
       "[5 rows x 100 columns]"
      ]
     },
     "execution_count": 429,
     "metadata": {},
     "output_type": "execute_result"
    }
   ],
   "source": [
    "ratings_diff=pd.DataFrame(ratings_diff)\n",
    "ratings_diff.head()"
   ]
  },
  {
   "cell_type": "code",
   "execution_count": 430,
   "metadata": {
    "colab": {},
    "colab_type": "code",
    "id": "aTEmPpRTlGwX"
   },
   "outputs": [],
   "source": [
    "mean_diff=ratings_diff.mean()"
   ]
  },
  {
   "cell_type": "code",
   "execution_count": 431,
   "metadata": {},
   "outputs": [
    {
     "data": {
      "text/plain": [
       "pandas.core.series.Series"
      ]
     },
     "execution_count": 431,
     "metadata": {},
     "output_type": "execute_result"
    }
   ],
   "source": [
    "type(mean_diff)"
   ]
  },
  {
   "cell_type": "code",
   "execution_count": 432,
   "metadata": {},
   "outputs": [
    {
     "data": {
      "text/plain": [
       "98    1.840889e-16\n",
       "81    1.243450e-16\n",
       "97    1.198694e-16\n",
       "20    1.065814e-16\n",
       "94    1.054712e-16\n",
       "92    8.770762e-17\n",
       "47    7.771561e-17\n",
       "73    7.743806e-17\n",
       "99    7.549517e-17\n",
       "49    7.494005e-17\n",
       "dtype: float64"
      ]
     },
     "execution_count": 432,
     "metadata": {},
     "output_type": "execute_result"
    }
   ],
   "source": [
    "mean_diff.sort_values(ascending=False).head(10)"
   ]
  },
  {
   "cell_type": "code",
   "execution_count": null,
   "metadata": {},
   "outputs": [],
   "source": []
  }
 ],
 "metadata": {
  "colab": {
   "name": "R5_Internal_Lab_PCA_CBRS_PBRS.ipynb",
   "provenance": [],
   "version": "0.3.2"
  },
  "kernelspec": {
   "display_name": "Python 3",
   "language": "python",
   "name": "python3"
  },
  "language_info": {
   "codemirror_mode": {
    "name": "ipython",
    "version": 3
   },
   "file_extension": ".py",
   "mimetype": "text/x-python",
   "name": "python",
   "nbconvert_exporter": "python",
   "pygments_lexer": "ipython3",
   "version": "3.6.5"
  }
 },
 "nbformat": 4,
 "nbformat_minor": 1
}
