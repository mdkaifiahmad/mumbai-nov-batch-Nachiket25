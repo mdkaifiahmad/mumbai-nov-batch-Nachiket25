{
 "cells": [
  {
   "cell_type": "markdown",
   "metadata": {
    "colab_type": "text",
    "id": "2kIWaR5ZpKlJ"
   },
   "source": [
    "## Dog Breed Classification\n",
    "\n",
    "In this project we will use traditional CNN, CNN with data augmentation and finally transfer Learning by VGG16 model with weights pre-trained on Imagenet to solve the dog breed classification problem"
   ]
  },
  {
   "cell_type": "markdown",
   "metadata": {
    "colab_type": "text",
    "id": "F7MDmaAw2xGO"
   },
   "source": [
    "### Load Dataset Files"
   ]
  },
  {
   "cell_type": "code",
   "execution_count": 1,
   "metadata": {
    "colab": {
     "base_uri": "https://localhost:8080/",
     "height": 121
    },
    "colab_type": "code",
    "id": "BZWpQv1OwqYK",
    "outputId": "02b58d03-339e-4126-ee0c-c6d14ecc02c7"
   },
   "outputs": [
    {
     "name": "stdout",
     "output_type": "stream",
     "text": [
      "Go to this URL in a browser: https://accounts.google.com/o/oauth2/auth?client_id=947318989803-6bn6qk8qdgf4n4g3pfee6491hc0brc4i.apps.googleusercontent.com&redirect_uri=urn%3Aietf%3Awg%3Aoauth%3A2.0%3Aoob&scope=email%20https%3A%2F%2Fwww.googleapis.com%2Fauth%2Fdocs.test%20https%3A%2F%2Fwww.googleapis.com%2Fauth%2Fdrive%20https%3A%2F%2Fwww.googleapis.com%2Fauth%2Fdrive.photos.readonly%20https%3A%2F%2Fwww.googleapis.com%2Fauth%2Fpeopleapi.readonly&response_type=code\n",
      "\n",
      "Enter your authorization code:\n",
      "··········\n",
      "Mounted at /content/drive\n"
     ]
    }
   ],
   "source": [
    "from google.colab import drive\n",
    "drive.mount('/content/drive')"
   ]
  },
  {
   "cell_type": "code",
   "execution_count": 0,
   "metadata": {
    "colab": {},
    "colab_type": "code",
    "id": "fVhB9OopxFbX"
   },
   "outputs": [],
   "source": []
  },
  {
   "cell_type": "markdown",
   "metadata": {
    "colab_type": "text",
    "id": "1q2zzIaUprk_"
   },
   "source": [
    "Now, upload the given dataset file shared with you in your google drive and give its path for the below given `project_path` variable. For example, a path is given below according to the file path in our google drive. You need to change this to match the path of yours."
   ]
  },
  {
   "cell_type": "code",
   "execution_count": 0,
   "metadata": {
    "colab": {},
    "colab_type": "code",
    "id": "Tp6FvAToxUFs"
   },
   "outputs": [],
   "source": [
    "project_path = \"/content/drive\""
   ]
  },
  {
   "cell_type": "markdown",
   "metadata": {
    "colab_type": "text",
    "id": "rydR_j8lqUei"
   },
   "source": [
    "Run the below code to extract all the images in the train.zip files given in the dataset. We are going to use these images as train and validation sets and their labels in further steps."
   ]
  },
  {
   "cell_type": "code",
   "execution_count": 0,
   "metadata": {
    "colab": {},
    "colab_type": "code",
    "id": "3350WZM4w4EL"
   },
   "outputs": [],
   "source": [
    "from zipfile import ZipFile\n",
    "with ZipFile(project_path+'train.zip', 'r') as z:\n",
    "  z.extractall()"
   ]
  },
  {
   "cell_type": "markdown",
   "metadata": {
    "colab_type": "text",
    "id": "3NHq1iBCfFjE"
   },
   "source": [
    "Repeat the same step for test.zip"
   ]
  },
  {
   "cell_type": "code",
   "execution_count": 0,
   "metadata": {
    "colab": {},
    "colab_type": "code",
    "id": "_fxzynvB2YCb"
   },
   "outputs": [],
   "source": [
    "from zipfile import ZipFile\n",
    "with ZipFile(project_path+'test.zip', 'r') as z:\n",
    "  z.extractall()"
   ]
  },
  {
   "cell_type": "markdown",
   "metadata": {
    "colab_type": "text",
    "id": "jnUMhQrDfJmz"
   },
   "source": [
    "Repeat the same step for sample_submission.csv.zip"
   ]
  },
  {
   "cell_type": "code",
   "execution_count": 0,
   "metadata": {
    "colab": {},
    "colab_type": "code",
    "id": "4PyTxE8q2jLf"
   },
   "outputs": [],
   "source": [
    "from zipfile import ZipFile\n",
    "with ZipFile(project_path+'sample_submission.csv.zip', 'r') as z:\n",
    "  z.extractall()"
   ]
  },
  {
   "cell_type": "markdown",
   "metadata": {
    "colab_type": "text",
    "id": "2G9RIxB-fOLT"
   },
   "source": [
    "Repeat the same step for labels.csv.zip"
   ]
  },
  {
   "cell_type": "code",
   "execution_count": 0,
   "metadata": {
    "colab": {},
    "colab_type": "code",
    "id": "rXtnEoEixbgi"
   },
   "outputs": [],
   "source": [
    "from zipfile import ZipFile\n",
    "with ZipFile(project_path+'labels.csv.zip', 'r') as z:\n",
    "  z.extractall()"
   ]
  },
  {
   "cell_type": "markdown",
   "metadata": {
    "colab_type": "text",
    "id": "sJc1lVrW_jmL"
   },
   "source": [
    "After this process, we will have 4 files - Train folder, test folder and labels.csv and sample_submission.csv as part of your google drive"
   ]
  },
  {
   "cell_type": "markdown",
   "metadata": {
    "colab_type": "text",
    "id": "aYmJKmDqqpng"
   },
   "source": [
    "### Read labels.csv file using pandas"
   ]
  },
  {
   "cell_type": "code",
   "execution_count": 0,
   "metadata": {
    "colab": {},
    "colab_type": "code",
    "id": "WmlJ2VMY96IZ"
   },
   "outputs": [],
   "source": [
    "import pandas as pd"
   ]
  },
  {
   "cell_type": "code",
   "execution_count": 0,
   "metadata": {
    "colab": {},
    "colab_type": "code",
    "id": "hPvb1RSc96If"
   },
   "outputs": [],
   "source": [
    "labels = pd.read_csv('labels.csv')"
   ]
  },
  {
   "cell_type": "code",
   "execution_count": 9,
   "metadata": {
    "colab": {
     "base_uri": "https://localhost:8080/",
     "height": 195
    },
    "colab_type": "code",
    "id": "fa9tQt1k1Ubj",
    "outputId": "5a3e4d99-26fa-4179-a2a6-2419b71f6b0e"
   },
   "outputs": [
    {
     "data": {
      "text/html": [
       "<div>\n",
       "<style scoped>\n",
       "    .dataframe tbody tr th:only-of-type {\n",
       "        vertical-align: middle;\n",
       "    }\n",
       "\n",
       "    .dataframe tbody tr th {\n",
       "        vertical-align: top;\n",
       "    }\n",
       "\n",
       "    .dataframe thead th {\n",
       "        text-align: right;\n",
       "    }\n",
       "</style>\n",
       "<table border=\"1\" class=\"dataframe\">\n",
       "  <thead>\n",
       "    <tr style=\"text-align: right;\">\n",
       "      <th></th>\n",
       "      <th>id</th>\n",
       "      <th>breed</th>\n",
       "    </tr>\n",
       "  </thead>\n",
       "  <tbody>\n",
       "    <tr>\n",
       "      <th>5862</th>\n",
       "      <td>93e99e11f97f9f31f0a68f91e955fbe1</td>\n",
       "      <td>silky_terrier</td>\n",
       "    </tr>\n",
       "    <tr>\n",
       "      <th>3630</th>\n",
       "      <td>5a25f43e06fbe8a29d47efaf697eaf95</td>\n",
       "      <td>standard_schnauzer</td>\n",
       "    </tr>\n",
       "    <tr>\n",
       "      <th>5695</th>\n",
       "      <td>8fa8a4c1355b991d8641c8fcd471e9b3</td>\n",
       "      <td>saint_bernard</td>\n",
       "    </tr>\n",
       "    <tr>\n",
       "      <th>8453</th>\n",
       "      <td>d446ebae35501cfb48832e81db2e49d9</td>\n",
       "      <td>papillon</td>\n",
       "    </tr>\n",
       "    <tr>\n",
       "      <th>6623</th>\n",
       "      <td>a67ec52536eb7e8c71c9c9d41b9f1de2</td>\n",
       "      <td>german_shepherd</td>\n",
       "    </tr>\n",
       "  </tbody>\n",
       "</table>\n",
       "</div>"
      ],
      "text/plain": [
       "                                    id               breed\n",
       "5862  93e99e11f97f9f31f0a68f91e955fbe1       silky_terrier\n",
       "3630  5a25f43e06fbe8a29d47efaf697eaf95  standard_schnauzer\n",
       "5695  8fa8a4c1355b991d8641c8fcd471e9b3       saint_bernard\n",
       "8453  d446ebae35501cfb48832e81db2e49d9            papillon\n",
       "6623  a67ec52536eb7e8c71c9c9d41b9f1de2     german_shepherd"
      ]
     },
     "execution_count": 9,
     "metadata": {
      "tags": []
     },
     "output_type": "execute_result"
    }
   ],
   "source": [
    "labels.sample(5)"
   ]
  },
  {
   "cell_type": "code",
   "execution_count": 0,
   "metadata": {
    "colab": {},
    "colab_type": "code",
    "id": "-2qaKvkZ1U1Q"
   },
   "outputs": [],
   "source": []
  },
  {
   "cell_type": "markdown",
   "metadata": {
    "colab_type": "text",
    "id": "QP8YAzQvqyK-"
   },
   "source": [
    "### Print the count of each category of Dogs given in the dataset\n",
    "\n"
   ]
  },
  {
   "cell_type": "code",
   "execution_count": 10,
   "metadata": {
    "colab": {
     "base_uri": "https://localhost:8080/",
     "height": 1000
    },
    "colab_type": "code",
    "id": "3L2naXlr96Im",
    "outputId": "f917e8db-0c8a-487b-e3cc-c6b40b5cbd14"
   },
   "outputs": [
    {
     "data": {
      "text/plain": [
       "scottish_deerhound                126\n",
       "maltese_dog                       117\n",
       "afghan_hound                      116\n",
       "entlebucher                       115\n",
       "bernese_mountain_dog              114\n",
       "shih-tzu                          112\n",
       "pomeranian                        111\n",
       "great_pyrenees                    111\n",
       "basenji                           110\n",
       "samoyed                           109\n",
       "airedale                          107\n",
       "tibetan_terrier                   107\n",
       "cairn                             106\n",
       "leonberg                          106\n",
       "beagle                            105\n",
       "japanese_spaniel                  105\n",
       "miniature_pinscher                102\n",
       "australian_terrier                102\n",
       "blenheim_spaniel                  102\n",
       "irish_wolfhound                   101\n",
       "lakeland_terrier                   99\n",
       "saluki                             99\n",
       "papillon                           96\n",
       "norwegian_elkhound                 95\n",
       "siberian_husky                     95\n",
       "whippet                            95\n",
       "pug                                94\n",
       "chow                               93\n",
       "pembroke                           92\n",
       "italian_greyhound                  92\n",
       "                                 ... \n",
       "great_dane                         75\n",
       "german_short-haired_pointer        75\n",
       "borzoi                             75\n",
       "pekinese                           75\n",
       "bull_mastiff                       75\n",
       "american_staffordshire_terrier     74\n",
       "cocker_spaniel                     74\n",
       "doberman                           74\n",
       "malinois                           73\n",
       "brittany_spaniel                   73\n",
       "standard_schnauzer                 72\n",
       "curly-coated_retriever             72\n",
       "redbone                            72\n",
       "flat-coated_retriever              72\n",
       "border_collie                      72\n",
       "soft-coated_wheaten_terrier        71\n",
       "chihuahua                          71\n",
       "kuvasz                             71\n",
       "vizsla                             70\n",
       "french_bulldog                     70\n",
       "giant_schnauzer                    69\n",
       "otterhound                         69\n",
       "walker_hound                       69\n",
       "tibetan_mastiff                    69\n",
       "german_shepherd                    69\n",
       "brabancon_griffon                  67\n",
       "golden_retriever                   67\n",
       "komondor                           67\n",
       "eskimo_dog                         66\n",
       "briard                             66\n",
       "Name: breed, Length: 120, dtype: int64"
      ]
     },
     "execution_count": 10,
     "metadata": {
      "tags": []
     },
     "output_type": "execute_result"
    }
   ],
   "source": [
    "labels.breed.value_counts()"
   ]
  },
  {
   "cell_type": "code",
   "execution_count": 0,
   "metadata": {
    "colab": {},
    "colab_type": "code",
    "id": "CLm3W5RN96Ir"
   },
   "outputs": [],
   "source": []
  },
  {
   "cell_type": "markdown",
   "metadata": {
    "colab_type": "text",
    "id": "WI94_Qcc0D4M"
   },
   "source": [
    "### Get one-hot encodings of labels"
   ]
  },
  {
   "cell_type": "code",
   "execution_count": 0,
   "metadata": {
    "colab": {},
    "colab_type": "code",
    "id": "Q48iAcY196I3"
   },
   "outputs": [],
   "source": [
    "from sklearn.preprocessing import LabelEncoder\n",
    "le = LabelEncoder()"
   ]
  },
  {
   "cell_type": "code",
   "execution_count": 0,
   "metadata": {
    "colab": {},
    "colab_type": "code",
    "id": "9nlWmRNM96I8"
   },
   "outputs": [],
   "source": [
    "labels['breed_encode'] = le.fit_transform(labels['breed'])\n",
    "labels['breed_encode']=labels['breed_encode'].astype('str')"
   ]
  },
  {
   "cell_type": "code",
   "execution_count": 0,
   "metadata": {
    "colab": {},
    "colab_type": "code",
    "id": "CmhDZ9OnC15n"
   },
   "outputs": [],
   "source": []
  },
  {
   "cell_type": "code",
   "execution_count": 0,
   "metadata": {
    "colab": {},
    "colab_type": "code",
    "id": "ke1MCRlx_wPl"
   },
   "outputs": [],
   "source": []
  },
  {
   "cell_type": "code",
   "execution_count": 0,
   "metadata": {
    "colab": {},
    "colab_type": "code",
    "id": "ycHQdp4DDBwZ"
   },
   "outputs": [],
   "source": []
  },
  {
   "cell_type": "code",
   "execution_count": 0,
   "metadata": {
    "colab": {},
    "colab_type": "code",
    "id": "GsiIPQdsDKpe"
   },
   "outputs": [],
   "source": []
  },
  {
   "cell_type": "markdown",
   "metadata": {
    "colab_type": "text",
    "id": "VWaJ9naXfoiU"
   },
   "source": [
    "## Preparing training dataset\n",
    "1. Write a code which reads each and every id from labels.csv file and loads the corresponding image (in RGB - 128, 128, 3) from the train folder. <br>\n",
    "2. Create 2 variables <br> \n",
    "     a.  x_train - Should have all the images of the dogs from train folder <br>\n",
    "     b.  y_train - Corresponding label of the dog <br>\n",
    "<u>Note:</u> The id of the dog images and its corresponding labels are available in labels.csv file   \n",
    "<u>Hint:</u> Watch the video shared on \"Preparing the training dataset\" if you face issue on creating the training dataset"
   ]
  },
  {
   "cell_type": "code",
   "execution_count": 0,
   "metadata": {
    "colab": {},
    "colab_type": "code",
    "id": "aC2f9ecR0XGR"
   },
   "outputs": [],
   "source": [
    "labels_o = labels.drop('breed',axis=1)"
   ]
  },
  {
   "cell_type": "code",
   "execution_count": 0,
   "metadata": {
    "colab": {},
    "colab_type": "code",
    "id": "nkkZEpOe0ipk"
   },
   "outputs": [],
   "source": [
    "import cv2\n",
    "from tqdm import tqdm"
   ]
  },
  {
   "cell_type": "code",
   "execution_count": 0,
   "metadata": {
    "colab": {},
    "colab_type": "code",
    "id": "zb9PAWctFcGb"
   },
   "outputs": [],
   "source": [
    "x_train_features = []\n",
    "y_train_results = []\n",
    "img_rows = 128\n",
    "img_cols = 128\n",
    "num_channels = 3"
   ]
  },
  {
   "cell_type": "code",
   "execution_count": 20,
   "metadata": {
    "colab": {
     "base_uri": "https://localhost:8080/",
     "height": 34
    },
    "colab_type": "code",
    "id": "0Tq7cJ3jFcZv",
    "outputId": "5615e65b-0e53-4542-b212-1da6f4275e97"
   },
   "outputs": [
    {
     "name": "stderr",
     "output_type": "stream",
     "text": [
      "100%|██████████| 10222/10222 [00:25<00:00, 404.13it/s]\n"
     ]
    }
   ],
   "source": [
    "for f,img in tqdm(labels_o.values):\n",
    "    train_img = cv2.imread('./train/{}.jpg'.format(f),1)\n",
    "    train_img_resize = cv2.resize(train_img,(img_rows,img_cols))\n",
    "    x_train_features.append(train_img_resize) # x_train data set\n",
    "    y_train_results.append(img) #  y_train data set"
   ]
  },
  {
   "cell_type": "code",
   "execution_count": 21,
   "metadata": {
    "colab": {
     "base_uri": "https://localhost:8080/",
     "height": 286
    },
    "colab_type": "code",
    "id": "lQFNq_t0Fit_",
    "outputId": "8bff3938-1a87-42ed-faa5-2a1ad7bcfdfc"
   },
   "outputs": [
    {
     "data": {
      "text/plain": [
       "<matplotlib.image.AxesImage at 0x7fe0f4dd4b38>"
      ]
     },
     "execution_count": 21,
     "metadata": {
      "tags": []
     },
     "output_type": "execute_result"
    },
    {
     "data": {
      "image/png": "[encoded data removed]",
      "text/plain": [
       "<Figure size 432x288 with 1 Axes>"
      ]
     },
     "metadata": {
      "tags": []
     },
     "output_type": "display_data"
    }
   ],
   "source": [
    "import matplotlib.pyplot as plt\n",
    "plt.imshow(x_train_features[0])"
   ]
  },
  {
   "cell_type": "code",
   "execution_count": 22,
   "metadata": {
    "colab": {
     "base_uri": "https://localhost:8080/",
     "height": 34
    },
    "colab_type": "code",
    "id": "6G3D8CCdFjLL",
    "outputId": "24a25d46-257e-4569-b5ee-4920e4140123"
   },
   "outputs": [
    {
     "data": {
      "text/plain": [
       "'19'"
      ]
     },
     "execution_count": 22,
     "metadata": {
      "tags": []
     },
     "output_type": "execute_result"
    }
   ],
   "source": [
    "y_train_results[0]"
   ]
  },
  {
   "cell_type": "code",
   "execution_count": 0,
   "metadata": {
    "colab": {},
    "colab_type": "code",
    "id": "pmFc5uSGFjaF"
   },
   "outputs": [],
   "source": []
  },
  {
   "cell_type": "markdown",
   "metadata": {
    "colab_type": "text",
    "id": "6ioWDEgElBOs"
   },
   "source": [
    "Normalize the training data and convert into 4 dimensions so that it can be used as an input to conv layers in the model"
   ]
  },
  {
   "cell_type": "code",
   "execution_count": 0,
   "metadata": {
    "colab": {},
    "colab_type": "code",
    "id": "ARn76j3U1CDa"
   },
   "outputs": [],
   "source": [
    "import numpy as np\n",
    "x_train_features = np.array(x_train_features)"
   ]
  },
  {
   "cell_type": "code",
   "execution_count": 0,
   "metadata": {
    "colab": {},
    "colab_type": "code",
    "id": "qVzS_FyzFtEx"
   },
   "outputs": [],
   "source": [
    "x_train_features = x_train_features.astype('float32')\n",
    "x_train_features = x_train_features/255.0"
   ]
  },
  {
   "cell_type": "code",
   "execution_count": 25,
   "metadata": {
    "colab": {
     "base_uri": "https://localhost:8080/",
     "height": 34
    },
    "colab_type": "code",
    "id": "jy1NEZkpFtTH",
    "outputId": "e90629cf-f4bd-40a2-aa2b-5da275a620f5"
   },
   "outputs": [
    {
     "data": {
      "text/plain": [
       "(10222, 128, 128, 3)"
      ]
     },
     "execution_count": 25,
     "metadata": {
      "tags": []
     },
     "output_type": "execute_result"
    }
   ],
   "source": [
    "x_train_features.shape"
   ]
  },
  {
   "cell_type": "code",
   "execution_count": 0,
   "metadata": {
    "colab": {},
    "colab_type": "code",
    "id": "Vpr5XdlnFthA"
   },
   "outputs": [],
   "source": [
    "y_train_results = np.array(y_train_results)"
   ]
  },
  {
   "cell_type": "code",
   "execution_count": 27,
   "metadata": {
    "colab": {
     "base_uri": "https://localhost:8080/",
     "height": 34
    },
    "colab_type": "code",
    "id": "93Of3zvBFzvB",
    "outputId": "a7379502-138d-4900-e72b-124ca28b7a0e"
   },
   "outputs": [
    {
     "data": {
      "text/plain": [
       "(10222,)"
      ]
     },
     "execution_count": 27,
     "metadata": {
      "tags": []
     },
     "output_type": "execute_result"
    }
   ],
   "source": [
    "y_train_results.shape"
   ]
  },
  {
   "cell_type": "code",
   "execution_count": 0,
   "metadata": {
    "colab": {},
    "colab_type": "code",
    "id": "w5kS8FnWFz9d"
   },
   "outputs": [],
   "source": []
  },
  {
   "cell_type": "code",
   "execution_count": 0,
   "metadata": {
    "colab": {},
    "colab_type": "code",
    "id": "jU03XtasF0LD"
   },
   "outputs": [],
   "source": []
  },
  {
   "cell_type": "markdown",
   "metadata": {
    "colab_type": "text",
    "id": "bdCXuAE11gZL"
   },
   "source": [
    "### Split the training and validation data from `x_train_data` and `y_train_data` obtained from above step"
   ]
  },
  {
   "cell_type": "code",
   "execution_count": 28,
   "metadata": {
    "colab": {
     "base_uri": "https://localhost:8080/",
     "height": 34
    },
    "colab_type": "code",
    "id": "kpWx-pgV96Jv",
    "outputId": "3b65343c-65aa-4f7e-9186-523328924d42"
   },
   "outputs": [
    {
     "name": "stderr",
     "output_type": "stream",
     "text": [
      "Using TensorFlow backend.\n"
     ]
    }
   ],
   "source": [
    "from sklearn.model_selection import train_test_split\n",
    "from keras.utils import np_utils"
   ]
  },
  {
   "cell_type": "code",
   "execution_count": 0,
   "metadata": {
    "colab": {},
    "colab_type": "code",
    "id": "3Dxo9V_pGAqi"
   },
   "outputs": [],
   "source": [
    "(Xtrain,Xval,Ytrain,Yval) = train_test_split(x_train_features,y_train_results,test_size=0.20)"
   ]
  },
  {
   "cell_type": "code",
   "execution_count": 0,
   "metadata": {
    "colab": {},
    "colab_type": "code",
    "id": "GZwpIutsGA5E"
   },
   "outputs": [],
   "source": [
    "Ytrain = np_utils.to_categorical(Ytrain, num_classes=120)\n",
    "Yval = np_utils.to_categorical(Yval,num_classes =120)"
   ]
  },
  {
   "cell_type": "code",
   "execution_count": 0,
   "metadata": {
    "colab": {},
    "colab_type": "code",
    "id": "LSMPaALfGBFs"
   },
   "outputs": [],
   "source": []
  },
  {
   "cell_type": "markdown",
   "metadata": {
    "colab_type": "text",
    "id": "XkL-N1jDsU8m"
   },
   "source": [
    "### Loading the test data\n",
    "Read the id column from the samples_submission.csv and store it in test_img"
   ]
  },
  {
   "cell_type": "code",
   "execution_count": 0,
   "metadata": {
    "colab": {},
    "colab_type": "code",
    "id": "DnpXdpd9b3E7"
   },
   "outputs": [],
   "source": [
    "samples = pd.read_csv('sample_submission.csv')"
   ]
  },
  {
   "cell_type": "code",
   "execution_count": 32,
   "metadata": {
    "colab": {
     "base_uri": "https://localhost:8080/",
     "height": 151
    },
    "colab_type": "code",
    "id": "H6Q5X5tGGXyN",
    "outputId": "62220577-8825-4bef-f84a-f9269ed785f0"
   },
   "outputs": [
    {
     "data": {
      "text/plain": [
       "Index(['id', 'affenpinscher', 'afghan_hound', 'african_hunting_dog',\n",
       "       'airedale', 'american_staffordshire_terrier', 'appenzeller',\n",
       "       'australian_terrier', 'basenji', 'basset',\n",
       "       ...\n",
       "       'toy_poodle', 'toy_terrier', 'vizsla', 'walker_hound', 'weimaraner',\n",
       "       'welsh_springer_spaniel', 'west_highland_white_terrier', 'whippet',\n",
       "       'wire-haired_fox_terrier', 'yorkshire_terrier'],\n",
       "      dtype='object', length=121)"
      ]
     },
     "execution_count": 32,
     "metadata": {
      "tags": []
     },
     "output_type": "execute_result"
    }
   ],
   "source": [
    "samples.columns"
   ]
  },
  {
   "cell_type": "code",
   "execution_count": 0,
   "metadata": {
    "colab": {},
    "colab_type": "code",
    "id": "iW6diJ3uGX-1"
   },
   "outputs": [],
   "source": [
    "test_img = samples['id']"
   ]
  },
  {
   "cell_type": "code",
   "execution_count": 34,
   "metadata": {
    "colab": {
     "base_uri": "https://localhost:8080/",
     "height": 118
    },
    "colab_type": "code",
    "id": "0E1EW541GYLU",
    "outputId": "cc4e9a36-1524-4996-dd76-74a3fedbfa40"
   },
   "outputs": [
    {
     "data": {
      "text/plain": [
       "0    000621fb3cbb32d8935728e48679680e\n",
       "1    00102ee9d8eb90812350685311fe5890\n",
       "2    0012a730dfa437f5f3613fb75efcd4ce\n",
       "3    001510bc8570bbeee98c8d80c8a95ec1\n",
       "4    001a5f3114548acdefa3d4da05474c2e\n",
       "Name: id, dtype: object"
      ]
     },
     "execution_count": 34,
     "metadata": {
      "tags": []
     },
     "output_type": "execute_result"
    }
   ],
   "source": [
    "test_img.head(5)"
   ]
  },
  {
   "cell_type": "code",
   "execution_count": 0,
   "metadata": {
    "colab": {},
    "colab_type": "code",
    "id": "-L86aUK9GfiC"
   },
   "outputs": [],
   "source": []
  },
  {
   "cell_type": "markdown",
   "metadata": {
    "colab_type": "text",
    "id": "DEJqZIMbm0Jo"
   },
   "source": [
    "Run the below code to load the test image files in x_test_feature"
   ]
  },
  {
   "cell_type": "code",
   "execution_count": 35,
   "metadata": {
    "colab": {
     "base_uri": "https://localhost:8080/",
     "height": 34
    },
    "colab_type": "code",
    "id": "zf7n4WG-b3Hv",
    "outputId": "307461c6-5e72-4683-e40c-2e0456949bd3"
   },
   "outputs": [
    {
     "name": "stderr",
     "output_type": "stream",
     "text": [
      "100%|██████████| 10357/10357 [00:13<00:00, 752.69it/s]\n"
     ]
    }
   ],
   "source": [
    "x_test_feature = []\n",
    "i = 0 # initialisation\n",
    "for f in tqdm(test_img.values): # f for format ,jpg\n",
    "    img = cv2.imread('./test/{}.jpg'.format(f), 0)\n",
    "    img_resize = cv2.resize(img, (img_rows, img_cols)) \n",
    "    x_test_feature.append(img_resize)"
   ]
  },
  {
   "cell_type": "markdown",
   "metadata": {
    "colab_type": "text",
    "id": "9My6qSyDnE-_"
   },
   "source": [
    "Normalize the test data and convert it into 4 dimensions"
   ]
  },
  {
   "cell_type": "code",
   "execution_count": 0,
   "metadata": {
    "colab": {},
    "colab_type": "code",
    "id": "93n-IntMnJGI"
   },
   "outputs": [],
   "source": [
    "x_test_feature = np.array(x_test_feature)\n",
    "x_test_feature = x_test_feature.astype('float32')\n",
    "x_test_feature = x_test_feature / 255.0"
   ]
  },
  {
   "cell_type": "markdown",
   "metadata": {
    "colab_type": "text",
    "id": "zKezNJVMsocP"
   },
   "source": [
    "### Build a basic conv neural network with 2 conv layers (kernel sizes - 5 and 3) add layers as mentioned below for classification.\n",
    "\n",
    "1. Add a Dense layer with 256 neurons with `relu` activation\n",
    "\n",
    "2. Add a Dense layer with 120 neurons as final layer (as there are 120 classes in the given dataset) with `softmax` activation for classifiaction. "
   ]
  },
  {
   "cell_type": "code",
   "execution_count": 0,
   "metadata": {
    "colab": {},
    "colab_type": "code",
    "id": "D2jxTY2S96J4"
   },
   "outputs": [],
   "source": [
    "import keras\n",
    "from keras.models import Sequential\n",
    "from keras.layers import Dense,Conv2D,Dropout,Activation,Flatten,MaxPooling2D\n",
    "from keras.optimizers import Adam\n",
    "from keras.losses import categorical_crossentropy"
   ]
  },
  {
   "cell_type": "code",
   "execution_count": 38,
   "metadata": {
    "colab": {
     "base_uri": "https://localhost:8080/",
     "height": 222
    },
    "colab_type": "code",
    "id": "f_BAvCzo96J6",
    "outputId": "ee48a1fc-6450-4078-d055-e06539317828"
   },
   "outputs": [
    {
     "name": "stderr",
     "output_type": "stream",
     "text": [
      "WARNING: Logging before flag parsing goes to stderr.\n",
      "W0630 06:45:15.075165 140605058090880 deprecation_wrapper.py:119] From /usr/local/lib/python3.6/dist-packages/keras/backend/tensorflow_backend.py:74: The name tf.get_default_graph is deprecated. Please use tf.compat.v1.get_default_graph instead.\n",
      "\n",
      "W0630 06:45:15.111786 140605058090880 deprecation_wrapper.py:119] From /usr/local/lib/python3.6/dist-packages/keras/backend/tensorflow_backend.py:517: The name tf.placeholder is deprecated. Please use tf.compat.v1.placeholder instead.\n",
      "\n",
      "W0630 06:45:15.121085 140605058090880 deprecation_wrapper.py:119] From /usr/local/lib/python3.6/dist-packages/keras/backend/tensorflow_backend.py:4138: The name tf.random_uniform is deprecated. Please use tf.random.uniform instead.\n",
      "\n",
      "W0630 06:45:15.210213 140605058090880 deprecation_wrapper.py:119] From /usr/local/lib/python3.6/dist-packages/keras/optimizers.py:790: The name tf.train.Optimizer is deprecated. Please use tf.compat.v1.train.Optimizer instead.\n",
      "\n",
      "W0630 06:45:15.221517 140605058090880 deprecation_wrapper.py:119] From /usr/local/lib/python3.6/dist-packages/keras/backend/tensorflow_backend.py:3295: The name tf.log is deprecated. Please use tf.math.log instead.\n",
      "\n"
     ]
    }
   ],
   "source": [
    "model = Sequential()\n",
    "#Basic 2 conv layers\n",
    "model.add(Conv2D(32,kernel_size=(5,5),padding='same',activation='relu',input_shape =(128,128,3) ,name='conv_1'))\n",
    "model.add(Conv2D(32,kernel_size=(3,3),padding='same',activation='relu',name='conv'))\n",
    "#Dense layers of 256 and 120 neurons fully connected\n",
    "model.add(Flatten())\n",
    "model.add(Dense(256,activation='relu'))\n",
    "model.add(Dense(120,activation='softmax'))\n",
    "          \n",
    "opt = keras.optimizers.adam(lr=0.0001, decay=1e-6)\n",
    "model.compile(optimizer=opt,loss='categorical_crossentropy',metrics=['accuracy'])"
   ]
  },
  {
   "cell_type": "code",
   "execution_count": 39,
   "metadata": {
    "colab": {
     "base_uri": "https://localhost:8080/",
     "height": 302
    },
    "colab_type": "code",
    "id": "yF42gwLTG1AA",
    "outputId": "dd833bc7-3dcb-447e-c62e-2ced03171bd3"
   },
   "outputs": [
    {
     "name": "stdout",
     "output_type": "stream",
     "text": [
      "_________________________________________________________________\n",
      "Layer (type)                 Output Shape              Param #   \n",
      "=================================================================\n",
      "conv_1 (Conv2D)              (None, 128, 128, 32)      2432      \n",
      "_________________________________________________________________\n",
      "conv (Conv2D)                (None, 128, 128, 32)      9248      \n",
      "_________________________________________________________________\n",
      "flatten_1 (Flatten)          (None, 524288)            0         \n",
      "_________________________________________________________________\n",
      "dense_1 (Dense)              (None, 256)               134217984 \n",
      "_________________________________________________________________\n",
      "dense_2 (Dense)              (None, 120)               30840     \n",
      "=================================================================\n",
      "Total params: 134,260,504\n",
      "Trainable params: 134,260,504\n",
      "Non-trainable params: 0\n",
      "_________________________________________________________________\n"
     ]
    }
   ],
   "source": [
    "model.summary()"
   ]
  },
  {
   "cell_type": "markdown",
   "metadata": {
    "colab_type": "text",
    "id": "ui8EXw6_oqpR"
   },
   "source": [
    "### Use batch_size = 128 and epochs = 10 and execute the model"
   ]
  },
  {
   "cell_type": "code",
   "execution_count": 0,
   "metadata": {
    "colab": {},
    "colab_type": "code",
    "id": "IriIc37NozbK"
   },
   "outputs": [],
   "source": [
    "batch_size = 128\n",
    "epochs = 10"
   ]
  },
  {
   "cell_type": "code",
   "execution_count": 41,
   "metadata": {
    "colab": {
     "base_uri": "https://localhost:8080/",
     "height": 474
    },
    "colab_type": "code",
    "id": "0PR9j5_Xozmd",
    "outputId": "c312a0e4-31ed-4b2d-fc92-d7204f5efc02"
   },
   "outputs": [
    {
     "name": "stderr",
     "output_type": "stream",
     "text": [
      "W0630 06:45:45.305685 140605058090880 deprecation.py:323] From /usr/local/lib/python3.6/dist-packages/tensorflow/python/ops/math_grad.py:1250: add_dispatch_support.<locals>.wrapper (from tensorflow.python.ops.array_ops) is deprecated and will be removed in a future version.\n",
      "Instructions for updating:\n",
      "Use tf.where in 2.0, which has the same broadcast rule as np.where\n",
      "W0630 06:45:45.373717 140605058090880 deprecation_wrapper.py:119] From /usr/local/lib/python3.6/dist-packages/keras/backend/tensorflow_backend.py:986: The name tf.assign_add is deprecated. Please use tf.compat.v1.assign_add instead.\n",
      "\n"
     ]
    },
    {
     "name": "stdout",
     "output_type": "stream",
     "text": [
      "Train on 8177 samples, validate on 2045 samples\n",
      "Epoch 1/10\n",
      "8177/8177 [==============================] - 27s 3ms/step - loss: 4.8017 - acc: 0.0160 - val_loss: 4.7552 - val_acc: 0.0161\n",
      "Epoch 2/10\n",
      "8177/8177 [==============================] - 15s 2ms/step - loss: 4.6702 - acc: 0.0263 - val_loss: 4.7320 - val_acc: 0.0161\n",
      "Epoch 3/10\n",
      "8177/8177 [==============================] - 15s 2ms/step - loss: 4.4064 - acc: 0.0689 - val_loss: 4.7012 - val_acc: 0.0308\n",
      "Epoch 4/10\n",
      "8177/8177 [==============================] - 15s 2ms/step - loss: 3.8436 - acc: 0.1823 - val_loss: 4.7343 - val_acc: 0.0308\n",
      "Epoch 5/10\n",
      "8177/8177 [==============================] - 15s 2ms/step - loss: 2.9774 - acc: 0.3847 - val_loss: 4.9230 - val_acc: 0.0347\n",
      "Epoch 6/10\n",
      "8177/8177 [==============================] - 15s 2ms/step - loss: 2.0483 - acc: 0.6036 - val_loss: 5.2593 - val_acc: 0.0269\n",
      "Epoch 7/10\n",
      "8177/8177 [==============================] - 15s 2ms/step - loss: 1.2960 - acc: 0.7729 - val_loss: 5.6559 - val_acc: 0.0249\n",
      "Epoch 8/10\n",
      "8177/8177 [==============================] - 15s 2ms/step - loss: 0.7896 - acc: 0.8853 - val_loss: 5.9385 - val_acc: 0.0244\n",
      "Epoch 9/10\n",
      "8177/8177 [==============================] - 15s 2ms/step - loss: 0.4486 - acc: 0.9517 - val_loss: 6.4263 - val_acc: 0.0284\n",
      "Epoch 10/10\n",
      "8177/8177 [==============================] - 15s 2ms/step - loss: 0.2513 - acc: 0.9835 - val_loss: 6.8332 - val_acc: 0.0274\n"
     ]
    }
   ],
   "source": [
    "history = model.fit(Xtrain,Ytrain,batch_size=batch_size,epochs=epochs,validation_data=(Xval,Yval),verbose=1)"
   ]
  },
  {
   "cell_type": "markdown",
   "metadata": {
    "colab_type": "text",
    "id": "Z8hWaKmjoz69"
   },
   "source": [
    "#The model accuracy is very poor !!!!"
   ]
  },
  {
   "cell_type": "markdown",
   "metadata": {
    "colab_type": "text",
    "id": "agJKkc6xtKiq"
   },
   "source": [
    "### Use Data Augmentation in the above model to see if the accuracy improves\n"
   ]
  },
  {
   "cell_type": "code",
   "execution_count": 0,
   "metadata": {
    "colab": {},
    "colab_type": "code",
    "id": "31Mn8qnZb3Ru"
   },
   "outputs": [],
   "source": [
    "from keras.preprocessing.image import ImageDataGenerator"
   ]
  },
  {
   "cell_type": "code",
   "execution_count": 0,
   "metadata": {
    "colab": {},
    "colab_type": "code",
    "id": "gDLQVFDP96KI"
   },
   "outputs": [],
   "source": [
    "train_datagen = ImageDataGenerator(\n",
    "    featurewise_center=False,  # set input mean to 0 over the dataset\n",
    "    samplewise_center=False,  # set each sample mean to 0\n",
    "    featurewise_std_normalization=False,  # divide inputs by std of the dataset\n",
    "    samplewise_std_normalization=False,  # divide each input by its std\n",
    "    zca_whitening=False,  # apply ZCA whitening\n",
    "    rotation_range=50,  # randomly rotate images in the range (degrees, 0 to 180)\n",
    "    width_shift_range=0.1,  # randomly shift images horizontally (fraction of total width)\n",
    "    height_shift_range=0.1,  # randomly shift images vertically (fraction of total height)\n",
    "    horizontal_flip=True,  # randomly flip images\n",
    "    vertical_flip=False,\n",
    "    data_format='channels_last')\n",
    "\n",
    "val_datagen = ImageDataGenerator()"
   ]
  },
  {
   "cell_type": "markdown",
   "metadata": {
    "colab_type": "text",
    "id": "6sssbaTfxlkk"
   },
   "source": [
    "### Using the above objects, create the image generators with variable names `train_generator` and `val_generator`\n",
    "\n",
    "You need to use train_datagen.flow() and val_datagen.flow()"
   ]
  },
  {
   "cell_type": "code",
   "execution_count": 0,
   "metadata": {
    "colab": {},
    "colab_type": "code",
    "id": "W_5AVvUFz1-l"
   },
   "outputs": [],
   "source": [
    "train_generator = train_datagen.flow(Xtrain,Ytrain,batch_size=batch_size)\n",
    "val_generator = val_datagen.flow(Xval,Yval,batch_size=batch_size)"
   ]
  },
  {
   "cell_type": "code",
   "execution_count": 0,
   "metadata": {
    "colab": {},
    "colab_type": "code",
    "id": "pLxGp6atuqpF"
   },
   "outputs": [],
   "source": []
  },
  {
   "cell_type": "code",
   "execution_count": 0,
   "metadata": {
    "colab": {},
    "colab_type": "code",
    "id": "Sxu2bQqXqb08"
   },
   "outputs": [],
   "source": []
  },
  {
   "cell_type": "markdown",
   "metadata": {
    "colab_type": "text",
    "id": "TVFQJZw3x4-C"
   },
   "source": [
    "### Fit the model using fit_generator() using `train_generator` and `val_generator` from the above step with 10 epochs"
   ]
  },
  {
   "cell_type": "code",
   "execution_count": 78,
   "metadata": {
    "colab": {
     "base_uri": "https://localhost:8080/",
     "height": 370
    },
    "colab_type": "code",
    "id": "0kHeZF2UweqS",
    "outputId": "3cdea19b-7fee-4396-8c02-e5ff00ea47c1"
   },
   "outputs": [
    {
     "name": "stdout",
     "output_type": "stream",
     "text": [
      "Epoch 1/10\n",
      "255/255 [==============================] - 37s 144ms/step - loss: 4.7602 - acc: 0.0199 - val_loss: 4.6418 - val_acc: 0.0312\n",
      "Epoch 2/10\n",
      "255/255 [==============================] - 36s 142ms/step - loss: 4.5855 - acc: 0.0306 - val_loss: 4.6225 - val_acc: 0.0318\n",
      "Epoch 3/10\n",
      "255/255 [==============================] - 36s 140ms/step - loss: 4.5281 - acc: 0.0353 - val_loss: 4.5392 - val_acc: 0.0318\n",
      "Epoch 4/10\n",
      "255/255 [==============================] - 36s 141ms/step - loss: 4.4718 - acc: 0.0425 - val_loss: 4.5086 - val_acc: 0.0378\n",
      "Epoch 5/10\n",
      "255/255 [==============================] - 36s 141ms/step - loss: 4.4233 - acc: 0.0458 - val_loss: 4.4845 - val_acc: 0.0363\n",
      "Epoch 6/10\n",
      "255/255 [==============================] - 36s 141ms/step - loss: 4.3885 - acc: 0.0474 - val_loss: 4.4495 - val_acc: 0.0437\n",
      "Epoch 7/10\n",
      "255/255 [==============================] - 36s 139ms/step - loss: 4.3559 - acc: 0.0519 - val_loss: 4.4031 - val_acc: 0.0497\n",
      "Epoch 8/10\n",
      "255/255 [==============================] - 36s 140ms/step - loss: 4.3242 - acc: 0.0576 - val_loss: 4.3952 - val_acc: 0.0497\n",
      "Epoch 9/10\n",
      "255/255 [==============================] - 36s 140ms/step - loss: 4.3025 - acc: 0.0559 - val_loss: 4.3709 - val_acc: 0.0591\n",
      "Epoch 10/10\n",
      "255/255 [==============================] - 36s 140ms/step - loss: 4.2834 - acc: 0.0594 - val_loss: 4.3433 - val_acc: 0.0497\n"
     ]
    },
    {
     "data": {
      "text/plain": [
       "<keras.callbacks.History at 0x7fe0c00b29b0>"
      ]
     },
     "execution_count": 78,
     "metadata": {
      "tags": []
     },
     "output_type": "execute_result"
    }
   ],
   "source": [
    "model.fit_generator(generator=train_generator,\n",
    "                    steps_per_epoch=Xtrain.shape[0]//batch_size,\n",
    "                    validation_data=val_generator,\n",
    "                    validation_steps=Xval.shape[0]//batch_size,epochs=epochs)"
   ]
  },
  {
   "cell_type": "markdown",
   "metadata": {
    "colab_type": "text",
    "id": "Q2zmLztqo5DY"
   },
   "source": [
    "# Model accuracy is still poor!!!"
   ]
  },
  {
   "cell_type": "markdown",
   "metadata": {
    "colab_type": "text",
    "id": "rSTATrhsAo7L"
   },
   "source": [
    "### Lets use Transfer Learning\n",
    "\n",
    "Download the vgg wieght file from here : https://github.com/MinerKasch/applied_deep_learning/blob/master/vgg16_weights_tf_dim_ordering_tf_kernels_notop.h5"
   ]
  },
  {
   "cell_type": "markdown",
   "metadata": {
    "colab_type": "text",
    "id": "zy5JdbW6pIvD"
   },
   "source": [
    "Use the below code to load VGG16 weights trained on ImageNet"
   ]
  },
  {
   "cell_type": "code",
   "execution_count": 81,
   "metadata": {
    "colab": {
     "base_uri": "https://localhost:8080/",
     "height": 70
    },
    "colab_type": "code",
    "id": "yrqs0zg7ApNw",
    "outputId": "a8dbe25e-9302-4526-ae32-dc3c9be24272"
   },
   "outputs": [
    {
     "name": "stderr",
     "output_type": "stream",
     "text": [
      "W0630 10:20:43.741027 140605058090880 deprecation_wrapper.py:119] From /usr/local/lib/python3.6/dist-packages/keras/backend/tensorflow_backend.py:3976: The name tf.nn.max_pool is deprecated. Please use tf.nn.max_pool2d instead.\n",
      "\n"
     ]
    }
   ],
   "source": [
    "from keras.applications.vgg16 import VGG16, preprocess_input\n",
    "# Instantiate the model with the pre-trained weights (no top)\n",
    "base_model= VGG16(weights=(project_path+'vgg16_weights_tf_dim_ordering_tf_kernels_notop.h5'),include_top=False, pooling='avg')"
   ]
  },
  {
   "cell_type": "markdown",
   "metadata": {
    "colab_type": "text",
    "id": "EItOlRBGpV_A"
   },
   "source": [
    "Print the summary of the base_model"
   ]
  },
  {
   "cell_type": "code",
   "execution_count": 82,
   "metadata": {
    "colab": {
     "base_uri": "https://localhost:8080/",
     "height": 806
    },
    "colab_type": "code",
    "id": "lQsEBgnlpHjH",
    "outputId": "93cddce0-7753-4989-f1b1-cb642f5e2e14"
   },
   "outputs": [
    {
     "name": "stdout",
     "output_type": "stream",
     "text": [
      "_________________________________________________________________\n",
      "Layer (type)                 Output Shape              Param #   \n",
      "=================================================================\n",
      "input_1 (InputLayer)         (None, None, None, 3)     0         \n",
      "_________________________________________________________________\n",
      "block1_conv1 (Conv2D)        (None, None, None, 64)    1792      \n",
      "_________________________________________________________________\n",
      "block1_conv2 (Conv2D)        (None, None, None, 64)    36928     \n",
      "_________________________________________________________________\n",
      "block1_pool (MaxPooling2D)   (None, None, None, 64)    0         \n",
      "_________________________________________________________________\n",
      "block2_conv1 (Conv2D)        (None, None, None, 128)   73856     \n",
      "_________________________________________________________________\n",
      "block2_conv2 (Conv2D)        (None, None, None, 128)   147584    \n",
      "_________________________________________________________________\n",
      "block2_pool (MaxPooling2D)   (None, None, None, 128)   0         \n",
      "_________________________________________________________________\n",
      "block3_conv1 (Conv2D)        (None, None, None, 256)   295168    \n",
      "_________________________________________________________________\n",
      "block3_conv2 (Conv2D)        (None, None, None, 256)   590080    \n",
      "_________________________________________________________________\n",
      "block3_conv3 (Conv2D)        (None, None, None, 256)   590080    \n",
      "_________________________________________________________________\n",
      "block3_pool (MaxPooling2D)   (None, None, None, 256)   0         \n",
      "_________________________________________________________________\n",
      "block4_conv1 (Conv2D)        (None, None, None, 512)   1180160   \n",
      "_________________________________________________________________\n",
      "block4_conv2 (Conv2D)        (None, None, None, 512)   2359808   \n",
      "_________________________________________________________________\n",
      "block4_conv3 (Conv2D)        (None, None, None, 512)   2359808   \n",
      "_________________________________________________________________\n",
      "block4_pool (MaxPooling2D)   (None, None, None, 512)   0         \n",
      "_________________________________________________________________\n",
      "block5_conv1 (Conv2D)        (None, None, None, 512)   2359808   \n",
      "_________________________________________________________________\n",
      "block5_conv2 (Conv2D)        (None, None, None, 512)   2359808   \n",
      "_________________________________________________________________\n",
      "block5_conv3 (Conv2D)        (None, None, None, 512)   2359808   \n",
      "_________________________________________________________________\n",
      "block5_pool (MaxPooling2D)   (None, None, None, 512)   0         \n",
      "_________________________________________________________________\n",
      "global_average_pooling2d_1 ( (None, 512)               0         \n",
      "=================================================================\n",
      "Total params: 14,714,688\n",
      "Trainable params: 14,714,688\n",
      "Non-trainable params: 0\n",
      "_________________________________________________________________\n"
     ]
    }
   ],
   "source": [
    "base_model.summary()"
   ]
  },
  {
   "cell_type": "markdown",
   "metadata": {
    "colab_type": "text",
    "id": "fHpeOyW0qauW"
   },
   "source": [
    "### Add the following classification layers to the imported VGG Model <br>\n",
    "1. Flatten Layer\n",
    "2. Dense layer with 1024 neurons with activation as Relu\n",
    "3. Dense layer with 256 neurons with activation as Relu\n",
    "4. Dense layer with 120 neurons with activation as Softmax"
   ]
  },
  {
   "cell_type": "code",
   "execution_count": 0,
   "metadata": {
    "colab": {},
    "colab_type": "code",
    "id": "0BpT4MLkqoaO"
   },
   "outputs": [],
   "source": [
    "from keras import Model,Input\n",
    "from keras.layers import BatchNormalization,Flatten"
   ]
  },
  {
   "cell_type": "code",
   "execution_count": 0,
   "metadata": {
    "colab": {},
    "colab_type": "code",
    "id": "dE-uB_E18D7n"
   },
   "outputs": [],
   "source": [
    "x = base_model.output\n",
    "#x = Flatten()(x)\n",
    "x = BatchNormalization()(x)\n",
    "x = Dropout(0.35)(x)\n",
    "x = Dense(1024, activation='relu')(x)\n",
    "x = Dense(256, activation='relu')(x)\n",
    "x = Dense(256, activation='relu')(x)\n",
    "x = Dropout(0.15)(x)\n",
    "predictions = Dense(120, activation='softmax')(x)\n",
    "\n",
    "# this is the model we will train\n",
    "\n",
    "model_t = Model(inputs=base_model.input, outputs=predictions)"
   ]
  },
  {
   "cell_type": "markdown",
   "metadata": {
    "colab_type": "text",
    "id": "LeQem0pHITIj"
   },
   "source": [
    "### Make all the layers in the base_model (VGG16) to be non-trainable"
   ]
  },
  {
   "cell_type": "code",
   "execution_count": 0,
   "metadata": {
    "colab": {},
    "colab_type": "code",
    "id": "C7w9CSPvIRnX"
   },
   "outputs": [],
   "source": [
    "for layer in base_model.layers:\n",
    "    layer.trainable = False"
   ]
  },
  {
   "cell_type": "code",
   "execution_count": 0,
   "metadata": {
    "colab": {},
    "colab_type": "code",
    "id": "BDnFKFTc9FdX"
   },
   "outputs": [],
   "source": [
    "model_t.compile(optimizer='adam',\n",
    "              loss='categorical_crossentropy',\n",
    "              metrics=[\"accuracy\"]\n",
    "              )"
   ]
  },
  {
   "cell_type": "markdown",
   "metadata": {
    "colab_type": "text",
    "id": "kj-BwqgfIkdv"
   },
   "source": [
    "### Fit and compile the model with batch_size = 128 and epochs = 10 and execute the model"
   ]
  },
  {
   "cell_type": "markdown",
   "metadata": {
    "colab_type": "text",
    "id": "YD5fAgVQIpKZ"
   },
   "source": [
    "Try to get training and validation accuracy to be more than 90%"
   ]
  },
  {
   "cell_type": "code",
   "execution_count": 0,
   "metadata": {
    "colab": {},
    "colab_type": "code",
    "id": "jw9elCnUDUr7"
   },
   "outputs": [],
   "source": [
    "from keras.callbacks import ModelCheckpoint, EarlyStopping"
   ]
  },
  {
   "cell_type": "code",
   "execution_count": 0,
   "metadata": {
    "colab": {},
    "colab_type": "code",
    "id": "V3JLLZLLDKJ7"
   },
   "outputs": [],
   "source": [
    "early_stopping = EarlyStopping(monitor='val_acc', min_delta=0, patience=5, verbose=1, mode='auto')\n",
    "\n",
    "\n",
    "callbacks = [early_stopping]"
   ]
  },
  {
   "cell_type": "code",
   "execution_count": 102,
   "metadata": {
    "colab": {
     "base_uri": "https://localhost:8080/",
     "height": 252
    },
    "colab_type": "code",
    "id": "SZk2SWvjIoRP",
    "outputId": "3899ef7b-792c-4f4f-d534-8c8e4ab240a0"
   },
   "outputs": [
    {
     "name": "stdout",
     "output_type": "stream",
     "text": [
      "Train on 8177 samples, validate on 2045 samples\n",
      "Epoch 1/50\n",
      "8177/8177 [==============================] - 18s 2ms/step - loss: 2.1656 - acc: 0.4315 - val_loss: 3.5164 - val_acc: 0.2289\n",
      "Epoch 2/50\n",
      "8177/8177 [==============================] - 18s 2ms/step - loss: 2.0325 - acc: 0.4625 - val_loss: 3.6394 - val_acc: 0.2225\n",
      "Epoch 3/50\n",
      "8177/8177 [==============================] - 17s 2ms/step - loss: 1.9283 - acc: 0.4950 - val_loss: 3.6173 - val_acc: 0.2166\n",
      "Epoch 4/50\n",
      "8177/8177 [==============================] - 17s 2ms/step - loss: 1.7845 - acc: 0.5207 - val_loss: 3.7734 - val_acc: 0.2034\n",
      "Epoch 5/50\n",
      "8177/8177 [==============================] - 17s 2ms/step - loss: 1.7143 - acc: 0.5386 - val_loss: 3.8578 - val_acc: 0.2054\n",
      "Epoch 6/50\n",
      "8177/8177 [==============================] - 18s 2ms/step - loss: 1.6456 - acc: 0.5646 - val_loss: 3.8726 - val_acc: 0.2112\n",
      "Epoch 00006: early stopping\n"
     ]
    }
   ],
   "source": [
    "history = model_t.fit(Xtrain,Ytrain,batch_size=batch_size,epochs=50,validation_data=(Xval,Yval),verbose=1,callbacks=callbacks)"
   ]
  },
  {
   "cell_type": "code",
   "execution_count": 103,
   "metadata": {
    "colab": {
     "base_uri": "https://localhost:8080/",
     "height": 386
    },
    "colab_type": "code",
    "id": "OiKPGb8pCMtV",
    "outputId": "7f72ce1f-c2ee-4807-d291-860e6671c8c0"
   },
   "outputs": [
    {
     "name": "stdout",
     "output_type": "stream",
     "text": [
      "Epoch 1/10\n",
      "255/255 [==============================] - 35s 135ms/step - loss: 3.3061 - acc: 0.2373 - val_loss: 3.5816 - val_acc: 0.2126\n",
      "Epoch 2/10\n",
      "255/255 [==============================] - 33s 130ms/step - loss: 3.1492 - acc: 0.2529 - val_loss: 3.6003 - val_acc: 0.2059\n",
      "Epoch 3/10\n",
      "255/255 [==============================] - 33s 130ms/step - loss: 3.0750 - acc: 0.2659 - val_loss: 3.6613 - val_acc: 0.2111\n",
      "Epoch 4/10\n",
      "255/255 [==============================] - 33s 128ms/step - loss: 3.0349 - acc: 0.2783 - val_loss: 3.5511 - val_acc: 0.2106\n",
      "Epoch 5/10\n",
      "255/255 [==============================] - 32s 127ms/step - loss: 2.9742 - acc: 0.2839 - val_loss: 3.6423 - val_acc: 0.2156\n",
      "Epoch 6/10\n",
      "255/255 [==============================] - 33s 128ms/step - loss: 2.9543 - acc: 0.2845 - val_loss: 3.5892 - val_acc: 0.2047\n",
      "Epoch 7/10\n",
      "255/255 [==============================] - 32s 127ms/step - loss: 2.9082 - acc: 0.2969 - val_loss: 3.6223 - val_acc: 0.2101\n",
      "Epoch 8/10\n",
      "255/255 [==============================] - 32s 127ms/step - loss: 2.8440 - acc: 0.3047 - val_loss: 3.7183 - val_acc: 0.2081\n",
      "Epoch 9/10\n",
      "255/255 [==============================] - 32s 127ms/step - loss: 2.8442 - acc: 0.3090 - val_loss: 3.6862 - val_acc: 0.2096\n",
      "Epoch 10/10\n",
      "255/255 [==============================] - 32s 127ms/step - loss: 2.8263 - acc: 0.3166 - val_loss: 3.7225 - val_acc: 0.2131\n",
      "Epoch 00010: early stopping\n"
     ]
    },
    {
     "data": {
      "text/plain": [
       "<keras.callbacks.History at 0x7fe072314eb8>"
      ]
     },
     "execution_count": 103,
     "metadata": {
      "tags": []
     },
     "output_type": "execute_result"
    }
   ],
   "source": [
    "model_t.fit_generator(generator=train_generator,\n",
    "                    steps_per_epoch=Xtrain.shape[0]//batch_size,\n",
    "                    validation_data=val_generator,\n",
    "                    validation_steps=Xval.shape[0]//batch_size,epochs=epochs,callbacks=callbacks)"
   ]
  },
  {
   "cell_type": "code",
   "execution_count": 0,
   "metadata": {
    "colab": {},
    "colab_type": "code",
    "id": "Wm-l9az5EONm"
   },
   "outputs": [],
   "source": []
  }
 ],
 "metadata": {
  "accelerator": "GPU",
  "colab": {
   "collapsed_sections": [],
   "name": "TransferLearning_Dog_Breed_Classification-Questions.ipynb",
   "provenance": [],
   "version": "0.3.2"
  },
  "kernelspec": {
   "display_name": "Python 3",
   "language": "python",
   "name": "python3"
  },
  "language_info": {
   "codemirror_mode": {
    "name": "ipython",
    "version": 3
   },
   "file_extension": ".py",
   "mimetype": "text/x-python",
   "name": "python",
   "nbconvert_exporter": "python",
   "pygments_lexer": "ipython3",
   "version": "3.6.5"
  }
 },
 "nbformat": 4,
 "nbformat_minor": 1
}
