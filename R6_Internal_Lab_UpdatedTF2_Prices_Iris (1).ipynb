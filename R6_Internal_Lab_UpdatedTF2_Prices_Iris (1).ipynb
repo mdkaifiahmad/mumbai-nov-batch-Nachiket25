{
 "cells": [
  {
   "cell_type": "markdown",
   "metadata": {
    "colab_type": "text",
    "id": "84Q8JfvaeZZ6"
   },
   "source": [
    "## Linear Classifier in TensorFlow \n",
    "Using Low Level API in Eager Execution mode"
   ]
  },
  {
   "cell_type": "markdown",
   "metadata": {
    "colab_type": "text",
    "id": "sb7Epo0VOB58"
   },
   "source": [
    "### Load tensorflow"
   ]
  },
  {
   "cell_type": "code",
   "execution_count": 1,
   "metadata": {
    "colab": {},
    "colab_type": "code",
    "id": "fHpCNRv1OB5-"
   },
   "outputs": [],
   "source": [
    "import tensorflow as tf\n",
    "import pandas as pd\n",
    "import numpy as np"
   ]
  },
  {
   "cell_type": "code",
   "execution_count": 2,
   "metadata": {
    "colab": {},
    "colab_type": "code",
    "id": "Mjtb-EMcm5K0"
   },
   "outputs": [],
   "source": [
    "#Enable Eager Execution if using tensflow version < 2.0\n",
    "#From tensorflow v2.0 onwards, Eager Execution will be enabled by default\n",
    "tf.enable_eager_execution()"
   ]
  },
  {
   "cell_type": "markdown",
   "metadata": {
    "colab_type": "text",
    "id": "DxJDmJqqOB6K",
    "slideshow": {
     "slide_type": "slide"
    }
   },
   "source": [
    "### Collect Data"
   ]
  },
  {
   "cell_type": "code",
   "execution_count": 3,
   "metadata": {
    "colab": {},
    "colab_type": "code",
    "id": "FhllFLyKOB6N"
   },
   "outputs": [],
   "source": [
    "#from google.colab import drive\n",
    "#drive.mount('/gdrive')"
   ]
  },
  {
   "cell_type": "code",
   "execution_count": 4,
   "metadata": {
    "colab": {},
    "colab_type": "code",
    "id": "KiObW4V4SIOz"
   },
   "outputs": [],
   "source": [
    "import pandas as pd"
   ]
  },
  {
   "cell_type": "code",
   "execution_count": 5,
   "metadata": {
    "colab": {},
    "colab_type": "code",
    "id": "B4yQKMiJOB6R"
   },
   "outputs": [],
   "source": [
    "data = pd.read_csv('prices.csv')"
   ]
  },
  {
   "cell_type": "markdown",
   "metadata": {
    "colab_type": "text",
    "id": "fgkX6SEqOB6W"
   },
   "source": [
    "### Check all columns in the dataset"
   ]
  },
  {
   "cell_type": "code",
   "execution_count": 6,
   "metadata": {
    "colab": {},
    "colab_type": "code",
    "id": "7K8pWsNQOB6X"
   },
   "outputs": [
    {
     "data": {
      "text/html": [
       "<div>\n",
       "<style scoped>\n",
       "    .dataframe tbody tr th:only-of-type {\n",
       "        vertical-align: middle;\n",
       "    }\n",
       "\n",
       "    .dataframe tbody tr th {\n",
       "        vertical-align: top;\n",
       "    }\n",
       "\n",
       "    .dataframe thead th {\n",
       "        text-align: right;\n",
       "    }\n",
       "</style>\n",
       "<table border=\"1\" class=\"dataframe\">\n",
       "  <thead>\n",
       "    <tr style=\"text-align: right;\">\n",
       "      <th></th>\n",
       "      <th>date</th>\n",
       "      <th>symbol</th>\n",
       "      <th>open</th>\n",
       "      <th>close</th>\n",
       "      <th>low</th>\n",
       "      <th>high</th>\n",
       "      <th>volume</th>\n",
       "    </tr>\n",
       "  </thead>\n",
       "  <tbody>\n",
       "    <tr>\n",
       "      <th>612709</th>\n",
       "      <td>2015-02-06</td>\n",
       "      <td>T</td>\n",
       "      <td>34.490002</td>\n",
       "      <td>34.869999</td>\n",
       "      <td>34.410000</td>\n",
       "      <td>35.049999</td>\n",
       "      <td>27709200.0</td>\n",
       "    </tr>\n",
       "    <tr>\n",
       "      <th>289820</th>\n",
       "      <td>2012-06-13</td>\n",
       "      <td>PSA</td>\n",
       "      <td>135.490005</td>\n",
       "      <td>135.690002</td>\n",
       "      <td>135.089996</td>\n",
       "      <td>137.479996</td>\n",
       "      <td>562700.0</td>\n",
       "    </tr>\n",
       "    <tr>\n",
       "      <th>519989</th>\n",
       "      <td>2014-05-08</td>\n",
       "      <td>STI</td>\n",
       "      <td>38.110001</td>\n",
       "      <td>37.939999</td>\n",
       "      <td>37.799999</td>\n",
       "      <td>38.270000</td>\n",
       "      <td>3119700.0</td>\n",
       "    </tr>\n",
       "    <tr>\n",
       "      <th>578852</th>\n",
       "      <td>2014-10-28</td>\n",
       "      <td>WM</td>\n",
       "      <td>48.330002</td>\n",
       "      <td>48.419998</td>\n",
       "      <td>48.040001</td>\n",
       "      <td>48.419998</td>\n",
       "      <td>1391100.0</td>\n",
       "    </tr>\n",
       "    <tr>\n",
       "      <th>284989</th>\n",
       "      <td>2012-05-30</td>\n",
       "      <td>HUM</td>\n",
       "      <td>77.110001</td>\n",
       "      <td>76.820000</td>\n",
       "      <td>76.639999</td>\n",
       "      <td>77.830002</td>\n",
       "      <td>1282900.0</td>\n",
       "    </tr>\n",
       "    <tr>\n",
       "      <th>670660</th>\n",
       "      <td>2015-07-28</td>\n",
       "      <td>ALB</td>\n",
       "      <td>49.900002</td>\n",
       "      <td>50.779999</td>\n",
       "      <td>49.590000</td>\n",
       "      <td>50.970001</td>\n",
       "      <td>893700.0</td>\n",
       "    </tr>\n",
       "    <tr>\n",
       "      <th>202962</th>\n",
       "      <td>2011-09-19</td>\n",
       "      <td>VZ</td>\n",
       "      <td>36.410000</td>\n",
       "      <td>36.279999</td>\n",
       "      <td>36.029999</td>\n",
       "      <td>36.410000</td>\n",
       "      <td>12186800.0</td>\n",
       "    </tr>\n",
       "    <tr>\n",
       "      <th>235986</th>\n",
       "      <td>2011-12-29</td>\n",
       "      <td>COF</td>\n",
       "      <td>41.980000</td>\n",
       "      <td>42.639999</td>\n",
       "      <td>41.820000</td>\n",
       "      <td>42.680000</td>\n",
       "      <td>4079000.0</td>\n",
       "    </tr>\n",
       "    <tr>\n",
       "      <th>817402</th>\n",
       "      <td>2016-09-26</td>\n",
       "      <td>DPS</td>\n",
       "      <td>91.500000</td>\n",
       "      <td>90.290001</td>\n",
       "      <td>90.199997</td>\n",
       "      <td>91.510002</td>\n",
       "      <td>1178300.0</td>\n",
       "    </tr>\n",
       "    <tr>\n",
       "      <th>21157</th>\n",
       "      <td>2010-03-09</td>\n",
       "      <td>NUE</td>\n",
       "      <td>44.509998</td>\n",
       "      <td>44.930000</td>\n",
       "      <td>44.310001</td>\n",
       "      <td>45.320000</td>\n",
       "      <td>4952400.0</td>\n",
       "    </tr>\n",
       "  </tbody>\n",
       "</table>\n",
       "</div>"
      ],
      "text/plain": [
       "              date symbol        open       close         low        high  \\\n",
       "612709  2015-02-06      T   34.490002   34.869999   34.410000   35.049999   \n",
       "289820  2012-06-13    PSA  135.490005  135.690002  135.089996  137.479996   \n",
       "519989  2014-05-08    STI   38.110001   37.939999   37.799999   38.270000   \n",
       "578852  2014-10-28     WM   48.330002   48.419998   48.040001   48.419998   \n",
       "284989  2012-05-30    HUM   77.110001   76.820000   76.639999   77.830002   \n",
       "670660  2015-07-28    ALB   49.900002   50.779999   49.590000   50.970001   \n",
       "202962  2011-09-19     VZ   36.410000   36.279999   36.029999   36.410000   \n",
       "235986  2011-12-29    COF   41.980000   42.639999   41.820000   42.680000   \n",
       "817402  2016-09-26    DPS   91.500000   90.290001   90.199997   91.510002   \n",
       "21157   2010-03-09    NUE   44.509998   44.930000   44.310001   45.320000   \n",
       "\n",
       "            volume  \n",
       "612709  27709200.0  \n",
       "289820    562700.0  \n",
       "519989   3119700.0  \n",
       "578852   1391100.0  \n",
       "284989   1282900.0  \n",
       "670660    893700.0  \n",
       "202962  12186800.0  \n",
       "235986   4079000.0  \n",
       "817402   1178300.0  \n",
       "21157    4952400.0  "
      ]
     },
     "execution_count": 6,
     "metadata": {},
     "output_type": "execute_result"
    }
   ],
   "source": [
    "data.sample(10)"
   ]
  },
  {
   "cell_type": "markdown",
   "metadata": {
    "colab_type": "text",
    "id": "7dU6X7MpOB6c"
   },
   "source": [
    "### Drop columns `date` and  `symbol`"
   ]
  },
  {
   "cell_type": "code",
   "execution_count": 7,
   "metadata": {
    "colab": {},
    "colab_type": "code",
    "id": "lh_6spSKOB6e"
   },
   "outputs": [],
   "source": [
    "data.drop(columns=['date','symbol'],inplace=True)"
   ]
  },
  {
   "cell_type": "code",
   "execution_count": 8,
   "metadata": {
    "colab": {},
    "colab_type": "code",
    "id": "xlwbUgTwOB6i",
    "outputId": "56bad82a-f271-415a-e0d6-cbe1c4290743"
   },
   "outputs": [
    {
     "data": {
      "text/html": [
       "<div>\n",
       "<style scoped>\n",
       "    .dataframe tbody tr th:only-of-type {\n",
       "        vertical-align: middle;\n",
       "    }\n",
       "\n",
       "    .dataframe tbody tr th {\n",
       "        vertical-align: top;\n",
       "    }\n",
       "\n",
       "    .dataframe thead th {\n",
       "        text-align: right;\n",
       "    }\n",
       "</style>\n",
       "<table border=\"1\" class=\"dataframe\">\n",
       "  <thead>\n",
       "    <tr style=\"text-align: right;\">\n",
       "      <th></th>\n",
       "      <th>open</th>\n",
       "      <th>close</th>\n",
       "      <th>low</th>\n",
       "      <th>high</th>\n",
       "      <th>volume</th>\n",
       "    </tr>\n",
       "  </thead>\n",
       "  <tbody>\n",
       "    <tr>\n",
       "      <th>0</th>\n",
       "      <td>123.430000</td>\n",
       "      <td>125.839996</td>\n",
       "      <td>122.309998</td>\n",
       "      <td>126.250000</td>\n",
       "      <td>2163600.0</td>\n",
       "    </tr>\n",
       "    <tr>\n",
       "      <th>1</th>\n",
       "      <td>125.239998</td>\n",
       "      <td>119.980003</td>\n",
       "      <td>119.940002</td>\n",
       "      <td>125.540001</td>\n",
       "      <td>2386400.0</td>\n",
       "    </tr>\n",
       "    <tr>\n",
       "      <th>2</th>\n",
       "      <td>116.379997</td>\n",
       "      <td>114.949997</td>\n",
       "      <td>114.930000</td>\n",
       "      <td>119.739998</td>\n",
       "      <td>2489500.0</td>\n",
       "    </tr>\n",
       "    <tr>\n",
       "      <th>3</th>\n",
       "      <td>115.480003</td>\n",
       "      <td>116.620003</td>\n",
       "      <td>113.500000</td>\n",
       "      <td>117.440002</td>\n",
       "      <td>2006300.0</td>\n",
       "    </tr>\n",
       "    <tr>\n",
       "      <th>4</th>\n",
       "      <td>117.010002</td>\n",
       "      <td>114.970001</td>\n",
       "      <td>114.089996</td>\n",
       "      <td>117.330002</td>\n",
       "      <td>1408600.0</td>\n",
       "    </tr>\n",
       "  </tbody>\n",
       "</table>\n",
       "</div>"
      ],
      "text/plain": [
       "         open       close         low        high     volume\n",
       "0  123.430000  125.839996  122.309998  126.250000  2163600.0\n",
       "1  125.239998  119.980003  119.940002  125.540001  2386400.0\n",
       "2  116.379997  114.949997  114.930000  119.739998  2489500.0\n",
       "3  115.480003  116.620003  113.500000  117.440002  2006300.0\n",
       "4  117.010002  114.970001  114.089996  117.330002  1408600.0"
      ]
     },
     "execution_count": 8,
     "metadata": {},
     "output_type": "execute_result"
    }
   ],
   "source": [
    "data.head()"
   ]
  },
  {
   "cell_type": "markdown",
   "metadata": {
    "colab_type": "text",
    "id": "3DBv3WWYOB6q"
   },
   "source": [
    "### Consider only first 1000 rows in the dataset for building feature set and target set\n",
    "Target 'Volume' has very high values. Divide 'Volume' by 1000,000"
   ]
  },
  {
   "cell_type": "code",
   "execution_count": 9,
   "metadata": {
    "colab": {},
    "colab_type": "code",
    "id": "Z_hG9rGBOB6s"
   },
   "outputs": [
    {
     "name": "stderr",
     "output_type": "stream",
     "text": [
      "C:\\Users\\sinamy\\AppData\\Local\\Continuum\\anaconda3\\lib\\site-packages\\ipykernel_launcher.py:2: SettingWithCopyWarning: \n",
      "A value is trying to be set on a copy of a slice from a DataFrame.\n",
      "Try using .loc[row_indexer,col_indexer] = value instead\n",
      "\n",
      "See the caveats in the documentation: http://pandas.pydata.org/pandas-docs/stable/indexing.html#indexing-view-versus-copy\n",
      "  \n"
     ]
    },
    {
     "data": {
      "text/html": [
       "<div>\n",
       "<style scoped>\n",
       "    .dataframe tbody tr th:only-of-type {\n",
       "        vertical-align: middle;\n",
       "    }\n",
       "\n",
       "    .dataframe tbody tr th {\n",
       "        vertical-align: top;\n",
       "    }\n",
       "\n",
       "    .dataframe thead th {\n",
       "        text-align: right;\n",
       "    }\n",
       "</style>\n",
       "<table border=\"1\" class=\"dataframe\">\n",
       "  <thead>\n",
       "    <tr style=\"text-align: right;\">\n",
       "      <th></th>\n",
       "      <th>open</th>\n",
       "      <th>close</th>\n",
       "      <th>low</th>\n",
       "      <th>high</th>\n",
       "      <th>volume</th>\n",
       "    </tr>\n",
       "  </thead>\n",
       "  <tbody>\n",
       "    <tr>\n",
       "      <th>0</th>\n",
       "      <td>123.430000</td>\n",
       "      <td>125.839996</td>\n",
       "      <td>122.309998</td>\n",
       "      <td>126.250000</td>\n",
       "      <td>2.1636</td>\n",
       "    </tr>\n",
       "    <tr>\n",
       "      <th>1</th>\n",
       "      <td>125.239998</td>\n",
       "      <td>119.980003</td>\n",
       "      <td>119.940002</td>\n",
       "      <td>125.540001</td>\n",
       "      <td>2.3864</td>\n",
       "    </tr>\n",
       "    <tr>\n",
       "      <th>2</th>\n",
       "      <td>116.379997</td>\n",
       "      <td>114.949997</td>\n",
       "      <td>114.930000</td>\n",
       "      <td>119.739998</td>\n",
       "      <td>2.4895</td>\n",
       "    </tr>\n",
       "    <tr>\n",
       "      <th>3</th>\n",
       "      <td>115.480003</td>\n",
       "      <td>116.620003</td>\n",
       "      <td>113.500000</td>\n",
       "      <td>117.440002</td>\n",
       "      <td>2.0063</td>\n",
       "    </tr>\n",
       "    <tr>\n",
       "      <th>4</th>\n",
       "      <td>117.010002</td>\n",
       "      <td>114.970001</td>\n",
       "      <td>114.089996</td>\n",
       "      <td>117.330002</td>\n",
       "      <td>1.4086</td>\n",
       "    </tr>\n",
       "  </tbody>\n",
       "</table>\n",
       "</div>"
      ],
      "text/plain": [
       "         open       close         low        high  volume\n",
       "0  123.430000  125.839996  122.309998  126.250000  2.1636\n",
       "1  125.239998  119.980003  119.940002  125.540001  2.3864\n",
       "2  116.379997  114.949997  114.930000  119.739998  2.4895\n",
       "3  115.480003  116.620003  113.500000  117.440002  2.0063\n",
       "4  117.010002  114.970001  114.089996  117.330002  1.4086"
      ]
     },
     "execution_count": 9,
     "metadata": {},
     "output_type": "execute_result"
    }
   ],
   "source": [
    "data_m=data.iloc[0:1000,:]\n",
    "data_m['volume']=data_m['volume']/1000000\n",
    "data_m.head()"
   ]
  },
  {
   "cell_type": "markdown",
   "metadata": {
    "colab_type": "text",
    "id": "M3UaApqYOB6x"
   },
   "source": [
    "### Divide the data into train and test sets"
   ]
  },
  {
   "cell_type": "code",
   "execution_count": 10,
   "metadata": {
    "colab": {},
    "colab_type": "code",
    "id": "4LE4U8lTdQJq"
   },
   "outputs": [
    {
     "name": "stdout",
     "output_type": "stream",
     "text": [
      "(800, 4) (800,)\n",
      "(200, 4) (200,)\n"
     ]
    }
   ],
   "source": [
    "y=data_m['volume']\n",
    "x=data_m.iloc[:,0:4]\n",
    "from sklearn.model_selection import train_test_split\n",
    "X_train, X_test, y_train, y_test = train_test_split(x.values, y.values, test_size=0.2,random_state=456)\n",
    "print (X_train.shape, y_train.shape)\n",
    "print (X_test.shape, y_test.shape)"
   ]
  },
  {
   "cell_type": "markdown",
   "metadata": {
    "colab_type": "text",
    "id": "oYK-aUuLbrz2"
   },
   "source": [
    "#### Convert Training and Test Data to numpy float32 arrays\n"
   ]
  },
  {
   "cell_type": "code",
   "execution_count": 11,
   "metadata": {
    "colab": {},
    "colab_type": "code",
    "id": "Ao-S0tQGcncz"
   },
   "outputs": [],
   "source": [
    "X_train=X_train.astype('float32')\n",
    "X_test=X_test.astype('float32')\n",
    "y_train=y_train.astype('float32')\n",
    "y_test=y_test.astype('float32')"
   ]
  },
  {
   "cell_type": "markdown",
   "metadata": {
    "colab_type": "text",
    "id": "im1ZegbDdKgv"
   },
   "source": [
    "### Normalize the data\n",
    "You can use Normalizer from sklearn.preprocessing"
   ]
  },
  {
   "cell_type": "code",
   "execution_count": 35,
   "metadata": {
    "colab": {},
    "colab_type": "code",
    "id": "2EkKAy7fOB6y"
   },
   "outputs": [],
   "source": [
    "from sklearn.preprocessing import Normalizer\n",
    "X_train = Normalizer().fit_transform(X_train)\n",
    "X_test = Normalizer().transform(X_test)"
   ]
  },
  {
   "cell_type": "markdown",
   "metadata": {
    "colab_type": "text",
    "id": "v6vE4eYCOB62",
    "slideshow": {
     "slide_type": "slide"
    }
   },
   "source": [
    "## Building the Model in tensorflow"
   ]
  },
  {
   "cell_type": "markdown",
   "metadata": {
    "colab_type": "text",
    "id": "297_qja4OB7A",
    "slideshow": {
     "slide_type": "slide"
    }
   },
   "source": [
    "1.Define Weights and Bias, use tf.zeros to initialize weights and Bias"
   ]
  },
  {
   "cell_type": "code",
   "execution_count": 45,
   "metadata": {
    "colab": {},
    "colab_type": "code",
    "id": "L205qPeQOB7B"
   },
   "outputs": [],
   "source": [
    "W = tf.Variable(tf.zeros(shape=[4,1]), name=\"Weights\")\n",
    "b = tf.Variable(tf.zeros(shape=[1]),name=\"Bias\")"
   ]
  },
  {
   "cell_type": "markdown",
   "metadata": {
    "colab_type": "text",
    "id": "HgtWA-UIOB7F",
    "slideshow": {
     "slide_type": "slide"
    }
   },
   "source": [
    "2.Define a function to calculate prediction"
   ]
  },
  {
   "cell_type": "code",
   "execution_count": 37,
   "metadata": {
    "colab": {},
    "colab_type": "code",
    "id": "JveGlx25OB7H"
   },
   "outputs": [],
   "source": [
    "class Model():\n",
    "      def __init__(self):\n",
    "        self.W = W\n",
    "        self.B = b \n",
    "        self.variables = [ self.W, self.B ]\n",
    "    \n",
    "      def frwrd_pass(self,X_train):\n",
    "        out = tf.matmul( X_train, self.W ) + self.B\n",
    "        return out"
   ]
  },
  {
   "cell_type": "markdown",
   "metadata": {
    "colab_type": "text",
    "id": "TL1hIwf_OB7M",
    "slideshow": {
     "slide_type": "slide"
    }
   },
   "source": [
    "3.Loss (Cost) Function [Mean square error]"
   ]
  },
  {
   "cell_type": "code",
   "execution_count": 38,
   "metadata": {
    "colab": {},
    "colab_type": "code",
    "id": "8VSWPiGXOB7P"
   },
   "outputs": [],
   "source": [
    "#loss = tf.reduce_mean(tf.square(y-y_train),name='Loss')\n",
    "def loss(predicted_y, desired_y):\n",
    "      return tf.reduce_mean(tf.square(predicted_y - desired_y))"
   ]
  },
  {
   "cell_type": "markdown",
   "metadata": {
    "colab_type": "text",
    "id": "jzG85FUlOB7U",
    "slideshow": {
     "slide_type": "slide"
    }
   },
   "source": [
    "4.Function to train the Model\n",
    "\n",
    "1.   Record all the mathematical steps to calculate Loss\n",
    "2.   Calculate Gradients of Loss w.r.t weights and bias\n",
    "3.   Update Weights and Bias based on gradients and learning rate to minimize loss"
   ]
  },
  {
   "cell_type": "code",
   "execution_count": 46,
   "metadata": {
    "colab": {},
    "colab_type": "code",
    "id": "cj802w-3OB7X"
   },
   "outputs": [],
   "source": [
    "def train(X_train, Y_train, epochs,test):\n",
    "    print(test)\n",
    "    optimizer = tf.train.GradientDescentOptimizer(learning_rate = 0.05)\n",
    "    for i in range(epochs):\n",
    "        with tf.GradientTape() as tape:\n",
    "            predicted = model.frwrd_pass(X_train)\n",
    "            curr_loss = loss(predicted, Y_train)\n",
    "            grads = tape.gradient( curr_loss, model.variables )\n",
    "            optimizer.apply_gradients(zip(grads, model.variables),global_step=tf.train.get_or_create_global_step())\n",
    "            if test == 0 :\n",
    "                print(\"Loss at step {:d}: {:.3f}\".format(i, loss(model.frwrd_pass( X_train ), Y_train)))\n",
    "            if test == 1 :\n",
    "                if i % 5 == 0:\n",
    "                     print(\"Loss at step {:d}: {:.3f}\".format(i, loss(model.frwrd_pass( X_train ), Y_train)))"
   ]
  },
  {
   "cell_type": "markdown",
   "metadata": {
    "colab_type": "text",
    "id": "xSypb_u8OB7e",
    "slideshow": {
     "slide_type": "slide"
    }
   },
   "source": [
    "## Train the model for 100 epochs \n",
    "1. Observe the training loss at every iteration\n",
    "2. Observe Test loss at every 5th iteration"
   ]
  },
  {
   "cell_type": "code",
   "execution_count": 47,
   "metadata": {
    "colab": {},
    "colab_type": "code",
    "id": "DVvgj7eQOB7f"
   },
   "outputs": [
    {
     "name": "stdout",
     "output_type": "stream",
     "text": [
      "0\n",
      "Loss at step 0: 160.815\n",
      "Loss at step 1: 154.790\n",
      "Loss at step 2: 150.933\n",
      "Loss at step 3: 148.465\n",
      "Loss at step 4: 146.886\n",
      "Loss at step 5: 145.875\n",
      "Loss at step 6: 145.228\n",
      "Loss at step 7: 144.814\n",
      "Loss at step 8: 144.549\n",
      "Loss at step 9: 144.379\n",
      "Loss at step 10: 144.271\n",
      "Loss at step 11: 144.201\n",
      "Loss at step 12: 144.157\n",
      "Loss at step 13: 144.128\n",
      "Loss at step 14: 144.110\n",
      "Loss at step 15: 144.098\n",
      "Loss at step 16: 144.091\n",
      "Loss at step 17: 144.086\n",
      "Loss at step 18: 144.083\n",
      "Loss at step 19: 144.081\n",
      "Loss at step 20: 144.080\n",
      "Loss at step 21: 144.079\n",
      "Loss at step 22: 144.078\n",
      "Loss at step 23: 144.078\n",
      "Loss at step 24: 144.078\n",
      "Loss at step 25: 144.078\n",
      "Loss at step 26: 144.078\n",
      "Loss at step 27: 144.078\n",
      "Loss at step 28: 144.078\n",
      "Loss at step 29: 144.078\n",
      "Loss at step 30: 144.078\n",
      "Loss at step 31: 144.078\n",
      "Loss at step 32: 144.077\n",
      "Loss at step 33: 144.078\n",
      "Loss at step 34: 144.078\n",
      "Loss at step 35: 144.078\n",
      "Loss at step 36: 144.078\n",
      "Loss at step 37: 144.078\n",
      "Loss at step 38: 144.078\n",
      "Loss at step 39: 144.078\n",
      "Loss at step 40: 144.078\n",
      "Loss at step 41: 144.078\n",
      "Loss at step 42: 144.078\n",
      "Loss at step 43: 144.078\n",
      "Loss at step 44: 144.078\n",
      "Loss at step 45: 144.078\n",
      "Loss at step 46: 144.078\n",
      "Loss at step 47: 144.078\n",
      "Loss at step 48: 144.078\n",
      "Loss at step 49: 144.078\n",
      "Loss at step 50: 144.078\n",
      "Loss at step 51: 144.078\n",
      "Loss at step 52: 144.078\n",
      "Loss at step 53: 144.077\n",
      "Loss at step 54: 144.077\n",
      "Loss at step 55: 144.077\n",
      "Loss at step 56: 144.077\n",
      "Loss at step 57: 144.077\n",
      "Loss at step 58: 144.077\n",
      "Loss at step 59: 144.077\n",
      "Loss at step 60: 144.077\n",
      "Loss at step 61: 144.077\n",
      "Loss at step 62: 144.077\n",
      "Loss at step 63: 144.077\n",
      "Loss at step 64: 144.077\n",
      "Loss at step 65: 144.077\n",
      "Loss at step 66: 144.077\n",
      "Loss at step 67: 144.077\n",
      "Loss at step 68: 144.077\n",
      "Loss at step 69: 144.077\n",
      "Loss at step 70: 144.077\n",
      "Loss at step 71: 144.077\n",
      "Loss at step 72: 144.077\n",
      "Loss at step 73: 144.077\n",
      "Loss at step 74: 144.077\n",
      "Loss at step 75: 144.077\n",
      "Loss at step 76: 144.077\n",
      "Loss at step 77: 144.077\n",
      "Loss at step 78: 144.077\n",
      "Loss at step 79: 144.077\n",
      "Loss at step 80: 144.077\n",
      "Loss at step 81: 144.077\n",
      "Loss at step 82: 144.077\n",
      "Loss at step 83: 144.077\n",
      "Loss at step 84: 144.077\n",
      "Loss at step 85: 144.077\n",
      "Loss at step 86: 144.077\n",
      "Loss at step 87: 144.077\n",
      "Loss at step 88: 144.077\n",
      "Loss at step 89: 144.077\n",
      "Loss at step 90: 144.077\n",
      "Loss at step 91: 144.077\n",
      "Loss at step 92: 144.077\n",
      "Loss at step 93: 144.077\n",
      "Loss at step 94: 144.077\n",
      "Loss at step 95: 144.077\n",
      "Loss at step 96: 144.077\n",
      "Loss at step 97: 144.077\n",
      "Loss at step 98: 144.077\n",
      "Loss at step 99: 144.077\n"
     ]
    }
   ],
   "source": [
    "#how many times data need to be shown to model\n",
    "model = Model()\n",
    "training_epochs = 100\n",
    "train(X_train,y_train,training_epochs,0)"
   ]
  },
  {
   "cell_type": "code",
   "execution_count": 126,
   "metadata": {},
   "outputs": [
    {
     "name": "stdout",
     "output_type": "stream",
     "text": [
      "1\n",
      "Loss at step 0: 468.116\n",
      "Loss at step 5: 468.116\n",
      "Loss at step 10: 468.116\n",
      "Loss at step 15: 468.116\n",
      "Loss at step 20: 468.116\n",
      "Loss at step 25: 468.116\n",
      "Loss at step 30: 468.116\n",
      "Loss at step 35: 468.116\n",
      "Loss at step 40: 468.116\n",
      "Loss at step 45: 468.116\n",
      "Loss at step 50: 468.116\n",
      "Loss at step 55: 468.116\n",
      "Loss at step 60: 468.116\n",
      "Loss at step 65: 468.116\n",
      "Loss at step 70: 468.116\n",
      "Loss at step 75: 468.116\n",
      "Loss at step 80: 468.116\n",
      "Loss at step 85: 468.116\n",
      "Loss at step 90: 468.116\n",
      "Loss at step 95: 468.116\n"
     ]
    }
   ],
   "source": [
    "train(X_test,y_test,training_epochs,1)"
   ]
  },
  {
   "cell_type": "markdown",
   "metadata": {
    "colab_type": "text",
    "id": "DOL2ncA1OB7q"
   },
   "source": [
    "### Get the shapes and values of W and b"
   ]
  },
  {
   "cell_type": "code",
   "execution_count": 48,
   "metadata": {
    "colab": {},
    "colab_type": "code",
    "id": "ZGvtyTeuOB7r"
   },
   "outputs": [
    {
     "name": "stdout",
     "output_type": "stream",
     "text": [
      "W: <tf.Variable 'Weights:0' shape=(4, 1) dtype=float32, numpy=\n",
      "array([[1.2768772],\n",
      "       [1.2809805],\n",
      "       [1.2637109],\n",
      "       [1.2921484]], dtype=float32)>\n",
      "b: <tf.Variable 'Bias:0' shape=(1,) dtype=float32, numpy=array([2.557002], dtype=float32)>\n"
     ]
    }
   ],
   "source": [
    "print('W:',W)\n",
    "print('b:',b)"
   ]
  },
  {
   "cell_type": "code",
   "execution_count": 49,
   "metadata": {
    "colab": {},
    "colab_type": "code",
    "id": "vhDtOv5UOB7x"
   },
   "outputs": [],
   "source": [
    "y_test_pred = tf.add(tf.matmul(X_test,W),b,name='output')"
   ]
  },
  {
   "cell_type": "code",
   "execution_count": 50,
   "metadata": {},
   "outputs": [
    {
     "data": {
      "text/plain": [
       "<tf.Tensor: id=36753, shape=(), dtype=float32, numpy=469.1192>"
      ]
     },
     "execution_count": 50,
     "metadata": {},
     "output_type": "execute_result"
    }
   ],
   "source": [
    "loss(y_test_pred, y_test)"
   ]
  },
  {
   "cell_type": "markdown",
   "metadata": {
    "colab_type": "text",
    "id": "ERq9GOKKciho"
   },
   "source": [
    "### Model Prediction on 1st Examples in Test Dataset"
   ]
  },
  {
   "cell_type": "code",
   "execution_count": 152,
   "metadata": {
    "colab": {},
    "colab_type": "code",
    "id": "gKGvUWahcihp"
   },
   "outputs": [
    {
     "data": {
      "text/plain": [
       "<tf.Tensor: id=141502, shape=(1,), dtype=float32, numpy=array([5.0276537], dtype=float32)>"
      ]
     },
     "execution_count": 152,
     "metadata": {},
     "output_type": "execute_result"
    }
   ],
   "source": [
    "y_test_pred[0,:]"
   ]
  },
  {
   "cell_type": "markdown",
   "metadata": {
    "colab_type": "text",
    "id": "YJRBuqXhOB7_"
   },
   "source": [
    "## Classification using tf.Keras\n",
    "\n",
    "In this exercise, we will build a Deep Neural Network using tf.Keras. We will use Iris Dataset for this exercise."
   ]
  },
  {
   "cell_type": "markdown",
   "metadata": {
    "colab_type": "text",
    "id": "sb7Epo0VOB58"
   },
   "source": [
    "### Load tensorflow if not done already"
   ]
  },
  {
   "cell_type": "markdown",
   "metadata": {
    "colab_type": "text",
    "id": "O0g6lorycihf"
   },
   "source": [
    "### Load the given Iris data using pandas (Iris.csv)"
   ]
  },
  {
   "cell_type": "code",
   "execution_count": 3,
   "metadata": {
    "colab": {},
    "colab_type": "code",
    "id": "6xFvb5sRcihg"
   },
   "outputs": [
    {
     "name": "stdout",
     "output_type": "stream",
     "text": [
      "<class 'pandas.core.frame.DataFrame'>\n",
      "RangeIndex: 150 entries, 0 to 149\n",
      "Data columns (total 6 columns):\n",
      "Id               150 non-null int64\n",
      "SepalLengthCm    150 non-null float64\n",
      "SepalWidthCm     150 non-null float64\n",
      "PetalLengthCm    150 non-null float64\n",
      "PetalWidthCm     150 non-null float64\n",
      "Species          150 non-null object\n",
      "dtypes: float64(4), int64(1), object(1)\n",
      "memory usage: 7.1+ KB\n"
     ]
    }
   ],
   "source": [
    "import pandas as pd\n",
    "df = pd.read_csv('Iris.csv')\n",
    "df.info()"
   ]
  },
  {
   "cell_type": "markdown",
   "metadata": {
    "colab_type": "text",
    "id": "SAB--Qdwcihm"
   },
   "source": [
    "### Target set has different categories. So, Label encode them. And convert into one-hot vectors using get_dummies in pandas."
   ]
  },
  {
   "cell_type": "code",
   "execution_count": 6,
   "metadata": {
    "colab": {},
    "colab_type": "code",
    "id": "IJr5dYnocihm"
   },
   "outputs": [
    {
     "data": {
      "text/html": [
       "<div>\n",
       "<style scoped>\n",
       "    .dataframe tbody tr th:only-of-type {\n",
       "        vertical-align: middle;\n",
       "    }\n",
       "\n",
       "    .dataframe tbody tr th {\n",
       "        vertical-align: top;\n",
       "    }\n",
       "\n",
       "    .dataframe thead th {\n",
       "        text-align: right;\n",
       "    }\n",
       "</style>\n",
       "<table border=\"1\" class=\"dataframe\">\n",
       "  <thead>\n",
       "    <tr style=\"text-align: right;\">\n",
       "      <th></th>\n",
       "      <th>Id</th>\n",
       "      <th>SepalLengthCm</th>\n",
       "      <th>SepalWidthCm</th>\n",
       "      <th>PetalLengthCm</th>\n",
       "      <th>PetalWidthCm</th>\n",
       "      <th>Species_Iris-setosa</th>\n",
       "      <th>Species_Iris-versicolor</th>\n",
       "      <th>Species_Iris-virginica</th>\n",
       "    </tr>\n",
       "  </thead>\n",
       "  <tbody>\n",
       "    <tr>\n",
       "      <th>0</th>\n",
       "      <td>1</td>\n",
       "      <td>5.1</td>\n",
       "      <td>3.5</td>\n",
       "      <td>1.4</td>\n",
       "      <td>0.2</td>\n",
       "      <td>1</td>\n",
       "      <td>0</td>\n",
       "      <td>0</td>\n",
       "    </tr>\n",
       "    <tr>\n",
       "      <th>1</th>\n",
       "      <td>2</td>\n",
       "      <td>4.9</td>\n",
       "      <td>3.0</td>\n",
       "      <td>1.4</td>\n",
       "      <td>0.2</td>\n",
       "      <td>1</td>\n",
       "      <td>0</td>\n",
       "      <td>0</td>\n",
       "    </tr>\n",
       "    <tr>\n",
       "      <th>2</th>\n",
       "      <td>3</td>\n",
       "      <td>4.7</td>\n",
       "      <td>3.2</td>\n",
       "      <td>1.3</td>\n",
       "      <td>0.2</td>\n",
       "      <td>1</td>\n",
       "      <td>0</td>\n",
       "      <td>0</td>\n",
       "    </tr>\n",
       "    <tr>\n",
       "      <th>3</th>\n",
       "      <td>4</td>\n",
       "      <td>4.6</td>\n",
       "      <td>3.1</td>\n",
       "      <td>1.5</td>\n",
       "      <td>0.2</td>\n",
       "      <td>1</td>\n",
       "      <td>0</td>\n",
       "      <td>0</td>\n",
       "    </tr>\n",
       "    <tr>\n",
       "      <th>4</th>\n",
       "      <td>5</td>\n",
       "      <td>5.0</td>\n",
       "      <td>3.6</td>\n",
       "      <td>1.4</td>\n",
       "      <td>0.2</td>\n",
       "      <td>1</td>\n",
       "      <td>0</td>\n",
       "      <td>0</td>\n",
       "    </tr>\n",
       "  </tbody>\n",
       "</table>\n",
       "</div>"
      ],
      "text/plain": [
       "   Id  SepalLengthCm  SepalWidthCm  PetalLengthCm  PetalWidthCm  \\\n",
       "0   1            5.1           3.5            1.4           0.2   \n",
       "1   2            4.9           3.0            1.4           0.2   \n",
       "2   3            4.7           3.2            1.3           0.2   \n",
       "3   4            4.6           3.1            1.5           0.2   \n",
       "4   5            5.0           3.6            1.4           0.2   \n",
       "\n",
       "   Species_Iris-setosa  Species_Iris-versicolor  Species_Iris-virginica  \n",
       "0                    1                        0                       0  \n",
       "1                    1                        0                       0  \n",
       "2                    1                        0                       0  \n",
       "3                    1                        0                       0  \n",
       "4                    1                        0                       0  "
      ]
     },
     "execution_count": 6,
     "metadata": {},
     "output_type": "execute_result"
    }
   ],
   "source": [
    "df=pd.get_dummies(df)\n",
    "df.head()"
   ]
  },
  {
   "cell_type": "markdown",
   "metadata": {
    "colab_type": "text",
    "id": "D95nY5ILcihj"
   },
   "source": [
    "### Splitting the data into feature set and target set"
   ]
  },
  {
   "cell_type": "code",
   "execution_count": 7,
   "metadata": {
    "colab": {},
    "colab_type": "code",
    "id": "RyMQoLMucihj"
   },
   "outputs": [],
   "source": [
    "x = df.iloc[:,1:5]\n",
    "y = df.iloc[:,5:8]"
   ]
  },
  {
   "cell_type": "markdown",
   "metadata": {
    "colab_type": "text",
    "id": "ERq9GOKKciho"
   },
   "source": [
    "### Divide the dataset into Training and test (70:30)"
   ]
  },
  {
   "cell_type": "code",
   "execution_count": 8,
   "metadata": {
    "colab": {},
    "colab_type": "code",
    "id": "gKGvUWahcihp"
   },
   "outputs": [
    {
     "name": "stdout",
     "output_type": "stream",
     "text": [
      "(105, 4) (105, 3)\n",
      "(45, 4) (45, 3)\n"
     ]
    }
   ],
   "source": [
    "from sklearn.model_selection import train_test_split\n",
    "X_train, X_test, y_train, y_test = train_test_split(x,y, test_size=0.3,random_state=456)\n",
    "print (X_train.shape, y_train.shape)\n",
    "print (X_test.shape, y_test.shape)"
   ]
  },
  {
   "cell_type": "markdown",
   "metadata": {
    "colab_type": "text",
    "id": "b22qpC5xcihr"
   },
   "source": [
    "###  Building Model in tf.keras\n",
    "\n",
    "Build a Linear Classifier model  <br>\n",
    "1.  Use Dense Layer  with input shape of 4 (according to the feature set) and number of outputs set to 3<br> \n",
    "2. Apply Softmax on Dense Layer outputs <br>\n",
    "3. Use SGD as Optimizer\n",
    "4. Use categorical_crossentropy as loss function "
   ]
  },
  {
   "cell_type": "code",
   "execution_count": 27,
   "metadata": {
    "colab": {},
    "colab_type": "code",
    "id": "Hov_UFnUciht"
   },
   "outputs": [
    {
     "name": "stderr",
     "output_type": "stream",
     "text": [
      "C:\\Users\\sinamy\\AppData\\Local\\Continuum\\anaconda3\\lib\\site-packages\\ipykernel_launcher.py:8: UserWarning: Update your `Dense` call to the Keras 2 API: `Dense(3, input_dim=4, activation=\"softmax\", kernel_initializer=\"uniform\")`\n",
      "  \n"
     ]
    }
   ],
   "source": [
    "# Create simple network with Keras\n",
    "from keras.models import Sequential\n",
    "from keras.layers import Dense\n",
    "tf.disable_eager_execution()\n",
    "# Extending the first model with activation functions\n",
    "model = Sequential()\n",
    "#specifying activation functions\n",
    "model.add(Dense(3, input_dim=4, init='uniform', activation='softmax'))\n",
    "# Compile model\n",
    "model.compile(loss='categorical_crossentropy', optimizer='sgd', metrics=['accuracy'])"
   ]
  },
  {
   "cell_type": "markdown",
   "metadata": {
    "colab_type": "text",
    "id": "T5FdzqIKcihw"
   },
   "source": [
    "### Model Training "
   ]
  },
  {
   "cell_type": "code",
   "execution_count": 28,
   "metadata": {
    "colab": {},
    "colab_type": "code",
    "id": "4qLEdHPscihx"
   },
   "outputs": [
    {
     "name": "stderr",
     "output_type": "stream",
     "text": [
      "C:\\Users\\sinamy\\AppData\\Local\\Continuum\\anaconda3\\lib\\site-packages\\ipykernel_launcher.py:2: UserWarning: The `nb_epoch` argument in `fit` has been renamed `epochs`.\n",
      "  \n"
     ]
    },
    {
     "name": "stdout",
     "output_type": "stream",
     "text": [
      "Epoch 1/20\n",
      " - 1s - loss: 1.0350 - acc: 0.4571\n",
      "Epoch 2/20\n",
      " - 0s - loss: 0.9527 - acc: 0.6952\n",
      "Epoch 3/20\n",
      " - 0s - loss: 0.8946 - acc: 0.7333\n",
      "Epoch 4/20\n",
      " - 0s - loss: 0.8375 - acc: 0.7143\n",
      "Epoch 5/20\n",
      " - 0s - loss: 0.8160 - acc: 0.6667\n",
      "Epoch 6/20\n",
      " - 0s - loss: 0.7622 - acc: 0.7333\n",
      "Epoch 7/20\n",
      " - 0s - loss: 0.7366 - acc: 0.7143\n",
      "Epoch 8/20\n",
      " - 0s - loss: 0.7054 - acc: 0.7333\n",
      "Epoch 9/20\n",
      " - 0s - loss: 0.6913 - acc: 0.7143\n",
      "Epoch 10/20\n",
      " - 0s - loss: 0.6601 - acc: 0.7143\n",
      "Epoch 11/20\n",
      " - 0s - loss: 0.6451 - acc: 0.7143\n",
      "Epoch 12/20\n",
      " - 0s - loss: 0.6267 - acc: 0.7143\n",
      "Epoch 13/20\n",
      " - 0s - loss: 0.6184 - acc: 0.7333\n",
      "Epoch 14/20\n",
      " - 0s - loss: 0.6077 - acc: 0.7429\n",
      "Epoch 15/20\n",
      " - 0s - loss: 0.5944 - acc: 0.7143\n",
      "Epoch 16/20\n",
      " - 0s - loss: 0.5775 - acc: 0.7905\n",
      "Epoch 17/20\n",
      " - 0s - loss: 0.5698 - acc: 0.7429\n",
      "Epoch 18/20\n",
      " - 0s - loss: 0.5571 - acc: 0.7143\n",
      "Epoch 19/20\n",
      " - 0s - loss: 0.5582 - acc: 0.7524\n",
      "Epoch 20/20\n",
      " - 0s - loss: 0.5253 - acc: 0.9143\n",
      "105/105 [==============================] - 0s 1ms/step\n",
      "acc: 71.43%\n"
     ]
    }
   ],
   "source": [
    "# Fit the model\n",
    "model.fit(X_train, y_train, nb_epoch=20, batch_size=10,  verbose=2)\n",
    "# evaluate the model\n",
    "scores = model.evaluate(X_train, y_train)\n",
    "print(\"%s: %.2f%%\" % (model.metrics_names[1], scores[1]*100))"
   ]
  },
  {
   "cell_type": "code",
   "execution_count": 29,
   "metadata": {},
   "outputs": [
    {
     "name": "stdout",
     "output_type": "stream",
     "text": [
      "_________________________________________________________________\n",
      "Layer (type)                 Output Shape              Param #   \n",
      "=================================================================\n",
      "dense_9 (Dense)              (None, 3)                 15        \n",
      "=================================================================\n",
      "Total params: 15\n",
      "Trainable params: 15\n",
      "Non-trainable params: 0\n",
      "_________________________________________________________________\n"
     ]
    }
   ],
   "source": [
    "model.summary()"
   ]
  },
  {
   "cell_type": "markdown",
   "metadata": {
    "colab_type": "text",
    "id": "y-SgSSdRcih5"
   },
   "source": [
    "### Model Prediction"
   ]
  },
  {
   "cell_type": "code",
   "execution_count": 30,
   "metadata": {
    "colab": {},
    "colab_type": "code",
    "id": "GBgKZkhkcih6"
   },
   "outputs": [
    {
     "name": "stdout",
     "output_type": "stream",
     "text": [
      "45/45 [==============================] - 0s 119us/step\n",
      "[0.747825645075904, 0.5555555635028415]\n"
     ]
    },
    {
     "data": {
      "text/plain": [
       "array([[0.03944512, 0.20212527, 0.75842965],\n",
       "       [0.12312265, 0.25942904, 0.6174484 ],\n",
       "       [0.7618241 , 0.13750218, 0.10067376],\n",
       "       [0.15808238, 0.25812274, 0.5837949 ],\n",
       "       [0.7904687 , 0.12202542, 0.08750585],\n",
       "       [0.04872273, 0.21643433, 0.7348429 ],\n",
       "       [0.02751605, 0.17681377, 0.7956702 ],\n",
       "       [0.22466563, 0.2660287 , 0.50930566],\n",
       "       [0.05084636, 0.20588836, 0.7432653 ],\n",
       "       [0.13958418, 0.25961164, 0.60080415],\n",
       "       [0.09598118, 0.24448916, 0.6595297 ],\n",
       "       [0.14990285, 0.2596133 , 0.59048384],\n",
       "       [0.742519  , 0.1444818 , 0.1129992 ],\n",
       "       [0.09818966, 0.25220105, 0.64960927],\n",
       "       [0.05491167, 0.2080596 , 0.7370287 ],\n",
       "       [0.04340836, 0.2036572 , 0.7529345 ],\n",
       "       [0.03737795, 0.17436884, 0.7882532 ],\n",
       "       [0.15099038, 0.2717921 , 0.57721746],\n",
       "       [0.82453316, 0.10189032, 0.07357655],\n",
       "       [0.11126143, 0.24742736, 0.6413112 ],\n",
       "       [0.02233278, 0.15387413, 0.8237931 ],\n",
       "       [0.12035813, 0.24832767, 0.63131416],\n",
       "       [0.73373437, 0.14456156, 0.12170417],\n",
       "       [0.8250578 , 0.10305991, 0.07188223],\n",
       "       [0.204208  , 0.2864089 , 0.5093831 ],\n",
       "       [0.14584938, 0.26182443, 0.5923262 ],\n",
       "       [0.8207656 , 0.10575254, 0.07348185],\n",
       "       [0.04213712, 0.20477192, 0.753091  ],\n",
       "       [0.09793467, 0.2660409 , 0.6360244 ],\n",
       "       [0.75576293, 0.13936889, 0.10486821],\n",
       "       [0.76323086, 0.13651362, 0.10025553],\n",
       "       [0.10215324, 0.24993525, 0.6479115 ],\n",
       "       [0.15509841, 0.2791243 , 0.56577724],\n",
       "       [0.17306226, 0.27196902, 0.55496866],\n",
       "       [0.7416851 , 0.14389506, 0.1144199 ],\n",
       "       [0.7168173 , 0.15214078, 0.13104184],\n",
       "       [0.10781723, 0.2467224 , 0.64546037],\n",
       "       [0.15753375, 0.27389756, 0.56856877],\n",
       "       [0.02569492, 0.18926443, 0.7850406 ],\n",
       "       [0.78961736, 0.12427033, 0.08611229],\n",
       "       [0.07663193, 0.22424436, 0.69912374],\n",
       "       [0.04047797, 0.18070121, 0.7788208 ],\n",
       "       [0.1619418 , 0.25912538, 0.5789329 ],\n",
       "       [0.03037144, 0.18396027, 0.7856683 ],\n",
       "       [0.08391208, 0.22225498, 0.69383293]], dtype=float32)"
      ]
     },
     "execution_count": 30,
     "metadata": {},
     "output_type": "execute_result"
    }
   ],
   "source": [
    "scores = model.evaluate(X_test, y_test)\n",
    "print(scores)\n",
    "pred = model.predict(X_test)\n",
    "pred"
   ]
  },
  {
   "cell_type": "markdown",
   "metadata": {
    "colab_type": "text",
    "id": "P32ASP1Vjt0a"
   },
   "source": [
    "### Save the Model"
   ]
  },
  {
   "cell_type": "code",
   "execution_count": 31,
   "metadata": {
    "colab": {},
    "colab_type": "code",
    "id": "n8rd0jjAjyTR"
   },
   "outputs": [],
   "source": [
    "model.save('iris.h5')"
   ]
  },
  {
   "cell_type": "markdown",
   "metadata": {
    "colab_type": "text",
    "id": "XiipRpe7rbVh"
   },
   "source": [
    "### Build and Train a Deep Neural network with 2 hidden layer  - Optional - For Practice\n",
    "\n",
    "Does it perform better than Linear Classifier? What could be the reason for difference in performance?"
   ]
  }
 ],
 "metadata": {
  "colab": {
   "name": "3. R6_InternalLab_AIML_Share_Prices-Eager Execution.ipynb",
   "provenance": [],
   "version": "0.3.2"
  },
  "kernelspec": {
   "display_name": "Python 3",
   "language": "python",
   "name": "python3"
  },
  "language_info": {
   "codemirror_mode": {
    "name": "ipython",
    "version": 3
   },
   "file_extension": ".py",
   "mimetype": "text/x-python",
   "name": "python",
   "nbconvert_exporter": "python",
   "pygments_lexer": "ipython3",
   "version": "3.6.8"
  }
 },
 "nbformat": 4,
 "nbformat_minor": 1
}
