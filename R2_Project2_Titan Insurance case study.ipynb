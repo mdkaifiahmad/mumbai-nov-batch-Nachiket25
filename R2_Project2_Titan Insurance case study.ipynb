{
 "cells": [
  {
   "cell_type": "code",
   "execution_count": 13,
   "metadata": {},
   "outputs": [],
   "source": [
    "import numpy as np\n",
    "from scipy.stats import ttest_1samp , levene, shapiro\n",
    "from statsmodels.stats.power import ttest_power\n",
    "import pandas as pd"
   ]
  },
  {
   "cell_type": "code",
   "execution_count": 14,
   "metadata": {},
   "outputs": [
    {
     "data": {
      "text/html": [
       "<div>\n",
       "<style scoped>\n",
       "    .dataframe tbody tr th:only-of-type {\n",
       "        vertical-align: middle;\n",
       "    }\n",
       "\n",
       "    .dataframe tbody tr th {\n",
       "        vertical-align: top;\n",
       "    }\n",
       "\n",
       "    .dataframe thead th {\n",
       "        text-align: right;\n",
       "    }\n",
       "</style>\n",
       "<table border=\"1\" class=\"dataframe\">\n",
       "  <thead>\n",
       "    <tr style=\"text-align: right;\">\n",
       "      <th></th>\n",
       "      <th>SALESPERSON</th>\n",
       "      <th>Old Scheme (in thousands)</th>\n",
       "      <th>New Scheme (in thousands)</th>\n",
       "    </tr>\n",
       "  </thead>\n",
       "  <tbody>\n",
       "    <tr>\n",
       "      <th>0</th>\n",
       "      <td>1</td>\n",
       "      <td>57</td>\n",
       "      <td>62</td>\n",
       "    </tr>\n",
       "    <tr>\n",
       "      <th>1</th>\n",
       "      <td>2</td>\n",
       "      <td>103</td>\n",
       "      <td>122</td>\n",
       "    </tr>\n",
       "    <tr>\n",
       "      <th>2</th>\n",
       "      <td>3</td>\n",
       "      <td>59</td>\n",
       "      <td>54</td>\n",
       "    </tr>\n",
       "    <tr>\n",
       "      <th>3</th>\n",
       "      <td>4</td>\n",
       "      <td>75</td>\n",
       "      <td>82</td>\n",
       "    </tr>\n",
       "    <tr>\n",
       "      <th>4</th>\n",
       "      <td>5</td>\n",
       "      <td>84</td>\n",
       "      <td>84</td>\n",
       "    </tr>\n",
       "  </tbody>\n",
       "</table>\n",
       "</div>"
      ],
      "text/plain": [
       "   SALESPERSON  Old Scheme (in thousands)  New Scheme (in thousands)\n",
       "0            1                         57                         62\n",
       "1            2                        103                        122\n",
       "2            3                         59                         54\n",
       "3            4                         75                         82\n",
       "4            5                         84                         84"
      ]
     },
     "execution_count": 14,
     "metadata": {},
     "output_type": "execute_result"
    }
   ],
   "source": [
    "titan_df=pd.read_csv('titan_company.csv')\n",
    "titan_df.head()\n"
   ]
  },
  {
   "cell_type": "code",
   "execution_count": 15,
   "metadata": {},
   "outputs": [
    {
     "data": {
      "text/plain": [
       "68.03333333333333"
      ]
     },
     "execution_count": 15,
     "metadata": {},
     "output_type": "execute_result"
    }
   ],
   "source": [
    "# 1. Find the mean of old scheme and new scheme column.\n",
    "titan_df['Old Scheme (in thousands)'].mean()"
   ]
  },
  {
   "cell_type": "code",
   "execution_count": 16,
   "metadata": {},
   "outputs": [
    {
     "data": {
      "text/plain": [
       "72.03333333333333"
      ]
     },
     "execution_count": 16,
     "metadata": {},
     "output_type": "execute_result"
    }
   ],
   "source": [
    "titan_df['New Scheme (in thousands)'].mean()"
   ]
  },
  {
   "cell_type": "code",
   "execution_count": 19,
   "metadata": {},
   "outputs": [
    {
     "name": "stdout",
     "output_type": "stream",
     "text": [
      "(0.9885101914405823, 0.9813658595085144)\n",
      "(0.9687567353248596, 0.5057420134544373)\n",
      "Since both the tests have p-values greater than 0.05 so the data is normal. Now, go for variance test\n"
     ]
    }
   ],
   "source": [
    "# 2. Use the five percent significance test over the data to determine the p value to check new scheme has significantly raised outputs?\n",
    "# H0: mean_old=mean_new\n",
    "# Ha: mean_new>mean_old\n",
    "#First test the normality by shapiron test\n",
    "#Group 1 Test\n",
    "group1=(titan_df['Old Scheme (in thousands)'])\n",
    "print (shapiro(group1))\n",
    "#Group 2 Test\n",
    "group2=(titan_df['New Scheme (in thousands)'])\n",
    "print (shapiro(group2))\n",
    "\n",
    "print ('Since both the tests have p-values greater than 0.05 so the data is normal. Now, go for variance test')"
   ]
  },
  {
   "cell_type": "code",
   "execution_count": 20,
   "metadata": {},
   "outputs": [
    {
     "name": "stdout",
     "output_type": "stream",
     "text": [
      "LeveneResult(statistic=1.063061539437244, pvalue=0.30679836081811235)\n",
      " \n",
      "Since p-value is greater than 0.05 so the variance test is also satisfied. i.e both the groups have the same variance. So, Now let's go for parametric Test.\n"
     ]
    }
   ],
   "source": [
    "#Testing variance Test. Since our data is normalized we will go with levene Test\n",
    "print (levene(group1,group2))\n",
    "print (' ')\n",
    "print ('Since p-value is greater than 0.05 so the variance test is also satisfied. i.e both the groups have the same variance. So, Now let\\'s go for parametric Test.')"
   ]
  },
  {
   "cell_type": "code",
   "execution_count": 21,
   "metadata": {},
   "outputs": [
    {
     "name": "stdout",
     "output_type": "stream",
     "text": [
      "paired t-test p-value= 0.13057553961337662\n"
     ]
    }
   ],
   "source": [
    "#T Test\n",
    "t_statistic, p_value = ttest_1samp(group2 - group1,0)#(post-pre) \n",
    "print (\"paired t-test p-value=\", p_value)"
   ]
  },
  {
   "cell_type": "code",
   "execution_count": 22,
   "metadata": {},
   "outputs": [
    {
     "name": "stdout",
     "output_type": "stream",
     "text": [
      "Conclusion: THe claimed data or hypothesis (H0) is accepted. And which tells us that the new scheme by the company has not significantly raised the output.\n"
     ]
    }
   ],
   "source": [
    "# 3. What conclusion does the test (p-value) lead to?\n",
    "print ('Conclusion: THe claimed data or hypothesis (H0) is accepted. And which tells us that the new scheme by the company has not significantly raised the output.')"
   ]
  },
  {
   "cell_type": "code",
   "execution_count": 44,
   "metadata": {},
   "outputs": [
    {
     "name": "stdout",
     "output_type": "stream",
     "text": [
      "Mean of difference column: -4.0\n"
     ]
    },
    {
     "data": {
      "text/plain": [
       "0.0015212146316676064"
      ]
     },
     "execution_count": 44,
     "metadata": {},
     "output_type": "execute_result"
    }
   ],
   "source": [
    "# 4. Suppose it has been calculated that in order for Titan to break even, the average output must increase by £5000 in the scheme compared to the old scheme. If this figure is alternative hypothesis, what is:\n",
    "#        a) The probability of a type 1 error? (2 points)\n",
    "\n",
    "#        b) What is the p- value of the hypothesis test if we test for a difference of $5000? (8 points)\n",
    "\n",
    "#        c) Power of the test (5 points) \n",
    "\n",
    "#b)\n",
    "# H0: mean_difference<=5\n",
    "# Ha: mean_difference>5 \n",
    "titan_df['difference (in thousands)']=titan_df['Old Scheme (in thousands)']-titan_df['New Scheme (in thousands)']\n",
    "print('Mean of difference column:',titan_df['difference (in thousands)'].mean())\n",
    "#now we have to check whether the mean of the difference column is <=5 or >5 (in thousands) \n",
    "t_statistic, p_value1 = ttest_1samp(titan_df['difference (in thousands)'],5)\n",
    "p_value1"
   ]
  },
  {
   "cell_type": "code",
   "execution_count": 43,
   "metadata": {},
   "outputs": [
    {
     "name": "stdout",
     "output_type": "stream",
     "text": [
      "The probability of a type 1 error: 0.15\n"
     ]
    }
   ],
   "source": [
    "#a)\n",
    "print ('The probability of a type 1 error: {:.2F}'.format(p_value1*100))"
   ]
  },
  {
   "cell_type": "code",
   "execution_count": 45,
   "metadata": {},
   "outputs": [
    {
     "data": {
      "text/plain": [
       "0.6128748841415592"
      ]
     },
     "execution_count": 45,
     "metadata": {},
     "output_type": "execute_result"
    }
   ],
   "source": [
    "#c)\n",
    "n2=n1=len(titan_df)\n",
    "#since n1 and n2 are same\n",
    "d=(5/ np.std(titan_df['difference (in thousands)']))\n",
    "#d=(np.mean(group1) - np.mean(group2)) / np.sqrt(((n1-1)*np.var(group1)+(n2-1)*np.var(group2)) / n1+n2-2)\n",
    "ttest_power(d, nobs=n1, alpha=0.05, alternative='larger')#since we have left side rejection region the area towards right is large. (since program always computes from left to right)\n"
   ]
  },
  {
   "cell_type": "code",
   "execution_count": null,
   "metadata": {},
   "outputs": [],
   "source": []
  }
 ],
 "metadata": {
  "kernelspec": {
   "display_name": "Python 3",
   "language": "python",
   "name": "python3"
  },
  "language_info": {
   "codemirror_mode": {
    "name": "ipython",
    "version": 3
   },
   "file_extension": ".py",
   "mimetype": "text/x-python",
   "name": "python",
   "nbconvert_exporter": "python",
   "pygments_lexer": "ipython3",
   "version": "3.6.5"
  }
 },
 "nbformat": 4,
 "nbformat_minor": 2
}
