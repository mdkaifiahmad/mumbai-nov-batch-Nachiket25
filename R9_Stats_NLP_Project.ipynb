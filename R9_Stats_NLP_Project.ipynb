{
 "cells": [
  {
   "cell_type": "markdown",
   "metadata": {
    "colab_type": "text",
    "id": "6Rc_ahEnTF9m"
   },
   "source": [
    "# Predict tags on StackOverflow with linear models"
   ]
  },
  {
   "cell_type": "markdown",
   "metadata": {
    "colab_type": "text",
    "id": "E5hmogPBTF9p"
   },
   "source": [
    "In this assignment you will learn how to predict tags for posts from [StackOverflow](https://stackoverflow.com). To solve this task you will use multilabel classification approach.\n",
    "\n",
    "### Libraries\n",
    "\n",
    "In this task you will need the following libraries:\n",
    "- [Numpy](http://www.numpy.org) — a package for scientific computing.\n",
    "- [Pandas](https://pandas.pydata.org) — a library providing high-performance, easy-to-use data structures and data analysis tools for the Python\n",
    "- [scikit-learn](http://scikit-learn.org/stable/index.html) — a tool for data mining and data analysis.\n",
    "- [NLTK](http://www.nltk.org) — a platform to work with natural language."
   ]
  },
  {
   "cell_type": "markdown",
   "metadata": {
    "colab_type": "text",
    "id": "zSq4Uzh6TF9q"
   },
   "source": [
    "### Data\n",
    "\n",
    "You can find all data required for this assignment into the folder `/data`."
   ]
  },
  {
   "cell_type": "markdown",
   "metadata": {
    "colab_type": "text",
    "id": "2V1gba1KTF9r"
   },
   "source": [
    "### Text preprocessing"
   ]
  },
  {
   "cell_type": "markdown",
   "metadata": {
    "colab_type": "text",
    "id": "WnvsWcP9TF9t"
   },
   "source": [
    "For this assignment you will need to use a list of stop words. It can be downloaded from *nltk*:"
   ]
  },
  {
   "cell_type": "code",
   "execution_count": 1,
   "metadata": {
    "colab": {
     "base_uri": "https://localhost:8080/",
     "height": 51
    },
    "colab_type": "code",
    "executionInfo": {
     "elapsed": 2759,
     "status": "ok",
     "timestamp": 1563017919175,
     "user": {
      "displayName": "Ravi Saxena",
      "photoUrl": "https://lh5.googleusercontent.com/-VdmC3xQr3Ck/AAAAAAAAAAI/AAAAAAAAA1o/UNixZN4E1D8/s64/photo.jpg",
      "userId": "14135883433938930528"
     },
     "user_tz": -330
    },
    "id": "R-RxVRvsTF9u",
    "outputId": "0a3a2822-fc9c-47ef-f0b3-ca8dc02cc949"
   },
   "outputs": [
    {
     "name": "stdout",
     "output_type": "stream",
     "text": [
      "[nltk_data] Downloading package stopwords to F:\\Anaconda\\nltk_data...\n",
      "[nltk_data]   Package stopwords is already up-to-date!\n"
     ]
    }
   ],
   "source": [
    "import nltk\n",
    "nltk.download('stopwords')\n",
    "from nltk.corpus import stopwords"
   ]
  },
  {
   "cell_type": "markdown",
   "metadata": {
    "colab_type": "text",
    "id": "ErHWjimITF91"
   },
   "source": [
    "In this task you will deal with a dataset of post titles from StackOverflow. You are provided a split to 3 sets: *train*, *validation* and *test*. All corpora (except for *test*) contain titles of the posts and corresponding tags (100 tags are available). The *test* set doesn't contain answers. Upload the corpora using *pandas* and look at the data:"
   ]
  },
  {
   "cell_type": "code",
   "execution_count": 2,
   "metadata": {
    "colab": {},
    "colab_type": "code",
    "id": "-ufeO-nfVGha"
   },
   "outputs": [],
   "source": [
    "from ast import literal_eval\n",
    "import pandas as pd\n",
    "import numpy as np"
   ]
  },
  {
   "cell_type": "markdown",
   "metadata": {
    "colab_type": "text",
    "id": "pDahiblaU-e7"
   },
   "source": [
    "Literal_eval package takes care of the preprocessing for the string so that it can be used in python. To know more on literal_eval please see the below documentation <br>\n",
    "https://kite.com/python/docs/ast.literal_eval"
   ]
  },
  {
   "cell_type": "markdown",
   "metadata": {
    "colab_type": "text",
    "id": "bubX7TSLVLXR"
   },
   "source": [
    "## Task 1: Create training, testing and validation data from the files given. Use title to be the independent variable and tags to be the dependent variable ( 5 points)"
   ]
  },
  {
   "cell_type": "markdown",
   "metadata": {
    "colab_type": "text",
    "id": "KBFMf3bhVPb_"
   },
   "source": [
    "Note: Ensure you apply literal_eval function on the tags column to ensure all the tags are readable in python"
   ]
  },
  {
   "cell_type": "code",
   "execution_count": 3,
   "metadata": {
    "colab": {},
    "colab_type": "code",
    "id": "x8iH7o77TF96"
   },
   "outputs": [
    {
     "data": {
      "text/html": [
       "<div>\n",
       "<style scoped>\n",
       "    .dataframe tbody tr th:only-of-type {\n",
       "        vertical-align: middle;\n",
       "    }\n",
       "\n",
       "    .dataframe tbody tr th {\n",
       "        vertical-align: top;\n",
       "    }\n",
       "\n",
       "    .dataframe thead th {\n",
       "        text-align: right;\n",
       "    }\n",
       "</style>\n",
       "<table border=\"1\" class=\"dataframe\">\n",
       "  <thead>\n",
       "    <tr style=\"text-align: right;\">\n",
       "      <th></th>\n",
       "      <th>title</th>\n",
       "      <th>tags</th>\n",
       "    </tr>\n",
       "  </thead>\n",
       "  <tbody>\n",
       "    <tr>\n",
       "      <th>0</th>\n",
       "      <td>How to draw a stacked dotplot in R?</td>\n",
       "      <td>['r']</td>\n",
       "    </tr>\n",
       "    <tr>\n",
       "      <th>1</th>\n",
       "      <td>mysql select all records where a datetime fiel...</td>\n",
       "      <td>['php', 'mysql']</td>\n",
       "    </tr>\n",
       "    <tr>\n",
       "      <th>2</th>\n",
       "      <td>How to terminate windows phone 8.1 app</td>\n",
       "      <td>['c#']</td>\n",
       "    </tr>\n",
       "    <tr>\n",
       "      <th>3</th>\n",
       "      <td>get current time in a specific country via jquery</td>\n",
       "      <td>['javascript', 'jquery']</td>\n",
       "    </tr>\n",
       "    <tr>\n",
       "      <th>4</th>\n",
       "      <td>Configuring Tomcat to Use SSL</td>\n",
       "      <td>['java']</td>\n",
       "    </tr>\n",
       "  </tbody>\n",
       "</table>\n",
       "</div>"
      ],
      "text/plain": [
       "                                               title                      tags\n",
       "0                How to draw a stacked dotplot in R?                     ['r']\n",
       "1  mysql select all records where a datetime fiel...          ['php', 'mysql']\n",
       "2             How to terminate windows phone 8.1 app                    ['c#']\n",
       "3  get current time in a specific country via jquery  ['javascript', 'jquery']\n",
       "4                      Configuring Tomcat to Use SSL                  ['java']"
      ]
     },
     "execution_count": 3,
     "metadata": {},
     "output_type": "execute_result"
    }
   ],
   "source": [
    "train=pd.read_csv('train.tsv',sep='\\t') #or you can use pd.read_table('train.tsv') without specifying seperator \n",
    "train.head()"
   ]
  },
  {
   "cell_type": "code",
   "execution_count": 4,
   "metadata": {
    "colab": {
     "base_uri": "https://localhost:8080/",
     "height": 122
    },
    "colab_type": "code",
    "executionInfo": {
     "elapsed": 23629,
     "status": "ok",
     "timestamp": 1563017953088,
     "user": {
      "displayName": "Ravi Saxena",
      "photoUrl": "https://lh5.googleusercontent.com/-VdmC3xQr3Ck/AAAAAAAAAAI/AAAAAAAAA1o/UNixZN4E1D8/s64/photo.jpg",
      "userId": "14135883433938930528"
     },
     "user_tz": -330
    },
    "id": "SHVNyn7JGDX7",
    "outputId": "fb46b32b-2ba2-4716-8c23-c0dd0199d44b"
   },
   "outputs": [
    {
     "data": {
      "text/html": [
       "<div>\n",
       "<style scoped>\n",
       "    .dataframe tbody tr th:only-of-type {\n",
       "        vertical-align: middle;\n",
       "    }\n",
       "\n",
       "    .dataframe tbody tr th {\n",
       "        vertical-align: top;\n",
       "    }\n",
       "\n",
       "    .dataframe thead th {\n",
       "        text-align: right;\n",
       "    }\n",
       "</style>\n",
       "<table border=\"1\" class=\"dataframe\">\n",
       "  <thead>\n",
       "    <tr style=\"text-align: right;\">\n",
       "      <th></th>\n",
       "      <th>title</th>\n",
       "    </tr>\n",
       "  </thead>\n",
       "  <tbody>\n",
       "    <tr>\n",
       "      <th>0</th>\n",
       "      <td>Warning: mysql_query() expects parameter 2 to ...</td>\n",
       "    </tr>\n",
       "    <tr>\n",
       "      <th>1</th>\n",
       "      <td>get click coordinates from &lt;input type='image'...</td>\n",
       "    </tr>\n",
       "    <tr>\n",
       "      <th>2</th>\n",
       "      <td>How to implement cloud storage for media asset...</td>\n",
       "    </tr>\n",
       "    <tr>\n",
       "      <th>3</th>\n",
       "      <td>What is catcomplete in jQuery's autocomplete p...</td>\n",
       "    </tr>\n",
       "    <tr>\n",
       "      <th>4</th>\n",
       "      <td>Error building Android app with Cordova 3.1 CLI</td>\n",
       "    </tr>\n",
       "  </tbody>\n",
       "</table>\n",
       "</div>"
      ],
      "text/plain": [
       "                                               title\n",
       "0  Warning: mysql_query() expects parameter 2 to ...\n",
       "1  get click coordinates from <input type='image'...\n",
       "2  How to implement cloud storage for media asset...\n",
       "3  What is catcomplete in jQuery's autocomplete p...\n",
       "4    Error building Android app with Cordova 3.1 CLI"
      ]
     },
     "execution_count": 4,
     "metadata": {},
     "output_type": "execute_result"
    }
   ],
   "source": [
    "test=pd.read_csv('test.tsv',sep='\\t') #or you can use pd.read_table('train.tsv') without specifying seperator \n",
    "test.head()"
   ]
  },
  {
   "cell_type": "code",
   "execution_count": 5,
   "metadata": {
    "colab": {},
    "colab_type": "code",
    "id": "HPaUfSVvTF99"
   },
   "outputs": [
    {
     "data": {
      "text/html": [
       "<div>\n",
       "<style scoped>\n",
       "    .dataframe tbody tr th:only-of-type {\n",
       "        vertical-align: middle;\n",
       "    }\n",
       "\n",
       "    .dataframe tbody tr th {\n",
       "        vertical-align: top;\n",
       "    }\n",
       "\n",
       "    .dataframe thead th {\n",
       "        text-align: right;\n",
       "    }\n",
       "</style>\n",
       "<table border=\"1\" class=\"dataframe\">\n",
       "  <thead>\n",
       "    <tr style=\"text-align: right;\">\n",
       "      <th></th>\n",
       "      <th>title</th>\n",
       "      <th>tags</th>\n",
       "    </tr>\n",
       "  </thead>\n",
       "  <tbody>\n",
       "    <tr>\n",
       "      <th>0</th>\n",
       "      <td>Why odbc_exec always fail?</td>\n",
       "      <td>['php', 'sql']</td>\n",
       "    </tr>\n",
       "    <tr>\n",
       "      <th>1</th>\n",
       "      <td>Access a base classes variable from within a c...</td>\n",
       "      <td>['javascript']</td>\n",
       "    </tr>\n",
       "    <tr>\n",
       "      <th>2</th>\n",
       "      <td>Content-Type \"application/json\" not required i...</td>\n",
       "      <td>['ruby-on-rails', 'ruby']</td>\n",
       "    </tr>\n",
       "    <tr>\n",
       "      <th>3</th>\n",
       "      <td>Sessions in Sinatra: Used to Pass Variable</td>\n",
       "      <td>['ruby', 'session']</td>\n",
       "    </tr>\n",
       "    <tr>\n",
       "      <th>4</th>\n",
       "      <td>Getting error - type \"json\" does not exist - i...</td>\n",
       "      <td>['ruby-on-rails', 'ruby', 'json']</td>\n",
       "    </tr>\n",
       "  </tbody>\n",
       "</table>\n",
       "</div>"
      ],
      "text/plain": [
       "                                               title  \\\n",
       "0                         Why odbc_exec always fail?   \n",
       "1  Access a base classes variable from within a c...   \n",
       "2  Content-Type \"application/json\" not required i...   \n",
       "3         Sessions in Sinatra: Used to Pass Variable   \n",
       "4  Getting error - type \"json\" does not exist - i...   \n",
       "\n",
       "                                tags  \n",
       "0                     ['php', 'sql']  \n",
       "1                     ['javascript']  \n",
       "2          ['ruby-on-rails', 'ruby']  \n",
       "3                ['ruby', 'session']  \n",
       "4  ['ruby-on-rails', 'ruby', 'json']  "
      ]
     },
     "execution_count": 5,
     "metadata": {},
     "output_type": "execute_result"
    }
   ],
   "source": [
    "Validate=pd.read_csv('Validation.tsv',sep='\\t')\n",
    "Validate.head()"
   ]
  },
  {
   "cell_type": "code",
   "execution_count": 6,
   "metadata": {
    "colab": {
     "base_uri": "https://localhost:8080/",
     "height": 204
    },
    "colab_type": "code",
    "executionInfo": {
     "elapsed": 1798,
     "status": "ok",
     "timestamp": 1563017999194,
     "user": {
      "displayName": "Ravi Saxena",
      "photoUrl": "https://lh5.googleusercontent.com/-VdmC3xQr3Ck/AAAAAAAAAAI/AAAAAAAAA1o/UNixZN4E1D8/s64/photo.jpg",
      "userId": "14135883433938930528"
     },
     "user_tz": -330
    },
    "id": "btSJ0tc7IWKw",
    "outputId": "3bb27bd8-a2d8-404d-e9ad-be68e2876441"
   },
   "outputs": [],
   "source": [
    "train['tags']=train.tags.apply(lambda x: literal_eval(x))"
   ]
  },
  {
   "cell_type": "code",
   "execution_count": 7,
   "metadata": {
    "colab": {
     "base_uri": "https://localhost:8080/",
     "height": 136
    },
    "colab_type": "code",
    "executionInfo": {
     "elapsed": 1424,
     "status": "ok",
     "timestamp": 1563018003004,
     "user": {
      "displayName": "Ravi Saxena",
      "photoUrl": "https://lh5.googleusercontent.com/-VdmC3xQr3Ck/AAAAAAAAAAI/AAAAAAAAA1o/UNixZN4E1D8/s64/photo.jpg",
      "userId": "14135883433938930528"
     },
     "user_tz": -330
    },
    "id": "LWOSeQOCIY18",
    "outputId": "2fdd4f3b-f9da-4220-8ae5-e4318ee37cbc"
   },
   "outputs": [
    {
     "data": {
      "text/html": [
       "<div>\n",
       "<style scoped>\n",
       "    .dataframe tbody tr th:only-of-type {\n",
       "        vertical-align: middle;\n",
       "    }\n",
       "\n",
       "    .dataframe tbody tr th {\n",
       "        vertical-align: top;\n",
       "    }\n",
       "\n",
       "    .dataframe thead th {\n",
       "        text-align: right;\n",
       "    }\n",
       "</style>\n",
       "<table border=\"1\" class=\"dataframe\">\n",
       "  <thead>\n",
       "    <tr style=\"text-align: right;\">\n",
       "      <th></th>\n",
       "      <th>title</th>\n",
       "      <th>tags</th>\n",
       "    </tr>\n",
       "  </thead>\n",
       "  <tbody>\n",
       "    <tr>\n",
       "      <th>0</th>\n",
       "      <td>How to draw a stacked dotplot in R?</td>\n",
       "      <td>[r]</td>\n",
       "    </tr>\n",
       "    <tr>\n",
       "      <th>1</th>\n",
       "      <td>mysql select all records where a datetime fiel...</td>\n",
       "      <td>[php, mysql]</td>\n",
       "    </tr>\n",
       "    <tr>\n",
       "      <th>2</th>\n",
       "      <td>How to terminate windows phone 8.1 app</td>\n",
       "      <td>[c#]</td>\n",
       "    </tr>\n",
       "    <tr>\n",
       "      <th>3</th>\n",
       "      <td>get current time in a specific country via jquery</td>\n",
       "      <td>[javascript, jquery]</td>\n",
       "    </tr>\n",
       "    <tr>\n",
       "      <th>4</th>\n",
       "      <td>Configuring Tomcat to Use SSL</td>\n",
       "      <td>[java]</td>\n",
       "    </tr>\n",
       "  </tbody>\n",
       "</table>\n",
       "</div>"
      ],
      "text/plain": [
       "                                               title                  tags\n",
       "0                How to draw a stacked dotplot in R?                   [r]\n",
       "1  mysql select all records where a datetime fiel...          [php, mysql]\n",
       "2             How to terminate windows phone 8.1 app                  [c#]\n",
       "3  get current time in a specific country via jquery  [javascript, jquery]\n",
       "4                      Configuring Tomcat to Use SSL                [java]"
      ]
     },
     "execution_count": 7,
     "metadata": {},
     "output_type": "execute_result"
    }
   ],
   "source": [
    "train.head()"
   ]
  },
  {
   "cell_type": "code",
   "execution_count": 8,
   "metadata": {
    "colab": {
     "base_uri": "https://localhost:8080/",
     "height": 204
    },
    "colab_type": "code",
    "executionInfo": {
     "elapsed": 1360,
     "status": "ok",
     "timestamp": 1563018005497,
     "user": {
      "displayName": "Ravi Saxena",
      "photoUrl": "https://lh5.googleusercontent.com/-VdmC3xQr3Ck/AAAAAAAAAAI/AAAAAAAAA1o/UNixZN4E1D8/s64/photo.jpg",
      "userId": "14135883433938930528"
     },
     "user_tz": -330
    },
    "id": "d4pPOmFvTF-B",
    "outputId": "5a6ecb53-9972-40b6-9024-e9c6ac475b12"
   },
   "outputs": [],
   "source": [
    "Validate['tags']=Validate.tags.apply(lambda x: literal_eval(x))"
   ]
  },
  {
   "cell_type": "code",
   "execution_count": 9,
   "metadata": {},
   "outputs": [
    {
     "data": {
      "text/html": [
       "<div>\n",
       "<style scoped>\n",
       "    .dataframe tbody tr th:only-of-type {\n",
       "        vertical-align: middle;\n",
       "    }\n",
       "\n",
       "    .dataframe tbody tr th {\n",
       "        vertical-align: top;\n",
       "    }\n",
       "\n",
       "    .dataframe thead th {\n",
       "        text-align: right;\n",
       "    }\n",
       "</style>\n",
       "<table border=\"1\" class=\"dataframe\">\n",
       "  <thead>\n",
       "    <tr style=\"text-align: right;\">\n",
       "      <th></th>\n",
       "      <th>title</th>\n",
       "      <th>tags</th>\n",
       "    </tr>\n",
       "  </thead>\n",
       "  <tbody>\n",
       "    <tr>\n",
       "      <th>0</th>\n",
       "      <td>Why odbc_exec always fail?</td>\n",
       "      <td>[php, sql]</td>\n",
       "    </tr>\n",
       "    <tr>\n",
       "      <th>1</th>\n",
       "      <td>Access a base classes variable from within a c...</td>\n",
       "      <td>[javascript]</td>\n",
       "    </tr>\n",
       "    <tr>\n",
       "      <th>2</th>\n",
       "      <td>Content-Type \"application/json\" not required i...</td>\n",
       "      <td>[ruby-on-rails, ruby]</td>\n",
       "    </tr>\n",
       "    <tr>\n",
       "      <th>3</th>\n",
       "      <td>Sessions in Sinatra: Used to Pass Variable</td>\n",
       "      <td>[ruby, session]</td>\n",
       "    </tr>\n",
       "    <tr>\n",
       "      <th>4</th>\n",
       "      <td>Getting error - type \"json\" does not exist - i...</td>\n",
       "      <td>[ruby-on-rails, ruby, json]</td>\n",
       "    </tr>\n",
       "  </tbody>\n",
       "</table>\n",
       "</div>"
      ],
      "text/plain": [
       "                                               title  \\\n",
       "0                         Why odbc_exec always fail?   \n",
       "1  Access a base classes variable from within a c...   \n",
       "2  Content-Type \"application/json\" not required i...   \n",
       "3         Sessions in Sinatra: Used to Pass Variable   \n",
       "4  Getting error - type \"json\" does not exist - i...   \n",
       "\n",
       "                          tags  \n",
       "0                   [php, sql]  \n",
       "1                 [javascript]  \n",
       "2        [ruby-on-rails, ruby]  \n",
       "3              [ruby, session]  \n",
       "4  [ruby-on-rails, ruby, json]  "
      ]
     },
     "execution_count": 9,
     "metadata": {},
     "output_type": "execute_result"
    }
   ],
   "source": [
    "Validate.head()"
   ]
  },
  {
   "cell_type": "code",
   "execution_count": null,
   "metadata": {
    "colab": {},
    "colab_type": "code",
    "id": "USlubitlTF-G"
   },
   "outputs": [],
   "source": []
  },
  {
   "cell_type": "markdown",
   "metadata": {
    "colab_type": "text",
    "id": "Bcb3kXUSTF-M"
   },
   "source": [
    "## Task 2 (Pre-processing). Implement the function *text_prepare* following the instructions. After that, run the function *test_test_prepare* to test it on tiny cases. (10 points)\n",
    "\n",
    "One of the most known difficulties when working with natural data is that it's unstructured. For example, if you use it \"as is\" and extract tokens just by splitting the titles by whitespaces, you will see that there are many \"weird\" tokens like *3.5*, *?*,  *{}*, etc. To prevent the problems, it's usually useful to prepare the data in a custom way\n"
   ]
  },
  {
   "cell_type": "code",
   "execution_count": 10,
   "metadata": {
    "colab": {},
    "colab_type": "code",
    "id": "PBSchmxtTF-N"
   },
   "outputs": [],
   "source": [
    "import re"
   ]
  },
  {
   "cell_type": "code",
   "execution_count": 11,
   "metadata": {},
   "outputs": [
    {
     "data": {
      "text/plain": [
       "'+nachiket09'"
      ]
     },
     "execution_count": 11,
     "metadata": {},
     "output_type": "execute_result"
    }
   ],
   "source": [
    "#Testing\n",
    "BAD_SYMBOLS_RE = re.compile('[^0-9a-z #+_]') # here ^ represents 'not'. So its subsequent symbols will be not be removed\n",
    "text =re.sub(BAD_SYMBOLS_RE, '', '[()))[][]@;]+nachiket09-')\n",
    "#re.sub(r'\\W+', '', '[()))[][]@;]nachiket09_') #This will replace evcerything excapt number, alphabet and _ \n",
    "text"
   ]
  },
  {
   "cell_type": "code",
   "execution_count": 12,
   "metadata": {
    "colab": {},
    "colab_type": "code",
    "id": "iI1plv6WTF-R"
   },
   "outputs": [],
   "source": [
    "REPLACE_BY_SPACE_RE = re.compile('[/(){}\\[\\]\\|@,;]')\n",
    "BAD_SYMBOLS_RE = re.compile('[^0-9a-z #+_]')\n",
    "STOPWORDS = set(stopwords.words('english'))\n",
    "\n",
    "def text_prepare(text): ### The function will take in text and lower case it remove the stopwords, symbols and return it.\n",
    "    text =text.lower()                             ### Write a code which can change the input text to lowercase.\n",
    "    text =re.sub(REPLACE_BY_SPACE_RE, '', text)    ### Write a code which replaces REPLACE_BY_SPACE_RE (above mentioned) symbols by space in text\n",
    "    text =re.sub(BAD_SYMBOLS_RE, '', text)        ### Write a code which deletes symbols which are in BAD_SYMBOLS_RE (above mentioned) from text\n",
    "    tokens = tokenizer.tokenize(text)\n",
    "    tokens = [token.strip() for token in tokens]\n",
    "    filtered_tokens = [token for token in tokens if token not in STOPWORDS]\n",
    "    text = ' '.join(filtered_tokens)          ### Write a code which deletes stopwords from text\n",
    "    return text"
   ]
  },
  {
   "cell_type": "code",
   "execution_count": 13,
   "metadata": {
    "colab": {},
    "colab_type": "code",
    "id": "t5LQEgMATF-Y"
   },
   "outputs": [],
   "source": [
    "def test_text_prepare():\n",
    "    examples = [\"SQL Server - any equivalent of Excel's CHOOSE function?\",\n",
    "                \"How to free c++ memory vector<int> * arr?\"]\n",
    "    answers = [\"sql server equivalent excels choose function\", \n",
    "               \"free c++ memory vectorint arr\"]\n",
    "    for ex, ans in zip(examples, answers):\n",
    "        if text_prepare(ex) != ans:\n",
    "            return \"Wrong answer for the case: '%s'\" % ex\n",
    "    return 'Basic tests are passed.'"
   ]
  },
  {
   "cell_type": "code",
   "execution_count": 14,
   "metadata": {},
   "outputs": [
    {
     "data": {
      "text/plain": [
       "['SQL',\n",
       " 'Server',\n",
       " '-',\n",
       " 'any',\n",
       " 'equivalent',\n",
       " 'of',\n",
       " 'Excel',\n",
       " \"'\",\n",
       " 's',\n",
       " 'CHOOSE',\n",
       " 'function',\n",
       " '?']"
      ]
     },
     "execution_count": 14,
     "metadata": {},
     "output_type": "execute_result"
    }
   ],
   "source": [
    "from nltk.tokenize.toktok import ToktokTokenizer\n",
    "tokenizer = ToktokTokenizer()\n",
    "tokens = tokenizer.tokenize(\"SQL Server - any equivalent of Excel's CHOOSE function?\")\n",
    "tokens"
   ]
  },
  {
   "cell_type": "markdown",
   "metadata": {
    "colab_type": "text",
    "id": "6t2DpralVokG"
   },
   "source": [
    "Execute the test_text_prepare function"
   ]
  },
  {
   "cell_type": "code",
   "execution_count": 15,
   "metadata": {
    "colab": {
     "base_uri": "https://localhost:8080/",
     "height": 34
    },
    "colab_type": "code",
    "executionInfo": {
     "elapsed": 746,
     "status": "ok",
     "timestamp": 1563018040249,
     "user": {
      "displayName": "Ravi Saxena",
      "photoUrl": "https://lh5.googleusercontent.com/-VdmC3xQr3Ck/AAAAAAAAAAI/AAAAAAAAA1o/UNixZN4E1D8/s64/photo.jpg",
      "userId": "14135883433938930528"
     },
     "user_tz": -330
    },
    "id": "ihi8I2yQTF-b",
    "outputId": "79d0b1cb-976d-4893-c828-c3453eb47b33"
   },
   "outputs": [
    {
     "name": "stdout",
     "output_type": "stream",
     "text": [
      "Basic tests are passed.\n"
     ]
    }
   ],
   "source": [
    "print(test_text_prepare())"
   ]
  },
  {
   "cell_type": "markdown",
   "metadata": {
    "colab_type": "text",
    "id": "ettHAZ8eVt1R"
   },
   "source": [
    "*Note: You should pass the above test to ensure the text preprocessing is done before our analysis*"
   ]
  },
  {
   "cell_type": "markdown",
   "metadata": {
    "colab_type": "text",
    "id": "QV5JC6HXTF-k"
   },
   "source": [
    "Now we can preprocess the titles using function *text_prepare* and  making sure that the headers don't have bad symbols:"
   ]
  },
  {
   "cell_type": "code",
   "execution_count": 16,
   "metadata": {},
   "outputs": [],
   "source": [
    "train['title']=train.title.apply(lambda x:text_prepare(x))\n"
   ]
  },
  {
   "cell_type": "code",
   "execution_count": 17,
   "metadata": {
    "colab": {},
    "colab_type": "code",
    "id": "gOZKuHnGTF-k"
   },
   "outputs": [],
   "source": [
    "Validate['title']=Validate.title.apply(lambda x:text_prepare(x))\n"
   ]
  },
  {
   "cell_type": "code",
   "execution_count": 18,
   "metadata": {},
   "outputs": [],
   "source": [
    "test['title']=test.title.apply(lambda x:text_prepare(x))\n"
   ]
  },
  {
   "cell_type": "code",
   "execution_count": 46,
   "metadata": {},
   "outputs": [],
   "source": [
    "X_train, Y_train = train['title'].values, train['tags'].values\n",
    "X_val, y_val = Validate['title'].values, Validate['tags'].values\n",
    "X_test = test['title'].values"
   ]
  },
  {
   "cell_type": "code",
   "execution_count": null,
   "metadata": {},
   "outputs": [],
   "source": []
  },
  {
   "cell_type": "markdown",
   "metadata": {
    "colab_type": "text",
    "id": "AfWls32MV5Uu"
   },
   "source": [
    "Print the top 5 elements in x_train"
   ]
  },
  {
   "cell_type": "code",
   "execution_count": 47,
   "metadata": {
    "colab": {
     "base_uri": "https://localhost:8080/",
     "height": 102
    },
    "colab_type": "code",
    "executionInfo": {
     "elapsed": 2101,
     "status": "ok",
     "timestamp": 1563018062537,
     "user": {
      "displayName": "Ravi Saxena",
      "photoUrl": "https://lh5.googleusercontent.com/-VdmC3xQr3Ck/AAAAAAAAAAI/AAAAAAAAA1o/UNixZN4E1D8/s64/photo.jpg",
      "userId": "14135883433938930528"
     },
     "user_tz": -330
    },
    "id": "3BP3LiGsTF-o",
    "outputId": "7924352c-978b-411c-d860-dfcd864c3325"
   },
   "outputs": [
    {
     "data": {
      "text/plain": [
       "array(['draw stacked dotplot r',\n",
       "       'mysql select records datetime field less specified value',\n",
       "       'terminate windows phone 81 app',\n",
       "       'get current time specific country via jquery',\n",
       "       'configuring tomcat use ssl'], dtype=object)"
      ]
     },
     "execution_count": 47,
     "metadata": {},
     "output_type": "execute_result"
    }
   ],
   "source": [
    "X_train[:5]"
   ]
  },
  {
   "cell_type": "markdown",
   "metadata": {
    "colab_type": "text",
    "id": "At_ZTeqTTF-t"
   },
   "source": [
    "## Task 2 (WordsTagsCount) - Find 3 most popular tags and 3 most popular words in the train data. - 5 points"
   ]
  },
  {
   "cell_type": "markdown",
   "metadata": {
    "colab_type": "text",
    "id": "x2mT1f7gWKSu"
   },
   "source": [
    "Note: The words which appear the most are considered as popular in this case!"
   ]
  },
  {
   "cell_type": "code",
   "execution_count": 48,
   "metadata": {
    "colab": {
     "base_uri": "https://localhost:8080/",
     "height": 34
    },
    "colab_type": "code",
    "executionInfo": {
     "elapsed": 1329,
     "status": "ok",
     "timestamp": 1563018076102,
     "user": {
      "displayName": "Ravi Saxena",
      "photoUrl": "https://lh5.googleusercontent.com/-VdmC3xQr3Ck/AAAAAAAAAAI/AAAAAAAAA1o/UNixZN4E1D8/s64/photo.jpg",
      "userId": "14135883433938930528"
     },
     "user_tz": -330
    },
    "id": "q-eQoxipTF-v",
    "outputId": "df753291-884f-4753-b9fa-e4f4f965f0da"
   },
   "outputs": [
    {
     "data": {
      "text/plain": [
       "['draw', 'stacked', 'dotplot', 'r']"
      ]
     },
     "execution_count": 48,
     "metadata": {},
     "output_type": "execute_result"
    }
   ],
   "source": [
    "from nltk.tokenize.treebank import TreebankWordTokenizer\n",
    "twd = TreebankWordTokenizer()\n",
    "twd.tokenize(X_train[0])"
   ]
  },
  {
   "cell_type": "markdown",
   "metadata": {
    "colab_type": "text",
    "id": "xkwg8_WNTF-3"
   },
   "source": [
    "We are assuming that *tags_counts* and *words_counts* are dictionaries like `{'some_word_or_tag': frequency}`. After applying the sorting procedure, results will be look like this: `[('most_popular_word_or_tag', frequency), ('less_popular_word_or_tag', frequency), ...]`.\n",
    "\n",
    "eg: \n",
    "Tag 1 - 100 Tag 2 - 65 Tag 3 - 250 <br>\n",
    "after sorting looks like, <br>\n",
    "Tag 3 - 250 Tag 1 - 100 Tag 2 - 65"
   ]
  },
  {
   "cell_type": "code",
   "execution_count": 49,
   "metadata": {
    "colab": {},
    "colab_type": "code",
    "id": "kxpDMxgYEbci"
   },
   "outputs": [],
   "source": [
    "from collections import Counter \n",
    "all_words=[]\n",
    "for words in X_train:\n",
    "    all_words.append(words)"
   ]
  },
  {
   "cell_type": "code",
   "execution_count": 50,
   "metadata": {},
   "outputs": [
    {
     "name": "stdout",
     "output_type": "stream",
     "text": [
      "[('mean', 3), ('difference', 3), ('conversion failed converting date andor time character string', 3)]\n"
     ]
    }
   ],
   "source": [
    "# Pass the split_it list to instance of Counter class. \n",
    "counter = Counter(all_words) \n",
    "    \n",
    "# most_common() produces k frequently encountered \n",
    "# input values and their respective counts. \n",
    "words_counts= counter\n",
    "print(words_counts.most_common(3)) "
   ]
  },
  {
   "cell_type": "code",
   "execution_count": 51,
   "metadata": {},
   "outputs": [
    {
     "data": {
      "text/plain": [
       "Counter({'draw stacked dotplot r': 1,\n",
       "         'mysql select records datetime field less specified value': 1,\n",
       "         'terminate windows phone 81 app': 1,\n",
       "         'get current time specific country via jquery': 1,\n",
       "         'configuring tomcat use ssl': 1,\n",
       "         'awesome nested set plugin add new children tree various levels': 1,\n",
       "         'create map json response ruby rails 3': 1,\n",
       "         'rspec test method called': 1,\n",
       "         'springboot catalina lifecycle exception': 1,\n",
       "         'import data excel mysql database using php': 1,\n",
       "         'obtaining object javalangclasst object parameterized type without constructing class q_uestion': 1,\n",
       "         'ipad selecting text inside text input tap': 1,\n",
       "         'jquerys function object': 1,\n",
       "         'eclipse c++ mingw lauch program terminated': 1,\n",
       "         'javascript call one prototype method another prototype method': 1,\n",
       "         'get intersection list sets': 1,\n",
       "         'longer able hide keyboard viewwilldisappear ios7': 1,\n",
       "         'fetch key json swift': 1,\n",
       "         'change pivot header template windows phone 8': 1,\n",
       "         'connectionstring encryption': 1,\n",
       "         'let ui refresh long running ui operation': 1,\n",
       "         'better way execute ruby file using python get ruby console output ruby file run python': 1,\n",
       "         'make 2 thumbnails codeigniter': 1,\n",
       "         'java character vs char memory usage': 1,\n",
       "         'bootstrap modal close enter key press': 1,\n",
       "         'linq query group retrieving percentage': 1,\n",
       "         'label field issue openerp': 1,\n",
       "         'keep 2 objects view time scaling field view zy axis': 1,\n",
       "         'attributeerror nonetype object attribute split': 1,\n",
       "         'append mat file using scipyiosavemat': 1,\n",
       "         'jquery replace onclick hcommandlink': 1,\n",
       "         'redirect output ruby programme file': 1,\n",
       "         'accesscontrolalloworigin header present requested resource error': 1,\n",
       "         'creating json windows 8 c# using ijsonvalue cannot implicitly convert type string windowsdatajsonijsonvalue': 1,\n",
       "         'django modelform label captialisation': 1,\n",
       "         'showhide div slide javascript without jquery': 1,\n",
       "         'avoid busy spinning java': 1,\n",
       "         'laravel 4 inputall returns data ajax post': 1,\n",
       "         'handle neterr_connection_refused jquery ajax': 1,\n",
       "         'year function r': 1,\n",
       "         'use retrofit singleton using gson convertor': 1,\n",
       "         'use settimer nondialog cpp mfc app': 1,\n",
       "         'copying web reference new project': 1,\n",
       "         'linq query select top five': 1,\n",
       "         'javascript insert string specific index': 1,\n",
       "         'apache poi change page format excel worksheet': 1,\n",
       "         'python tkinter indeterminate progress bar running': 1,\n",
       "         'store image path mysql database using c#': 1,\n",
       "         'jdbc connection error associated managed connection': 1,\n",
       "         'use multiple tables one model yii2': 1,\n",
       "         'get controller names aspnet mvc4': 1,\n",
       "         'casting integer array object array java': 1,\n",
       "         'getting error uploading file php': 1,\n",
       "         'clear methods java': 1,\n",
       "         'printing floats specific number zeros': 1,\n",
       "         'simple cc++ network io library': 1,\n",
       "         'running ruby usrbin instead usrlocalbin': 1,\n",
       "         'bitmap c binary operations': 1,\n",
       "         'laravel default mail working': 1,\n",
       "         'entity framework model distinct function': 1,\n",
       "         'extjs get checked nodes submit': 1,\n",
       "         'linq select nested lists': 1,\n",
       "         'show hide element pass values javascript html element using javascript jquery': 1,\n",
       "         'get information json dictionary java': 1,\n",
       "         'jquery slidetoggle text replace': 1,\n",
       "         'display image created opencv android': 1,\n",
       "         'instantiating class string current namespace': 1,\n",
       "         'wpf screen resolution': 1,\n",
       "         'content static table view cell displayed ios 9': 1,\n",
       "         'best autocompletesuggest algorithmdatastructure c++c': 1,\n",
       "         'backbone modelsave sending put instead post': 1,\n",
       "         'windowlocationreplace redirects given page destroies session php chrome': 1,\n",
       "         'mvc 4 razor model missing collections use form post': 1,\n",
       "         'apache poi date ddmmyyyy': 1,\n",
       "         'change style one dynamically created linkbutton affecting others': 1,\n",
       "         'check point line': 1,\n",
       "         'python client request fails default timeout': 1,\n",
       "         'simultaneously acquire data update graph using python matplotlib': 1,\n",
       "         'store value string array': 1,\n",
       "         'c# datatable inner join dynamic columns': 1,\n",
       "         'correct realization adapter pattern objective c': 1,\n",
       "         'save image another folder using ajax jquery': 1,\n",
       "         'use function currying python': 1,\n",
       "         'jquery datatablesnet plugin ignore specific rows sorting': 1,\n",
       "         'get current dom element angular directive': 1,\n",
       "         'draw rectangles next java': 1,\n",
       "         'getting parameters url zend': 1,\n",
       "         'template inheritance inner class access problem': 1,\n",
       "         'valueerror time data 20120719 082400 match format ymd hms': 1,\n",
       "         'passing array json objects trough sockets java': 1,\n",
       "         'missing child nodes deserializing xml object': 1,\n",
       "         'error uploading new ipad app version ipad application executable contains unsupported architectures i386': 1,\n",
       "         'passing array using com': 1,\n",
       "         'getting urllib2urlerror urlopen error errno 10061 error': 1,\n",
       "         'unique combination set': 1,\n",
       "         'bind drop list using jquery ajax change first ddl': 1,\n",
       "         'rails 31 qeurying database encrypted attr_encrypted gem clause encrypted fields': 1,\n",
       "         'listctrl hack set listitems text listctrl': 1,\n",
       "         'php mysql google maps api generate poi city state name': 1,\n",
       "         'mappedby reference unknown target entity property': 1,\n",
       "         'run java applet mac os 1066': 1,\n",
       "         'get country latitude longitude': 1,\n",
       "         'google map mouseout listener working wordpress': 1,\n",
       "         'find row specified text quickly': 1,\n",
       "         'iphone xcodebuild command terminal working': 1,\n",
       "         'sapply return matrix need transpose transposed matrix attach dataframe': 1,\n",
       "         'insert rows parent children programmatically': 1,\n",
       "         'd3 js tick spacing time axis gets messed month boundary': 1,\n",
       "         'create hash dictionary object javascript': 1,\n",
       "         'c# oledbconnection con set timeout': 1,\n",
       "         'change default django user model fit needs': 1,\n",
       "         'ignore jsonpropertypropertyname somename serializing json': 1,\n",
       "         'automatically install toolbarbutton firefox navbar working insertitem': 1,\n",
       "         'auto layout add new constraints interactive interface builder': 1,\n",
       "         'kill child process running system shell command': 1,\n",
       "         'setting php timezone cant update recent olson': 1,\n",
       "         'facebook show help dialog': 1,\n",
       "         'javascriptjquery event listener image load browsers': 1,\n",
       "         'intellijandroid java constant expression required case ridviewid': 1,\n",
       "         'dropdown select based database entries': 1,\n",
       "         'jquery wont work local machine': 1,\n",
       "         'display data mysql database table using pyqt': 1,\n",
       "         'addeventlistener working': 1,\n",
       "         'send data specific thread': 1,\n",
       "         'focus listviewitem wpf': 1,\n",
       "         'documentgetelementbyidtableidinnerhtml working ie8': 1,\n",
       "         'efficient convert string int inverse': 1,\n",
       "         'edit specific line txt file c': 1,\n",
       "         'conditionally filter iqueryable type using generic repository pattern': 1,\n",
       "         'get memory usage rails app': 1,\n",
       "         'invalid indirect reference decodeindirectref trying convert c++ java': 1,\n",
       "         'insert multiple record table codeigniter': 1,\n",
       "         'convert sql query linq': 1,\n",
       "         'notesnotessession vs dominonotessession password prompt': 1,\n",
       "         'regex needed java handle dynamic string value': 1,\n",
       "         'best way play videos website': 1,\n",
       "         'reading line line stdin without blocking': 1,\n",
       "         'uploading video old facebook rest api': 1,\n",
       "         'bind comma separated string java collection list spring form': 1,\n",
       "         'checking content member element c struct array': 1,\n",
       "         'gridview data export excel aspnet': 1,\n",
       "         'tinymce moxie player media splash image': 1,\n",
       "         'propertyplaceholderconfigurerlike class use spring accepts xml': 1,\n",
       "         'import csv file using stringsplit without array shortened due blank fields': 1,\n",
       "         'getting li value ngmodel': 1,\n",
       "         'start blackberry programming': 1,\n",
       "         'smloginitemsetenabled get counterpart': 1,\n",
       "         'searching xml value': 1,\n",
       "         'iphone sdk quick reference': 1,\n",
       "         'c# get directory name directorynotfoundexception': 1,\n",
       "         'php csv column headings': 1,\n",
       "         'java printing odd even numbers using 2 threads': 1,\n",
       "         'alternatives os projects c# similar joomlamambodrupal': 1,\n",
       "         'assign c# dynamic variable properties another dynamic object': 1,\n",
       "         'get parameters url laravel': 1,\n",
       "         'setting field value object child another object': 1,\n",
       "         'android accessing global variable inside onclicklistener': 1,\n",
       "         'operation variable argument list uml': 1,\n",
       "         'preg_replace curly brackets': 1,\n",
       "         'rails 323 bundler could find compatible versions gem railties': 1,\n",
       "         'c# windows form exe': 1,\n",
       "         'antcreate junit report task programmatically': 1,\n",
       "         'facebooks messenger sms broadcast receiver takes highest priority reboot': 1,\n",
       "         'documentgetelementsbyclassnamename length 0': 1,\n",
       "         'mvc bypass clientside validation save progress vs submit': 1,\n",
       "         'rvmrails installation error ubuntu 1104': 1,\n",
       "         'trigger event specific slide bootstrap carousel': 1,\n",
       "         'bypass socks proxy configuration iphone': 1,\n",
       "         'unable concanate string+variable+string javascript': 1,\n",
       "         'cant get redirecttoaction work': 1,\n",
       "         'mapset iterators incompatible map destruction dependent constructor call': 1,\n",
       "         'python parseerror bad input line': 1,\n",
       "         'symfony2 forms use dynamic select options': 1,\n",
       "         'laravel5 notfoundhttpexception routecollectionphp line 161': 1,\n",
       "         'django ajax submission validation multiple forms handling': 1,\n",
       "         'creating triggers jdbc oracle': 1,\n",
       "         'access specific value mongoose query callback': 1,\n",
       "         'javasecurityinvalidalgorithmparameterexception rc6 well rc2': 1,\n",
       "         'updating rails models ajax': 1,\n",
       "         'html 5 video canvas scaling issues': 1,\n",
       "         'comparison variables pointing integer object': 1,\n",
       "         'parse json data php': 1,\n",
       "         'possible jump top page form submit': 1,\n",
       "         'safely destroy dialog window wxpython application': 1,\n",
       "         'problem php includes casesensitive file systems': 1,\n",
       "         'django managepy runserver working': 1,\n",
       "         'saving multiple data frames return function': 1,\n",
       "         'refresh waypoints directions_changed': 1,\n",
       "         'compilation error type namespace name could found': 1,\n",
       "         'call parsecom api libgdx java implementation': 1,\n",
       "         'iframe position': 1,\n",
       "         'javascript adding text image using canvas save image': 1,\n",
       "         'save value drop mysql': 1,\n",
       "         'calculate correlation columns remove highly correlated ones using python pandas': 1,\n",
       "         'optimizations browser perform dom element rendered screen': 1,\n",
       "         'request denied service delegate sbmainworkspace': 1,\n",
       "         'create mail client using phpmysql': 1,\n",
       "         'count values column datagridview column': 1,\n",
       "         'scipy buildinstall mac osx': 1,\n",
       "         'wpf ip address mask textbox': 1,\n",
       "         'use adodc vbnet': 1,\n",
       "         'java library creating console commands': 1,\n",
       "         'get selected valuetext html select codebehind': 1,\n",
       "         'restrict jqgrid textarea height grid': 1,\n",
       "         'generatorelement sequencetype swift 3': 1,\n",
       "         'adding style editor': 1,\n",
       "         'xml serialization readonlycollections': 1,\n",
       "         'possible extend java class one name': 1,\n",
       "         'exceptions handling guidelines c++': 1,\n",
       "         'understand parallelinstances testng suite configure': 1,\n",
       "         'import csv excel data webpage': 1,\n",
       "         'pass parameter owin host': 1,\n",
       "         'rspec check model saved': 1,\n",
       "         'rake errors loading kind mutex': 1,\n",
       "         'datetime add calculation inside linq entities query': 1,\n",
       "         'difference ruby ruby rails': 1,\n",
       "         'cocos2dx lua binding': 1,\n",
       "         'reset dispatchertimer': 1,\n",
       "         'angularjs verify check box clicked': 1,\n",
       "         'pass structure pointer c dll c#': 1,\n",
       "         'pausing method set # milliseconds': 1,\n",
       "         'call javascript vbnet': 1,\n",
       "         'difference data params python requests': 1,\n",
       "         'brace highlighting visual studio javascript': 1,\n",
       "         'email component versus phpmailer cakephp': 1,\n",
       "         'cannot include header files correctly': 1,\n",
       "         'php api development': 1,\n",
       "         'change uiimageview size position programmatically swift': 1,\n",
       "         'n n stdendl stdcout': 1,\n",
       "         'ajax uploading file html 5 php': 1,\n",
       "         'seperate gc log file java vm oracle application server': 1,\n",
       "         'fix error laravellog could opened': 1,\n",
       "         'php separate array commas': 1,\n",
       "         'test string basically integer quotes using ruby': 1,\n",
       "         'android java serversocket port number supposed': 1,\n",
       "         'edit data database codeigniter using bootstrap modal': 1,\n",
       "         'matching function call function template': 1,\n",
       "         'reopen files python': 1,\n",
       "         'cannot convert expressions type void type string': 1,\n",
       "         'eclipse error could find load main class': 1,\n",
       "         'linq grouping dynamically': 1,\n",
       "         'sort matrix row preserving columns': 1,\n",
       "         'systemconcurrencyasynclock': 1,\n",
       "         'qt make mainwindow automatically resize centralwidget resized': 1,\n",
       "         'c# delegate dispatcher problem': 1,\n",
       "         'angularjs web api neterr_connection_refused chrome error 00002efd ie': 1,\n",
       "         'submit form using href': 1,\n",
       "         'compile single java file gradle': 1,\n",
       "         'examine code function r thats object class sensitive': 1,\n",
       "         'curl without curl problem': 1,\n",
       "         'make rectangle pygame automatically moves mouse location': 1,\n",
       "         'ruby naming conventions': 1,\n",
       "         'get systemwindowsformsiwin32window wpf window': 1,\n",
       "         'populate second dropdown based selected value first dropdown': 1,\n",
       "         'install particle js wordpress using method': 1,\n",
       "         'installing sunjava6jre gives error': 1,\n",
       "         'pass variables reference javascript': 1,\n",
       "         'symfony2 render view another controller': 1,\n",
       "         'openxml spreadsheet update value sharedstringtable': 1,\n",
       "         'objectivec find commonly used words nsstring': 1,\n",
       "         'generics compilation error wildcard type': 1,\n",
       "         'define vector undefined size': 1,\n",
       "         'using switch case eval value': 1,\n",
       "         'php class generator web services': 1,\n",
       "         'objectivec implement ease animation': 1,\n",
       "         'refresh jpa entities backend database changes asynchronously': 1,\n",
       "         'dynamic subdomain creation php linux based server': 1,\n",
       "         'preg_match long strings': 1,\n",
       "         'open source template library matrix computation c c++': 1,\n",
       "         'return null float method error handling': 1,\n",
       "         'create canvas inside jframe draw basic shapes': 1,\n",
       "         'regular expression startend position': 1,\n",
       "         'detect screen brightness system volume changed': 1,\n",
       "         'horizontal slider jquery 100 height auto width imageschildren': 1,\n",
       "         'use serial print arduino': 1,\n",
       "         'create checkbox list': 1,\n",
       "         'execute php code wordpress post': 1,\n",
       "         'outofmemory exception': 1,\n",
       "         'cvcreatememstorage working second object instance': 1,\n",
       "         'deploy clickonce application without signing': 1,\n",
       "         'using 2d array create clickable tkinter canvas': 1,\n",
       "         'rails created_at': 1,\n",
       "         'refresh shopping cart item added': 1,\n",
       "         'java compiler oddity field declared class yet visible': 1,\n",
       "         'replacement cultureinfogetcultures net windows store apps': 1,\n",
       "         'npm + mocha watch accurately watching files': 1,\n",
       "         'dofilterinternal method called': 1,\n",
       "         'stl vector template function problem': 1,\n",
       "         'prevents c++ strict superset c': 1,\n",
       "         'cant set clock using setsystemtime windows 8': 1,\n",
       "         'using hash view rails': 1,\n",
       "         'method overloading optional parameter': 1,\n",
       "         'using lists tuples python statements': 1,\n",
       "         'tomcat7 shows number inactive users tomcat manager': 1,\n",
       "         'backbonejs accessing elements fired views event': 1,\n",
       "         'remote notification launch app background': 1,\n",
       "         'getting proper code completion python vim': 1,\n",
       "         'jquery mobile didnt append div content': 1,\n",
       "         'change entity map another unknown table runtime': 1,\n",
       "         'weird object reference set instance object error using moq': 1,\n",
       "         'check string nil swift': 1,\n",
       "         'combine java plot code java serial code read arduino sensor value': 1,\n",
       "         'retrieving data sql database vbnet': 1,\n",
       "         'rails nomethoderror undefined method name nilnilclass': 1,\n",
       "         'jbutton actionlistener producing several exceptions javaawt security event': 1,\n",
       "         'catching keyboard input fullscreen seems work': 1,\n",
       "         'parallel prime factorization': 1,\n",
       "         'way duplicating rows datatable efficient': 1,\n",
       "         'run php script background php nohup cli': 1,\n",
       "         'create tuple lists list': 1,\n",
       "         'c# datagridview sort checkbox column': 1,\n",
       "         'yiibootstrap tabs event handler': 1,\n",
       "         'examples creating custom soft input panel windowsce 60': 1,\n",
       "         'php view exec status realtime possible': 1,\n",
       "         'lookup twitter followers r': 1,\n",
       "         'looking day view javascript libraryplugincalendar': 1,\n",
       "         'draw text canvas three js sprite': 1,\n",
       "         'bitmapsave huge memory leak': 1,\n",
       "         'regex replace function': 1,\n",
       "         'many many relationships taxonomy eloquent': 1,\n",
       "         'write string encoding utf8 file': 1,\n",
       "         'put library inside namespace': 1,\n",
       "         'storing 2dimensional string array sqlite database': 1,\n",
       "         'hibernate + gwt exception': 1,\n",
       "         'save grab svg website local machine convert image': 1,\n",
       "         'angular 2 routing plain javascript typescript': 1,\n",
       "         'reading standard input using javaioinputstreamreader hangs process runs background': 1,\n",
       "         'add calendar textfield java': 1,\n",
       "         'unable bind listening socket address phpfpm': 1,\n",
       "         'assign value using linq': 1,\n",
       "         'rotating image pygame': 1,\n",
       "         'get object associated selected rows datagridview': 1,\n",
       "         'threaded program using one cpu': 1,\n",
       "         'convert systemstring generically complex type using convertchangetype': 1,\n",
       "         'javaxcryptobadpaddingexception data must start zero': 1,\n",
       "         'wpf governing frameworkelement found errors': 1,\n",
       "         'rspec testing views internationalization': 1,\n",
       "         'request 2nd url httpwebrequest obj': 1,\n",
       "         'facesmessage error rendering view': 1,\n",
       "         'angular controller directive cause strict di error': 1,\n",
       "         'nginx treats php binary': 1,\n",
       "         'flask receiving data html post': 1,\n",
       "         'add space start byte array': 1,\n",
       "         'boolean detect element array': 1,\n",
       "         'pip ignore proxy setting': 1,\n",
       "         'joomla 25 fetch module class suffix': 1,\n",
       "         'find certain character substring objectivec': 1,\n",
       "         'convert javascript variable md5 hash using php': 1,\n",
       "         'incompatible pointer type nsurl nsstring': 1,\n",
       "         'static 2d array': 1,\n",
       "         'get first item javautilset': 1,\n",
       "         'php preg_match comma separated decimals': 1,\n",
       "         'ffmpeg compresses upto 32 kbps': 1,\n",
       "         'unexpected token error connecting mysql database php': 1,\n",
       "         'ant failed build': 1,\n",
       "         'construct json object symfony 14 field html content': 1,\n",
       "         'get domain currently logged user windows': 1,\n",
       "         'initialize 2d array huge size 1000000x1000000': 1,\n",
       "         'casting integer double xpath 10': 1,\n",
       "         'utf8 codec cant decode byte 0xae position': 1,\n",
       "         'objectivec test uninitialized pointer static class type': 1,\n",
       "         'net equivalent old vb leftstring length function': 1,\n",
       "         'use class variable another class': 1,\n",
       "         'python redirect stdout socket': 1,\n",
       "         'change content div': 1,\n",
       "         'npexp much slower npe': 1,\n",
       "         'manually filter parameters rails': 1,\n",
       "         'automatically resize stage content changed': 1,\n",
       "         'baseonloade aspnet page': 1,\n",
       "         'dict object attribute status_code error django project': 1,\n",
       "         'call custom oracle function returning value jpa': 1,\n",
       "         'get values enumeration created powershell': 1,\n",
       "         'action_search cannot resolved field': 1,\n",
       "         'datetime object string': 1,\n",
       "         'compression utf8 encoding': 1,\n",
       "         'use loop function run script multiple files using r': 1,\n",
       "         'nicest way dynamically implement interface c#': 1,\n",
       "         'c# winform timers notify parent class timer event raised': 1,\n",
       "         'maximize custom wpf form screen size': 1,\n",
       "         'echo php inside javascript': 1,\n",
       "         'objective c convert java statment objective c code': 1,\n",
       "         'read pdf file line line c#': 1,\n",
       "         'jvmcfre003 bad major version': 1,\n",
       "         'vbnet search function using textbox combo box': 1,\n",
       "         'loading classes application file system runtime': 1,\n",
       "         'setting sublime text 3 rails development': 1,\n",
       "         'datagrid view updating update button clicked': 1,\n",
       "         'adding two strings mathematically': 1,\n",
       "         'cant paste javascript commands addressbar ie10': 1,\n",
       "         'parse error syntax error unexpected end exampphtdocsannouncementsannouncementphp line 143': 1,\n",
       "         'get public ip address using php': 1,\n",
       "         'plot step histograms ggplot2 r': 1,\n",
       "         'replace usernamepasswordauthenticationfilter spring security': 1,\n",
       "         'wordpress show taxonomy custom admin menu': 1,\n",
       "         'whats right way java connect microsoft access 2007 database': 1,\n",
       "         'spring boot validation respond json': 1,\n",
       "         'instanceof method use generics': 1,\n",
       "         'python allow empty function docstring body without pass statement': 1,\n",
       "         'difference class foo class fooobject python': 1,\n",
       "         'canonical way transmit protocol buffers network': 1,\n",
       "         'uiwebview identify last webviewdidfinishload message': 1,\n",
       "         'eclipse rcp check job finished': 1,\n",
       "         'create patch file using net windows application': 1,\n",
       "         'create extension method tostring': 1,\n",
       "         'passing field name function template': 1,\n",
       "         'java upload file get back string contents file': 1,\n",
       "         'nice way make kendo custom widget using typescript classes': 1,\n",
       "         'create excel file using php compatible 2007 2003': 1,\n",
       "         'passing email address via query string c#': 1,\n",
       "         'undefined method include relationship model': 1,\n",
       "         'create icon file contains multiple sizes images c#': 1,\n",
       "         'expected string default value jbuilder got true boolean error new rails project': 1,\n",
       "         'vbnet slider range control': 1,\n",
       "         'domain class entity data framework': 1,\n",
       "         'xml linq checking null elements': 1,\n",
       "         'linker error compiling ios 5 app simulator undefined symbols _objc_assign_global _objc_assign_ivar _objc_assign_strongcast': 1,\n",
       "         'meta httpequivrefresh content0 urlhttpwwwxxxxxxlcomindexphp refreshing': 1,\n",
       "         'view hierachy prepared constraint': 1,\n",
       "         'echo session variable within echo php': 1,\n",
       "         'c# need pass object another class call methods update': 1,\n",
       "         'unique null sqlalchemy django': 1,\n",
       "         'android action_up detected': 1,\n",
       "         'process_reaper thread java': 1,\n",
       "         'linq xml recursive query': 1,\n",
       "         'using event handlers vs overriding eventfiring methods': 1,\n",
       "         'complex sorting xml using linq': 1,\n",
       "         'possible make body onload event faster': 1,\n",
       "         'zend framework could determine temp directory please specify cache_dir manually': 1,\n",
       "         'disabling button one click prevent multiple submissions enabling redirect': 1,\n",
       "         'java best way find first duplicate character string': 1,\n",
       "         'create fixed table header rows include colspans': 1,\n",
       "         'recommended nginx configuration high traffic website wordpress': 1,\n",
       "         'fbgetloginstatus returns status unknown': 1,\n",
       "         'dojo grid switching editable editable': 1,\n",
       "         'logout jquery javascript using form authentication': 1,\n",
       "         'wpf groupstyle groups 1 item': 1,\n",
       "         'buffer growth strategy': 1,\n",
       "         'c# google login': 1,\n",
       "         'javascript date validation function': 1,\n",
       "         'react es6 class transitionto working': 1,\n",
       "         'running two lines code python time': 1,\n",
       "         'matplotlib imshow zoom function': 1,\n",
       "         'form submit ajax time using onsubmit': 1,\n",
       "         'cannot use ternary operator linq query': 1,\n",
       "         'javalangnoclassdeffounderror orgapacheaxis2axisfault axis2kernel154jar class path': 1,\n",
       "         'best event check using datagridviewcheckboxcell': 1,\n",
       "         'speech recognition c# without using windows speech recognition': 1,\n",
       "         'dynamic menu richcombo box ckeditor': 1,\n",
       "         'disadvantages making class serializable java': 1,\n",
       "         'one step check null value emptiness string': 1,\n",
       "         'programmatically open jumplist window specific exe file': 1,\n",
       "         'catch divide 0 error message visual studio 2012': 1,\n",
       "         'getting module file path derived class via inheritance': 1,\n",
       "         'access arraylist string array list javascript': 1,\n",
       "         'read non c# apps textbox using windows api c# windows forms app': 1,\n",
       "         'access javascript variables calling scope': 1,\n",
       "         'windows mobile vs2008 cant connect device': 1,\n",
       "         'pass mains argv function': 1,\n",
       "         'python list operations': 1,\n",
       "         'print frame chrome': 1,\n",
       "         'dynamically adding resource strings': 1,\n",
       "         'error rstudio libuuidso1 cannot open shared object file file directory': 1,\n",
       "         'transaction aborted trying persist user': 1,\n",
       "         '0x mean': 1,\n",
       "         'python decimal string': 1,\n",
       "         'see characters nscharacterset swift': 1,\n",
       "         'joomla page load function': 1,\n",
       "         'use mathrandom generate random ints': 1,\n",
       "         'symfony set destroy sessions': 1,\n",
       "         'one add values c enum created': 1,\n",
       "         'nslog messages using leaks': 1,\n",
       "         'netuihwnd directuihwnd': 1,\n",
       "         'returning exact match javascript array using regexp': 1,\n",
       "         'update pagination angularjs filtering': 1,\n",
       "         'type expected error linq expression': 1,\n",
       "         'list view item binding': 1,\n",
       "         'r multiple variables loop': 1,\n",
       "         'migrating article contect joomla 10 25x 3x': 1,\n",
       "         'initializing jframe': 1,\n",
       "         'java multiple line read console': 1,\n",
       "         'storing user input text field nsarray': 1,\n",
       "         'python query keys dictionary based values': 1,\n",
       "         'php mcrypt_module_open causes 500 error': 1,\n",
       "         'linq tolisttake10 vs take10tolist one generates efficient query': 1,\n",
       "         'cannot access local sinatra server another computer network': 1,\n",
       "         'use durability quartz xml': 1,\n",
       "         'process returned 255 0xff code blocks': 1,\n",
       "         'codeigniter call multiple model function single controller function codeigniter': 1,\n",
       "         'yii framwork resizing textbox form': 1,\n",
       "         'problem access local image app workspace local html file app workspace': 1,\n",
       "         'rename json fields used mappingjacksonjsonview spring': 1,\n",
       "         'marshall parameterized type jaxws jaxb': 1,\n",
       "         'diplay tag link wordpress': 1,\n",
       "         '3d array cc++ initializationconversion': 1,\n",
       "         'systemexecutionengineexception thrown': 1,\n",
       "         'string encoding shift_jis utf8': 1,\n",
       "         'syntax error access violation 1103 incorrect table name _post array data': 1,\n",
       "         'change font size gradually uilabel': 1,\n",
       "         'concatenate values select inputs radio groups one hidden field value': 1,\n",
       "         'c++ win32 window background redrawing': 1,\n",
       "         'change value htmltextbox using jquery json': 1,\n",
       "         'json empty string deserializes null server side': 1,\n",
       "         'way select bit rate using avplayer http live audio streaming': 1,\n",
       "         'django creating superuser custom user model': 1,\n",
       "         'jqueryajax send data url without showing data webdevelopers': 1,\n",
       "         'merging two datasets 1 column common': 1,\n",
       "         'facebook integration website using facebook login button plugin store user crenditials database': 1,\n",
       "         'modal container auto centering fitting size content inside container': 1,\n",
       "         'angular2 testing whats difference debugelement nativeelement object componentfixture': 1,\n",
       "         'java jdbc driver type_forward_only': 1,\n",
       "         'make yaxis intersect xaxis 0 ggplot2': 1,\n",
       "         'playframework catch deadlock reissue transaction': 1,\n",
       "         'sqlalchemy update postgresql array using merge work': 1,\n",
       "         'stringargument constructorfactory method deserialize string value': 1,\n",
       "         'compare sql datetime c# datetime': 1,\n",
       "         'html5 drag drop events dragleave fires drop': 1,\n",
       "         'validate post code input data': 1,\n",
       "         'download file aspnet web api method using angularjs': 1,\n",
       "         'using javascript rename multiple html files using titletitle file': 1,\n",
       "         'recordingsending screen stream c#': 1,\n",
       "         'download csv google insight search': 1,\n",
       "         'radio button enable text area': 1,\n",
       "         'programmatically added user control create child controls': 1,\n",
       "         'website working firefoxchrome ie': 1,\n",
       "         'adjusting contrast brightness opencv': 1,\n",
       "         'automatic selectall textboxes numericupdown controls gotfocus': 1,\n",
       "         'duplicate certain set javafx 22 nodes': 1,\n",
       "         'referencing mscorlib visual studio 2010': 1,\n",
       "         'jsonnet fails serialize stream works fine serializing string': 1,\n",
       "         'parsing text content url': 1,\n",
       "         'java get json object array': 1,\n",
       "         'use linq group sequence numbers gaps': 1,\n",
       "         'posting checked unchecked checkboxes': 1,\n",
       "         'programatically add uiimage uiimageview add uiimageview another uiview': 1,\n",
       "         'add controls winforms dynamically another thread': 1,\n",
       "         'python tailer logrotate': 1,\n",
       "         'free c++ memory vectorint arr': 1,\n",
       "         'visual studio 2013 caching older version js file': 1,\n",
       "         'threejs draw custom mesh meshlambertmaterial point light': 1,\n",
       "         'get image size loads extern url javascript': 1,\n",
       "         'uncheck html checkbox label': 1,\n",
       "         'java swing popup window losing focus repainting': 1,\n",
       "         'ruby rails timenow': 1,\n",
       "         'angularjs localstorage change event': 1,\n",
       "         'nodejs error error cannot find module mongoose': 1,\n",
       "         'adding new div another one': 1,\n",
       "         'tell rs ggplot2 put tick marks values xaxis still keep vertical lines values': 1,\n",
       "         'submit form inside razor view java script function without redirection': 1,\n",
       "         'extract href queryselectorall': 1,\n",
       "         'put image dynamically created button': 1,\n",
       "         'regex get numbers minus sign': 1,\n",
       "         'uiwebview content visible': 1,\n",
       "         'site shows blank screen ie works fine firefox chrome': 1,\n",
       "         'parsing json php': 1,\n",
       "         'call method jar file jsp': 1,\n",
       "         'installing mysql2 gem ruby 187 mac osx 106': 1,\n",
       "         'binary operator cannot applied operands type string string swift 2 xcode 7': 1,\n",
       "         'randomly generate variable names': 1,\n",
       "         'c# cannot save apostrophe xml': 1,\n",
       "         'changing css controls gridview separately row': 1,\n",
       "         'application spring security dont go beyond login page': 1,\n",
       "         'read gmail contacts using zend framework using oauth': 1,\n",
       "         'windowonload ie7': 1,\n",
       "         'setting minimum maximum date calendar': 1,\n",
       "         'add client script aspnet page dynamically': 1,\n",
       "         'using mousebuttondown pygame': 1,\n",
       "         'get user name owner process net': 1,\n",
       "         'hex string byte array conversion': 1,\n",
       "         'hibernatedaosupport native sql': 1,\n",
       "         'fixing error creation private accessor microsoftvisualstudiotesttoolstypesandsymbolsassembly failed': 1,\n",
       "         'trouble matching multiple patterns ruby regex': 1,\n",
       "         'wicket springbean create bean': 1,\n",
       "         'could get information inmemory layout info net object model': 1,\n",
       "         'exception thread main javalangoutofmemoryerror java heap space base64decoder': 1,\n",
       "         'jquery run function load complete dom updated': 1,\n",
       "         'jquery tab slider': 1,\n",
       "         'simple php compatible video chat service': 1,\n",
       "         'java findread file user input': 1,\n",
       "         'c# simple way bring onelinexmlfiles human readable multi line': 1,\n",
       "         'jquery trigger click vs function call': 1,\n",
       "         'inheritance nested views angularjs': 1,\n",
       "         'syntax declare js scripts': 1,\n",
       "         'javalangclasscastexception orghibernatetypestringtype cannot cast orghibernatetypeversiontype': 1,\n",
       "         'dynamically change auto complete entries c# combobox textbox': 1,\n",
       "         'copy constructor dynamically allocated array': 1,\n",
       "         'calling method object instance creation': 1,\n",
       "         'moving elements scroll': 1,\n",
       "         'writing masked image disk png file': 1,\n",
       "         'net core console applicatin configuration xml': 1,\n",
       "         'convert object listexpandoobject type': 1,\n",
       "         'calculate interest rate java tvm': 1,\n",
       "         'postback javascript function doesnt work aspnet': 1,\n",
       "         'encrypt html php javascript': 1,\n",
       "         'iterate list object lambda expressions': 1,\n",
       "         'convert equation string equation': 1,\n",
       "         'mvc get latitude longitude controller mapview c#': 1,\n",
       "         'c# run cl exe batch cpture output live textbox': 1,\n",
       "         'avoid multiple ajax calls': 1,\n",
       "         'remove label x seconds swift': 1,\n",
       "         'fileuploadhasfile give always false': 1,\n",
       "         'write complex join query cdbcriteria yii framework': 1,\n",
       "         'php extract html data website': 1,\n",
       "         'php mssql_connect working': 1,\n",
       "         'way automatically update proxy object updating service wcf': 1,\n",
       "         'enable button input field empty': 1,\n",
       "         'const char lpcwstr qt': 1,\n",
       "         'event defined firefox ok chrome ie': 1,\n",
       "         'unicodeencodeerror using oslistdir': 1,\n",
       "         'access grant malformed azure ad': 1,\n",
       "         'get pin google maps using location variable': 1,\n",
       "         'gmail smtp authentication': 1,\n",
       "         'binding array pojos request parameter': 1,\n",
       "         'call web service empty soapaction definition': 1,\n",
       "         'create cmd file run jars': 1,\n",
       "         'skrollr relative mode working properly chrome safari': 1,\n",
       "         'set current time field mysql': 1,\n",
       "         'set extbuttonsplit show arrow menu empty': 1,\n",
       "         'captcha image webbrowser control picturebox': 1,\n",
       "         'detect user drop image inside browser current tab viewport': 1,\n",
       "         'react thisstate undefined inside component function': 1,\n",
       "         'getblobreferencefromserver working relative uris error absolute addresses permitted': 1,\n",
       "         'error creating table mysql': 1,\n",
       "         'typegettype work generic classes': 1,\n",
       "         'php pagination limited number records': 1,\n",
       "         'dynamically adding script element div execute script': 1,\n",
       "         'rails fix actionviewmissingtemplate error': 1,\n",
       "         'test private methods nunit': 1,\n",
       "         'exceptionconverter javaioioexception space left device': 1,\n",
       "         'java gui framework good first gui project': 1,\n",
       "         'remove #anchor locationhash url linking page within website': 1,\n",
       "         'installing ffmpeg module php windows server': 1,\n",
       "         'cant connect rabbitmqc using ssl support': 1,\n",
       "         'parse log file using java plot graph': 1,\n",
       "         'getting single value sql adonet': 1,\n",
       "         'swf sandbox violation error #2060 chrome': 1,\n",
       "         'convert svgsvgelement string': 1,\n",
       "         'this_getparam zend framework empty': 1,\n",
       "         'python binaryhex string conversion': 1,\n",
       "         'subtract time php': 1,\n",
       "         'serialize object keeps pointers objects c++': 1,\n",
       "         'passing multiple params rails controller': 1,\n",
       "         'using arrays switch case java': 1,\n",
       "         'loading text iframe loading': 1,\n",
       "         'pandas groupby partial string': 1,\n",
       "         'need create json readwrite java didnt': 1,\n",
       "         'gray overlay custom uibutton getting displayed': 1,\n",
       "         'store array values single variable csv php': 1,\n",
       "         'reading csv datatable without knowing structure': 1,\n",
       "         'split vector n sub vectors rebound': 1,\n",
       "         'php server err_connection_refused': 1,\n",
       "         'uncaught typeerror cannot read property top null': 1,\n",
       "         'system cant find specify file using iis broswer homeaspx file': 1,\n",
       "         'c++ find set pointers': 1,\n",
       "         'incompatible types int nulltype': 1,\n",
       "         'calculate probability given data': 1,\n",
       "         'multiple small files vs one big file http requests': 1,\n",
       "         'java change color string': 1,\n",
       "         'clearinterval doesnt work': 1,\n",
       "         'jsp editable datagrid': 1,\n",
       "         'deserialize javascript associative array c# dictionary jsonnet': 1,\n",
       "         'onactionexecuting web api call map controlleraction class route string read action attributes': 1,\n",
       "         'smtp connect failed': 1,\n",
       "         'swift http post 2d array': 1,\n",
       "         'creating new array contents old array keeping old array static': 1,\n",
       "         'error int tuple connection': 1,\n",
       "         'get loop count using user inputs infinitely loop': 1,\n",
       "         'missing using directive assembly reference wpf xaml': 1,\n",
       "         'catch mouse events powerpoint designer vsto': 1,\n",
       "         'pass value mysql bootstrap modal': 1,\n",
       "         'searching gridview bound sqldatasource using textboxes': 1,\n",
       "         'concat linq query result string': 1,\n",
       "         'executing function page gets windowprint': 1,\n",
       "         'best way declare logger variable java': 1,\n",
       "         'open file clicking hyperlink': 1,\n",
       "         'difference boostchronotime_point boostchronosteady_clocktime_point': 1,\n",
       "         'working testing dates rails': 1,\n",
       "         'insert comment root svg element': 1,\n",
       "         'python file doesnt read whole file iofileio': 1,\n",
       "         'retrieving get variable via php send swf script': 1,\n",
       "         'xcode 8 swift c++': 1,\n",
       "         'set webbrowserdocumenttype': 1,\n",
       "         'use google chrome remote debugging protocol http': 1,\n",
       "         'creating custom slider using jquery ui': 1,\n",
       "         'php parse post data': 1,\n",
       "         'taskscheduler scheduled quartz': 1,\n",
       "         'allow user insert html code without risks technical risks': 1,\n",
       "         'special character getting replaced': 1,\n",
       "         'loading xls msexcel file webview showing error': 1,\n",
       "         'checking null calling free': 1,\n",
       "         'apply syntax file vim': 1,\n",
       "         'java realm get latest inserted item': 1,\n",
       "         'pca categorical features': 1,\n",
       "         'checking cell nil uitableviewcontroller': 1,\n",
       "         'properly set integer value nsdictionary': 1,\n",
       "         'cant getuser using facebook registration plugin': 1,\n",
       "         'error installing pyqt': 1,\n",
       "         'zip function giving incorrect output python': 1,\n",
       "         'make multipleform single submit button action php': 1,\n",
       "         'html select jquery mix working ios': 1,\n",
       "         'line break svg text element': 1,\n",
       "         'extend activity listactivity': 1,\n",
       "         'build several modules using requirejs using one physical configuration file overrides': 1,\n",
       "         'change windows wallpaper using net 40': 1,\n",
       "         'getasync httpclient doesnt work expected': 1,\n",
       "         'alternative session using webapi keep track user': 1,\n",
       "         'saving xml file utf8 encoding': 1,\n",
       "         'go pages wordpress plugin': 1,\n",
       "         'display speed mkmap xcode': 1,\n",
       "         'automapper mapping 2 enum values 1 value': 1,\n",
       "         'java stringsplit regex': 1,\n",
       "         'conversion type dbnull type string valid10': 1,\n",
       "         'bootstrap 3 invisible dropdown ie9 bug fix': 1,\n",
       "         'convert joda localdate joda datetime': 1,\n",
       "         'create menu json file': 1,\n",
       "         'setting default value param attribute controller nil': 1,\n",
       "         'semantic interpretation srgs xml grammar': 1,\n",
       "         'exception immediately expunging mailbox java email': 1,\n",
       "         'pythonic way handle sqlalchemy models': 1,\n",
       "         'getting cannot implicitly convert type decimal bool error': 1,\n",
       "         'query elasticsearch java json': 1,\n",
       "         'codeigniter query times custom file logging': 1,\n",
       "         'magento unit testing': 1,\n",
       "         'jackson json view deserialization': 1,\n",
       "         'remove elements linked list': 1,\n",
       "         'save tuple nsuserdefaults': 1,\n",
       "         'starting address array': 1,\n",
       "         'click link open pdf new window time changing parent window': 1,\n",
       "         'find element insert content next': 1,\n",
       "         'json response parsing using wordpress ajax': 1,\n",
       "         'php foreach doesnt override array value iterating': 1,\n",
       "         'js change text onclick change back onclick ifelse': 1,\n",
       "         'apache poi thousand separator': 1,\n",
       "         'highcharts sparse data hide empty values': 1,\n",
       "         'interopword print preview dialog office 20102013': 1,\n",
       "         'xcode button working inside storyboard': 1,\n",
       "         'check array nonzero values elements': 1,\n",
       "         'drag drop one image another disappear': 1,\n",
       "         'develop pivot table javagroovy': 1,\n",
       "         'remove duplicates elements json file using java else': 1,\n",
       "         'uiactivityindicatorview loading image online': 1,\n",
       "         'call stored procedure firebird database php pdo': 1,\n",
       "         'localhost url works browser returns boolfalse php curl_exec': 1,\n",
       "         'allow users download pictures gifpngjpeg': 1,\n",
       "         'use idatareader use datareader': 1,\n",
       "         'default locale': 1,\n",
       "         'get substring text': 1,\n",
       "         'skip r n string': 1,\n",
       "         'php calling class method class name variable string': 1,\n",
       "         'linq entities orderby': 1,\n",
       "         'spark application javalangoutofmemoryerror direct buffer memory': 1,\n",
       "         'possible run php exec cygwin': 1,\n",
       "         'performance tuning jsf': 1,\n",
       "         'mysql get data table matching ids': 1,\n",
       "         'swapping two nodes linkedlist c': 1,\n",
       "         'nodejs settimeoutfn0 vs setimmediatefn': 1,\n",
       "         'error parsing http request header tomcat 7': 1,\n",
       "         'angular 2 universal serverside rendering': 1,\n",
       "         'threejs accurate ray casting collision detection': 1,\n",
       "         'load google map background div': 1,\n",
       "         'open word doc c#': 1,\n",
       "         'storing image plist': 1,\n",
       "         'rails devise facebook + twitter +': 1,\n",
       "         'display jfreechart chartpanel jpanel generated netbeans': 1,\n",
       "         'c#aspnet iterate table': 1,\n",
       "         'best way send xml string java sockets': 1,\n",
       "         'app access admin level privileges nonrooted device': 1,\n",
       "         'overriding instance method static ones': 1,\n",
       "         'create python tkinter window x close button': 1,\n",
       "         'filter array letter': 1,\n",
       "         'return value ospath python': 1,\n",
       "         'locationservicesenabled always return yes': 1,\n",
       "         'lazy object creation c++ zerocost validation': 1,\n",
       "         'streaming music ipadiphoneipod touch pc airtunes net': 1,\n",
       "         'see styles attached hover pseudo classes firebug chrome debugger': 1,\n",
       "         'override applicationproperties production springboot': 1,\n",
       "         'google script replace function range': 1,\n",
       "         'dealing high traffic right way': 1,\n",
       "         'underlying provider failed open entity framework': 1,\n",
       "         'equalitycomparertdefault works internally': 1,\n",
       "         'set pagination laravel without refreshing whole page': 1,\n",
       "         'angularjs image src change model changes': 1,\n",
       "         'phpini': 1,\n",
       "         'mockito injecting null values spring bean using mock': 1,\n",
       "         'programmatically set textblock margin': 1,\n",
       "         'using nodejs show realtime notification messages php application': 1,\n",
       "         'convert string datetime linqtoentities inside query': 1,\n",
       "         'way use custom control designer avoid gac': 1,\n",
       "         'qt creator linker error lnk1104 cannot open file opencv_core249dlib': 1,\n",
       "         'python call function string': 1,\n",
       "         'raphael js unable create canvas referencing div': 1,\n",
       "         'regular expression alphabetic letter accent': 1,\n",
       "         'objectivec ipad chartgraph': 1,\n",
       "         'execute statement every n iterations python': 1,\n",
       "         'finisarsqlitesqliteexception sql logic error missing database unrecognized token': 1,\n",
       "         'plotting monthly data ggplot': 1,\n",
       "         'add external input value form submit': 1,\n",
       "         'find first day next month remaining days till date php': 1,\n",
       "         'relationshipnode chartsgraphs using javascript something else': 1,\n",
       "         'class declares multiple json fields': 1,\n",
       "         'wrap echo textarea using php': 1,\n",
       "         'django updating single model': 1,\n",
       "         'django custom user model admin relation auth_user exist': 1,\n",
       "         'laravel 4 load different layout particular method': 1,\n",
       "         'linq result empty': 1,\n",
       "         'google credential service account': 1,\n",
       "         'list orderby alphabetical order': 1,\n",
       "         'javascript submit page 30 seconds': 1,\n",
       "         'printing rdlc report without preview web application iis mode': 1,\n",
       "         'word 2007 documents visual studio 2010': 1,\n",
       "         'whats best way serialize javascript objects xml': 1,\n",
       "         'use mongodbexport python shell script': 1,\n",
       "         'stop executing page loading': 1,\n",
       "         'exception thread main javalangnoclassdeffounderror wrong name command prompt': 1,\n",
       "         'view prepared pdo sql statement': 1,\n",
       "         'set form minimum size': 1,\n",
       "         'difference uint32 unsigned int c++': 1,\n",
       "         'pass double value textview android im new': 1,\n",
       "         'invoke parent private method child': 1,\n",
       "         'form validation angularjs ionic doesnt work': 1,\n",
       "         'change text span element clicking using jquery': 1,\n",
       "         'get next item laravel collection': 1,\n",
       "         'add png jbutton': 1,\n",
       "         'error passing 2d char array function': 1,\n",
       "         'stdsignal stdraise threadsafe': 1,\n",
       "         'aspnet mvc passing model referencing different assembly controller view using c#': 1,\n",
       "         'get started mean stack': 1,\n",
       "         'tell python script use particular version': 1,\n",
       "         'jquery sum class li value': 1,\n",
       "         'passing argument using add_action wordpress': 1,\n",
       "         'access nested elements json object using getjsonarray method': 1,\n",
       "         'c# serialize second level element property': 1,\n",
       "         'happens call notify thread waiting': 1,\n",
       "         'd3js insert new sibling elements': 1,\n",
       "         'customisations tabularinline django': 1,\n",
       "         'get php self get variables': 1,\n",
       "         'event triggered tab load loading tab ajax': 1,\n",
       "         'socket programming single computer': 1,\n",
       "         'change value div': 1,\n",
       "         'cant correctly import external js aurelia application datatables': 1,\n",
       "         'python requests_ntlm import error': 1,\n",
       "         'using dependency injection pojos inject ejbs': 1,\n",
       "         'sqlite wal mode multiple transactions multiple threads': 1,\n",
       "         'opengl alpha blending wrong color': 1,\n",
       "         'redeclaring function parameters variables': 1,\n",
       "         'migrate existing site cms like drupal framework like zend neither': 1,\n",
       "         'encoding problem': 1,\n",
       "         'changing queries table adapter database connection': 1,\n",
       "         'smooth uitextview auto scroll bottom frame': 1,\n",
       "         'cant connect mongodb database user php': 1,\n",
       "         'get class name without instance class php': 1,\n",
       "         'passportjs localstrategy allow parameters default username password': 1,\n",
       "         'multi selection drop menu': 1,\n",
       "         'play framework 2 running unit tests intellij idea 13': 1,\n",
       "         'python split path recursively': 1,\n",
       "         'speed exceptions java': 1,\n",
       "         'modify initcomponents netbeans': 1,\n",
       "         'want create multiple pdfs loop using dompdf': 1,\n",
       "         'phpunit code coverage gives zend_mm_heap corrupted segmentation fault 11': 1,\n",
       "         'using string array hashmap java': 1,\n",
       "         'use index variable jstl foreach loop access map entry': 1,\n",
       "         'get result mysql_query inside mysql_fetch_array': 1,\n",
       "         'show d3 chart using bootstrap modal popup click button download image format': 1,\n",
       "         'find cluster sizes 2d numpy array': 1,\n",
       "         'ninject binding identity usermanager': 1,\n",
       "         'run aspnet web application another machine': 1,\n",
       "         'transferring one datagridview data another datagridview vbnet': 1,\n",
       "         'defer attribute chrome': 1,\n",
       "         'check kind pdf reader installed': 1,\n",
       "         'whats easiest way java swing client consumer webservice': 1,\n",
       "         'apache poi getting exact font color excel java': 1,\n",
       "         'initialize empty vector structure c++': 1,\n",
       "         'edit textfield selected text color javafx': 1,\n",
       "         'tree traversal java iterative recursive': 1,\n",
       "         'get enum values list string java 8': 1,\n",
       "         'c++ templatesgeneric programming vs polymorphism': 1,\n",
       "         'clear stack visual studio immediate window': 1,\n",
       "         'mvc3 validationattribute validationcontextmembername null': 1,\n",
       "         'awaiting async task showing modal form method handled': 1,\n",
       "         'getting razor view understand linq sql objects': 1,\n",
       "         'using java variable sql statement': 1,\n",
       "         'python program run computer without python cc++': 1,\n",
       "         'stop winsound stop thread python': 1,\n",
       "         'fatal error call member function query nonobject php file': 1,\n",
       "         'java list string array remove': 1,\n",
       "         'jtextfield inner fields preformated format something like ip field windows': 1,\n",
       "         'opencv python error assertion failed sizewidth0 sizeheight0': 1,\n",
       "         'display one div time': 1,\n",
       "         'calculate time difference strings javascript': 1,\n",
       "         'set background color mac osx objective c': 1,\n",
       "         'open file remote network share': 1,\n",
       "         'save id autocomplete field instead text jquery autocomplete rails3': 1,\n",
       "         'passing values dynamically created textboxes array using javascript': 1,\n",
       "         'android studio gradle issues invalid gradle jdk configuration found': 1,\n",
       "         'onitemselectedlistener working tab fragment': 1,\n",
       "         'activemq stops sending messages queue consumer case consumer acknowledging messages': 1,\n",
       "         'get cakephp bake find mysqlsock recognize mysql using mamp mac osx': 1,\n",
       "         'circular references warnings caused forward declarations object c': 1,\n",
       "         'sum digits even odd places c': 1,\n",
       "         'include function inside another function': 1,\n",
       "         'infinite loop gettersetter c#': 1,\n",
       "         'detect uitableview scroll past bottomtop': 1,\n",
       "         'object relational mapping insert update stored procedures': 1,\n",
       "         'angular js directive unloading event equivalent': 1,\n",
       "         'usual practice combine minify external js libraries css files': 1,\n",
       "         'initialise class object name': 1,\n",
       "         'using href link servlet': 1,\n",
       "         'using java parse csv save 2d array': 1,\n",
       "         'jquery auto print row number': 1,\n",
       "         'cannot implicitly convert type string microsoftsqlserverdtsruntimevariable': 1,\n",
       "         'python list list __getitem__': 1,\n",
       "         'definite selenium solution modal pop dialogs internet explorer java': 1,\n",
       "         'cache jquery objects': 1,\n",
       "         'get translate3d values div': 1,\n",
       "         'javalangclasscastexception androidwidgetlinearlayout cannot cast androidwidgettextview using arrayadapter': 1,\n",
       "         'pushing mysql data javascript php': 1,\n",
       "         'appengine apps vs google bot web crawler': 1,\n",
       "         'difference interface abstract class': 1,\n",
       "         'firefox firebug extension freeze javascript feature': 1,\n",
       "         'store data contains quotes mysql': 1,\n",
       "         'shouldnt functions async default': 1,\n",
       "         'scikit learn creation dummy variables': 1,\n",
       "         'plotting histograms grouped data pandas dataframe': 1,\n",
       "         'load image static method': 1,\n",
       "         'declare carray header file': 1,\n",
       "         'convert character entities unicode equivalents': 1,\n",
       "         'owin openid provider getexternallogininfo returns null': 1,\n",
       "         'pure virtual function cannot inline': 1,\n",
       "         'mvc4 create script bundle razor file': 1,\n",
       "         'strange fatal error call undefined method phpmailersetfrom codeigniter': 1,\n",
       "         'cannot use object array php': 1,\n",
       "         'refresh button iframe jquery javascript': 1,\n",
       "         'splash screen animation supporting xcode 7 gmios9 app crashes error': 1,\n",
       "         'wpf window detect first show': 1,\n",
       "         'google maps jsp spring': 1,\n",
       "         'javascript generated typescript': 1,\n",
       "         'make python 3x enter text web browser': 1,\n",
       "         'jquery accordion activate external links': 1,\n",
       "         'delete multiple rows table angularjs': 1,\n",
       "         'could affect python string comparison performance strings 64 characters': 1,\n",
       "         'running django project without django installation': 1,\n",
       "         'rails upgrade 323 3211': 1,\n",
       "         'using blocks reload uitableview data crashes': 1,\n",
       "         'best practice handle backing bean initialization jsf 20 jsf20': 1,\n",
       "         'file load error running rspec': 1,\n",
       "         'xml validation xsds java': 1,\n",
       "         'accessing attributes attr raphael element triggering mouseover event': 1,\n",
       "         'write jump instruction c': 1,\n",
       "         'property found object type': 1,\n",
       "         'populate matrix values another matrix r': 1,\n",
       "         'allow access php file another php file direct url': 1,\n",
       "         'change json structure': 1,\n",
       "         'local global static variables c++': 1,\n",
       "         'get type name object property name': 1,\n",
       "         'reduce lag jframe painting': 1,\n",
       "         'convert complex filename html link': 1,\n",
       "         'use typeid store type_info object': 1,\n",
       "         'c++ metatemplates required knowledge programmers': 1,\n",
       "         'python regex gets last occurrence': 1,\n",
       "         'optimizing tomcat garbage collection': 1,\n",
       "         'uialertview buttonssubviews showing ios 7': 1,\n",
       "         'executable jar file running': 1,\n",
       "         'suggestions open source aspectoriented library c#': 1,\n",
       "         'resize images using javascript scale real resize': 1,\n",
       "         'jquery ui datepicker date range issue': 1,\n",
       "         'printing odd numbered characters string without string slicing': 1,\n",
       "         'make checkbox win32': 1,\n",
       "         'scrolling zooming div': 1,\n",
       "         'test nginx proxy timeouts': 1,\n",
       "         'fixedpoint arithmetic': 1,\n",
       "         'eval function work php': 1,\n",
       "         'java reflection set value class object dynamically created': 1,\n",
       "         'checking file last modified c# windows os': 1,\n",
       "         'iterating users feed using javascript sdk': 1,\n",
       "         'c# determine duplicate list': 1,\n",
       "         'wpf combobox default selection itemssource': 1,\n",
       "         'django questionhow pass list parameter using post method': 1,\n",
       "         'return value done jquery ajax': 1,\n",
       "         'entity framework paged join unions': 1,\n",
       "         'possible ways happen memory leaks using jsp servlets development mode': 1,\n",
       "         'contextsavechanges linq': 1,\n",
       "         'nodename sometimes allcaps javascript dom': 1,\n",
       "         'syntax error unexpected end input parsejson': 1,\n",
       "         'transactional file writing c# windows': 1,\n",
       "         'use multithreading would multi threading beneficial different threads execute mutually independent tasks': 1,\n",
       "         'jquery dropdown menu': 1,\n",
       "         'get maximum size resize excel worksheet': 1,\n",
       "         'include get_template_part': 1,\n",
       "         'select specific part array two arrays returned': 1,\n",
       "         'advantages apache wicket': 1,\n",
       "         'send email php specified time': 1,\n",
       "         'creating set uniformly distributed random numbers': 1,\n",
       "         'disable caching via configuration yii': 1,\n",
       "         'unable create math object java': 1,\n",
       "         'python socket error 35': 1,\n",
       "         'two realms application spring security': 1,\n",
       "         'using python subprocesscall crontab': 1,\n",
       "         'updating python use aws cli': 1,\n",
       "         'performing multiple database operations single rest call': 1,\n",
       "         'databinding variable c# textblock wpf application working': 1,\n",
       "         'c++ opengl drawing room': 1,\n",
       "         ...})"
      ]
     },
     "execution_count": 51,
     "metadata": {},
     "output_type": "execute_result"
    }
   ],
   "source": [
    "words_counts"
   ]
  },
  {
   "cell_type": "code",
   "execution_count": 52,
   "metadata": {},
   "outputs": [],
   "source": [
    "all_words=[]\n",
    "for words1 in Y_train:\n",
    "    for words in words1:\n",
    "        all_words.append(words)"
   ]
  },
  {
   "cell_type": "code",
   "execution_count": 53,
   "metadata": {},
   "outputs": [
    {
     "name": "stdout",
     "output_type": "stream",
     "text": [
      "[('javascript', 19078), ('c#', 19077), ('java', 18661)]\n"
     ]
    }
   ],
   "source": [
    "# Pass the split_it list to instance of Counter class. \n",
    "counter = Counter(all_words) \n",
    "    \n",
    "# most_common() produces k frequently encountered \n",
    "# input values and their respective counts. \n",
    "tags_counts = counter\n",
    "print(tags_counts.most_common(3)) "
   ]
  },
  {
   "cell_type": "code",
   "execution_count": 54,
   "metadata": {
    "scrolled": true
   },
   "outputs": [
    {
     "data": {
      "text/plain": [
       "Counter({'r': 1727,\n",
       "         'php': 13907,\n",
       "         'mysql': 3092,\n",
       "         'c#': 19077,\n",
       "         'javascript': 19078,\n",
       "         'jquery': 7510,\n",
       "         'java': 18661,\n",
       "         'ruby-on-rails': 3344,\n",
       "         'ruby': 2326,\n",
       "         'ruby-on-rails-3': 692,\n",
       "         'json': 2026,\n",
       "         'spring': 1346,\n",
       "         'spring-mvc': 618,\n",
       "         'codeigniter': 786,\n",
       "         'class': 509,\n",
       "         'html': 4668,\n",
       "         'ios': 3256,\n",
       "         'c++': 6469,\n",
       "         'eclipse': 992,\n",
       "         'python': 8940,\n",
       "         'list': 693,\n",
       "         'objective-c': 4338,\n",
       "         'swift': 1465,\n",
       "         'xaml': 438,\n",
       "         'asp.net': 3939,\n",
       "         'wpf': 1289,\n",
       "         'multithreading': 1118,\n",
       "         'image': 672,\n",
       "         'performance': 512,\n",
       "         'twitter-bootstrap': 501,\n",
       "         'linq': 964,\n",
       "         'xml': 1347,\n",
       "         'numpy': 502,\n",
       "         'ajax': 1767,\n",
       "         'django': 1835,\n",
       "         'laravel': 525,\n",
       "         'android': 2818,\n",
       "         'rest': 456,\n",
       "         'asp.net-mvc': 1244,\n",
       "         'web-services': 633,\n",
       "         'string': 1573,\n",
       "         'excel': 443,\n",
       "         'winforms': 1468,\n",
       "         'arrays': 2277,\n",
       "         'c': 3119,\n",
       "         'sockets': 579,\n",
       "         'osx': 490,\n",
       "         'entity-framework': 649,\n",
       "         'mongodb': 350,\n",
       "         'opencv': 401,\n",
       "         'xcode': 900,\n",
       "         'uitableview': 460,\n",
       "         'algorithm': 419,\n",
       "         'python-2.7': 421,\n",
       "         'angularjs': 1353,\n",
       "         'dom': 400,\n",
       "         'swing': 759,\n",
       "         '.net': 3872,\n",
       "         'vb.net': 1918,\n",
       "         'google-maps': 408,\n",
       "         'hibernate': 807,\n",
       "         'wordpress': 478,\n",
       "         'iphone': 1909,\n",
       "         'sql': 1272,\n",
       "         'visual-studio': 574,\n",
       "         'linux': 793,\n",
       "         'facebook': 508,\n",
       "         'database': 740,\n",
       "         'file': 582,\n",
       "         'generics': 420,\n",
       "         'visual-studio-2010': 588,\n",
       "         'regex': 1442,\n",
       "         'html5': 842,\n",
       "         'jsp': 680,\n",
       "         'csv': 435,\n",
       "         'forms': 872,\n",
       "         'validation': 558,\n",
       "         'parsing': 403,\n",
       "         'function': 487,\n",
       "         'pandas': 479,\n",
       "         'sorting': 375,\n",
       "         'qt': 451,\n",
       "         'wcf': 389,\n",
       "         'css': 1769,\n",
       "         'date': 560,\n",
       "         'node.js': 771,\n",
       "         'sql-server': 585,\n",
       "         'unit-testing': 449,\n",
       "         'python-3.x': 379,\n",
       "         'loops': 389,\n",
       "         'windows': 838,\n",
       "         'pointers': 350,\n",
       "         'oop': 425,\n",
       "         'datetime': 557,\n",
       "         'servlets': 498,\n",
       "         'session': 415,\n",
       "         'cocoa-touch': 507,\n",
       "         'apache': 441,\n",
       "         'selenium': 431,\n",
       "         'maven': 432})"
      ]
     },
     "execution_count": 54,
     "metadata": {},
     "output_type": "execute_result"
    }
   ],
   "source": [
    "tags_counts"
   ]
  },
  {
   "cell_type": "markdown",
   "metadata": {
    "colab_type": "text",
    "id": "Xk7M4uJ_TF-8"
   },
   "source": [
    "## Task - 3 Transforming text to a vector (10 points)\n",
    "\n",
    "Machine Learning algorithms work with numeric data and we cannot use the provided text data \"as is\". There are many ways to transform text data to numeric vectors. In this task you will try to use two of them.\n",
    "\n",
    "#### Bag of words\n",
    "\n",
    "One of the well-known approaches is a *bag-of-words* representation. To create this transformation, follow the steps:\n",
    "1. Find *N* most popular words in train corpus and numerate them. Now we have a dictionary of the most popular words.\n",
    "2. For each title in the corpora create a zero vector with the dimension equals to *N*.\n",
    "3. For each text in the corpora iterate over words which are in the dictionary and increase by 1 the corresponding coordinate.\n",
    "\n",
    "Let's try to do it for a toy example. Imagine that we have *N* = 4 and the list of the most popular words is \n",
    "\n",
    "    ['hi', 'you', 'me', 'are']\n",
    "\n",
    "Then we need to numerate them, for example, like this: \n",
    "\n",
    "    {'hi': 0, 'you': 1, 'me': 2, 'are': 3}\n",
    "\n",
    "And we have the text, which we want to transform to the vector:\n",
    "\n",
    "    'hi how are you'\n",
    "\n",
    "For this text we create a corresponding zero vector \n",
    "\n",
    "    [0, 0, 0, 0]\n",
    "    \n",
    "And iterate over all words, and if the word is in the dictionary, we increase the value of the corresponding position in the vector:\n",
    "\n",
    "    'hi':  [1, 0, 0, 0]\n",
    "    'how': [1, 0, 0, 0] # word 'how' is not in our dictionary\n",
    "    'are': [1, 0, 0, 1]\n",
    "    'you': [1, 1, 0, 1]\n",
    "\n",
    "The resulting vector will be \n",
    "\n",
    "    [1, 1, 0, 1]\n",
    "   \n",
    "Implement the described encoding in the function *my_bag_of_words* with the size of the dictionary equals to 5000. To find the most common words use train data. You can test your code using the function *test_my_bag_of_words*."
   ]
  },
  {
   "cell_type": "code",
   "execution_count": 55,
   "metadata": {
    "colab": {},
    "colab_type": "code",
    "id": "6ER1oq48TF-9"
   },
   "outputs": [],
   "source": [
    "import operator\n",
    "DICT_SIZE = 5000\n",
    "most_common_words = sorted(words_counts.items(), key=lambda x: x[1], reverse=True)[:6000]\n",
    "WORDS_TO_INDEX = {p[0]:i for i,p in enumerate(most_common_words[:DICT_SIZE])}    \n",
    "INDEX_TO_WORDS = {WORDS_TO_INDEX[k]:k for k in WORDS_TO_INDEX}\n",
    "ALL_WORDS = WORDS_TO_INDEX.keys()\n",
    "\n",
    "def my_bag_of_words(text, words_to_index, dict_size):\n",
    "        \n",
    "    ### Write a function which returns a vector which is a bag-of-words representation of 'text'\n",
    "    result_vector = np.zeros(dict_size)\n",
    "    \n",
    "    for word in text.split():\n",
    "        if word in words_to_index.keys():\n",
    "            x= words_to_index[word]\n",
    "            result_vector[x]+=1\n",
    "\n",
    "    return result_vector"
   ]
  },
  {
   "cell_type": "code",
   "execution_count": 56,
   "metadata": {
    "colab": {},
    "colab_type": "code",
    "id": "qnLYWnsaTF_A"
   },
   "outputs": [],
   "source": [
    "def test_my_bag_of_words():\n",
    "    words_to_index = {'hi': 0, 'you': 1, 'me': 2, 'are': 3}\n",
    "    examples = ['hi how are you']\n",
    "    answers = [[1, 1, 0, 1]]\n",
    "    for ex, ans in zip(examples, answers):\n",
    "        if (my_bag_of_words(ex, words_to_index, 4) != ans).any():\n",
    "            return \"Wrong answer for the case: '%s'\" % ex\n",
    "    return 'Basic tests are passed.'"
   ]
  },
  {
   "cell_type": "markdown",
   "metadata": {
    "colab_type": "text",
    "id": "mOlSiUqEW3jD"
   },
   "source": [
    "Execute the test_text_prepare function <br>\n",
    "*<u>Note:</u> You should pass the above test to ensure BOW is working correctly!*"
   ]
  },
  {
   "cell_type": "code",
   "execution_count": 57,
   "metadata": {
    "colab": {
     "base_uri": "https://localhost:8080/",
     "height": 34
    },
    "colab_type": "code",
    "executionInfo": {
     "elapsed": 1342,
     "status": "ok",
     "timestamp": 1563018519481,
     "user": {
      "displayName": "Ravi Saxena",
      "photoUrl": "https://lh5.googleusercontent.com/-VdmC3xQr3Ck/AAAAAAAAAAI/AAAAAAAAA1o/UNixZN4E1D8/s64/photo.jpg",
      "userId": "14135883433938930528"
     },
     "user_tz": -330
    },
    "id": "cqWhoF24TF_D",
    "outputId": "b61b5f11-cc8e-48a5-815b-36647c221e63"
   },
   "outputs": [
    {
     "name": "stdout",
     "output_type": "stream",
     "text": [
      "Basic tests are passed.\n"
     ]
    }
   ],
   "source": [
    "print(test_my_bag_of_words())"
   ]
  },
  {
   "cell_type": "markdown",
   "metadata": {
    "colab_type": "text",
    "id": "BXW3ALCITF_H"
   },
   "source": [
    "Now apply the implemented function to all samples (this might take up to a minute):"
   ]
  },
  {
   "cell_type": "code",
   "execution_count": 58,
   "metadata": {
    "colab": {},
    "colab_type": "code",
    "id": "m39xHB2yTF_H"
   },
   "outputs": [],
   "source": [
    "from scipy import sparse as sp_sparse"
   ]
  },
  {
   "cell_type": "code",
   "execution_count": 59,
   "metadata": {
    "colab": {
     "base_uri": "https://localhost:8080/",
     "height": 68
    },
    "colab_type": "code",
    "executionInfo": {
     "elapsed": 47484,
     "status": "ok",
     "timestamp": 1563018571799,
     "user": {
      "displayName": "Ravi Saxena",
      "photoUrl": "https://lh5.googleusercontent.com/-VdmC3xQr3Ck/AAAAAAAAAAI/AAAAAAAAA1o/UNixZN4E1D8/s64/photo.jpg",
      "userId": "14135883433938930528"
     },
     "user_tz": -330
    },
    "id": "6DZwPWB1TF_K",
    "outputId": "dd35b72f-231a-45fa-c3da-813e0509b9b5"
   },
   "outputs": [
    {
     "name": "stdout",
     "output_type": "stream",
     "text": [
      "X_train shape  (100000, 5000)\n",
      "X_val shape  (30000, 5000)\n",
      "X_test shape  (20000, 5000)\n"
     ]
    }
   ],
   "source": [
    "X_train_mybag = sp_sparse.vstack([sp_sparse.csr_matrix(my_bag_of_words(text, WORDS_TO_INDEX, DICT_SIZE)) for text in X_train])\n",
    "X_val_mybag = sp_sparse.vstack([sp_sparse.csr_matrix(my_bag_of_words(text, WORDS_TO_INDEX, DICT_SIZE)) for text in X_val])\n",
    "X_test_mybag = sp_sparse.vstack([sp_sparse.csr_matrix(my_bag_of_words(text, WORDS_TO_INDEX, DICT_SIZE)) for text in X_test])\n",
    "print('X_train shape ', X_train_mybag.shape)\n",
    "print('X_val shape ', X_val_mybag.shape)\n",
    "print('X_test shape ', X_test_mybag.shape)"
   ]
  },
  {
   "cell_type": "markdown",
   "metadata": {
    "colab_type": "text",
    "id": "WPXTUeNSTF_N"
   },
   "source": [
    "As you might notice, we transform the data to sparse representation, to store the useful information efficiently. There are many types: of such representations, however sklearn algorithms can work only with  csr matrix, so we will use this one.<br>\n",
    "<u>Documentations on sparse matrix:</u> <br>\n",
    "(https://docs.scipy.org/doc/scipy/reference/generated/scipy.sparse.csr_matrix.html#scipy.sparse.csr_matrix) \n",
    "(https://docs.scipy.org/doc/scipy/reference/sparse.html)\n",
    "\n"
   ]
  },
  {
   "cell_type": "markdown",
   "metadata": {
    "colab_type": "text",
    "id": "i8AMzsVxTF_Q"
   },
   "source": [
    "\n",
    "For the 11th row in *X_train_mybag* find how many non-zero elements it has. In this task the answer (variable *non_zero_elements_count*) should be a number, e.g. 20."
   ]
  },
  {
   "cell_type": "code",
   "execution_count": 60,
   "metadata": {
    "colab": {
     "base_uri": "https://localhost:8080/",
     "height": 34
    },
    "colab_type": "code",
    "executionInfo": {
     "elapsed": 1631,
     "status": "ok",
     "timestamp": 1563018591811,
     "user": {
      "displayName": "Ravi Saxena",
      "photoUrl": "https://lh5.googleusercontent.com/-VdmC3xQr3Ck/AAAAAAAAAAI/AAAAAAAAA1o/UNixZN4E1D8/s64/photo.jpg",
      "userId": "14135883433938930528"
     },
     "user_tz": -330
    },
    "id": "q_2Nvjw2FAc8",
    "outputId": "d272e424-16d9-4f64-e9c2-6a0c05041e49"
   },
   "outputs": [
    {
     "data": {
      "text/plain": [
       "array([0., 0., 0., ..., 0., 0., 0.])"
      ]
     },
     "execution_count": 60,
     "metadata": {},
     "output_type": "execute_result"
    }
   ],
   "source": [
    "row = X_train_mybag[10].toarray()[0]\n",
    "row"
   ]
  },
  {
   "cell_type": "code",
   "execution_count": 61,
   "metadata": {
    "colab": {},
    "colab_type": "code",
    "id": "bOetzSLzTF_S"
   },
   "outputs": [],
   "source": [
    "row = X_train_mybag[10].toarray()[0]\n",
    "non_zero_elements_count = len(row[row != 0])"
   ]
  },
  {
   "cell_type": "code",
   "execution_count": 62,
   "metadata": {
    "colab": {
     "base_uri": "https://localhost:8080/",
     "height": 34
    },
    "colab_type": "code",
    "executionInfo": {
     "elapsed": 1437,
     "status": "ok",
     "timestamp": 1563018604951,
     "user": {
      "displayName": "Ravi Saxena",
      "photoUrl": "https://lh5.googleusercontent.com/-VdmC3xQr3Ck/AAAAAAAAAAI/AAAAAAAAA1o/UNixZN4E1D8/s64/photo.jpg",
      "userId": "14135883433938930528"
     },
     "user_tz": -330
    },
    "id": "gPiBQnvxKxFw",
    "outputId": "5d3bcfd4-27fd-45e2-f600-223b4860a45e"
   },
   "outputs": [
    {
     "name": "stdout",
     "output_type": "stream",
     "text": [
      "0\n"
     ]
    }
   ],
   "source": [
    "print(non_zero_elements_count)"
   ]
  },
  {
   "cell_type": "markdown",
   "metadata": {
    "colab_type": "text",
    "id": "GYAFKGfKTF_V"
   },
   "source": [
    "## Task 4 - TF-IDF (5 points)\n",
    "\n",
    "The second approach extends the bag-of-words framework by taking into account total frequencies of words in the corpora. It helps to penalize too frequent words and provide better features space. \n",
    "\n",
    "Implement function *tfidf_features* using class  from *scikit-learn*. Use *train* corpus to train a vectorizer. Don't forget to take a look into the arguments that you can pass to it. We suggest that you filter out too rare words (occur less than in 5 titles) and too frequent words (occur more than in 90% of the titles). Also, use bigrams along with unigrams in your vocabulary. "
   ]
  },
  {
   "cell_type": "markdown",
   "metadata": {
    "colab_type": "text",
    "id": "1s3uEKmjYpuh"
   },
   "source": [
    "## Write a function which takes x_train, x_val and x_test as input and return the tf-idf features of the same and the vocabulary"
   ]
  },
  {
   "cell_type": "code",
   "execution_count": 63,
   "metadata": {
    "colab": {},
    "colab_type": "code",
    "id": "lkz1RYsBTF_Z"
   },
   "outputs": [],
   "source": [
    "from sklearn.feature_extraction.text import TfidfVectorizer"
   ]
  },
  {
   "cell_type": "code",
   "execution_count": 64,
   "metadata": {
    "colab": {},
    "colab_type": "code",
    "id": "o6V7FPirTF_i"
   },
   "outputs": [],
   "source": [
    "def tfidf_features(X_train, X_val, X_test):\n",
    "    tfidf_vectorizer = TfidfVectorizer(min_df=5, max_df=0.9, ngram_range=(1, 2), token_pattern='(\\S+)')  \n",
    "    X_train=tfidf_vectorizer.fit_transform(X_train)\n",
    "    X_val=tfidf_vectorizer.transform(X_val)\n",
    "    X_test=tfidf_vectorizer.transform(X_test)   \n",
    "    return X_train, X_val, X_test, tfidf_vectorizer.vocabulary_"
   ]
  },
  {
   "cell_type": "code",
   "execution_count": 65,
   "metadata": {
    "colab": {},
    "colab_type": "code",
    "id": "ySnV2zCBTF_p"
   },
   "outputs": [],
   "source": [
    "X_train_tfidf, X_val_tfidf, X_test_tfidf, tfidf_vocab = tfidf_features(X_train, X_val, X_test)\n",
    "tfidf_reversed_vocab = {i:word for word,i in tfidf_vocab.items()}"
   ]
  },
  {
   "cell_type": "code",
   "execution_count": 66,
   "metadata": {
    "colab": {
     "base_uri": "https://localhost:8080/",
     "height": 51
    },
    "colab_type": "code",
    "executionInfo": {
     "elapsed": 1415,
     "status": "ok",
     "timestamp": 1563018752821,
     "user": {
      "displayName": "Ravi Saxena",
      "photoUrl": "https://lh5.googleusercontent.com/-VdmC3xQr3Ck/AAAAAAAAAAI/AAAAAAAAA1o/UNixZN4E1D8/s64/photo.jpg",
      "userId": "14135883433938930528"
     },
     "user_tz": -330
    },
    "id": "bvlY9msgFOs-",
    "outputId": "c6d3be6b-5575-47e7-d8d3-5fd0b1c5411c"
   },
   "outputs": [
    {
     "data": {
      "text/plain": [
       "<30000x17966 sparse matrix of type '<class 'numpy.float64'>'\n",
       "\twith 193259 stored elements in Compressed Sparse Row format>"
      ]
     },
     "execution_count": 66,
     "metadata": {},
     "output_type": "execute_result"
    }
   ],
   "source": [
    "X_val_tfidf"
   ]
  },
  {
   "cell_type": "markdown",
   "metadata": {
    "colab_type": "text",
    "id": "o_aopTTNL5G1"
   },
   "source": [
    "Print the index of string \"C#\" in the vocabulary"
   ]
  },
  {
   "cell_type": "code",
   "execution_count": 67,
   "metadata": {
    "colab": {
     "base_uri": "https://localhost:8080/",
     "height": 34
    },
    "colab_type": "code",
    "executionInfo": {
     "elapsed": 1363,
     "status": "ok",
     "timestamp": 1563018763562,
     "user": {
      "displayName": "Ravi Saxena",
      "photoUrl": "https://lh5.googleusercontent.com/-VdmC3xQr3Ck/AAAAAAAAAAI/AAAAAAAAA1o/UNixZN4E1D8/s64/photo.jpg",
      "userId": "14135883433938930528"
     },
     "user_tz": -330
    },
    "id": "kZ-3wqTTMCRi",
    "outputId": "8b3df4fd-91e3-46a6-9e8d-3eecfd24bba7"
   },
   "outputs": [
    {
     "data": {
      "text/plain": [
       "1839"
      ]
     },
     "execution_count": 67,
     "metadata": {},
     "output_type": "execute_result"
    }
   ],
   "source": [
    "tfidf_vocab['c#']"
   ]
  },
  {
   "cell_type": "markdown",
   "metadata": {
    "colab_type": "text",
    "id": "ZYYO2kdiTF_6"
   },
   "source": [
    "## Task 5: Classification (15 points)\n",
    "MultiLabel classifier\n",
    "\n",
    "As we have noticed before, in this task each example can have multiple tags. To deal with such kind of prediction, we need to transform labels in a binary form and the prediction will be a mask of 0s and 1s. For this purpose it is convenient to use MultiLabelBinarizer from sklearn. <br>\n",
    "<u>Documentation:</u> <br>\n",
    "http://scikit-learn.org/stable/modules/generated/sklearn.preprocessing.MultiLabelBinarizer.html"
   ]
  },
  {
   "cell_type": "code",
   "execution_count": 68,
   "metadata": {
    "colab": {},
    "colab_type": "code",
    "id": "ojeCe_e_TF_7"
   },
   "outputs": [],
   "source": [
    "from sklearn.preprocessing import MultiLabelBinarizer"
   ]
  },
  {
   "cell_type": "code",
   "execution_count": 69,
   "metadata": {
    "colab": {},
    "colab_type": "code",
    "id": "p8JYQr8YTF_-"
   },
   "outputs": [],
   "source": [
    "mlb = MultiLabelBinarizer(classes=sorted(tags_counts.keys()))\n",
    "y_train = mlb.fit_transform(Y_train)\n",
    "y_val = mlb.fit_transform(y_val)"
   ]
  },
  {
   "cell_type": "markdown",
   "metadata": {
    "colab_type": "text",
    "id": "qN1NUA3DTGAB"
   },
   "source": [
    "In this task we suggest to use One-vs-Rest approach, which is implemented in [OneVsRestClassifier](http://scikit-learn.org/stable/modules/generated/sklearn.multiclass.OneVsRestClassifier.html) class. In this approach *k* classifiers (= number of tags) are trained. As a basic classifier, use [LogisticRegression](http://scikit-learn.org/stable/modules/generated/sklearn.linear_model.LogisticRegression.html). It is one of the simplest methods, but often it performs good enough in text classification tasks. It might take some time, because a number of classifiers to train is large.\n",
    "\n",
    "**OneVsRest multi-label strategy**\n",
    "\n",
    "The Multi-label algorithm accepts a binary mask over multiple labels. The result for each prediction will be an array of 0s and 1s marking which class labels apply to each row input sample.\n",
    "\n",
    "**Logistic Regression & SVM**\n",
    "\n",
    "OneVsRest strategy can be used for multi-label learning, where a classifier is used to predict multiple labels for instance. LR & SVM supports multi-class, but we are in a multi-label scenario, therefore, we wrap classifiers in the OneVsRestClassifier.\n",
    "\n",
    "*If you want to learn more about OneVsRest, check out these links:*\n",
    "- *https://towardsdatascience.com/multi-label-text-classification-with-scikit-learn-30714b7819c5*\n",
    "- *https://towardsdatascience.com/journey-to-the-center-of-multi-label-classification-384c40229bff*\n",
    "- *https://medium.com/coinmonks/multi-label-classification-blog-tags-prediction-using-nlp-b0b5ee6686fc*"
   ]
  },
  {
   "cell_type": "code",
   "execution_count": 70,
   "metadata": {
    "colab": {},
    "colab_type": "code",
    "id": "2Pj6MDkbTGAC"
   },
   "outputs": [],
   "source": [
    "from sklearn.multiclass import OneVsRestClassifier\n",
    "from sklearn.linear_model import LogisticRegression\n",
    "from sklearn.svm import SVC, LinearSVC"
   ]
  },
  {
   "cell_type": "code",
   "execution_count": 71,
   "metadata": {
    "colab": {},
    "colab_type": "code",
    "id": "eUHZR2TWTGAF"
   },
   "outputs": [],
   "source": [
    "def train_classifier(X_train, y_train):\n",
    "    # Create and fit LogisticRegression and LinearSVC wraped into OneVsRestClassifier.\n",
    "\n",
    "    lr = LogisticRegression(solver='newton-cg', n_jobs=-1, random_state=0)\n",
    "    clf = OneVsRestClassifier(lr)\n",
    "    clf.fit(X_train, y_train) \n",
    "    \n",
    "    return clf  ### clf is the model"
   ]
  },
  {
   "cell_type": "markdown",
   "metadata": {
    "colab_type": "text",
    "id": "k660NfRFTGAL"
   },
   "source": [
    "Train the classifiers for different data transformations: *bag-of-words* and *tf-idf*.\n",
    "classifier_mybag = model for "
   ]
  },
  {
   "cell_type": "code",
   "execution_count": 72,
   "metadata": {
    "colab": {},
    "colab_type": "code",
    "id": "jXyhN-yDTGAP"
   },
   "outputs": [],
   "source": [
    "classifier_mybag = train_classifier(X_train_mybag, y_train)\n",
    "classifier_tfidf = train_classifier(X_train_tfidf, y_train)"
   ]
  },
  {
   "cell_type": "markdown",
   "metadata": {
    "colab_type": "text",
    "id": "ijQZCd9cTGAU"
   },
   "source": [
    "Now you can create predictions for the data. You will need two types of predictions: labels and scores."
   ]
  },
  {
   "cell_type": "code",
   "execution_count": 73,
   "metadata": {
    "colab": {},
    "colab_type": "code",
    "id": "0QT7uWddTGAV"
   },
   "outputs": [],
   "source": [
    "y_val_predicted_labels_mybag = classifier_mybag.predict(X_val_mybag)\n",
    "y_val_predicted_scores_mybag = classifier_mybag.decision_function(X_val_mybag)\n",
    "\n",
    "y_val_predicted_labels_tfidf = classifier_tfidf.predict(X_val_tfidf)\n",
    "y_val_predicted_scores_tfidf = classifier_tfidf.decision_function(X_val_tfidf)"
   ]
  },
  {
   "cell_type": "code",
   "execution_count": 74,
   "metadata": {
    "colab": {
     "base_uri": "https://localhost:8080/",
     "height": 272
    },
    "colab_type": "code",
    "executionInfo": {
     "elapsed": 1961,
     "status": "ok",
     "timestamp": 1563019458280,
     "user": {
      "displayName": "Ravi Saxena",
      "photoUrl": "https://lh5.googleusercontent.com/-VdmC3xQr3Ck/AAAAAAAAAAI/AAAAAAAAA1o/UNixZN4E1D8/s64/photo.jpg",
      "userId": "14135883433938930528"
     },
     "user_tz": -330
    },
    "id": "Saxd_wl_BMAy",
    "outputId": "8365f102-997a-4e95-95ed-848772436fd6"
   },
   "outputs": [
    {
     "name": "stdout",
     "output_type": "stream",
     "text": [
      "Title:\todbc_exec always fail\n",
      "True labels:\tphp,sql\n",
      "Predicted labels:\t\n",
      "\n",
      "\n",
      "Title:\taccess base classes variable within child class\n",
      "True labels:\tjavascript\n",
      "Predicted labels:\t\n",
      "\n",
      "\n",
      "Title:\tcontenttype applicationjson required rails\n",
      "True labels:\truby,ruby-on-rails\n",
      "Predicted labels:\truby-on-rails\n",
      "\n",
      "\n"
     ]
    }
   ],
   "source": [
    "y_val_pred_inversed = mlb.inverse_transform(y_val_predicted_labels_tfidf)\n",
    "y_val_inversed = mlb.inverse_transform(y_val)\n",
    "for i in range(3):\n",
    "    print('Title:\\t{}\\nTrue labels:\\t{}\\nPredicted labels:\\t{}\\n\\n'.format(\n",
    "        X_val[i],\n",
    "        ','.join(y_val_inversed[i]),\n",
    "        ','.join(y_val_pred_inversed[i])\n",
    "    ))"
   ]
  },
  {
   "cell_type": "markdown",
   "metadata": {
    "colab_type": "text",
    "id": "p9n0TEtHTGAj"
   },
   "source": [
    "Now, we would need to compare the results of different predictions, e.g. to see whether TF-IDF transformation helps or to try different regularization techniques in logistic regression. For all these experiments, we need to setup evaluation procedure. "
   ]
  },
  {
   "cell_type": "markdown",
   "metadata": {
    "colab_type": "text",
    "id": "RVqAxDxqTGAk"
   },
   "source": [
    "## Evaluation (10 points)\n",
    "\n",
    "To evaluate the results we will use several classification metrics:\n",
    " - [Accuracy](http://scikit-learn.org/stable/modules/generated/sklearn.metrics.accuracy_score.html)\n",
    " - [F1-score](http://scikit-learn.org/stable/modules/generated/sklearn.metrics.f1_score.html)\n",
    " - [Area under ROC-curve](http://scikit-learn.org/stable/modules/generated/sklearn.metrics.roc_auc_score.html)\n",
    " - [Area under precision-recall curve](http://scikit-learn.org/stable/modules/generated/sklearn.metrics.average_precision_score.html#sklearn.metrics.average_precision_score) \n",
    " \n",
    "Make sure you are familiar with all of them. If you want a refresher, you can click the link to their documentation"
   ]
  },
  {
   "cell_type": "markdown",
   "metadata": {
    "colab_type": "text",
    "id": "_YmNhVsU9K9-"
   },
   "source": [
    "## Import the necessary libraries for the above metrics"
   ]
  },
  {
   "cell_type": "code",
   "execution_count": 75,
   "metadata": {
    "colab": {},
    "colab_type": "code",
    "id": "tBvrkOUYTGAl"
   },
   "outputs": [],
   "source": [
    "from sklearn.metrics import accuracy_score\n",
    "from sklearn.metrics import f1_score\n",
    "from sklearn.metrics import roc_auc_score \n",
    "from sklearn.metrics import average_precision_score\n",
    "from sklearn.metrics import recall_score"
   ]
  },
  {
   "cell_type": "markdown",
   "metadata": {
    "colab_type": "text",
    "id": "vNkYBl_wTGAp"
   },
   "source": [
    "Define the function *print_evaluation_scores* which takes y_val and predicted as input calculates and prints the following output:\n",
    " - *accuracy*\n",
    " - *F1-score - Average = 'weighted'* \n",
    " - *Precision - Average = 'macro'*"
   ]
  },
  {
   "cell_type": "code",
   "execution_count": 76,
   "metadata": {
    "colab": {},
    "colab_type": "code",
    "id": "-4nevWnhTGAq"
   },
   "outputs": [],
   "source": [
    "def print_evaluation_scores(y_val, predicted):\n",
    "    print (\"Accuracy\",accuracy_score(y_val, predicted))\n",
    "    print (\"F1 Score\",f1_score(y_val, predicted, average='macro'))\n",
    "    print (\"Average Precision\",average_precision_score(y_val, predicted, average='macro'))"
   ]
  },
  {
   "cell_type": "code",
   "execution_count": 77,
   "metadata": {
    "colab": {
     "base_uri": "https://localhost:8080/",
     "height": 153
    },
    "colab_type": "code",
    "executionInfo": {
     "elapsed": 6009,
     "status": "ok",
     "timestamp": 1563019505155,
     "user": {
      "displayName": "Ravi Saxena",
      "photoUrl": "https://lh5.googleusercontent.com/-VdmC3xQr3Ck/AAAAAAAAAAI/AAAAAAAAA1o/UNixZN4E1D8/s64/photo.jpg",
      "userId": "14135883433938930528"
     },
     "user_tz": -330
    },
    "id": "G92GIO4dTGAt",
    "outputId": "eedc90fd-6306-41cb-ba14-608960d31462"
   },
   "outputs": [
    {
     "name": "stdout",
     "output_type": "stream",
     "text": [
      "Bag-of-words\n",
      "Accuracy 0.03863333333333333\n"
     ]
    },
    {
     "name": "stderr",
     "output_type": "stream",
     "text": [
      "F:\\Anaconda\\lib\\site-packages\\sklearn\\metrics\\classification.py:1143: UndefinedMetricWarning: F-score is ill-defined and being set to 0.0 in labels with no predicted samples.\n",
      "  'precision', 'predicted', average, warn_for)\n"
     ]
    },
    {
     "name": "stdout",
     "output_type": "stream",
     "text": [
      "F1 Score 0.008474884106757473\n",
      "Average Precision 0.023714265390099177\n",
      "Tfidf\n",
      "Accuracy 0.32993333333333336\n",
      "F1 Score 0.44128062667211543\n",
      "Average Precision 0.297194660255531\n"
     ]
    }
   ],
   "source": [
    "print('Bag-of-words')\n",
    "print_evaluation_scores(y_val, y_val_predicted_labels_mybag)\n",
    "print('Tfidf')\n",
    "print_evaluation_scores(y_val, y_val_predicted_labels_tfidf)"
   ]
  },
  {
   "cell_type": "markdown",
   "metadata": {
    "colab_type": "text",
    "id": "kT7oso8ZTGAv"
   },
   "source": [
    "You might also want to plot some form of the [ROC curve](http://scikit-learn.org/stable/modules/model_evaluation.html#receiver-operating-characteristic-roc) for the case of multi-label classification. The input parameters for the roc curve are:\n",
    " - true labels\n",
    " - decision functions scores\n",
    " - number of classes"
   ]
  },
  {
   "cell_type": "markdown",
   "metadata": {
    "colab_type": "text",
    "id": "x4hbW3SeBVxz"
   },
   "source": [
    "Import the roc_auc function from the metrics.py file provided"
   ]
  },
  {
   "cell_type": "code",
   "execution_count": 80,
   "metadata": {},
   "outputs": [],
   "source": [
    "import metric\n",
    "from metric import roc_auc"
   ]
  },
  {
   "cell_type": "code",
   "execution_count": null,
   "metadata": {},
   "outputs": [],
   "source": []
  },
  {
   "cell_type": "code",
   "execution_count": 81,
   "metadata": {
    "colab": {
     "base_uri": "https://localhost:8080/",
     "height": 295
    },
    "colab_type": "code",
    "executionInfo": {
     "elapsed": 3896,
     "status": "ok",
     "timestamp": 1563021743869,
     "user": {
      "displayName": "Ravi Saxena",
      "photoUrl": "https://lh5.googleusercontent.com/-VdmC3xQr3Ck/AAAAAAAAAAI/AAAAAAAAA1o/UNixZN4E1D8/s64/photo.jpg",
      "userId": "14135883433938930528"
     },
     "user_tz": -330
    },
    "id": "-gHa3YouWuJ3",
    "outputId": "62bc5efc-8c34-42d7-c628-9d73f06eca9d"
   },
   "outputs": [
    {
     "data": {
      "image/png": "[encoded data removed]",
      "text/plain": [
       "<Figure size 432x288 with 1 Axes>"
      ]
     },
     "metadata": {
      "needs_background": "light"
     },
     "output_type": "display_data"
    }
   ],
   "source": [
    "n_classes = len(tags_counts)\n",
    "roc_auc(y_val, y_val_predicted_scores_mybag, n_classes)"
   ]
  },
  {
   "cell_type": "code",
   "execution_count": 82,
   "metadata": {
    "colab": {
     "base_uri": "https://localhost:8080/",
     "height": 295
    },
    "colab_type": "code",
    "executionInfo": {
     "elapsed": 3575,
     "status": "ok",
     "timestamp": 1563021761055,
     "user": {
      "displayName": "Ravi Saxena",
      "photoUrl": "https://lh5.googleusercontent.com/-VdmC3xQr3Ck/AAAAAAAAAAI/AAAAAAAAA1o/UNixZN4E1D8/s64/photo.jpg",
      "userId": "14135883433938930528"
     },
     "user_tz": -330
    },
    "id": "_43xUHq2WxO3",
    "outputId": "c4c2d8c1-b362-4101-bfa8-aad7e289d099"
   },
   "outputs": [
    {
     "data": {
      "image/png": "[encoded data removed]",
      "text/plain": [
       "<Figure size 432x288 with 1 Axes>"
      ]
     },
     "metadata": {
      "needs_background": "light"
     },
     "output_type": "display_data"
    }
   ],
   "source": [
    "n_classes = len(tags_counts)\n",
    "roc_auc(y_val, y_val_predicted_scores_tfidf, n_classes)"
   ]
  },
  {
   "cell_type": "markdown",
   "metadata": {
    "colab_type": "text",
    "id": "9S3Ddz7LTGA3"
   },
   "source": [
    "## Task 4 (MultilabelClassification) - Optional \n",
    "** Once we have the evaluation set up, we suggest that you experiment a bit with training your classifiers. We will use *F1-score weighted* as an evaluation metric. Our recommendation:\n",
    "- compare the quality of the bag-of-words and TF-IDF approaches and chose one of them.\n",
    "- for the chosen one, try *L1* and *L2*-regularization techniques in Logistic Regression with different coefficients (e.g. C equal to 0.1, 1, 10, 100).\n",
    "\n"
   ]
  },
  {
   "cell_type": "code",
   "execution_count": 83,
   "metadata": {
    "colab": {},
    "colab_type": "code",
    "id": "Ers40KuOTGA4"
   },
   "outputs": [],
   "source": [
    "def print_words_for_tag(classifier, tag, tags_classes, index_to_words, all_words):\n",
    "    print('Tag:\\t{}'.format(tag))\n",
    "    est = classifier.estimators_[tags_classes.index(tag)]\n",
    "    top_positive_words = [index_to_words[index] for index in est.coef_.argsort().tolist()[0][-5:]]  # top-5 words sorted by the coefficiens.\n",
    "    top_negative_words = [index_to_words[index] for index in est.coef_.argsort().tolist()[0][:5]] # bottom-5 words  sorted by the coefficients.\n",
    "    print('Top positive words:\\t{}'.format(', '.join(top_positive_words)))\n",
    "    print('Top negative words:\\t{}\\n'.format(', '.join(top_negative_words)))"
   ]
  },
  {
   "cell_type": "markdown",
   "metadata": {
    "colab_type": "text",
    "id": "mdqTO269TGA8"
   },
   "source": [
    "When you are happy with the quality, create predictions for *test* set."
   ]
  },
  {
   "cell_type": "code",
   "execution_count": 84,
   "metadata": {
    "colab": {
     "base_uri": "https://localhost:8080/",
     "height": 221
    },
    "colab_type": "code",
    "executionInfo": {
     "elapsed": 1576,
     "status": "ok",
     "timestamp": 1563020316614,
     "user": {
      "displayName": "Ravi Saxena",
      "photoUrl": "https://lh5.googleusercontent.com/-VdmC3xQr3Ck/AAAAAAAAAAI/AAAAAAAAA1o/UNixZN4E1D8/s64/photo.jpg",
      "userId": "14135883433938930528"
     },
     "user_tz": -330
    },
    "id": "M51F10f9TGBB",
    "outputId": "131fdef6-a34d-4f0b-b70b-367d4bcdebeb"
   },
   "outputs": [
    {
     "name": "stdout",
     "output_type": "stream",
     "text": [
      "Tag:\tc\n",
      "Top positive words:\tpointer, malloc, scanf, cc++, c\n",
      "Top negative words:\tjava, php, python, javascript, c#\n",
      "\n",
      "Tag:\tc++\n",
      "Top positive words:\tmfc, boost, cc++, qt, c++\n",
      "Top negative words:\tjava, php, javascript, python, c#\n",
      "\n",
      "Tag:\tc#\n",
      "Top positive words:\tnet, aspnet, linq, wpf, c#\n",
      "Top negative words:\tjava, php, python, javascript, vbnet\n",
      "\n"
     ]
    }
   ],
   "source": [
    "print_words_for_tag(classifier_tfidf, 'c', mlb.classes, tfidf_reversed_vocab, ALL_WORDS)\n",
    "print_words_for_tag(classifier_tfidf, 'c++', mlb.classes, tfidf_reversed_vocab, ALL_WORDS)\n",
    "print_words_for_tag(classifier_tfidf, 'c#', mlb.classes, tfidf_reversed_vocab, ALL_WORDS)"
   ]
  },
  {
   "cell_type": "code",
   "execution_count": null,
   "metadata": {},
   "outputs": [],
   "source": []
  }
 ],
 "metadata": {
  "accelerator": "GPU",
  "colab": {
   "collapsed_sections": [],
   "name": "Stats_NLP_Project_Questions.ipynb",
   "provenance": [],
   "version": "0.3.2"
  },
  "kernelspec": {
   "display_name": "Python 3",
   "language": "python",
   "name": "python3"
  },
  "language_info": {
   "codemirror_mode": {
    "name": "ipython",
    "version": 3
   },
   "file_extension": ".py",
   "mimetype": "text/x-python",
   "name": "python",
   "nbconvert_exporter": "python",
   "pygments_lexer": "ipython3",
   "version": "3.6.5"
  }
 },
 "nbformat": 4,
 "nbformat_minor": 1
}
